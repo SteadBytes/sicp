{
 "cells": [
  {
   "cell_type": "markdown",
   "metadata": {},
   "source": [
    "# 3.5 Streams"
   ]
  },
  {
   "cell_type": "code",
   "execution_count": 1,
   "metadata": {},
   "outputs": [],
   "source": [
    "; define as macros to override Schemes eager evalutation\n",
    "(define-syntax delay\n",
    "               [(delay ?exp) (memo-proc (lambda() ?exp))])\n",
    "(define-syntax cons-stream\n",
    "               [(cons-stream ?a ?b) (cons ?a (delay ?b))])\n",
    "\n",
    "(define the-empty-stream '())\n",
    "\n",
    "(define (stream-null? s)\n",
    "  (eq? s the-empty-stream))\n",
    "(define (stream-car stream)\n",
    "  (car stream))\n",
    "(define (stream-cdr stream)\n",
    "  (force (cdr stream)))\n",
    "\n",
    "(define (stream-ref s n)\n",
    "  (if (= n 0)\n",
    "      (stream-car s)\n",
    "      (stream-ref (stream-cdr s) (- n 1))))\n",
    "\n",
    "(define (stream-map proc s)\n",
    "  (if (stream-null? s)\n",
    "      the-empty-stream\n",
    "      (cons-stram\n",
    "       (proc (stream-car s))\n",
    "       (stream-map proc (stream-cdr s)))))\n",
    "\n",
    "(define (stream-for-each proc s)\n",
    "  (if (stream-null? s)\n",
    "      'done\n",
    "      (begin\n",
    "       (proc (stream-car s))\n",
    "       (stream-for-each proc\n",
    "                        (stream-cdr s)))))\n",
    "\n",
    "(define (stream-filter pred stream)\n",
    "  (cond ((stream-null? stream)\n",
    "         the-empty-stream)\n",
    "        ((pred (stream-car stream))\n",
    "         (cons-stream\n",
    "          (stream-car stream)\n",
    "          (stream-filter\n",
    "           pred\n",
    "           (stream-cdr stream))))\n",
    "        (else (stream-filter\n",
    "               pred\n",
    "               (stream-cdr stream)))))\n",
    "\n",
    "(define (stream-enumerate-interval low high)\n",
    "  (if (> low high)\n",
    "      the-empty-stream\n",
    "      (cons-stream\n",
    "       low\n",
    "       (stream-enumerate-interval (+ low 1)\n",
    "                                  high))))\n",
    "\n",
    "(define (force delayed-object)\n",
    "  (delayed-object))\n",
    "\n",
    "(define (memo-proc proc)\n",
    "  (let ((already-run? #f)\n",
    "        (result #f))\n",
    "    (lambda ()\n",
    "      (if (not already-run?)\n",
    "          (begin (set! result (proc))\n",
    "                 (set! already-run? #t)\n",
    "                 result)\n",
    "          result))))\n",
    "\n",
    "(define (display-stream s)\n",
    "  (stream-for-each display-line s))\n",
    "\n",
    "(define (display-line x)\n",
    "  (newline)\n",
    "  (display x))"
   ]
  },
  {
   "cell_type": "markdown",
   "metadata": {},
   "source": [
    "## 3.50"
   ]
  },
  {
   "cell_type": "code",
   "execution_count": 2,
   "metadata": {},
   "outputs": [],
   "source": [
    "; take proc of n args along with n streams\n",
    "; apply proc to to all elements of each stream\n",
    "(define (stream-map proc . argstreams)\n",
    "  (if (stream-null? (car argstreams))\n",
    "      the-empty-stream\n",
    "      (cons-stream\n",
    "       (apply proc (map stream-car argstreams))\n",
    "       (apply stream-map\n",
    "              (cons proc\n",
    "                    (map stream-cdr\n",
    "                         argstreams))))))"
   ]
  },
  {
   "cell_type": "markdown",
   "metadata": {},
   "source": [
    "## 3.51"
   ]
  },
  {
   "cell_type": "code",
   "execution_count": 3,
   "metadata": {},
   "outputs": [
    {
     "name": "stdout",
     "output_type": "stream",
     "text": [
      "\n",
      "0"
     ]
    }
   ],
   "source": [
    "; prints and returns argument\n",
    "(define (show x)\n",
    "  (display-line x)\n",
    "  x)\n",
    "\n",
    "(define x\n",
    "  (stream-map\n",
    "   show\n",
    "   (stream-enumerate-interval 0 10)))"
   ]
  },
  {
   "cell_type": "code",
   "execution_count": 4,
   "metadata": {},
   "outputs": [
    {
     "name": "stdout",
     "output_type": "stream",
     "text": [
      "\n",
      "1\n",
      "2\n",
      "3\n",
      "4\n",
      "5"
     ]
    },
    {
     "data": {
      "text/plain": [
       "5"
      ]
     },
     "execution_count": 4,
     "metadata": {},
     "output_type": "execute_result"
    }
   ],
   "source": [
    "(stream-ref x 5)"
   ]
  },
  {
   "cell_type": "code",
   "execution_count": 5,
   "metadata": {},
   "outputs": [
    {
     "name": "stdout",
     "output_type": "stream",
     "text": [
      "\n",
      "6\n",
      "7"
     ]
    },
    {
     "data": {
      "text/plain": [
       "7"
      ]
     },
     "execution_count": 5,
     "metadata": {},
     "output_type": "execute_result"
    }
   ],
   "source": [
    "(stream-ref x 7)"
   ]
  },
  {
   "cell_type": "markdown",
   "metadata": {},
   "source": [
    "## 3.52"
   ]
  },
  {
   "cell_type": "code",
   "execution_count": 6,
   "metadata": {},
   "outputs": [
    {
     "data": {
      "text/plain": [
       "0"
      ]
     },
     "execution_count": 6,
     "metadata": {},
     "output_type": "execute_result"
    }
   ],
   "source": [
    "(define sum 0)\n",
    "\n",
    "sum"
   ]
  },
  {
   "cell_type": "code",
   "execution_count": 7,
   "metadata": {},
   "outputs": [
    {
     "data": {
      "text/plain": [
       "0"
      ]
     },
     "execution_count": 7,
     "metadata": {},
     "output_type": "execute_result"
    }
   ],
   "source": [
    "(define (accum x)\n",
    "  (set! sum (+ x sum))\n",
    "  sum)\n",
    "\n",
    "sum"
   ]
  },
  {
   "cell_type": "code",
   "execution_count": 8,
   "metadata": {},
   "outputs": [
    {
     "data": {
      "text/plain": [
       "1"
      ]
     },
     "execution_count": 8,
     "metadata": {},
     "output_type": "execute_result"
    }
   ],
   "source": [
    "(define seq\n",
    "  (stream-map\n",
    "   accum\n",
    "   (stream-enumerate-interval 1 20)))\n",
    "\n",
    "sum"
   ]
  },
  {
   "cell_type": "code",
   "execution_count": 9,
   "metadata": {},
   "outputs": [
    {
     "data": {
      "text/plain": [
       "6"
      ]
     },
     "execution_count": 9,
     "metadata": {},
     "output_type": "execute_result"
    }
   ],
   "source": [
    "(define y (stream-filter even? seq))\n",
    "\n",
    "sum"
   ]
  },
  {
   "cell_type": "code",
   "execution_count": 10,
   "metadata": {},
   "outputs": [
    {
     "data": {
      "text/plain": [
       "10"
      ]
     },
     "execution_count": 10,
     "metadata": {},
     "output_type": "execute_result"
    }
   ],
   "source": [
    "(define z\n",
    "  (stream-filter\n",
    "   (lambda (x)\n",
    "     (= (remainder x 5) 0)) seq))\n",
    "\n",
    "sum"
   ]
  },
  {
   "cell_type": "code",
   "execution_count": 11,
   "metadata": {},
   "outputs": [
    {
     "data": {
      "text/plain": [
       "136"
      ]
     },
     "execution_count": 11,
     "metadata": {},
     "output_type": "execute_result"
    }
   ],
   "source": [
    "(stream-ref y 7)"
   ]
  },
  {
   "cell_type": "code",
   "execution_count": 12,
   "metadata": {},
   "outputs": [
    {
     "data": {
      "text/plain": [
       "136"
      ]
     },
     "execution_count": 12,
     "metadata": {},
     "output_type": "execute_result"
    }
   ],
   "source": [
    "sum"
   ]
  },
  {
   "cell_type": "code",
   "execution_count": 13,
   "metadata": {},
   "outputs": [
    {
     "name": "stdout",
     "output_type": "stream",
     "text": [
      "\n",
      "10\n",
      "15\n",
      "45\n",
      "55\n",
      "105\n",
      "120\n",
      "190\n",
      "210"
     ]
    },
    {
     "data": {
      "text/plain": [
       "done"
      ]
     },
     "execution_count": 13,
     "metadata": {},
     "output_type": "execute_result"
    }
   ],
   "source": [
    "(display-stream z)"
   ]
  },
  {
   "cell_type": "code",
   "execution_count": 14,
   "metadata": {},
   "outputs": [
    {
     "data": {
      "text/plain": [
       "210"
      ]
     },
     "execution_count": 14,
     "metadata": {},
     "output_type": "execute_result"
    }
   ],
   "source": [
    "sum"
   ]
  },
  {
   "cell_type": "raw",
   "metadata": {},
   "source": [
    "The results above would be different if `delay` did not use memoization through `memo-proc`. This is because `sum` is mutated each time `seq` is evaluated.`"
   ]
  },
  {
   "cell_type": "markdown",
   "metadata": {},
   "source": [
    "# 3.5.2 Infinite Streams"
   ]
  },
  {
   "cell_type": "code",
   "execution_count": 16,
   "metadata": {},
   "outputs": [],
   "source": [
    "(define ones (cons-stream 1 ones))\n",
    "\n",
    "(define (add-streams s1 s2)\n",
    "  (stream-map + s1 s2))\n",
    "\n",
    "(define integers\n",
    "  (cons-stream 1 (add-streams ones integers)))\n",
    "\n",
    "(define fibs\n",
    "  (cons-stream\n",
    "   0 (cons-stream\n",
    "      1 (add-streams\n",
    "         (stream-cdr fibs) fibs))))\n",
    "\n",
    "(define (scale-stream stream factor)\n",
    "  (stream-map\n",
    "   (lambda (x) (* x factor))\n",
    "   stream))\n",
    "\n",
    "(define primes\n",
    "  (cons-stream\n",
    "   2 (stream-filter\n",
    "      prime? (integers-starting-from 3))))\n",
    "\n",
    "; check whether n is divisible by a prime less than or equal to sqrt(n)\n",
    "(define (prime? n)\n",
    "  (define (iter ps)\n",
    "    (cond ((> (square (stream-car ps)) n) #t)\n",
    "          ((divisible? n (stream-car ps)) #f)\n",
    "          (else (iter (stream-cdr ps)))))\n",
    "  (iter primes))"
   ]
  },
  {
   "cell_type": "markdown",
   "metadata": {},
   "source": [
    "## 3.53"
   ]
  },
  {
   "cell_type": "markdown",
   "metadata": {},
   "source": [
    "```scheme\n",
    "(define s (cons-stream 1 (add-streams s s)))\n",
    "```\n",
    "`s` is an infinite stream of powers of 2: `1, 2, 4, 8, 16, 32 ...`\n",
    "\n",
    "It is equivalent to the `double` stream defined earlier in the chapter:\n",
    "```scheme\n",
    "(define double\n",
    "  (cons-stream 1 (scale-stream double 2)))\n",
    "```"
   ]
  },
  {
   "cell_type": "markdown",
   "metadata": {},
   "source": [
    "## 3.54"
   ]
  },
  {
   "cell_type": "code",
   "execution_count": 17,
   "metadata": {},
   "outputs": [],
   "source": [
    "(define (mul-streams s1 s2)\n",
    "  (stream-map * s1 s2))\n",
    "\n",
    "(define factorials\n",
    "  (cons-stream 1 (mul-streams factorials integers)))"
   ]
  },
  {
   "cell_type": "markdown",
   "metadata": {},
   "source": [
    "## 3.55"
   ]
  },
  {
   "cell_type": "code",
   "execution_count": 18,
   "metadata": {},
   "outputs": [],
   "source": [
    "(define (partial-sums stream)\n",
    "   (cons-stream (stream-car s)\n",
    "                (add-streams (stream-cdr s)\n",
    "                             (partial-sum s))))"
   ]
  },
  {
   "cell_type": "markdown",
   "metadata": {},
   "source": [
    "## 3.56"
   ]
  },
  {
   "cell_type": "code",
   "execution_count": 19,
   "metadata": {},
   "outputs": [],
   "source": [
    "(define (merge s1 s2)\n",
    "  (cond ((stream-null? s1) s2)\n",
    "        ((stream-null? s2) s1)\n",
    "        (else\n",
    "         (let ((s1car (stream-car s1))\n",
    "               (s2car (stream-car s2)))\n",
    "           (cond ((< s1car s2car)\n",
    "                  (cons-stream\n",
    "                   s1car\n",
    "                   (merge (stream-cdr s1)\n",
    "                          s2)))\n",
    "                 ((> s1car s2car)\n",
    "                  (cons-stream\n",
    "                   s2car\n",
    "                   (merge s1\n",
    "                          (stream-cdr s2))))\n",
    "                 (else\n",
    "                  (cons-stream\n",
    "                   s1car\n",
    "                   (merge\n",
    "                    (stream-cdr s1)\n",
    "                    (stream-cdr s2)))))))))\n",
    "\n",
    "(define S (cons-stream\n",
    "           1\n",
    "           (merge (scale-stream S 2) (merge (scale-stream S 3)\n",
    "                                            (scale-stream S 5)))))"
   ]
  },
  {
   "cell_type": "markdown",
   "metadata": {},
   "source": [
    "## 3.57\n",
    "```scheme\n",
    "(define fibs\n",
    "  (cons-stream\n",
    "   0 (cons-stream\n",
    "      1 (add-streams\n",
    "         (stream-cdr fibs) fibs))))\n",
    "```\n",
    "The streams definition of `fibs` will perform $n-1$ additions when computing the $n^{th}$ Fibonacci number.\n",
    "\n",
    "Each term $Fib _n$ is computed by $sum(Fib _{n-1}, Fib_{n-2})$. Due to memoization in `delay`, recalling the previous terms $Fib _{n-1}, Fib_{n-2}$ requires no additions. Therefore, each term *after the first* requires **one addition** (the first term is given in the definition of `fibs`).\n",
    "\n",
    "Without memoization `delay`, computing $Fib _n$ will require re-calculating $Fib _{n-1}$ and $Fib_{n-2}$ instead of recalling the memoized values:\n",
    "\n",
    "$Fib _1 = 1$\n",
    "\n",
    "$T(Fib _{n-1}) = O(2^{n-1})$\n",
    "\n",
    "$T(Fib _n) = T(Fib _n-1) + T(Fib _n-2) = O(2^{n-1}) + O(2^{n-2}) = O(2^n)$\n"
   ]
  },
  {
   "cell_type": "markdown",
   "metadata": {},
   "source": [
    "## 3.58"
   ]
  },
  {
   "cell_type": "code",
   "execution_count": 40,
   "metadata": {},
   "outputs": [],
   "source": [
    "(define (expand num den radix)\n",
    "  (cons-stream\n",
    "   (quotient (* num radix) den)\n",
    "   (expand (remainder (* num radix) den)\n",
    "           den\n",
    "           radix)))\n",
    "\n",
    "; print first n values of stream \n",
    "(define (display-stream-n s n)\n",
    "  (define (iter i)\n",
    "    (if (< i n)\n",
    "        (begin \n",
    "         (display (stream-ref s i))\n",
    "         (newline)\n",
    "         (iter (+ i 1)))))\n",
    "  (iter 0))"
   ]
  },
  {
   "cell_type": "markdown",
   "metadata": {},
   "source": [
    "`expand` produces the digits of $\\frac{num}{den}$ in base `radix`:"
   ]
  },
  {
   "cell_type": "code",
   "execution_count": 41,
   "metadata": {},
   "outputs": [
    {
     "name": "stdout",
     "output_type": "stream",
     "text": [
      "1\n",
      "4\n",
      "2\n",
      "8\n",
      "5\n"
     ]
    },
    {
     "data": {
      "text/plain": [
       "#f"
      ]
     },
     "execution_count": 41,
     "metadata": {},
     "output_type": "execute_result"
    }
   ],
   "source": [
    "(display-stream-n (expand 1 7 10) 5)"
   ]
  },
  {
   "cell_type": "code",
   "execution_count": 42,
   "metadata": {},
   "outputs": [
    {
     "data": {
      "text/plain": [
       "0.14285714285714285"
      ]
     },
     "execution_count": 42,
     "metadata": {},
     "output_type": "execute_result"
    }
   ],
   "source": [
    "(float (/ 1 7))"
   ]
  },
  {
   "cell_type": "code",
   "execution_count": 43,
   "metadata": {},
   "outputs": [
    {
     "name": "stdout",
     "output_type": "stream",
     "text": [
      "3\n",
      "7\n",
      "5\n",
      "0\n",
      "0\n"
     ]
    },
    {
     "data": {
      "text/plain": [
       "#f"
      ]
     },
     "execution_count": 43,
     "metadata": {},
     "output_type": "execute_result"
    }
   ],
   "source": [
    "(display-stream-n (expand 3 8 10) 5)"
   ]
  },
  {
   "cell_type": "code",
   "execution_count": 44,
   "metadata": {},
   "outputs": [
    {
     "data": {
      "text/plain": [
       "0.375"
      ]
     },
     "execution_count": 44,
     "metadata": {},
     "output_type": "execute_result"
    }
   ],
   "source": [
    "(float (/ 3 8))"
   ]
  },
  {
   "cell_type": "markdown",
   "metadata": {},
   "source": [
    "## 3.59"
   ]
  },
  {
   "cell_type": "code",
   "execution_count": 45,
   "metadata": {},
   "outputs": [],
   "source": [
    "(define (integrate-series s)\n",
    "  (stream-map / s integers))\n",
    "\n",
    "(define exp-series\n",
    "  (cons-stream\n",
    "   1 (integrate-series exp-series)))\n",
    "\n",
    "(define cosine-series\n",
    "  (cons-stream 1 (integrate-series sine-series)))\n",
    "\n",
    "(define sine-series\n",
    "  (cons-stream\n",
    "   0 (scale-stream (integrate-series cosine-series) -1)))"
   ]
  },
  {
   "cell_type": "markdown",
   "metadata": {},
   "source": [
    "## 3.60"
   ]
  },
  {
   "cell_type": "code",
   "execution_count": 48,
   "metadata": {},
   "outputs": [
    {
     "name": "stdout",
     "output_type": "stream",
     "text": [
      "1\n",
      "0\n",
      "0\n"
     ]
    },
    {
     "data": {
      "text/plain": [
       "#f"
      ]
     },
     "execution_count": 48,
     "metadata": {},
     "output_type": "execute_result"
    }
   ],
   "source": [
    "(define (mul-series s1 s2)\n",
    "  (cons-stream\n",
    "   ; multiply first coeffs to create next element of series\n",
    "   (* (stream-car s1) (stream-car s2))\n",
    "   ; multiply remaining coeffs in s1 by first coeff in s2\n",
    "   (add-streams (scale-stream (stream-cdr s1)\n",
    "                              (stream-car s2))\n",
    "                (mul-series s1 (stream-cdr s2)))))\n",
    "\n",
    "(define cos^2+sin^2\n",
    "  (add-streams (mul-series cosine-series cosine-series)\n",
    "               (mul-series sine-series sine-series)))\n",
    "\n",
    "(display-stream-n cos^2+sin^2 3)"
   ]
  },
  {
   "cell_type": "markdown",
   "metadata": {},
   "source": [
    "## 3.61\n",
    "\n",
    "$S$ = power series whose constant term is $1$.\n",
    "\n",
    "The power series $\\frac{1}{S}$ is the series $X$ such that $SX=1$.\n",
    "\n",
    "$S=1+S_R$ where $S_R$ is the part of $S$ *after* the constant term.\n",
    "\n",
    "$SX=1$\n",
    "\n",
    "$(1+S_R)X=1$\n",
    "\n",
    "$X+S_RX=1$\n",
    "\n",
    "$X=1-S_RX$\n"
   ]
  },
  {
   "cell_type": "code",
   "execution_count": null,
   "metadata": {},
   "outputs": [],
   "source": [
    "; computes 1/S for power series S w/constant term 1\n",
    "(define (invert-unit-series s)\n",
    "  (cons-stream 1 (scale-stream\n",
    "                  (mul-series (stream-cdr s)\n",
    "                              (invert-unit-series s))\n",
    "                  -1)))"
   ]
  }
 ],
 "metadata": {
  "kernelspec": {
   "display_name": "Calysto Scheme 3",
   "language": "scheme",
   "name": "calysto_scheme"
  },
  "language_info": {
   "codemirror_mode": {
    "name": "scheme"
   },
   "mimetype": "text/x-scheme",
   "name": "scheme",
   "pygments_lexer": "scheme"
  }
 },
 "nbformat": 4,
 "nbformat_minor": 2
}
