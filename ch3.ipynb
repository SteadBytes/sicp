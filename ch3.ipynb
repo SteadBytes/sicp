{
 "cells": [
  {
   "cell_type": "markdown",
   "metadata": {},
   "source": [
    "# Chapter 3"
   ]
  },
  {
   "cell_type": "markdown",
   "metadata": {},
   "source": [
    "## 3.1"
   ]
  },
  {
   "cell_type": "code",
   "execution_count": 6,
   "metadata": {},
   "outputs": [],
   "source": [
    "(define (make-accumulator acc)\n",
    "  (lambda (x) (set! acc (+ acc x)) acc))"
   ]
  },
  {
   "cell_type": "code",
   "execution_count": 7,
   "metadata": {},
   "outputs": [],
   "source": [
    "(define A (make-accumulator 5))"
   ]
  },
  {
   "cell_type": "code",
   "execution_count": 8,
   "metadata": {},
   "outputs": [
    {
     "data": {
      "text/plain": [
       "15"
      ]
     },
     "execution_count": 8,
     "metadata": {},
     "output_type": "execute_result"
    }
   ],
   "source": [
    "(A 10)"
   ]
  },
  {
   "cell_type": "code",
   "execution_count": 10,
   "metadata": {},
   "outputs": [
    {
     "data": {
      "text/plain": [
       "25"
      ]
     },
     "execution_count": 10,
     "metadata": {},
     "output_type": "execute_result"
    }
   ],
   "source": [
    "(A 10)"
   ]
  },
  {
   "cell_type": "markdown",
   "metadata": {},
   "source": [
    "## 3.2"
   ]
  },
  {
   "cell_type": "code",
   "execution_count": 15,
   "metadata": {},
   "outputs": [],
   "source": [
    "(define (make-monitored f)\n",
    "  (define count 0)\n",
    "  (define (mf m)\n",
    "    (cond ((eq? m 'how-many-calls?) count)\n",
    "          ((eq? m 'reset-count) (set! count 0))\n",
    "          (else \n",
    "           (set! count (+ count 1))\n",
    "           (f m))))\n",
    "  mf)"
   ]
  },
  {
   "cell_type": "code",
   "execution_count": 30,
   "metadata": {},
   "outputs": [],
   "source": [
    "(define s (make-monitored sqrt))"
   ]
  },
  {
   "cell_type": "code",
   "execution_count": 31,
   "metadata": {},
   "outputs": [
    {
     "data": {
      "text/plain": [
       "10.0"
      ]
     },
     "execution_count": 31,
     "metadata": {},
     "output_type": "execute_result"
    }
   ],
   "source": [
    "(s 100)"
   ]
  },
  {
   "cell_type": "code",
   "execution_count": 32,
   "metadata": {},
   "outputs": [
    {
     "data": {
      "text/plain": [
       "1"
      ]
     },
     "execution_count": 32,
     "metadata": {},
     "output_type": "execute_result"
    }
   ],
   "source": [
    "(s 'how-many-calls?)"
   ]
  },
  {
   "cell_type": "code",
   "execution_count": 33,
   "metadata": {},
   "outputs": [
    {
     "data": {
      "text/plain": [
       "5.0"
      ]
     },
     "execution_count": 33,
     "metadata": {},
     "output_type": "execute_result"
    }
   ],
   "source": [
    "(s 25)"
   ]
  },
  {
   "cell_type": "code",
   "execution_count": 34,
   "metadata": {},
   "outputs": [
    {
     "data": {
      "text/plain": [
       "2"
      ]
     },
     "execution_count": 34,
     "metadata": {},
     "output_type": "execute_result"
    }
   ],
   "source": [
    "(s 'how-many-calls?)"
   ]
  },
  {
   "cell_type": "code",
   "execution_count": 35,
   "metadata": {},
   "outputs": [
    {
     "data": {
      "text/plain": [
       "0"
      ]
     },
     "execution_count": 35,
     "metadata": {},
     "output_type": "execute_result"
    }
   ],
   "source": [
    "(s 'reset-count)\n",
    "(s 'how-many-calls?)"
   ]
  },
  {
   "cell_type": "markdown",
   "metadata": {},
   "source": [
    "## 3.3"
   ]
  },
  {
   "cell_type": "code",
   "execution_count": 79,
   "metadata": {},
   "outputs": [],
   "source": [
    "(define (make-account balance password)\n",
    "  (define (withdraw amount)\n",
    "    (if (>= balance amount)\n",
    "        (begin (set! balance\n",
    "                     (- balance amount))\n",
    "               balance)\n",
    "        \"Insufficient funds\"))\n",
    "  (define (deposit amount)\n",
    "    (set! balance (+ balance amount))\n",
    "    balance)\n",
    "  \n",
    "  (define (dispatch m)\n",
    "    (cond ((eq? m 'withdraw) withdraw)\n",
    "          ((eq? m 'deposit) deposit)\n",
    "          (else (error \"Unkown request:\n",
    "                       MAKE-ACCOUNT\" m))))\n",
    "  \n",
    "  (define (authorise pass m)\n",
    "    (if (eq? pass password)\n",
    "        (dispatch m)\n",
    "        (lambda (amount) \"Incorrect password\")))\n",
    "    \n",
    "  authorise)"
   ]
  },
  {
   "cell_type": "code",
   "execution_count": 80,
   "metadata": {},
   "outputs": [
    {
     "data": {
      "text/plain": [
       "50"
      ]
     },
     "execution_count": 80,
     "metadata": {},
     "output_type": "execute_result"
    }
   ],
   "source": [
    "(define acc\n",
    "  (make-account 150 '1234safepassword))\n",
    "\n",
    "((acc '1234safepassword 'withdraw) 100)"
   ]
  },
  {
   "cell_type": "code",
   "execution_count": 42,
   "metadata": {},
   "outputs": [
    {
     "data": {
      "text/plain": [
       "\"Incorrect password\""
      ]
     },
     "execution_count": 42,
     "metadata": {},
     "output_type": "execute_result"
    }
   ],
   "source": [
    "((acc 'wrongpassword 'deposit) 100)"
   ]
  },
  {
   "cell_type": "markdown",
   "metadata": {},
   "source": [
    "## 3.4"
   ]
  },
  {
   "cell_type": "code",
   "execution_count": 71,
   "metadata": {},
   "outputs": [],
   "source": [
    "(define (make-account balance password)\n",
    "  (define failed-attempts 0)\n",
    "  (define (call-the-police) \"Too many failed attempts, police on the way.\")\n",
    "  (define (withdraw amount)\n",
    "    (if (>= balance amount)\n",
    "        (begin (set! balance\n",
    "                     (- balance amount))\n",
    "               balance)\n",
    "        \"Insufficient funds\"))\n",
    "  (define (deposit amount)\n",
    "    (set! balance (+ balance amount))\n",
    "    balance)\n",
    "  \n",
    "  (define (dispatch m)\n",
    "    (cond ((eq? m 'withdraw) withdraw)\n",
    "          ((eq? m 'deposit) deposit)\n",
    "          (else (error \"Unkown request:\n",
    "                       MAKE-ACCOUNT\" m))))\n",
    "  \n",
    "  (define (authorise pass m)\n",
    "    (if (eq? pass password)\n",
    "        (begin (set! failed-attempts 0)\n",
    "               (dispatch m))\n",
    "        (begin (set! failed-attempts (+ 1 failed-attempts))\n",
    "               (lambda (amount) \"Incorrect password\"))))\n",
    "  \n",
    "  (define (limit-attempts pass m)\n",
    "    (if (>= failed-attempts 7)\n",
    "         (lambda (x) (call-the-police))\n",
    "        (authorise pass m)))\n",
    "    \n",
    "  limit-attempts)"
   ]
  },
  {
   "cell_type": "code",
   "execution_count": 72,
   "metadata": {},
   "outputs": [],
   "source": [
    "(define acc\n",
    "  (make-account 150 '1234safepassword))"
   ]
  },
  {
   "cell_type": "code",
   "execution_count": 73,
   "metadata": {},
   "outputs": [
    {
     "data": {
      "text/plain": [
       "50"
      ]
     },
     "execution_count": 73,
     "metadata": {},
     "output_type": "execute_result"
    }
   ],
   "source": [
    "((acc '1234safepassword 'withdraw) 100)"
   ]
  },
  {
   "cell_type": "code",
   "execution_count": 74,
   "metadata": {},
   "outputs": [
    {
     "data": {
      "text/plain": [
       "\"Too many failed attempts, police on the way.\""
      ]
     },
     "execution_count": 74,
     "metadata": {},
     "output_type": "execute_result"
    }
   ],
   "source": [
    "((acc 'wrongpassword 'withdraw) 100)\n",
    "((acc 'wrongpassword 'withdraw) 100)\n",
    "((acc 'wrongpassword 'withdraw) 100)\n",
    "((acc 'wrongpassword 'withdraw) 100)\n",
    "((acc 'wrongpassword 'withdraw) 100)\n",
    "((acc 'wrongpassword 'withdraw) 100)\n",
    "((acc 'wrongpassword 'withdraw) 100)\n",
    "\n",
    "((acc '1234safepassword 'withdraw) 100)"
   ]
  },
  {
   "cell_type": "markdown",
   "metadata": {},
   "source": [
    "## 3.5"
   ]
  },
  {
   "cell_type": "code",
   "execution_count": 15,
   "metadata": {},
   "outputs": [],
   "source": [
    "(define (square x)\n",
    "  (* x x))\n",
    "\n",
    "(define (monte-carlo trials experiment)\n",
    "  (define (iter trials-remaining trials-passed)\n",
    "    (cond ((= trials-remaining 0)\n",
    "           ( / trials-passed trials))\n",
    "          ((experiment)\n",
    "           (iter (- trials-remaining 1)\n",
    "                 (+ trials-passed 1)))\n",
    "          (else\n",
    "           (iter (- trials-remaining 1)\n",
    "                 trials-passed))))\n",
    "  (iter trials 0))\n",
    "\n",
    "(define (random-in-range low high)\n",
    "  (let ((range (- high low)))\n",
    "    (+ low (random range))))\n",
    "\n",
    "(define (make-point x y) (cons x y))\n",
    "(define (get-x point) (car point))\n",
    "(define (get-y point) (cdr point))\n",
    "\n",
    "(define (make-circle center-point radius)\n",
    "   (list center-point radius))\n",
    "(define (get-center circle) (car circle))\n",
    "(define (get-radius circle) (cadr circle))\n",
    "\n",
    "(define (make-rect p1 p2) (list p1 p2))\n",
    "(define (width-rect rect)\n",
    "  (abs (- (get-x (car rect))\n",
    "          (get-x (cadr rect)))))\n",
    "(define (height-rect rect)\n",
    "  (abs (- (get-y (car rect))\n",
    "          (get-y (cadr rect)))))\n",
    "(define (area-rect rect)\n",
    "  (* (width-rect rect) (height-rect rect)))\n",
    "\n",
    "(define (rand-point-in-rect rect)\n",
    "  (make-point (random-in-range (get-x (car rect)) \n",
    "                               (get-x (cadr rect)))\n",
    "              (random-in-range (get-y (car rect))\n",
    "                               (get-y (cadr rect)))))\n",
    "\n",
    "(define (point-in-circle? point circle)\n",
    "  (let ((circle-center-x (get-x (get-center circle)))\n",
    "        (circle-center-y (get-y (get-center circle))))\n",
    "    (<= (+ (square (- (get-x point) circle-center-x))\n",
    "           (square (- (get-y point) circle-center-y)))\n",
    "        (square (get-radius circle)))))\n",
    "\n",
    ";; P should take a rectangle as input and test whether a random\n",
    ";; point within that rectangle is within a desired circle\n",
    ";; the circle is internal to P\n",
    "(define (estimate-integral P bounds-rect trials)\n",
    "  (monte-carlo trials (P bounds-rect)))\n",
    "\n",
    "(define unit-rect (make-rect (make-point -1.0 -1.0)\n",
    "                             (make-point 1.0 1.0)))\n",
    "(define unit-circle (make-circle (make-point 0 0) 1.0))\n",
    "\n",
    "\n",
    "(define (estimate-pi-integral trials)\n",
    "  (define (rand-point-in-unit-circle bounds-rect) \n",
    "    (lambda ()\n",
    "      (point-in-circle? (rand-point-in-rect bounds-rect)\n",
    "                        unit-circle)))\n",
    "  (* (area-rect unit-rect) \n",
    "     (estimate-integral rand-point-in-unit-circle unit-rect trials))) \n"
   ]
  },
  {
   "cell_type": "markdown",
   "metadata": {},
   "source": [
    "This takes a long time to run -> markdown cell to prevent accidentally running again.\n",
    "```scheme\n",
    ";;(estimate-pi-integral 100000)\n",
    ";; 3.144\n",
    "```"
   ]
  },
  {
   "cell_type": "markdown",
   "metadata": {},
   "source": [
    "## 3.6"
   ]
  },
  {
   "cell_type": "code",
   "execution_count": 62,
   "metadata": {},
   "outputs": [],
   "source": [
    ";; naive implementations for testing\n",
    ";; +1 to prevent returning 0 -> random takes positive value\n",
    "(define (random-init) (+ 1 (random 1000))) \n",
    "(define (rand-update x) (+ 1 (random x)))\n",
    "\n",
    "(define rand\n",
    "  (let ((x (random-init)))\n",
    "    (lambda (m)\n",
    "      (cond ((eq? m 'generate)\n",
    "             (set! x (rand-update x)) x)\n",
    "            ((eq? m 'reset)\n",
    "             (lambda (new-value)\n",
    "               (set! x new-value) x))\n",
    "            (else (error \"Unkown method:\n",
    "                         RAND\" m))))))"
   ]
  },
  {
   "cell_type": "code",
   "execution_count": 63,
   "metadata": {},
   "outputs": [
    {
     "data": {
      "text/plain": [
       "338"
      ]
     },
     "execution_count": 63,
     "metadata": {},
     "output_type": "execute_result"
    }
   ],
   "source": [
    "(rand 'generate)"
   ]
  },
  {
   "cell_type": "code",
   "execution_count": 64,
   "metadata": {},
   "outputs": [
    {
     "data": {
      "text/plain": [
       "10"
      ]
     },
     "execution_count": 64,
     "metadata": {},
     "output_type": "execute_result"
    }
   ],
   "source": [
    "((rand 'reset) 10)"
   ]
  },
  {
   "cell_type": "markdown",
   "metadata": {},
   "source": [
    "## 3.7"
   ]
  },
  {
   "cell_type": "code",
   "execution_count": 74,
   "metadata": {},
   "outputs": [],
   "source": [
    "(define (make-account balance password)\n",
    "  (define (withdraw amount)\n",
    "    (if (>= balance amount)\n",
    "        (begin (set! balance\n",
    "                     (- balance amount))\n",
    "               balance)\n",
    "        \"Insufficient funds\"))\n",
    "  (define (deposit amount)\n",
    "    (set! balance (+ balance amount))\n",
    "    balance)\n",
    "  \n",
    "  (define (dispatch m)\n",
    "    (cond ((eq? m 'withdraw) withdraw)\n",
    "          ((eq? m 'deposit) deposit)\n",
    "          (else (error \"Unkown request:\n",
    "                       MAKE-ACCOUNT\" m))))\n",
    "  \n",
    "  (define (correct-password? pass)\n",
    "    (eq? pass password))\n",
    "  \n",
    "  (define (authorise pass m)\n",
    "    (if (correct-password? pass)\n",
    "        (dispatch m)\n",
    "        (lambda (amount) \"Incorrect password\")))\n",
    "  authorise)\n",
    "\n",
    "(define (make-joint acc password joint-password)\n",
    "  (define (dispatch pass m)\n",
    "    (cond ((not (eq? pass joint-password))\n",
    "           (error \"Incorrect password\"))\n",
    "          (else (acc password m))))\n",
    "  dispatch)"
   ]
  },
  {
   "cell_type": "code",
   "execution_count": 75,
   "metadata": {},
   "outputs": [
    {
     "data": {
      "text/plain": [
       "190"
      ]
     },
     "execution_count": 75,
     "metadata": {},
     "output_type": "execute_result"
    }
   ],
   "source": [
    "(define peter-acc (make-account 200 'peters-password))\n",
    "(define paul-acc\n",
    "  (make-joint peter-acc\n",
    "              'peters-password\n",
    "              'pauls-password))\n",
    "\n",
    "((peter-acc 'peters-password 'withdraw) 10)"
   ]
  },
  {
   "cell_type": "code",
   "execution_count": 76,
   "metadata": {},
   "outputs": [
    {
     "data": {
      "text/plain": [
       "180"
      ]
     },
     "execution_count": 76,
     "metadata": {},
     "output_type": "execute_result"
    }
   ],
   "source": [
    "((paul-acc 'pauls-password 'withdraw) 10)"
   ]
  },
  {
   "cell_type": "code",
   "execution_count": 77,
   "metadata": {},
   "outputs": [
    {
     "data": {
      "text/plain": [
       "170"
      ]
     },
     "execution_count": 77,
     "metadata": {},
     "output_type": "execute_result"
    }
   ],
   "source": [
    "((peter-acc 'peters-password 'withdraw) 10)"
   ]
  },
  {
   "cell_type": "code",
   "execution_count": 78,
   "metadata": {},
   "outputs": [
    {
     "data": {
      "text/plain": [
       "270"
      ]
     },
     "execution_count": 78,
     "metadata": {},
     "output_type": "execute_result"
    }
   ],
   "source": [
    "((paul-acc 'pauls-password 'deposit) 100)"
   ]
  },
  {
   "cell_type": "code",
   "execution_count": 81,
   "metadata": {},
   "outputs": [
    {
     "data": {
      "text/plain": [
       "260"
      ]
     },
     "execution_count": 81,
     "metadata": {},
     "output_type": "execute_result"
    }
   ],
   "source": [
    "((peter-acc 'peters-password 'withdraw) 10)"
   ]
  },
  {
   "cell_type": "markdown",
   "metadata": {},
   "source": [
    "## 3.8\n",
    "`f` should return it's argument if it has been previously called, else it should return `0`."
   ]
  },
  {
   "cell_type": "code",
   "execution_count": 99,
   "metadata": {},
   "outputs": [
    {
     "data": {
      "text/plain": [
       "0"
      ]
     },
     "execution_count": 99,
     "metadata": {},
     "output_type": "execute_result"
    }
   ],
   "source": [
    "(define f\n",
    "  (let ((called? #f))\n",
    "    (lambda (x)\n",
    "      (if called?\n",
    "          0\n",
    "          (begin\n",
    "           (set! called? #t)\n",
    "           x)))))\n",
    "\n",
    "(+ (f 0) (f 1))"
   ]
  },
  {
   "cell_type": "code",
   "execution_count": 100,
   "metadata": {},
   "outputs": [
    {
     "data": {
      "text/plain": [
       "1"
      ]
     },
     "execution_count": 100,
     "metadata": {},
     "output_type": "execute_result"
    }
   ],
   "source": [
    ";; re-define to clear out internal state\n",
    "(define f\n",
    "  (let ((called? #f))\n",
    "    (lambda (x)\n",
    "      (if called?\n",
    "          0\n",
    "          (begin\n",
    "           (set! called? #t)\n",
    "           x)))))\n",
    ";; call opposite way round to simulate changing evaluation order\n",
    "(+ (f 1) (f 0))"
   ]
  },
  {
   "cell_type": "markdown",
   "metadata": {},
   "source": [
    "## 3.9\n",
    "\n",
    "### Recursive Factorial\n",
    "```scheme\n",
    "(define (factorial n)\n",
    "  (if (= n 1)\n",
    "      1\n",
    "      (* n (factorial (- n 1)))))\n",
    "```\n",
    "\n",
    "#### Environment Structure\n",
    "``` \n",
    "         __________________\n",
    "global  |                  |\n",
    "env --->|factorial: *      |\n",
    "        |           |      |\n",
    "        |___________|______|\n",
    "                    |\n",
    "            parameters: n\n",
    "            body: (if (= n 1) 1 (* n (factorial (-n 1))))\n",
    "\n",
    "(factorial 6)\n",
    "             _______      ^\n",
    "            |       |     | global env\n",
    "    E1 ---> | n : 6 |_____|\n",
    "            |_______|\n",
    "\n",
    "(* 6 (factorial 5))\n",
    "             _______      ^\n",
    "            |       |     | global env\n",
    "    E2 ---> | n : 5 |_____|\n",
    "            |_______|\n",
    "            \n",
    "(* 5 (factorial 4))\n",
    "             _______      ^\n",
    "            |       |     | global env\n",
    "    E3 ---> | n : 4 |_____|\n",
    "            |_______|\n",
    "\n",
    "(* 4 (factorial 3))\n",
    "             _______      ^\n",
    "            |       |     | global env\n",
    "    E4 ---> | n : 3 |_____|\n",
    "            |_______|\n",
    "\n",
    "(* 3 (factorial 2))\n",
    "             _______      ^\n",
    "            |       |     | global env\n",
    "    E5 ---> | n : 2 |_____|\n",
    "            |_______|\n",
    "\n",
    "(* 2 (factorial 1))\n",
    "             _______      ^\n",
    "            |       |     | global env\n",
    "    E2 ---> | n : 1 |_____|\n",
    "            |_______|\n",
    "1\n",
    "```\n",
    "\n",
    "### Iterative Factorial\n",
    "```scheme\n",
    "(define (factorial n)\n",
    "  (fact-iter 1 1 n))\n",
    "\n",
    "(define (fact-iter product \n",
    "                   counter \n",
    "                   max-count)\n",
    "  (if (> counter max-count)\n",
    "      product\n",
    "      (fact-iter (* counter product)\n",
    "                 (+ counter 1)\n",
    "                 max-count)))\n",
    "```\n",
    "\n",
    "#### Environment Structure\n",
    "```\n",
    "         ________________________________\n",
    "global  |                                |\n",
    "env --->|factorial: *                    |\n",
    "        |fact-iter: |                 *  |\n",
    "        |___________|_________________|__|\n",
    "                    |                 |\n",
    "            parameters: n             |\n",
    "            body: (fact-iter 1 1 n)   parameters: (product counter max-count)\n",
    "                                      body: (if (> counter max-count)\n",
    "                                                  product\n",
    "                                                  (fact-iter (* counter product)\n",
    "                                                             (+ counter 1)\n",
    "                                                             max-count))\n",
    "(factorial 6)\n",
    "             _______      ^\n",
    "            |       |     | global env\n",
    "    E1 ---> | n : 6 |_____|\n",
    "            |_______|\n",
    "\n",
    "(fact-iter 1 1 6)\n",
    "             ______________      ^\n",
    "            | product: 1   |     | global env\n",
    "    E2 ---> | counter : 1  |_____|\n",
    "            | max-count: 6 |\n",
    "            |______________|\n",
    "\n",
    "(fact-iter 1 2 6)\n",
    "             ______________      ^\n",
    "            | product: 1   |     | global env\n",
    "    E3 ---> | counter : 2  |_____|\n",
    "            | max-count: 6 |\n",
    "            |______________|\n",
    "            \n",
    "(fact-iter 2 3 6)\n",
    "             ______________      ^\n",
    "            | product: 2   |     | global env\n",
    "    E3 ---> | counter : 3  |_____|\n",
    "            | max-count: 6 |\n",
    "            |______________|\n",
    "\n",
    "(fact-iter 6 4 6)\n",
    "             ______________      ^\n",
    "            | product: 6   |     | global env\n",
    "    E3 ---> | counter : 4  |_____|\n",
    "            | max-count: 6 |\n",
    "            |______________|\n",
    "            \n",
    "(fact-iter 24 5 6)\n",
    "             ______________      ^\n",
    "            | product: 24  |     | global env\n",
    "    E3 ---> | counter : 5  |_____|\n",
    "            | max-count: 6 |\n",
    "            |______________|\n",
    "\n",
    "(fact-iter 120 6 6)\n",
    "             ______________      ^\n",
    "            | product: 120 |     | global env\n",
    "    E3 ---> | counter : 6  |_____|\n",
    "            | max-count: 6 |\n",
    "            |______________|\n",
    "\n",
    "(fact-iter 720 7 6)\n",
    "             ______________      ^\n",
    "            | product: 720 |     | global env\n",
    "    E3 ---> | counter : 7  |_____|\n",
    "            | max-count: 6 |\n",
    "            |______________|\n",
    "720\n",
    "```"
   ]
  },
  {
   "cell_type": "markdown",
   "metadata": {},
   "source": [
    "## 3.10\n",
    "\n",
    "`(define W1 (make-withdraw 100))`:\n",
    "\n",
    "Evaluating `make-withdraw` creates a new frame - `Frame A` within which `initial-amount` is bound to the value `100`.\n",
    "\n",
    "Evaluating the lambda function within `make-withdraw` creates a new frame `Frame B` within which `balance` is bound to the value of `initial-amount` from `Frame A`.\n",
    "\n",
    "```\n",
    "         _______________________\n",
    "global->| make-withdraw : *     |\n",
    "env     | W1 :  *         |     |\n",
    "         -------|---^-----|---^-\n",
    "                |   |     |   |\n",
    "                |   |     parameters: initial-amount\n",
    "                |   |     body: ((lambda (balance) ((...))) initial-amount)\n",
    "                |   |\n",
    "                |  _|___Frame_A__________\n",
    "                | | initial-amount : 100 | E1\n",
    "                |  -^--------------------\n",
    "                |   |\n",
    "                |  _|___Frame_B___\n",
    "                | | balance : 100 | E2\n",
    "                |  -^-------------\n",
    "                |   |\n",
    "                parameters: balance\n",
    "                body: (lambda (amount) (if (>= balance amount) ... ))\n",
    "```\n",
    "\n",
    "\n",
    "`(W1 50)`:\n",
    "\n",
    "The call to `set!` within `Frame B` will affect the value of `balance` within `Frame B` and will not affect the value of `initial-amount` within `Frame A`.\n",
    "\n",
    "```\n",
    "         _______________________\n",
    "global->| make-withdraw : *     |\n",
    "env     | W1 :  *         |     |\n",
    "         -------|---^-----|---^-\n",
    "                |   |     |   |\n",
    "                |   |     parameter: initial-amount\n",
    "                |   |     body: ((lambda (balance) ((...))) initial-amount)\n",
    "                |   |\n",
    "                |  _|___Frame_A__________\n",
    "                | | initial-amount : 100 | E1\n",
    "                |  -^--------------------\n",
    "                |   |\n",
    "                |  _|__Frame_B___\n",
    "                | | balance : 50 | E2\n",
    "                |  -^------------\n",
    "                |   |\n",
    "                |  _|__Frame_C___\n",
    "                | | amount : 50  | E3\n",
    "                |  -^------------\n",
    "                |   |\n",
    "                parameters: amount\n",
    "                body: (if (>= balance amount) ... )\n",
    "```"
   ]
  },
  {
   "cell_type": "markdown",
   "metadata": {},
   "source": [
    "## 3.12\n",
    "\n",
    "Missing `<response>`s in order:\n",
    "1. `(b)`\n",
    "    - `(define x (list 'a 'b))` binds `x` to the value `(a b)`\n",
    "    - `(cdr x)` simply returns the `cdr` of the list `(a b)`\n",
    "2. `(b c d)`\n",
    "    - `(define y (list 'c 'd))` binds `y` the the value `(c d)`\n",
    "    - `(define w (append! x y))` binds the result of `(append! x y)` to `w`\n",
    "    - `(append! x y)` *mutates* `x` such that the list `y` is appended onto it and *returns* a pointer to `x`.\n",
    "    - `w` now points to the mutated value of `x`\n",
    "    - `(set-cdr! (last-pair x) y)` within `append!` will set the `cdr` of the last pair in `x` to the list `y`\n",
    "    - `(last-pair x)` evalutes to `(last-pair (a b)) ` which returns `(b)`\n",
    "    - `(set-cdr! (last-pair x) y)` evaluates to `(set-cdr! (b) (c d))`, *mutating* `(b)` to produce `(b c d)`\n",
    "\n",
    "### Demonstration"
   ]
  },
  {
   "cell_type": "code",
   "execution_count": 2,
   "metadata": {},
   "outputs": [
    {
     "data": {
      "text/plain": [
       "(a b c d)"
      ]
     },
     "execution_count": 2,
     "metadata": {},
     "output_type": "execute_result"
    }
   ],
   "source": [
    "(define (append! x y)\n",
    "  (set-cdr! (last-pair x) y)\n",
    "  x)\n",
    "\n",
    "(define (last-pair x)\n",
    "  (if (null? (cdr x))\n",
    "      x\n",
    "  (last-pair (cdr x))))\n",
    "\n",
    "(define x (list 'a 'b))\n",
    "(define y (list 'c 'd))\n",
    "(define z (append x y))\n",
    "\n",
    "z"
   ]
  },
  {
   "cell_type": "code",
   "execution_count": 124,
   "metadata": {
    "scrolled": true
   },
   "outputs": [
    {
     "data": {
      "text/plain": [
       "(b)"
      ]
     },
     "execution_count": 124,
     "metadata": {},
     "output_type": "execute_result"
    }
   ],
   "source": [
    "(cdr x)"
   ]
  },
  {
   "cell_type": "code",
   "execution_count": 125,
   "metadata": {},
   "outputs": [
    {
     "data": {
      "text/plain": [
       "(a b c d)"
      ]
     },
     "execution_count": 125,
     "metadata": {},
     "output_type": "execute_result"
    }
   ],
   "source": [
    "(define w (append! x y))\n",
    "w"
   ]
  },
  {
   "cell_type": "code",
   "execution_count": 126,
   "metadata": {},
   "outputs": [
    {
     "data": {
      "text/plain": [
       "(b c d)"
      ]
     },
     "execution_count": 126,
     "metadata": {},
     "output_type": "execute_result"
    }
   ],
   "source": [
    "(cdr x)"
   ]
  },
  {
   "cell_type": "markdown",
   "metadata": {},
   "source": [
    "## 3.13"
   ]
  },
  {
   "cell_type": "code",
   "execution_count": 3,
   "metadata": {},
   "outputs": [],
   "source": [
    "(define (make-cycle x)\n",
    "  (set-cdr! (last-pair x) x)\n",
    "  x)\n",
    "\n",
    "(define z (make-cycle (list 'a 'b 'c)))"
   ]
  },
  {
   "cell_type": "markdown",
   "metadata": {},
   "source": [
    "```\n",
    "        ___________________\n",
    "       |                   |\n",
    "       v                   |\n",
    "z --> [.|.] --> [.|.] --> [.|/]\n",
    "       |         |         |\n",
    "       v         v         v\n",
    "      'a        'b        'c\n",
    "```\n",
    "\n",
    "Computing `(last-pair z)` will cause an *infinite loop* as the `cdr` of the last item in `z` is a pointer back to the first item.\n",
    "- The structure is **not null terminated**."
   ]
  },
  {
   "cell_type": "markdown",
   "metadata": {},
   "source": [
    "## 3.14\n",
    "`mystery` *reverses* a list"
   ]
  },
  {
   "cell_type": "code",
   "execution_count": 136,
   "metadata": {},
   "outputs": [
    {
     "data": {
      "text/plain": [
       "(4 3 2 1)"
      ]
     },
     "execution_count": 136,
     "metadata": {},
     "output_type": "execute_result"
    }
   ],
   "source": [
    "(define (mystery x)\n",
    "  (define (loop x y)\n",
    "    (if (null? x)\n",
    "        y\n",
    "        (let ((temp (cdr x)))\n",
    "          (set-cdr! x y)\n",
    "          (loop temp x))))\n",
    "  (loop x '()))\n",
    "\n",
    "(mystery '(1 2 3 4))"
   ]
  },
  {
   "cell_type": "markdown",
   "metadata": {},
   "source": [
    "Used capitals for `v` and `w` for clarity with ASCII arrows:\n",
    "\n",
    "```scheme\n",
    "(define V (list 'a 'b 'c 'd))\n",
    "```\n",
    "```\n",
    "V --> [.|.] --> [.|.] --> [.|.] --> [.|/]\n",
    "       |         |         |         |         \n",
    "       v         v         v         v\n",
    "      'a        'b        'c        'd\n",
    "```\n",
    "```scheme\n",
    "(define W (mystery v))\n",
    "```\n",
    "\n",
    "```                   \n",
    "                                     V\n",
    "                                     |\n",
    "                                     v\n",
    "W --> [.|.] --> [.|.] --> [.|.] --> [.|/]\n",
    "       |         |         |         |         \n",
    "       v         v         v         v\n",
    "      'd        'c        'b        'a\n",
    "```"
   ]
  },
  {
   "cell_type": "code",
   "execution_count": 150,
   "metadata": {},
   "outputs": [
    {
     "data": {
      "text/plain": [
       "(a b c d)"
      ]
     },
     "execution_count": 150,
     "metadata": {},
     "output_type": "execute_result"
    }
   ],
   "source": [
    "(define V (list 'a 'b 'c 'd))\n",
    "V"
   ]
  },
  {
   "cell_type": "code",
   "execution_count": 151,
   "metadata": {},
   "outputs": [
    {
     "data": {
      "text/plain": [
       "(d c b a)"
      ]
     },
     "execution_count": 151,
     "metadata": {},
     "output_type": "execute_result"
    }
   ],
   "source": [
    "(define W (mystery V))\n",
    "W"
   ]
  },
  {
   "cell_type": "code",
   "execution_count": 152,
   "metadata": {},
   "outputs": [
    {
     "data": {
      "text/plain": [
       "(a)"
      ]
     },
     "execution_count": 152,
     "metadata": {},
     "output_type": "execute_result"
    }
   ],
   "source": [
    "V"
   ]
  },
  {
   "cell_type": "markdown",
   "metadata": {},
   "source": [
    "## 3.15\n",
    "```scheme\n",
    "(define x (list 'a 'b))\n",
    "```\n",
    "```\n",
    "x --> [.|.] --> [.|/]\n",
    "       |         |\n",
    "       v         v\n",
    "      'a        'b\n",
    "```\n",
    "```scheme\n",
    "(define z1 (cons x x))\n",
    "```\n",
    "```\n",
    "z1 --> [.|.]\n",
    "        | |\n",
    "        v v\n",
    " x --> [.|.] --> [.|/]\n",
    "        |         |\n",
    "        v         v\n",
    "       'a        'b\n",
    "```\n",
    "```scheme\n",
    "(define z2 (cons (list 'a 'b) \n",
    "                 (list 'a 'b)))\n",
    "```\n",
    "```\n",
    "z2 --> [.|.] --> [.|.] --> [.|/]\n",
    "        |         |         |\n",
    "        |         v         v\n",
    "        |        'a        'b\n",
    "        |         ^         ^\n",
    "        |         |         |\n",
    "        |------> [.|.] --> [.|/]\n",
    "```\n",
    "```scheme\n",
    "(define (set-to-wow! x)\n",
    "  (set-car! (car x) 'wow)\n",
    "  x)\n",
    "\n",
    "(set-to-wow! z1)\n",
    "```\n",
    "```\n",
    "z1 --> [.|.]\n",
    "        | |\n",
    "        v v\n",
    " x --> [.|.] --> [.|/]\n",
    "        |         |\n",
    "        v         v\n",
    "       'wow      'b\n",
    "```\n",
    "```scheme\n",
    "(set-to-wow! z2)\n",
    "```\n",
    "```\n",
    "z2 --> [.|.] --> [.|.] --> [.|/]\n",
    "        |         |         |\n",
    "        |         v         v\n",
    "        |        'a        'b\n",
    "        |                   ^\n",
    "        |                   |\n",
    "        |------> [.|.] --> [.|/]\n",
    "                  |\n",
    "                  v\n",
    "                 'wow\n",
    "```"
   ]
  },
  {
   "cell_type": "markdown",
   "metadata": {},
   "source": [
    "## 3.16"
   ]
  },
  {
   "cell_type": "code",
   "execution_count": 38,
   "metadata": {},
   "outputs": [],
   "source": [
    "(define (count-pairs x)\n",
    "  (if (not (pair? x))\n",
    "      0\n",
    "  (+ (count-pairs (car x))\n",
    "     (count-pairs (cdr x))\n",
    "     1)))\n",
    "\n",
    "(define l3 (list 'a 'b 'c))"
   ]
  },
  {
   "cell_type": "markdown",
   "metadata": {},
   "source": [
    "```\n",
    "l3 --> [.|.] --> [.|.] --> [.|/]\n",
    "       v|         |         |\n",
    "        v         v         v\n",
    "       'a        'b        'c\n",
    "```"
   ]
  },
  {
   "cell_type": "code",
   "execution_count": 39,
   "metadata": {},
   "outputs": [
    {
     "data": {
      "text/plain": [
       "3"
      ]
     },
     "execution_count": 39,
     "metadata": {},
     "output_type": "execute_result"
    }
   ],
   "source": [
    "(count-pairs l3)"
   ]
  },
  {
   "cell_type": "code",
   "execution_count": 41,
   "metadata": {},
   "outputs": [],
   "source": [
    "(define l4 (list 'a 'b))\n",
    "(define l4b (list 'c))\n",
    "(set-car! l4 l4b)\n",
    "(set-car! (cdr l4) l4b)"
   ]
  },
  {
   "cell_type": "markdown",
   "metadata": {},
   "source": [
    "```scheme\n",
    "(define l4 (list 'a 'b))\n",
    "(define l4b (list c))\n",
    "```\n",
    "```\n",
    "l4 --> [.|.] --> [.|/]\n",
    "        |         |\n",
    "        v         v\n",
    "       'a        'b\n",
    "       \n",
    "l4b --> [.|/]\n",
    "         |\n",
    "         v\n",
    "        'c\n",
    "```\n",
    "```scheme\n",
    "(set-car! l4 l4b)\n",
    "```\n",
    "```       \n",
    "l4 --> [.|.] --> [.|/]\n",
    "        |         |\n",
    "        v         v\n",
    "       l4b       'b\n",
    "        |\n",
    "        v\n",
    "       [.|/]\n",
    "        |\n",
    "        v\n",
    "       'c\n",
    "```\n",
    "```scheme\n",
    "(set-car! (cdr l4) (l4b))\n",
    "```\n",
    "```       \n",
    "l4 --> [.|.] --> [.|/]\n",
    "        |         |\n",
    "        v         |\n",
    "       l4b <-------\n",
    "        |\n",
    "        v\n",
    "       [.|/]\n",
    "        |\n",
    "        v\n",
    "       'c\n",
    "```"
   ]
  },
  {
   "cell_type": "code",
   "execution_count": 21,
   "metadata": {},
   "outputs": [
    {
     "data": {
      "text/plain": [
       "4"
      ]
     },
     "execution_count": 21,
     "metadata": {},
     "output_type": "execute_result"
    }
   ],
   "source": [
    "(count-pairs l4a)"
   ]
  },
  {
   "cell_type": "code",
   "execution_count": 26,
   "metadata": {},
   "outputs": [],
   "source": [
    "(define l7 (list 'a))\n",
    "(define l7a (list 'b))\n",
    "(define l7b (list 'c))\n",
    "(set-car! l7a l7b)\n",
    "(set-cdr! l7a l7b)\n",
    "(set-car! l7 l7a)\n",
    "(set-cdr! l7 l7a)"
   ]
  },
  {
   "cell_type": "markdown",
   "metadata": {},
   "source": [
    "```scheme\n",
    "(define l7 (list 'a))\n",
    "(define l7a (list 'b))\n",
    "(define l7b (list 'c))\n",
    "```\n",
    "```\n",
    "l7 --> [.|/]\n",
    "        |\n",
    "        v\n",
    "       'a\n",
    "       \n",
    "l7a --> [.|/]\n",
    "         |\n",
    "         v\n",
    "        'b\n",
    "       \n",
    "l7b --> [.|/]\n",
    "         |\n",
    "         v\n",
    "        'c\n",
    "```\n",
    "```scheme\n",
    "(set-car! l7a l7b)\n",
    "```\n",
    "```\n",
    "l7a --> [.|/]\n",
    "         |\n",
    "         v\n",
    "        l7b\n",
    "         |\n",
    "         v\n",
    "        [.|/]\n",
    "         |\n",
    "         v\n",
    "        'c\n",
    "```\n",
    "```scheme\n",
    "(set-cdr! l7a l7b)\n",
    "```\n",
    "```\n",
    "l7a --> [.|.] --\n",
    "         |     |\n",
    "         v     |\n",
    "        l7b <---\n",
    "         |\n",
    "         v\n",
    "        [.|/]\n",
    "         |\n",
    "         v\n",
    "        'c\n",
    "```\n",
    "```scheme\n",
    "(set-car! l7 l7a)\n",
    "```\n",
    "```\n",
    "l7 --> [.|/]\n",
    "        |\n",
    "        v\n",
    "        l7a --> [.|.] --\n",
    "                 |     |\n",
    "                 v     |\n",
    "                l7b <---\n",
    "                 |\n",
    "                 v\n",
    "                [.|/]\n",
    "                 |\n",
    "                 v\n",
    "                'c\n",
    "```\n",
    "```scheme\n",
    "(set-cdr! l7 l7a)\n",
    "```\n",
    "```\n",
    "l7 --> [.|.]\n",
    "        | |\n",
    "        v v\n",
    "        l7a --> [.|.]\n",
    "                 | |\n",
    "                 v v\n",
    "                 l7b \n",
    "                  |\n",
    "                  v\n",
    "                 [.|/]\n",
    "                  |\n",
    "                  v\n",
    "                 'c\n",
    "```"
   ]
  },
  {
   "cell_type": "code",
   "execution_count": 27,
   "metadata": {},
   "outputs": [
    {
     "data": {
      "text/plain": [
       "7"
      ]
     },
     "execution_count": 27,
     "metadata": {},
     "output_type": "execute_result"
    }
   ],
   "source": [
    "(count-pairs l7)"
   ]
  },
  {
   "cell_type": "markdown",
   "metadata": {},
   "source": [
    "## 3.17"
   ]
  },
  {
   "cell_type": "code",
   "execution_count": 74,
   "metadata": {},
   "outputs": [],
   "source": [
    "(define (count-pairs x)\n",
    "  (let ((counted-pairs '()))\n",
    "    (define (iter x)\n",
    "      (cond ((not (pair? x)) 0)\n",
    "            ((memq x counted-pairs) 0)\n",
    "            (else (set! counted-pairs (cons x counted-pairs))\n",
    "                  (+ (iter (car x))\n",
    "                     (iter (cdr x))\n",
    "                     1))))\n",
    "    (iter x)))"
   ]
  },
  {
   "cell_type": "code",
   "execution_count": 75,
   "metadata": {},
   "outputs": [],
   "source": [
    ";; test with same lists from 3.16\n",
    "(define l3 (list 'a 'b 'c))\n",
    "\n",
    "(define l4 (list 'a 'b))\n",
    "(define l4b (list 'c))\n",
    "(set-car! l4 l4b)\n",
    "(set-car! (cdr l4) l4b)\n",
    "\n",
    "(define l7 (list 'a))\n",
    "(define l7a (list 'b))\n",
    "(define l7b (list 'c))\n",
    "(set-car! l7a l7b)\n",
    "(set-cdr! l7a l7b)\n",
    "(set-car! l7 l7a)\n",
    "(set-cdr! l7 l7a)"
   ]
  },
  {
   "cell_type": "code",
   "execution_count": 76,
   "metadata": {},
   "outputs": [
    {
     "data": {
      "text/plain": [
       "3"
      ]
     },
     "execution_count": 76,
     "metadata": {},
     "output_type": "execute_result"
    }
   ],
   "source": [
    "(count-pairs l3)"
   ]
  },
  {
   "cell_type": "code",
   "execution_count": 77,
   "metadata": {},
   "outputs": [
    {
     "data": {
      "text/plain": [
       "3"
      ]
     },
     "execution_count": 77,
     "metadata": {},
     "output_type": "execute_result"
    }
   ],
   "source": [
    "(count-pairs l4)"
   ]
  },
  {
   "cell_type": "code",
   "execution_count": 78,
   "metadata": {},
   "outputs": [
    {
     "data": {
      "text/plain": [
       "3"
      ]
     },
     "execution_count": 78,
     "metadata": {},
     "output_type": "execute_result"
    }
   ],
   "source": [
    "(count-pairs l7)"
   ]
  },
  {
   "cell_type": "markdown",
   "metadata": {},
   "source": [
    "## 3.18"
   ]
  },
  {
   "cell_type": "code",
   "execution_count": 5,
   "metadata": {},
   "outputs": [],
   "source": [
    "(define (contains-cycle? x)\n",
    "  (let ((visited '()))\n",
    "    (define (iter x)\n",
    "      (cond ((not (pair? x)) #f)\n",
    "            ((memq (cdr x) visited) #t)\n",
    "            (else (set! visited (cons x visited))\n",
    "                  (iter (cdr x)))))\n",
    "    (iter x)))"
   ]
  },
  {
   "cell_type": "code",
   "execution_count": 6,
   "metadata": {},
   "outputs": [
    {
     "data": {
      "text/plain": [
       "#t"
      ]
     },
     "execution_count": 6,
     "metadata": {},
     "output_type": "execute_result"
    }
   ],
   "source": [
    ";; make-cycle from 3.13\n",
    "(contains-cycle? (make-cycle (list 'a 'b 'c)))"
   ]
  },
  {
   "cell_type": "code",
   "execution_count": 10,
   "metadata": {},
   "outputs": [
    {
     "data": {
      "text/plain": [
       "#f"
      ]
     },
     "execution_count": 10,
     "metadata": {},
     "output_type": "execute_result"
    }
   ],
   "source": [
    "(contains-cycle? (list 'a 'b 'c))"
   ]
  },
  {
   "cell_type": "code",
   "execution_count": 12,
   "metadata": {},
   "outputs": [
    {
     "data": {
      "text/plain": [
       "#t"
      ]
     },
     "execution_count": 12,
     "metadata": {},
     "output_type": "execute_result"
    }
   ],
   "source": [
    "(define l (list 'a 'b 'c))\n",
    "(set-cdr! (cdr (cdr l)) l)\n",
    "(contains-cycle? l)"
   ]
  },
  {
   "cell_type": "code",
   "execution_count": 16,
   "metadata": {},
   "outputs": [
    {
     "data": {
      "text/plain": [
       "#f"
      ]
     },
     "execution_count": 16,
     "metadata": {},
     "output_type": "execute_result"
    }
   ],
   "source": [
    "(define l (list 1 2 3 4 5))\n",
    "(set-car! (cdddr l) (cddr l))\n",
    "(contains-cycle? l)"
   ]
  },
  {
   "cell_type": "markdown",
   "metadata": {},
   "source": [
    "## 3.19"
   ]
  },
  {
   "cell_type": "code",
   "execution_count": 36,
   "metadata": {},
   "outputs": [],
   "source": [
    ";; implementation of Floyd's cycle-finding algorithm (tortois and hare)\n",
    "(define (contains-cycle? x)\n",
    "  (define (cdr-or-null l)\n",
    "    (if (pair? l)\n",
    "        (cdr l)\n",
    "        '()))\n",
    "  (define (iter slow fast)\n",
    "    (cond ((not (pair? slow)) #f)\n",
    "          ((not (pair? fast)) #f)\n",
    "          ((eq? slow fast) #t)\n",
    "          ((eq? slow (cdr-or-null fast)) #t)\n",
    "          (else (iter (cdr-or-null slow) \n",
    "                      (cdr-or-null (cdr-or-null fast))))))\n",
    "  (iter (cdr-or-null x)\n",
    "        (cdr-or-null (cdr-or-null x))))"
   ]
  },
  {
   "cell_type": "code",
   "execution_count": 37,
   "metadata": {},
   "outputs": [
    {
     "data": {
      "text/plain": [
       "#t"
      ]
     },
     "execution_count": 37,
     "metadata": {},
     "output_type": "execute_result"
    }
   ],
   "source": [
    "(contains-cycle? (make-cycle (list 'a 'b 'c)))"
   ]
  },
  {
   "cell_type": "code",
   "execution_count": 38,
   "metadata": {},
   "outputs": [
    {
     "data": {
      "text/plain": [
       "#f"
      ]
     },
     "execution_count": 38,
     "metadata": {},
     "output_type": "execute_result"
    }
   ],
   "source": [
    "(contains-cycle? (list 'a 'b 'c))"
   ]
  },
  {
   "cell_type": "code",
   "execution_count": 39,
   "metadata": {},
   "outputs": [
    {
     "data": {
      "text/plain": [
       "#t"
      ]
     },
     "execution_count": 39,
     "metadata": {},
     "output_type": "execute_result"
    }
   ],
   "source": [
    "(define l (list 'a 'b 'c))\n",
    "(set-cdr! (cdr (cdr l)) l)\n",
    "(contains-cycle? l)"
   ]
  },
  {
   "cell_type": "code",
   "execution_count": 40,
   "metadata": {},
   "outputs": [
    {
     "data": {
      "text/plain": [
       "#f"
      ]
     },
     "execution_count": 40,
     "metadata": {},
     "output_type": "execute_result"
    }
   ],
   "source": [
    "(define l (list 1 2 3 4 5))\n",
    "(set-car! (cdddr l) (cddr l))\n",
    "(contains-cycle? l)"
   ]
  },
  {
   "cell_type": "markdown",
   "metadata": {},
   "source": [
    "## 3.20"
   ]
  },
  {
   "cell_type": "code",
   "execution_count": 6,
   "metadata": {},
   "outputs": [],
   "source": [
    ";; renamed to avoid overriding builtin cons\n",
    "(define (proc-cons x y)\n",
    "  (define (set-x! v) (set! x v))\n",
    "  (define (set-y! v) (set! y v))\n",
    "  (define (dispatch m)\n",
    "    (cond ((eq? m 'car) x)\n",
    "          ((eq? m 'cdr) y)\n",
    "          ((eq? m 'set-car!) set-x!)\n",
    "          ((eq? m 'set-cdr!) set-y!)\n",
    "          (else (error \"Undefined\n",
    "                       operation: CONS\" m))))\n",
    "  dispatch)\n",
    "\n",
    "(define (proc-car z) (z 'car))\n",
    "(define (proc-cdr z) (z 'cdr))\n",
    "\n",
    "(define (proc-set-car! z new-value)\n",
    "  ((z 'set-car!) new-value)\n",
    "  z)\n",
    "\n",
    "(define (proc-set-cdr! z new-value)\n",
    "  ((z 'set-cdr!) new-value)\n",
    "  z)"
   ]
  },
  {
   "cell_type": "markdown",
   "metadata": {},
   "source": [
    "Description of process (diagrams became cumbersome to draw).\n",
    "\n",
    "```scheme\n",
    "(define x (proc-cons 1 2))\n",
    "```\n",
    "New environment created - `E1`:\n",
    "* Enclosing environment = `global`\n",
    "* Internal bindings:\n",
    "    * `x` -> `1`\n",
    "    * `y` -> `2`\n",
    "* `set-x!` and `set-y!` have pointers out of `E1` to `global`\n",
    "* `x` in `global` environment is bound to `dispatch` in `E1`\n",
    "\n",
    "```scheme\n",
    "(define z (proc-cons x x))\n",
    "```\n",
    "New environment created - `E2`:\n",
    "* Enclosing environment = `global`\n",
    "* Internal bindings:\n",
    "    * `x` -> `x` in `global` env\n",
    "    * `y` -> `x` in `global` env\n",
    "* `set-x!` and `set-y!` have pointers to `E2`\n",
    "* `z` in `global` environment is bound to `dispatch` in `E2`  \n",
    "\n",
    "```scheme\n",
    "(proc-set-car! (proc-cdr z) 17)\n",
    "```\n",
    "\n",
    "`(proc-cdr z)` evaluated:\n",
    "* New environment created = `E3`:\n",
    "    * Internal bindings:\n",
    "        * `z` -> `z` in `global` env\n",
    "* `(z 'cdr)` evaluated in `E3`:\n",
    "    * `z` bound to `dispatch` in `E2`\n",
    "* `(dispatch 'cdr')` evaluated in `E2`:\n",
    "    * `y` from `E2` is returned = `x` in `global` env\n",
    "    \n",
    "`(proc-set-car! x 17)` is evaluated:\n",
    "* New environment created = `E4`:\n",
    "    * Internal bindings:\n",
    "        * `z` -> `x` in `global` env\n",
    "        * `new-value` -> `17`\n",
    "* `x` in `global` env bound to `dispatch` in `E1`\n",
    "* `(dispatch 'set-car!)` evaluated in `E1`:\n",
    "    * `set-x!` procedure from `E1` returned\n",
    "    * `(set-x! 17)` evaluated\n",
    "        * Calls `(set! x 17)` within `E1`\n",
    "            * Value of `x` in `E1` set to `17`\n",
    "\n",
    "```scheme\n",
    "(proc-car x)\n",
    "```\n",
    "* `x` in `global` env is bound to `dispatch` in `E1`\n",
    "* `(dispatch 'car)` evaluated in `E1`\n",
    "    * `x` from `E1` is returned -> `17`"
   ]
  },
  {
   "cell_type": "markdown",
   "metadata": {},
   "source": [
    "# Representing Queues\n",
    "## 3.21"
   ]
  },
  {
   "cell_type": "code",
   "execution_count": 39,
   "metadata": {},
   "outputs": [],
   "source": [
    "(define (front-ptr queue) (car queue))\n",
    "(define (rear-ptr queue) (cdr queue))\n",
    "(define (set-front-ptr! queue item)\n",
    "  (set-car! queue item))\n",
    "(define (set-rear-ptr! queue item)\n",
    "  (set-cdr! queue item))\n",
    "\n",
    "(define (empty-queue? queue)\n",
    "  (null? (front-ptr queue)))\n",
    "\n",
    "(define (make-queue) (cons '() '()))\n",
    "\n",
    "(define (front-queue queue)\n",
    "  (if (empty-queue? queue)\n",
    "      (error \"FRONT called with an\n",
    "             empty queue\" queue)\n",
    "      (car (front-ptr queue))))\n",
    "\n",
    "(define (insert-queue! queue item)\n",
    "  (let ((new-pair (cons item '())))\n",
    "    (cond ((empty-queue? queue)\n",
    "           (set-front-ptr! queue new-pair)\n",
    "           (set-rear-ptr! queue new-pair)\n",
    "           queue)\n",
    "          (else (set-cdr! (rear-ptr queue)\n",
    "                          new-pair)\n",
    "                (set-rear-ptr! queue new-pair)\n",
    "                queue))))\n",
    "\n",
    "(define (delete-queue! queue)\n",
    "  (cond ((empty-queue? queue)\n",
    "         (error \"DELETE! called with\n",
    "                an empty queue\" queue))\n",
    "        (else (set-front-ptr!\n",
    "               queue\n",
    "               (cdr (front-ptr queue)))\n",
    "              queue)))"
   ]
  },
  {
   "cell_type": "code",
   "execution_count": 40,
   "metadata": {},
   "outputs": [
    {
     "data": {
      "text/plain": [
       "((a) a)"
      ]
     },
     "execution_count": 40,
     "metadata": {},
     "output_type": "execute_result"
    }
   ],
   "source": [
    "(define q1 (make-queue))\n",
    "(insert-queue! q1 'a)"
   ]
  },
  {
   "cell_type": "code",
   "execution_count": 41,
   "metadata": {},
   "outputs": [
    {
     "data": {
      "text/plain": [
       "((a b) b)"
      ]
     },
     "execution_count": 41,
     "metadata": {},
     "output_type": "execute_result"
    }
   ],
   "source": [
    "(insert-queue! q1 'b)"
   ]
  },
  {
   "cell_type": "code",
   "execution_count": 42,
   "metadata": {},
   "outputs": [
    {
     "data": {
      "text/plain": [
       "((b) b)"
      ]
     },
     "execution_count": 42,
     "metadata": {},
     "output_type": "execute_result"
    }
   ],
   "source": [
    "(delete-queue! q1)"
   ]
  },
  {
   "cell_type": "code",
   "execution_count": 5,
   "metadata": {},
   "outputs": [
    {
     "data": {
      "text/plain": [
       "(() b)"
      ]
     },
     "execution_count": 5,
     "metadata": {},
     "output_type": "execute_result"
    }
   ],
   "source": [
    "(delete-queue! q1)"
   ]
  },
  {
   "cell_type": "markdown",
   "metadata": {},
   "source": [
    "The Lisp interpreter has no special representation for the compound data structure defined above as a *queue*. Instead, the interpreter will treat them as *lists* of *pairs* - printing them as such. \n",
    "\n",
    "Distinct shared data also has no external representation, the value of the variable being pointed to is printed by the interpreter:\n",
    "```scheme\n",
    "(define q1 (make-queue))\n",
    "(insert-queue! q1 'a)\n",
    "```\n",
    "```\n",
    "q1 --> [.|.]----\n",
    "        |      |\n",
    "        v <----|\n",
    "       [.|/]   \n",
    "        |   \n",
    "        v\n",
    "       'a\n",
    "```\n",
    "The front and rear pointers of the queue are set to the same variable. The List interpreter will simply print out the value of the variable without distinguishing the fact that they are shared. This makes it seems as if there are two `a`'s in the queue.\n",
    "\n",
    "`empty-queue?` and `delete-queue` both only interact with the front pointer of the queue. This means that deleting items from a queue until `empty-queue?` returns true leaves the last pair in place being pointed to by the rear pointer of the queue. Therefore, the final structure of `q1` is as follows:\n",
    "```\n",
    "q1 --> [.|.] --> [.|.] --> [/|/]\n",
    "        |         | \n",
    "        v         v\n",
    "       [/|/]     'b\n",
    "```"
   ]
  },
  {
   "cell_type": "code",
   "execution_count": 43,
   "metadata": {},
   "outputs": [],
   "source": [
    "(define (print-queue q)\n",
    "  (display (front-ptr q))\n",
    "  (newline))"
   ]
  },
  {
   "cell_type": "code",
   "execution_count": 44,
   "metadata": {},
   "outputs": [
    {
     "name": "stdout",
     "output_type": "stream",
     "text": [
      "(a)\n"
     ]
    }
   ],
   "source": [
    "(define q1 (make-queue))\n",
    "(insert-queue! q1 'a)\n",
    "(print-queue q1)"
   ]
  },
  {
   "cell_type": "code",
   "execution_count": 45,
   "metadata": {},
   "outputs": [
    {
     "name": "stdout",
     "output_type": "stream",
     "text": [
      "(a b)\n"
     ]
    }
   ],
   "source": [
    "(insert-queue! q1 'b)\n",
    "(print-queue q1)"
   ]
  },
  {
   "cell_type": "code",
   "execution_count": 46,
   "metadata": {},
   "outputs": [
    {
     "name": "stdout",
     "output_type": "stream",
     "text": [
      "(b)\n"
     ]
    }
   ],
   "source": [
    "(delete-queue! q1)\n",
    "(print-queue q1)"
   ]
  },
  {
   "cell_type": "code",
   "execution_count": 47,
   "metadata": {},
   "outputs": [
    {
     "name": "stdout",
     "output_type": "stream",
     "text": [
      "()\n"
     ]
    }
   ],
   "source": [
    "(delete-queue! q1)\n",
    "(print-queue q1)"
   ]
  },
  {
   "cell_type": "markdown",
   "metadata": {},
   "source": [
    "## 3.22"
   ]
  },
  {
   "cell_type": "code",
   "execution_count": 48,
   "metadata": {},
   "outputs": [],
   "source": [
    "(define (make-queue)\n",
    "  (let ((front-ptr '())\n",
    "        (rear-ptr '()))\n",
    "    (define (set-front-ptr! item)\n",
    "      (set! front-ptr item))\n",
    "    (define (set-rear-ptr! item)\n",
    "      (set! rear-ptr item))\n",
    "    (define (empty-queue?) (null? front-ptr))\n",
    "    (define (front-queue)\n",
    "      (if (empty-queue?)\n",
    "          (error \"FRONT called with and empty queue\")\n",
    "          (car front-ptr)))\n",
    "    (define (insert-queue! item)\n",
    "      (let ((new-pair (cons item '())))\n",
    "        (cond ((empty-queue?)\n",
    "               (set-front-ptr! new-pair)\n",
    "               (set-rear-ptr! new-pair)\n",
    "               dispatch)\n",
    "              (else (set-cdr! rear-ptr new-pair)\n",
    "                    (set-rear-ptr! new-pair)\n",
    "                    dispatch))))\n",
    "    (define (delete-queue!)\n",
    "      (cond ((empty-queue?)\n",
    "             (error \"DELETE! called with\n",
    "                    an empty queue\" front-ptr))\n",
    "            (else (set-front-ptr! (cdr front-ptr))\n",
    "                  dispatch)))\n",
    "    (define (print) (display front-ptr) (newline))\n",
    "    (define (dispatch m)\n",
    "      (cond ((eq? m 'insert-queue!) insert-queue!)\n",
    "            ((eq? m 'delete-queue!) (delete-queue!))\n",
    "            ((eq? m 'front-queue) (front-queue))\n",
    "            ((eq? m 'empty-queue?) (empty-queue?))\n",
    "            ((eq? m 'print) (print))\n",
    "            (else (error \"Unkown method -- MAKE-QUEUE\" m))))\n",
    "    dispatch))"
   ]
  },
  {
   "cell_type": "code",
   "execution_count": 49,
   "metadata": {},
   "outputs": [
    {
     "name": "stdout",
     "output_type": "stream",
     "text": [
      "(a)\n"
     ]
    }
   ],
   "source": [
    "(define q1 (make-queue))\n",
    "((q1 'insert-queue!) 'a)\n",
    "(q1 'print)"
   ]
  },
  {
   "cell_type": "code",
   "execution_count": 50,
   "metadata": {},
   "outputs": [
    {
     "name": "stdout",
     "output_type": "stream",
     "text": [
      "(a b)\n"
     ]
    }
   ],
   "source": [
    "((q1 'insert-queue!) 'b)\n",
    "(q1 'print)"
   ]
  },
  {
   "cell_type": "code",
   "execution_count": 51,
   "metadata": {},
   "outputs": [
    {
     "name": "stdout",
     "output_type": "stream",
     "text": [
      "(b)\n"
     ]
    }
   ],
   "source": [
    "(q1 'delete-queue!)\n",
    "(q1 'print)"
   ]
  },
  {
   "cell_type": "code",
   "execution_count": 52,
   "metadata": {},
   "outputs": [
    {
     "name": "stdout",
     "output_type": "stream",
     "text": [
      "()\n"
     ]
    }
   ],
   "source": [
    "(q1 'delete-queue!)\n",
    "(q1 'print)"
   ]
  },
  {
   "cell_type": "markdown",
   "metadata": {},
   "source": [
    "## 3.23"
   ]
  },
  {
   "cell_type": "markdown",
   "metadata": {},
   "source": [
    "Use *doubly linked list* as this allows $O(1)$ deletion of last element\n",
    "* Rear pointer of the deque can be set to the *prev* pointer of the last element\n",
    "    * Avoids $O(1)$ following of pointers from the front of the queue\n",
    "\n",
    "List element structure:\n",
    "`((data . prev-ptr) next-ptr)`"
   ]
  },
  {
   "cell_type": "code",
   "execution_count": 82,
   "metadata": {},
   "outputs": [],
   "source": [
    "(define (make-deque) (cons '() '()))\n",
    "\n",
    "(define (front-ptr deque) (car deque))\n",
    "(define (rear-ptr deque) (cdr deque))\n",
    "\n",
    "(define (set-front-ptr! deque item)\n",
    "  (set-car! deque item))\n",
    "(define (set-rear-ptr! deque item)\n",
    "  (set-cdr! deque item))\n",
    "\n",
    "(define (empty-deque? deque)\n",
    "  (null? (front-ptr deque)))\n",
    "\n",
    "(define (front-queue deque)\n",
    "  (if (empty-deque? deque)\n",
    "      (error \"FRONT called with an\n",
    "             empty deque\" deque)\n",
    "      (caar (front-ptr deque))))\n",
    "(define (rear-queue deque)\n",
    "  (if (empty-deque? deque)\n",
    "      (error \"REAR called with an\n",
    "             empty deque\" deque)\n",
    "      (caar (rear-ptr deque))))\n",
    "\n",
    "(define (front-insert-deque! deque item)\n",
    "  ;; new element with empty prev and next pointers\n",
    "  (let ((new-pair (cons (cons item '()) '())))\n",
    "    (cond ((empty-deque? deque)\n",
    "           (set-front-ptr! deque new-pair)\n",
    "           (set-rear-ptr! deque new-pair)\n",
    "           deque)\n",
    "          (else \n",
    "           ;; set next pointer of new element to current front-ptr\n",
    "           (set-cdr! new-pair (front-ptr deque))\n",
    "           ;; set prev pointer of current front-ptr to new element\n",
    "           (set-cdr! (car (front-ptr deque)) new-pair)\n",
    "           (set-front-ptr! deque new-pair)\n",
    "           deque))))\n",
    "\n",
    "(define (rear-insert-deque! deque item)\n",
    "  ;; new element with prev pointer of current rear-ptr and empty next pointer\n",
    "  (let ((new-pair (cons (cons item (rear-ptr deque)) '())))\n",
    "    (cond ((empty-deque? deque)\n",
    "           (set-front-ptr! deque new-pair)\n",
    "           (set-rear-ptr! deque new-pair)\n",
    "           deque)\n",
    "          (else\n",
    "           ;; set next pointer of current rear-ptr to new element\n",
    "           (set-cdr! (rear-ptr deque) new-pair)\n",
    "           (set-rear-ptr! deque new-pair)\n",
    "           deque))))\n",
    "\n",
    ";; set front-ptr to next pointer of current front-ptr\n",
    "(define (front-delete-deque! deque)\n",
    "  (cond ((empty-deque? deque)\n",
    "         (error \"FRONT-DELETE called on\n",
    "                empty deque\" deque))\n",
    "        (else\n",
    "         (set-front-ptr! deque (cdr (front-ptr deque)))\n",
    "         deque)))\n",
    ";; set rear-ptr to current rear-ptr prev pointer\n",
    ";; set next pointer of new rear-ptr to empty\n",
    "(define (rear-delete-deque! deque)\n",
    "  (cond ((empty-deque? deque)\n",
    "         (error \"REAR-DELETE called on\n",
    "                empty deque\" deque))\n",
    "        (else\n",
    "         (set-rear-ptr! deque (cdar (rear-ptr deque)))\n",
    "         (set-cdr! (rear-ptr deque) '())\n",
    "         deque)))\n",
    "\n",
    "(define (print-deque deque)\n",
    "  (map (lambda (x) (display (car x))(display \" \")) (front-ptr deque))(newline))"
   ]
  },
  {
   "cell_type": "code",
   "execution_count": 96,
   "metadata": {},
   "outputs": [
    {
     "name": "stdout",
     "output_type": "stream",
     "text": [
      "a \n"
     ]
    }
   ],
   "source": [
    "(define dq (make-deque))\n",
    "(rear-insert-deque! dq 'a)\n",
    "(print-deque dq)"
   ]
  },
  {
   "cell_type": "code",
   "execution_count": 97,
   "metadata": {},
   "outputs": [
    {
     "name": "stdout",
     "output_type": "stream",
     "text": [
      "z a \n"
     ]
    }
   ],
   "source": [
    "(front-insert-deque! dq 'z)\n",
    "(print-deque dq)"
   ]
  },
  {
   "cell_type": "code",
   "execution_count": 98,
   "metadata": {},
   "outputs": [
    {
     "name": "stdout",
     "output_type": "stream",
     "text": [
      "z a b \n"
     ]
    }
   ],
   "source": [
    "(rear-insert-deque! dq 'b)\n",
    "(print-deque dq)"
   ]
  },
  {
   "cell_type": "code",
   "execution_count": 99,
   "metadata": {},
   "outputs": [
    {
     "name": "stdout",
     "output_type": "stream",
     "text": [
      "y z a b \n"
     ]
    }
   ],
   "source": [
    "(front-insert-deque! dq 'y)\n",
    "(print-deque dq)"
   ]
  },
  {
   "cell_type": "code",
   "execution_count": 100,
   "metadata": {},
   "outputs": [
    {
     "name": "stdout",
     "output_type": "stream",
     "text": [
      "y z a b c \n"
     ]
    }
   ],
   "source": [
    "(rear-insert-deque! dq 'c)\n",
    "(print-deque dq)"
   ]
  },
  {
   "cell_type": "code",
   "execution_count": 101,
   "metadata": {},
   "outputs": [
    {
     "name": "stdout",
     "output_type": "stream",
     "text": [
      "z a b c \n"
     ]
    }
   ],
   "source": [
    "(front-delete-deque! dq)\n",
    "(print-deque dq)"
   ]
  },
  {
   "cell_type": "code",
   "execution_count": 102,
   "metadata": {},
   "outputs": [
    {
     "name": "stdout",
     "output_type": "stream",
     "text": [
      "z a b \n"
     ]
    }
   ],
   "source": [
    "(rear-delete-deque! dq)\n",
    "(print-deque dq)"
   ]
  },
  {
   "cell_type": "code",
   "execution_count": 103,
   "metadata": {},
   "outputs": [
    {
     "name": "stdout",
     "output_type": "stream",
     "text": [
      "a b \n"
     ]
    }
   ],
   "source": [
    "(front-delete-deque! dq)\n",
    "(print-deque dq)"
   ]
  },
  {
   "cell_type": "code",
   "execution_count": 104,
   "metadata": {},
   "outputs": [
    {
     "name": "stdout",
     "output_type": "stream",
     "text": [
      "a \n"
     ]
    }
   ],
   "source": [
    "(rear-delete-deque! dq)\n",
    "(print-deque dq)"
   ]
  },
  {
   "cell_type": "markdown",
   "metadata": {},
   "source": [
    "# Representing Tables\n",
    "## 3.24"
   ]
  },
  {
   "cell_type": "code",
   "execution_count": 6,
   "metadata": {},
   "outputs": [],
   "source": [
    "(define (make-table same-key?)\n",
    "  (define (assoc key records)\n",
    "    (cond ((null? records) false)\n",
    "          ((same-key? key (caar records))\n",
    "           (car records))\n",
    "          (else (assoc key (cdr records)))))\n",
    "  \n",
    "  (let ((local-table (list '*table*)))\n",
    "    (define (lookup key-1 key-2)\n",
    "      (let ((subtable\n",
    "             (assoc key-1 (cdr local-table))))\n",
    "        (if subtable\n",
    "            (let ((record\n",
    "                   (assoc key-2\n",
    "                          (cdr subtable))))\n",
    "              (if record (cdr record) false))\n",
    "            false)))\n",
    "    (define (insert! key-1 key-2 value)\n",
    "      (let ((subtable\n",
    "             (assoc key-1 (cdr local-table))))\n",
    "        (if subtable\n",
    "            (let ((record\n",
    "                   (assoc key-2\n",
    "                          (cdr subtable))))\n",
    "              (if record\n",
    "                  (set-cdr! record value)\n",
    "                  (set-cdr!\n",
    "                   subtable\n",
    "                   (cons (cons key-2 value)\n",
    "                         (cdr subtable)))))\n",
    "            (set-cdr!\n",
    "             local-table\n",
    "             (cons (list key-1\n",
    "                         (cons key-2 value))\n",
    "                   (cdr local-table)))))\n",
    "      'ok)\n",
    "    \n",
    "    (define (dispatch m)\n",
    "      (cond ((eq? m 'lookup-proc) lookup)\n",
    "            ((eq? m 'insert-proc!) insert!)\n",
    "            (else (error \"Unknown operation:\n",
    "                         TABLE\" m))))\n",
    "    dispatch))\n",
    "\n",
    "(define operation-table (make-table equal?))\n",
    "(define get (operation-table 'lookup-proc))\n",
    "(define put (operation-table 'insert-proc!))"
   ]
  },
  {
   "cell_type": "markdown",
   "metadata": {},
   "source": [
    "## 3.25"
   ]
  },
  {
   "cell_type": "code",
   "execution_count": 8,
   "metadata": {},
   "outputs": [],
   "source": [
    "; from ex 2.38\n",
    "(define (fold-left op initial sequence)\n",
    "  (define (iter result rest)\n",
    "    (if (null? rest)\n",
    "        result\n",
    "        (iter (op result (car rest))\n",
    "              (cdr rest))))\n",
    "  (iter initial sequence))\n",
    "\n",
    "(define (make-table same-key?)\n",
    "  (define (assoc key records)\n",
    "    (cond ((null? records) false)\n",
    "          ((same-key? key (caar records))\n",
    "           (car records))\n",
    "          (else (assoc key (cdr records)))))\n",
    "  \n",
    "  (let ((local-table (list '*table*)))\n",
    "    (define (lookup keys)\n",
    "      (define (lookup-record records key)\n",
    "        (if records\n",
    "            (let ((record (assoc key records)))\n",
    "              (if record\n",
    "                  (cdr record)\n",
    "                  #f))\n",
    "            #f))\n",
    "      (fold-left lookup-record (cdr local-table) keys))\n",
    "      \n",
    "    (define (insert! keys value)\n",
    "      (define (get-subtable table key)\n",
    "        (let ((record (assoc key (cdr table))))\n",
    "          (if record\n",
    "              record\n",
    "              (let ((new-table (cons (list key)\n",
    "                                     (cdr table))))\n",
    "                (set-cdr! table new-table)\n",
    "                (car new)))))\n",
    "      (set-cdr! (fold-left get-subtable local-table keys)\n",
    "                value))\n",
    "    \n",
    "    (define (dispatch m)\n",
    "      (cond ((eq? m 'lookup-proc) lookup)\n",
    "            ((eq? m 'insert-proc!) insert!)\n",
    "            (else (error \"Unknown operation:\n",
    "                         TABLE\" m))))\n",
    "    dispatch))"
   ]
  },
  {
   "cell_type": "markdown",
   "metadata": {},
   "source": [
    "## 3.26\n",
    "Binary tree representation of tables will use the following structures:\n",
    "* Node: `'(record left right)`\n",
    "    * `left` = pointer to next node in tree with `key` **less than** current node\n",
    "    * `right` = pointer to next node in tree with `key` **greater than** current node\n",
    "* Record: `(key . value)`\n",
    "\n",
    "Define internal `key<?` procedure to determine whether a key is less than another allowing for strings or numbers to be passed as keys. \n",
    "\n",
    "Internal `lookup` procedure will traverse the tree comparing the `key` of the `record` at the current node to the desired `key`. Following `left` pointer if less than the target `key` and the right pointer if greater. If the keys match, the `record` of the node is returned. If no match found, return false.\n",
    "\n",
    "Internal `insert!` procedure will use `adjoin-set` on the new record and the current table.\n",
    "\n",
    "`(define (adjoin-set x set))`\n",
    "* If `set` is empty -> return new tree with `x` and `null` pointers\n",
    "* `key` of `x` = `key` of the `record` of `set` -> return `set`\n",
    "* `key` of `x` < `key` of the `record` of `set` -> return a new tree:\n",
    "    * Record = record of `set`\n",
    "    * Left pointer = result of `adjoin-set` on `x` and the left branch of `set` \n",
    "    * Right pointer = right branch of `set`\n",
    "* `key` of `x` > `key` of the `recrod` of `set` -> return a new tree:\n",
    "    * Record = record of `set` \n",
    "    * Left pointer = left branch of `set`   \n",
    "    * Right pointer = result of `adjoin-set` on `x` and the right branch of `set` "
   ]
  },
  {
   "cell_type": "code",
   "execution_count": 51,
   "metadata": {},
   "outputs": [],
   "source": [
    "(define (make-table)\n",
    "  (define (make-record key value) (cons key value))\n",
    "  (define (record-key record) (car record))\n",
    "  (define (record-value record) (cdr record))\n",
    "  \n",
    "  (define (key<? k1 k2)\n",
    "    (cond ((and (string? k1)\n",
    "                (string? k2)) (string<? k1 k2))\n",
    "          ((and (number? k1)\n",
    "                (number? k2)) (< k1 k2))\n",
    "          (else (error \"Unsupported key types:\n",
    "                       KEY<?\" k1 k2))))\n",
    "  \n",
    "  (define (make-tree record left right) (list record left right))\n",
    "  (define (tree-record tree) (car tree))\n",
    "  (define (left-branch tree) (cadr tree)) \n",
    "  (define (right-branch tree) (caddr tree)) \n",
    "  \n",
    "  (define local-table '())\n",
    "  \n",
    "  \n",
    "  \n",
    "  (define (lookup key tree)\n",
    "    (if (null? tree)\n",
    "        #f\n",
    "        (let* ((curr-record (tree-record tree))\n",
    "               (curr-key (record-key curr-record)))\n",
    "          (cond ((equal? key curr-key) (record-value curr-record))\n",
    "                ((key<? key curr-key) (lookup key (left-branch tree)))\n",
    "                (else (lookup key (right-branch tree)))))))\n",
    "  \n",
    "  (define (adjoin-set x set)\n",
    "    (cond ((null? set) (make-tree x '() '()))\n",
    "          ((equal? (record-key x) (record-key (tree-record set))) set)\n",
    "          ((key<? (record-key x) (record-key (tree-record set)))\n",
    "           (make-tree (tree-record set)\n",
    "                      (adjoin-set x (left-branch set))\n",
    "                      (right-branch set)))\n",
    "          (else\n",
    "           (make-tree (tree-record set)\n",
    "                      (left-branch set)\n",
    "                      (adjoin-set x (right-branch set))))))\n",
    "  \n",
    "  (define (insert! key value)\n",
    "    (set! local-table\n",
    "          (adjoin-set (make-record key value)\n",
    "                      local-table)))\n",
    "  (define (dispatch m)\n",
    "    (cond ((eq? m 'lookup-proc) (lambda (key) (lookup key local-table)))\n",
    "          ((eq? m 'insert-proc!) insert!)\n",
    "          (else (error \"Unknown operation:\n",
    "                       TABLE\" m))))\n",
    "  dispatch)"
   ]
  },
  {
   "cell_type": "code",
   "execution_count": 52,
   "metadata": {},
   "outputs": [],
   "source": [
    "(define num-key-table (make-table))\n",
    "(define put-num! (num-key-table 'insert-proc!))\n",
    "(define get-num (num-key-table 'lookup-proc))\n",
    "(put-num! 1 \"test\")\n",
    "(put-num! 10 5)\n",
    "(put-num! 20 '(200))"
   ]
  },
  {
   "cell_type": "code",
   "execution_count": 53,
   "metadata": {},
   "outputs": [
    {
     "data": {
      "text/plain": [
       "\"test\""
      ]
     },
     "execution_count": 53,
     "metadata": {},
     "output_type": "execute_result"
    }
   ],
   "source": [
    "(get-num 1)"
   ]
  },
  {
   "cell_type": "code",
   "execution_count": 54,
   "metadata": {},
   "outputs": [
    {
     "data": {
      "text/plain": [
       "5"
      ]
     },
     "execution_count": 54,
     "metadata": {},
     "output_type": "execute_result"
    }
   ],
   "source": [
    "(get-num 10)"
   ]
  },
  {
   "cell_type": "code",
   "execution_count": 55,
   "metadata": {},
   "outputs": [
    {
     "data": {
      "text/plain": [
       "(200)"
      ]
     },
     "execution_count": 55,
     "metadata": {},
     "output_type": "execute_result"
    }
   ],
   "source": [
    "(get-num 20)"
   ]
  },
  {
   "cell_type": "code",
   "execution_count": 56,
   "metadata": {},
   "outputs": [
    {
     "data": {
      "text/plain": [
       "#f"
      ]
     },
     "execution_count": 56,
     "metadata": {},
     "output_type": "execute_result"
    }
   ],
   "source": [
    "(get-num 100)"
   ]
  },
  {
   "cell_type": "code",
   "execution_count": 57,
   "metadata": {},
   "outputs": [],
   "source": [
    "(define string-key-table (make-table))\n",
    "(define put-string! (string-key-table 'insert-proc!))\n",
    "(define get-string (string-key-table 'lookup-proc))\n",
    "(put-string! \"key1\" \"test\")\n",
    "(put-string! \"key2\" 5)\n",
    "(put-string! \"key3\" '(200))"
   ]
  },
  {
   "cell_type": "code",
   "execution_count": 58,
   "metadata": {},
   "outputs": [
    {
     "data": {
      "text/plain": [
       "\"test\""
      ]
     },
     "execution_count": 58,
     "metadata": {},
     "output_type": "execute_result"
    }
   ],
   "source": [
    "(get-string \"key1\")"
   ]
  },
  {
   "cell_type": "code",
   "execution_count": 59,
   "metadata": {},
   "outputs": [
    {
     "data": {
      "text/plain": [
       "5"
      ]
     },
     "execution_count": 59,
     "metadata": {},
     "output_type": "execute_result"
    }
   ],
   "source": [
    "(get-string \"key2\")"
   ]
  },
  {
   "cell_type": "code",
   "execution_count": 60,
   "metadata": {},
   "outputs": [
    {
     "data": {
      "text/plain": [
       "(200)"
      ]
     },
     "execution_count": 60,
     "metadata": {},
     "output_type": "execute_result"
    }
   ],
   "source": [
    "(get-string \"key3\")"
   ]
  },
  {
   "cell_type": "code",
   "execution_count": 61,
   "metadata": {},
   "outputs": [
    {
     "data": {
      "text/plain": [
       "#f"
      ]
     },
     "execution_count": 61,
     "metadata": {},
     "output_type": "execute_result"
    }
   ],
   "source": [
    "(get-string \"key100\")"
   ]
  },
  {
   "cell_type": "markdown",
   "metadata": {},
   "source": [
    "## 3.27\n",
    "Fibonacci memoization given in question:\n",
    "```scheme\n",
    "(define (fib n)\n",
    "  (cond ((= n 0) 0)\n",
    "        ((= n 1) 1)\n",
    "        (else (+ (fib (- n 1))\n",
    "                 (fib (- n 2))))))\n",
    "\n",
    ";; won't execute due to different `make-table` implementations\n",
    "(define memo-fib\n",
    "  (memoize\n",
    "   (lambda (n)\n",
    "     (cond ((= n 0) 0)\n",
    "           ((= n 1) 1)\n",
    "           (else\n",
    "            (+ (memo-fib (- n 1))\n",
    "               (memo-fib (- n 2))))))))\n",
    "\n",
    "(define (memoize f)\n",
    "  (let ((table (make-table)))\n",
    "    (lambda (x)\n",
    "      (let ((previously-computed-result\n",
    "             (lookup x table)))\n",
    "        (or previously-computed-result\n",
    "            (let ((result (f x)))\n",
    "              (insert! x result table)\n",
    "              result))))))\n",
    "```\n",
    "Assuming that retrieval from the lookup table is $O(1)$\n",
    "\n",
    "Each call to `memo-fib` is $O(1)$\n",
    "- `memo-fib` calculates the result of `(memo-fib k)` *once* for each `k`.\n",
    "    - Result is stored in the lookup table and is retrieved upon subsequent calls to `memo-fib`\n",
    "\n",
    "The first calculated value in the call tree for `memo-fib` is for `k = 0`, this is constant (result = 0) and is stored in the table. The next calculated value i for `k = 1`, this is constant (result = 1) and is stored in the table. The next calculated value is for `k = 3`, this requires the values for `k = 0` and `k = 2` which are now in the table - making the calculation for $O(1)$. This pattern continues for all values of `k <= n`, making the overall number of steps $O(n)$\n",
    "\n",
    "Defining `memo-fib` as `(memoize fib)` would *not* work. `fib` calls *itself* recursively and `fib` is not memoized."
   ]
  },
  {
   "cell_type": "code",
   "execution_count": null,
   "metadata": {},
   "outputs": [],
   "source": []
  }
 ],
 "metadata": {
  "kernelspec": {
   "display_name": "Calysto Scheme 3",
   "language": "scheme",
   "name": "calysto_scheme"
  },
  "language_info": {
   "codemirror_mode": {
    "name": "scheme"
   },
   "mimetype": "text/x-scheme",
   "name": "scheme",
   "pygments_lexer": "scheme"
  }
 },
 "nbformat": 4,
 "nbformat_minor": 2
}
