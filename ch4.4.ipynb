{
 "cells": [
  {
   "cell_type": "markdown",
   "metadata": {},
   "source": [
    "# 4.4 Logic Programming\n",
    "\n",
    "## 4.55\n",
    "\n",
    "```scheme\n",
    ";; 1\n",
    "(supervisor ?x (Bitdiddle Ben))\n",
    "\n",
    ";; 2\n",
    "(job ?x (accounting . ?type))\n",
    "\n",
    ";; 3\n",
    "(address ?x (Sumerville . ?y))\n",
    "```\n",
    "\n",
    "## 4.56\n",
    "\n",
    "```scheme\n",
    ";; 1\n",
    "(and (supervisor ?person (Bitdiddle Ben))\n",
    "     (address ?person . ?street))\n",
    ";; 2\n",
    "(and (salary (Bitdiddle Ben) ?x)\n",
    "     (salary ?person ?amount)\n",
    "     (lisp-value < ?amount ?x))\n",
    "\n",
    ";; 3\n",
    "(and (supervisor ?person ?supervisor)\n",
    "     (job ?supervisor ?job)\n",
    "     (not (job ?supervisor (computer . ?type))))\n",
    "```\n",
    "\n",
    "## 4.57\n",
    "\n",
    "```scheme\n",
    "(rule (can-replace ?person1 ?person2)\n",
    "      (and\n",
    "       (or\n",
    "        ;; person1 does same job as person2\n",
    "        (and (job ?person1 ?job) \n",
    "             (job ?person2 ?job))\n",
    "        ;; OR someone who does person1's job can also do person2's job\n",
    "        (and (job ?person1 ?job1)\n",
    "             (job ?person2 ?job2)\n",
    "             (can-do-job ?j1 ?j2)))\n",
    "       ;; person1 and person2 are not the same person\n",
    "       (not (same ?person1 ?person2))))\n",
    "\n",
    ";; 1\n",
    "(can-replace ?person (Fect Cy D))\n",
    "\n",
    ";; 2 \n",
    "\n",
    "(and (can-replace ?person1 ?person2)\n",
    "     (salary ?person1 ?salary1)\n",
    "     (salary? ?person2 ?salary2)\n",
    "     (lisp-value > salary2 salary1))\n",
    "```"
   ]
  }
 ],
 "metadata": {
  "kernelspec": {
   "display_name": "Calysto Scheme 3",
   "language": "scheme",
   "name": "calysto_scheme"
  },
  "language_info": {
   "codemirror_mode": {
    "name": "scheme"
   },
   "mimetype": "text/x-scheme",
   "name": "scheme",
   "pygments_lexer": "scheme"
  }
 },
 "nbformat": 4,
 "nbformat_minor": 2
}
