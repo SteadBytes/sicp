{
 "cells": [
  {
   "cell_type": "markdown",
   "metadata": {},
   "source": [
    "# SICP Chapter 2"
   ]
  },
  {
   "cell_type": "code",
   "execution_count": 1,
   "metadata": {},
   "outputs": [],
   "source": [
    ";; from book -> not technically correct as will return negative\n",
    "(define (gcd a b)\n",
    "  (if (= b 0)\n",
    "      a\n",
    "      (gcd b (remainder a b))))\n",
    "\n",
    ";; construct rational number reduced to lowest terms\n",
    "(define (make-rat n d) \n",
    "  (let ((g (gcd n d)))\n",
    "    (cons (/ n g)\n",
    "          (/ d g))))\n",
    "\n",
    "(define (numer x) (car x))\n",
    "(define (denom x) (cdr x))\n",
    "\n",
    "(define (add-rat x y)\n",
    "  (make-rat (+ (* (numer x) (denom y))\n",
    "               (* (numer y) (denom x)))\n",
    "            (* (denom x) (denom y))))\n",
    "\n",
    "(define (sub-rat x y)\n",
    "  (make-rat (- (* (numer x) (denom y))\n",
    "               (* (numer y) (denom x)))\n",
    "            (* (denom x) (denom y))))\n",
    "\n",
    "(define (mul-rat x y)\n",
    "  (make-rat (* (numer x) (numer y))\n",
    "            (* (denom x) (denom y))))\n",
    "\n",
    "(define (div-rat x y)\n",
    "  (make-rat (* (numer x) (denom y))\n",
    "            (* (denom x) (numer y))))\n",
    "\n",
    "(define (equal-rat? x y)\n",
    "  (= (* (numer x) (denom y))\n",
    "     (* (numer y) (denom x))))\n",
    "\n",
    "(define (print-rat x)\n",
    "  (newline)\n",
    "  (display (numer x))\n",
    "  (display \"/\")\n",
    "  (display (denom x)))"
   ]
  },
  {
   "cell_type": "code",
   "execution_count": 2,
   "metadata": {},
   "outputs": [
    {
     "name": "stdout",
     "output_type": "stream",
     "text": [
      "\n",
      "1/2"
     ]
    }
   ],
   "source": [
    "(define half (make-rat 1 2))\n",
    "(print-rat half)"
   ]
  },
  {
   "cell_type": "code",
   "execution_count": 3,
   "metadata": {},
   "outputs": [
    {
     "name": "stdout",
     "output_type": "stream",
     "text": [
      "\n",
      "1/5"
     ]
    }
   ],
   "source": [
    "(define fifth (make-rat 1 5))\n",
    "(print-rat fifth)"
   ]
  },
  {
   "cell_type": "code",
   "execution_count": 4,
   "metadata": {},
   "outputs": [
    {
     "name": "stdout",
     "output_type": "stream",
     "text": [
      "\n",
      "1/3"
     ]
    }
   ],
   "source": [
    "(define third (make-rat 1 3))\n",
    "(print-rat third)"
   ]
  },
  {
   "cell_type": "code",
   "execution_count": 5,
   "metadata": {},
   "outputs": [
    {
     "name": "stdout",
     "output_type": "stream",
     "text": [
      "\n",
      "1/10"
     ]
    }
   ],
   "source": [
    "(print-rat (mul-rat half fifth))"
   ]
  },
  {
   "cell_type": "code",
   "execution_count": 6,
   "metadata": {},
   "outputs": [
    {
     "name": "stdout",
     "output_type": "stream",
     "text": [
      "\n",
      "7/10"
     ]
    }
   ],
   "source": [
    "(print-rat (add-rat half fifth))"
   ]
  },
  {
   "cell_type": "code",
   "execution_count": 7,
   "metadata": {},
   "outputs": [
    {
     "name": "stdout",
     "output_type": "stream",
     "text": [
      "\n",
      "1/1"
     ]
    }
   ],
   "source": [
    "(print-rat (add-rat half half))"
   ]
  },
  {
   "cell_type": "code",
   "execution_count": 8,
   "metadata": {},
   "outputs": [
    {
     "name": "stdout",
     "output_type": "stream",
     "text": [
      "\n",
      "2/3"
     ]
    }
   ],
   "source": [
    "(print-rat (add-rat third third))"
   ]
  },
  {
   "cell_type": "markdown",
   "metadata": {},
   "source": [
    "## 2.1"
   ]
  },
  {
   "cell_type": "code",
   "execution_count": 9,
   "metadata": {},
   "outputs": [],
   "source": [
    "(define (make-rat n d) \n",
    "  (let ((g (abs (gcd n d)))) ; abs to correct for negative return from gcd\n",
    "    (if (< d 0)\n",
    "        (cons (/ (* n -1) g) \n",
    "              (/ (* d -1) g))\n",
    "        (cons (/ n g) \n",
    "              (/ d g)))))\n",
    "    "
   ]
  },
  {
   "cell_type": "code",
   "execution_count": 10,
   "metadata": {},
   "outputs": [
    {
     "name": "stdout",
     "output_type": "stream",
     "text": [
      "\n",
      "1/2"
     ]
    }
   ],
   "source": [
    "(print-rat (make-rat 1 2))"
   ]
  },
  {
   "cell_type": "code",
   "execution_count": 11,
   "metadata": {},
   "outputs": [
    {
     "name": "stdout",
     "output_type": "stream",
     "text": [
      "\n",
      "-1/2"
     ]
    }
   ],
   "source": [
    "(print-rat (make-rat -1 2))"
   ]
  },
  {
   "cell_type": "code",
   "execution_count": 12,
   "metadata": {},
   "outputs": [
    {
     "name": "stdout",
     "output_type": "stream",
     "text": [
      "\n",
      "-1/2"
     ]
    }
   ],
   "source": [
    "(print-rat (make-rat 1 -2))"
   ]
  },
  {
   "cell_type": "markdown",
   "metadata": {},
   "source": [
    "## 2.2"
   ]
  },
  {
   "cell_type": "code",
   "execution_count": 13,
   "metadata": {},
   "outputs": [],
   "source": [
    "(define (make-point x y)\n",
    "  (cons x y))\n",
    "(define (x-point point)\n",
    "  (car point))\n",
    "(define (y-point point)\n",
    "  (cdr point))\n",
    "\n",
    "(define (make-segment start-point end-point)\n",
    "  (cons start-point end-point))\n",
    "(define (start-segment segment)\n",
    "  (car segment))\n",
    "(define (end-segment segment)\n",
    "  (cdr segment))\n",
    "\n",
    "(define (midpoint-segment segment)\n",
    "  (define (avg x y) (/ (+ x y) 2.0))\n",
    "  (let ((start (start-segment segment)) (end (end-segment segment)))\n",
    "    (make-point\n",
    "     (avg (x-point start) (x-point end))\n",
    "     (avg (y-point start) (y-point end)))))\n",
    "\n",
    "(define (print-point p)\n",
    "  (newline)\n",
    "  (display \"(\")\n",
    "  (display (x-point p))\n",
    "  (display \",\")\n",
    "  (display (y-point p))\n",
    "  (display \")\"))"
   ]
  },
  {
   "cell_type": "code",
   "execution_count": 14,
   "metadata": {},
   "outputs": [
    {
     "name": "stdout",
     "output_type": "stream",
     "text": [
      "\n",
      "(1,2)"
     ]
    }
   ],
   "source": [
    "(print-point (make-point 1 2))"
   ]
  },
  {
   "cell_type": "code",
   "execution_count": 15,
   "metadata": {},
   "outputs": [
    {
     "name": "stdout",
     "output_type": "stream",
     "text": [
      "\n",
      "(1.5,3.0)"
     ]
    }
   ],
   "source": [
    "(define start (make-point 1 2))\n",
    "(define end (make-point 2 4))\n",
    "\n",
    "(define seg (make-segment start end))\n",
    "(print-point (midpoint-segment seg))"
   ]
  },
  {
   "cell_type": "markdown",
   "metadata": {},
   "source": [
    "## 2.3"
   ]
  },
  {
   "cell_type": "code",
   "execution_count": 16,
   "metadata": {},
   "outputs": [],
   "source": [
    ";; opposite corners representation\n",
    "(define (make-rect bottom-left top-right)\n",
    "  (cons bottom-left top-right))\n",
    "(define (rect-width rect)\n",
    "  (abs (- (x-point (car rect)) (x-point (cdr rect)))))\n",
    "(define (rect-height rect)\n",
    "  (abs (- (y-point (car rect)) (y-point (cdr rect)))))\n",
    "\n",
    "(define (rect-perim rect)\n",
    "  (* 2 (+ (rect-width rect) (rect-height rect))))\n",
    "\n",
    "(define (rect-area rect)\n",
    "  (* (rect-width rect) (rect-height rect)))"
   ]
  },
  {
   "cell_type": "code",
   "execution_count": 17,
   "metadata": {},
   "outputs": [
    {
     "data": {
      "text/plain": [
       "2"
      ]
     },
     "execution_count": 17,
     "metadata": {},
     "output_type": "execute_result"
    }
   ],
   "source": [
    "(define rect (make-rect (make-point 1 2) (make-point 3 5)))\n",
    "\n",
    "(rect-width rect)"
   ]
  },
  {
   "cell_type": "code",
   "execution_count": 18,
   "metadata": {},
   "outputs": [
    {
     "data": {
      "text/plain": [
       "3"
      ]
     },
     "execution_count": 18,
     "metadata": {},
     "output_type": "execute_result"
    }
   ],
   "source": [
    "(rect-height rect)"
   ]
  },
  {
   "cell_type": "code",
   "execution_count": 19,
   "metadata": {},
   "outputs": [
    {
     "data": {
      "text/plain": [
       "10"
      ]
     },
     "execution_count": 19,
     "metadata": {},
     "output_type": "execute_result"
    }
   ],
   "source": [
    "(rect-perim rect)"
   ]
  },
  {
   "cell_type": "code",
   "execution_count": 20,
   "metadata": {},
   "outputs": [
    {
     "data": {
      "text/plain": [
       "6"
      ]
     },
     "execution_count": 20,
     "metadata": {},
     "output_type": "execute_result"
    }
   ],
   "source": [
    "(rect-area rect)"
   ]
  },
  {
   "cell_type": "code",
   "execution_count": 21,
   "metadata": {},
   "outputs": [],
   "source": [
    ";; bottom left corner + width/height representation\n",
    "(define (make-rect bottom-left width height)\n",
    "  (cons bottom-left (cons width height)))\n",
    "(define (rect-width rect)\n",
    "  (car (cdr rect)))\n",
    "(define (rect-height rect)\n",
    "  (cdr (cdr rect)))"
   ]
  },
  {
   "cell_type": "code",
   "execution_count": 22,
   "metadata": {},
   "outputs": [],
   "source": [
    "(define rect (make-rect (make-point 1 2) 2 3))"
   ]
  },
  {
   "cell_type": "code",
   "execution_count": 23,
   "metadata": {},
   "outputs": [
    {
     "data": {
      "text/plain": [
       "10"
      ]
     },
     "execution_count": 23,
     "metadata": {},
     "output_type": "execute_result"
    }
   ],
   "source": [
    "(rect-perim rect)"
   ]
  },
  {
   "cell_type": "code",
   "execution_count": 66,
   "metadata": {},
   "outputs": [
    {
     "data": {
      "text/plain": [
       "6"
      ]
     },
     "execution_count": 66,
     "metadata": {},
     "output_type": "execute_result"
    }
   ],
   "source": [
    "(rect-area rect)"
   ]
  },
  {
   "cell_type": "markdown",
   "metadata": {},
   "source": [
    "## 2.4"
   ]
  },
  {
   "cell_type": "code",
   "execution_count": 32,
   "metadata": {},
   "outputs": [],
   "source": [
    ";; returns function that takes 2 arguments and applies it to x y\n",
    "(define (cons x y)\n",
    "  (lambda (m) (m x y)))\n",
    "\n",
    ";; z takes a 2 argument function that is passed p q in order\n",
    ";; returning first arg p implements car function\n",
    "(define (car z)\n",
    "  (z (lambda (p q) p)))\n",
    "\n",
    ";; z takes a 2 argument function that is passed p q in order\n",
    ";; returning sencond arg q produces cdr\n",
    "(define (cdr z)\n",
    "  (z (lambda (p q) q)))"
   ]
  },
  {
   "cell_type": "code",
   "execution_count": 27,
   "metadata": {},
   "outputs": [
    {
     "data": {
      "text/plain": [
       "1"
      ]
     },
     "execution_count": 27,
     "metadata": {},
     "output_type": "execute_result"
    }
   ],
   "source": [
    "(car (cons 1 2))"
   ]
  },
  {
   "cell_type": "code",
   "execution_count": 33,
   "metadata": {},
   "outputs": [
    {
     "data": {
      "text/plain": [
       "2"
      ]
     },
     "execution_count": 33,
     "metadata": {},
     "output_type": "execute_result"
    }
   ],
   "source": [
    "(cdr (cons 1 2))"
   ]
  },
  {
   "cell_type": "markdown",
   "metadata": {},
   "source": [
    "Applicative-order evaluation to verify `(car (cons x y))` yields `x` for any objects `x` and `y`:\n",
    "```scheme\n",
    "(car (cons (x y)))\n",
    "(car (lambda (m) (m x y)))\n",
    "((lambda (m) (m x y)) (lambda (p q) p))\n",
    "((lambda (p q) p) x y)\n",
    "x\n",
    "```"
   ]
  },
  {
   "cell_type": "markdown",
   "metadata": {},
   "source": [
    "## 2.5"
   ]
  },
  {
   "cell_type": "markdown",
   "metadata": {},
   "source": [
    "Represent pair of nonnegative integers $a, b$ as the integer that is the product $2^a3^b$\n",
    "\n",
    "2 and 3 are prime -> $2^a3^b$ will give unique values for each all combinations of $a, b$ due to the [Fundamental Theorem of Arithmetic](http://mathworld.wolfram.com/FundamentalTheoremofArithmetic.html)\n",
    "\n",
    "$a$ can be calculated from the product by the number of times it is evenly divisible by 2.\n",
    "\n",
    "$b$ can be calculated from the product by the the number of times it is evenly divisible by 3.\n",
    "\n",
    "Example:\n",
    "\n",
    "$a=2\\ ,b=3$\n",
    "\n",
    "$2^a3^b=2^2\\cdot3^3=108$\n",
    "\n",
    "Calculating $a$:\n",
    "\n",
    "$\\frac{108}{2}=54$\n",
    "\n",
    "$\\frac{54}{2}=27$\n",
    "\n",
    "$\\frac{27}{2}=13.5$\n",
    "\n",
    "2 even divisions by 2:\n",
    "\n",
    "$a=2$\n",
    "\n",
    "Calculating $b$:\n",
    "\n",
    "$\\frac{108}{3}=36$\n",
    "\n",
    "$\\frac{36}{3}=12$\n",
    "\n",
    "$\\frac{12}{3}=4$\n",
    "\n",
    "$\\frac{4}{3} = 1.3333333$\n",
    "\n",
    "3 even divisions by 3:\n",
    "\n",
    "$b=3$\n",
    "\n",
    "\n"
   ]
  },
  {
   "cell_type": "code",
   "execution_count": 11,
   "metadata": {},
   "outputs": [],
   "source": [
    "(define (cons a b)\n",
    "  (* (expt 2 a)\n",
    "     (expt 3 b)))\n",
    "\n",
    "; number of times n is evenly divisible by d\n",
    "(define (num-div n d)\n",
    "  (define (iter x count)\n",
    "    (if (= 0 (remainder x d))\n",
    "        (iter (/ x d) (+ 1 count))\n",
    "        count))\n",
    "  (iter n 0))\n",
    "\n",
    "(define (car x)\n",
    "  (num-div x 2))\n",
    "\n",
    "(define (cdr x)\n",
    "  (num-div x 3))"
   ]
  },
  {
   "cell_type": "code",
   "execution_count": 12,
   "metadata": {},
   "outputs": [
    {
     "data": {
      "text/plain": [
       "2"
      ]
     },
     "execution_count": 12,
     "metadata": {},
     "output_type": "execute_result"
    }
   ],
   "source": [
    "(car (cons 2 3))"
   ]
  },
  {
   "cell_type": "code",
   "execution_count": 13,
   "metadata": {},
   "outputs": [
    {
     "data": {
      "text/plain": [
       "3"
      ]
     },
     "execution_count": 13,
     "metadata": {},
     "output_type": "execute_result"
    }
   ],
   "source": [
    "(cdr (cons 2 3))"
   ]
  },
  {
   "cell_type": "markdown",
   "metadata": {},
   "source": [
    "## 2.6"
   ]
  },
  {
   "cell_type": "code",
   "execution_count": 17,
   "metadata": {},
   "outputs": [],
   "source": [
    "(define zero (lambda (f) (lambda (x) x)))\n",
    "\n",
    "(define (add-1 n)\n",
    "  (lambda (f) (lambda (x) (f ((n f) x)))))"
   ]
  },
  {
   "cell_type": "markdown",
   "metadata": {},
   "source": [
    "Substitution to find definition of `one`:\n",
    "```scheme\n",
    "(add-1 zero)\n",
    "(lambda (f) (lambda (x) (f ((zero f) x))))\n",
    "(lambda (f) (lambda (x) (f ((lambda (x) x) x))))\n",
    "(lambda (f) (lambda (x) (f x)))\n",
    "```"
   ]
  },
  {
   "cell_type": "code",
   "execution_count": 19,
   "metadata": {},
   "outputs": [],
   "source": [
    ";; applies given procedure once\n",
    "(define one (lambda (f) (lambda (x) (f x))))"
   ]
  },
  {
   "cell_type": "markdown",
   "metadata": {},
   "source": [
    "Substitution to find definition of `two`:\n",
    "```scheme\n",
    "(add-1 one)\n",
    "(lambda (f) (lambda (x) (f ((one f) x))))\n",
    "(lambda (f) (lambda (x) (f ((lambda (x) (f x)) x))))\n",
    "(lambda (f) (lambda (x) (f (f x))))\n",
    "```"
   ]
  },
  {
   "cell_type": "code",
   "execution_count": 20,
   "metadata": {},
   "outputs": [],
   "source": [
    ";; applies given procedure twice\n",
    "(define two (lambda (f) (lambda (x) (f (f x)))))"
   ]
  },
  {
   "cell_type": "code",
   "execution_count": 24,
   "metadata": {},
   "outputs": [],
   "source": [
    ";; 'wrap' n in m function calls\n",
    "(define (church+ m n)\n",
    "  (lambda (f) (lambda (x) ((m f) ((n f) x)))))"
   ]
  },
  {
   "cell_type": "code",
   "execution_count": 38,
   "metadata": {},
   "outputs": [],
   "source": [
    ";; easy to see number of function applications with increment procedure\n",
    "(define (increment n)\n",
    "  (+ n 1))"
   ]
  },
  {
   "cell_type": "code",
   "execution_count": 39,
   "metadata": {},
   "outputs": [
    {
     "data": {
      "text/plain": [
       "0"
      ]
     },
     "execution_count": 39,
     "metadata": {},
     "output_type": "execute_result"
    }
   ],
   "source": [
    "((zero increment) 0)"
   ]
  },
  {
   "cell_type": "code",
   "execution_count": 40,
   "metadata": {},
   "outputs": [
    {
     "data": {
      "text/plain": [
       "1"
      ]
     },
     "execution_count": 40,
     "metadata": {},
     "output_type": "execute_result"
    }
   ],
   "source": [
    "((zero increment) 1)"
   ]
  },
  {
   "cell_type": "code",
   "execution_count": 41,
   "metadata": {},
   "outputs": [
    {
     "data": {
      "text/plain": [
       "2"
      ]
     },
     "execution_count": 41,
     "metadata": {},
     "output_type": "execute_result"
    }
   ],
   "source": [
    "((zero increment) 2)"
   ]
  },
  {
   "cell_type": "code",
   "execution_count": 42,
   "metadata": {},
   "outputs": [
    {
     "data": {
      "text/plain": [
       "1"
      ]
     },
     "execution_count": 42,
     "metadata": {},
     "output_type": "execute_result"
    }
   ],
   "source": [
    "((one increment) 0)"
   ]
  },
  {
   "cell_type": "code",
   "execution_count": 43,
   "metadata": {},
   "outputs": [
    {
     "data": {
      "text/plain": [
       "2"
      ]
     },
     "execution_count": 43,
     "metadata": {},
     "output_type": "execute_result"
    }
   ],
   "source": [
    "((one increment) 1)"
   ]
  },
  {
   "cell_type": "code",
   "execution_count": 44,
   "metadata": {},
   "outputs": [
    {
     "data": {
      "text/plain": [
       "3"
      ]
     },
     "execution_count": 44,
     "metadata": {},
     "output_type": "execute_result"
    }
   ],
   "source": [
    "((one increment) 2)"
   ]
  },
  {
   "cell_type": "code",
   "execution_count": 45,
   "metadata": {},
   "outputs": [
    {
     "data": {
      "text/plain": [
       "2"
      ]
     },
     "execution_count": 45,
     "metadata": {},
     "output_type": "execute_result"
    }
   ],
   "source": [
    "((two increment) 0)"
   ]
  },
  {
   "cell_type": "code",
   "execution_count": 46,
   "metadata": {},
   "outputs": [
    {
     "data": {
      "text/plain": [
       "3"
      ]
     },
     "execution_count": 46,
     "metadata": {},
     "output_type": "execute_result"
    }
   ],
   "source": [
    "((two increment) 1)"
   ]
  },
  {
   "cell_type": "code",
   "execution_count": 47,
   "metadata": {},
   "outputs": [
    {
     "data": {
      "text/plain": [
       "4"
      ]
     },
     "execution_count": 47,
     "metadata": {},
     "output_type": "execute_result"
    }
   ],
   "source": [
    "((two increment) 2)"
   ]
  },
  {
   "cell_type": "code",
   "execution_count": null,
   "metadata": {},
   "outputs": [],
   "source": [
    "(define three (church+ one two))\n",
    "\n",
    "((three increment) 0)"
   ]
  },
  {
   "cell_type": "markdown",
   "metadata": {},
   "source": [
    "## 2.7"
   ]
  },
  {
   "cell_type": "code",
   "execution_count": 1,
   "metadata": {},
   "outputs": [],
   "source": [
    ";; procedures given in question description\n",
    "(define (make-interval a b) (cons a b))\n",
    "\n",
    "(define (add-interval x y)\n",
    "  (make-interval (+ (lower-bound x)\n",
    "                    (lower-bound y))\n",
    "                 (+ (upper-bound x)\n",
    "                    (upper-bound y))))\n",
    "\n",
    ";; find minimum and maximum of products of the bounds\n",
    "(define (mul-interval x y)\n",
    "  (let ((p1 (* (lower-bound x)\n",
    "               (lower-bound y)))\n",
    "        (p2 (* (lower-bound x)\n",
    "               (upper-bound y)))\n",
    "        (p3 (* (upper-bound x)\n",
    "               (lower-bound y)))\n",
    "        (p4 (* (upper-bound x)\n",
    "               (upper-bound y))))\n",
    "    (make-interval (min p1 p2 p3 p4)\n",
    "                   (max p1 p2 p3 p4))))\n",
    "(define (div-interval x y)\n",
    "  (mul-interval x\n",
    "                (make-interval\n",
    "                 (/ 1.0 (upper-bound y))\n",
    "                 (/ 1.0 (lower-bound y)))))"
   ]
  },
  {
   "cell_type": "code",
   "execution_count": 2,
   "metadata": {},
   "outputs": [],
   "source": [
    "(define (lower-bound x) (min (car x) (cdr x)))\n",
    "(define (upper-bound x) (max (car x) (cdr x)))"
   ]
  },
  {
   "cell_type": "code",
   "execution_count": 3,
   "metadata": {},
   "outputs": [
    {
     "data": {
      "text/plain": [
       "10"
      ]
     },
     "execution_count": 3,
     "metadata": {},
     "output_type": "execute_result"
    }
   ],
   "source": [
    ";; test with a=lower, b=upper\n",
    "(define x (make-interval 10 20))\n",
    "\n",
    "(lower-bound x)"
   ]
  },
  {
   "cell_type": "code",
   "execution_count": 4,
   "metadata": {},
   "outputs": [
    {
     "data": {
      "text/plain": [
       "20"
      ]
     },
     "execution_count": 4,
     "metadata": {},
     "output_type": "execute_result"
    }
   ],
   "source": [
    "(upper-bound x)"
   ]
  },
  {
   "cell_type": "code",
   "execution_count": 5,
   "metadata": {},
   "outputs": [
    {
     "data": {
      "text/plain": [
       "10"
      ]
     },
     "execution_count": 5,
     "metadata": {},
     "output_type": "execute_result"
    }
   ],
   "source": [
    ";; test with a=upper, b=lower\n",
    "(define y (make-interval 20 10))\n",
    "\n",
    "(lower-bound y)"
   ]
  },
  {
   "cell_type": "code",
   "execution_count": 6,
   "metadata": {},
   "outputs": [
    {
     "data": {
      "text/plain": [
       "20"
      ]
     },
     "execution_count": 6,
     "metadata": {},
     "output_type": "execute_result"
    }
   ],
   "source": [
    "(upper-bound y)"
   ]
  },
  {
   "cell_type": "markdown",
   "metadata": {},
   "source": [
    "## 2.8\n",
    "Difference between intervals `x, y`:\n",
    "- Minimum = lower bound `x` subtract upper bound `y` \n",
    "- Maximum = upper bound `x` subtract lower bound `y`"
   ]
  },
  {
   "cell_type": "code",
   "execution_count": 7,
   "metadata": {},
   "outputs": [
    {
     "data": {
      "text/plain": [
       "(5 . 19)"
      ]
     },
     "execution_count": 7,
     "metadata": {},
     "output_type": "execute_result"
    }
   ],
   "source": [
    "(define (sub-interval x y)\n",
    "  (make-interval \n",
    "   (- (lower-bound x) (upper-bound y))\n",
    "   (- (upper-bound x) (lower-bound y))))\n",
    "\n",
    "(define x (make-interval 10 20))\n",
    "(define y (make-interval 1 5))\n",
    "(sub-interval x y)"
   ]
  },
  {
   "cell_type": "markdown",
   "metadata": {},
   "source": [
    "## 2.9\n",
    "\n",
    "`add-interval`:\n",
    "\n",
    "$[a,b]+[c,d]=[(a+c), (b+d)]$\n",
    "\n",
    "`width`:\n",
    "\n",
    "$width([a,b])=\\frac{b-a}{2}$\n",
    "\n",
    "`width` of `add-interval`:\n",
    "\n",
    "$width([a,b]+[c,d])=width([(a+c), (b+d)])$\n",
    "\n",
    "$=\\frac{(b+d)-(a+c)}{2}$\n",
    "\n",
    "sum of `width` of two intervals:\n",
    "\n",
    "$width([a,b]) + width([c,d])=\\frac{b-a}{2}+\\frac{d-c}{2}$\n",
    "\n",
    "$=\\frac{(b-a)+(d-c)}{2}$\n",
    "\n",
    "$=\\frac{(b+d)-(a+c)}{2}$\n",
    "\n",
    "`width` of `add-interval` is equal to the sum of `with` of the same two intervals. Therefore the width of the the sum of two intervals is a function only of the widthds of the intervals being added."
   ]
  },
  {
   "cell_type": "code",
   "execution_count": 8,
   "metadata": {},
   "outputs": [],
   "source": [
    "(define (width x)\n",
    "  (/ (- (upper-bound x) (lower-bound x)) 2))\n",
    "\n",
    "(define a (make-interval 10 20))\n",
    "(define b (make-interval 30 40))\n",
    "(define c (make-interval 1 3))"
   ]
  },
  {
   "cell_type": "code",
   "execution_count": 9,
   "metadata": {},
   "outputs": [
    {
     "data": {
      "text/plain": [
       "5"
      ]
     },
     "execution_count": 9,
     "metadata": {},
     "output_type": "execute_result"
    }
   ],
   "source": [
    "(width a)"
   ]
  },
  {
   "cell_type": "code",
   "execution_count": 10,
   "metadata": {},
   "outputs": [
    {
     "data": {
      "text/plain": [
       "5"
      ]
     },
     "execution_count": 10,
     "metadata": {},
     "output_type": "execute_result"
    }
   ],
   "source": [
    "(width b)"
   ]
  },
  {
   "cell_type": "code",
   "execution_count": 11,
   "metadata": {},
   "outputs": [
    {
     "data": {
      "text/plain": [
       "1"
      ]
     },
     "execution_count": 11,
     "metadata": {},
     "output_type": "execute_result"
    }
   ],
   "source": [
    "(width c)"
   ]
  },
  {
   "cell_type": "code",
   "execution_count": 12,
   "metadata": {},
   "outputs": [
    {
     "data": {
      "text/plain": [
       "10"
      ]
     },
     "execution_count": 12,
     "metadata": {},
     "output_type": "execute_result"
    }
   ],
   "source": [
    "(width (add-interval a b))"
   ]
  },
  {
   "cell_type": "markdown",
   "metadata": {},
   "source": [
    "Intervals `a` and `b` have the same width. Multiplying each of them by `c` gives produce intervals with different widths. Therefore the product of two intervals has a width that is not a function solely of the widths of said intervals."
   ]
  },
  {
   "cell_type": "code",
   "execution_count": 13,
   "metadata": {},
   "outputs": [
    {
     "data": {
      "text/plain": [
       "25"
      ]
     },
     "execution_count": 13,
     "metadata": {},
     "output_type": "execute_result"
    }
   ],
   "source": [
    "(width (mul-interval a c))"
   ]
  },
  {
   "cell_type": "code",
   "execution_count": 14,
   "metadata": {},
   "outputs": [
    {
     "data": {
      "text/plain": [
       "45"
      ]
     },
     "execution_count": 14,
     "metadata": {},
     "output_type": "execute_result"
    }
   ],
   "source": [
    "(width (mul-interval b c))"
   ]
  },
  {
   "cell_type": "markdown",
   "metadata": {},
   "source": [
    "## 2.10"
   ]
  },
  {
   "cell_type": "code",
   "execution_count": 15,
   "metadata": {},
   "outputs": [
    {
     "name": "stderr",
     "output_type": "stream",
     "text": [
      "\u001b[0;31m\n",
      "Traceback (most recent call last):\n",
      "  File \"In [15]\", line 14, col 1, in 'div-interval'\n",
      "  File \"In [15]\", line 8, col 7, in 'error'\n",
      "  File \"In [15]\", line 8, col 7\n",
      "RunTimeError: Error in 'div-interval': Cannot divide by interval with span 0\n",
      "\n",
      "\u001b[0m"
     ]
    }
   ],
   "source": [
    "(define (zero-span? x)\n",
    "  (and (<= (lower-bound x) 0)\n",
    "       (>= (upper-bound x) 0)))\n",
    "\n",
    ";; throws an error if divide by 0\n",
    "(define (div-interval x y)\n",
    "  (if (zero-span? y)\n",
    "      (error \"div-interval\" \"Cannot divide by interval with span 0\")\n",
    "      (mul-interval x\n",
    "                (make-interval\n",
    "                 (/ 1.0 (upper-bound y))\n",
    "                 (/ 1.0 (lower-bound y))))))\n",
    "\n",
    "(div-interval (make-interval 10 20) (make-interval -1 1))"
   ]
  },
  {
   "cell_type": "markdown",
   "metadata": {},
   "source": [
    "## 2.11\n",
    "`(mul-interval x y)` produces an interval where the lower bound is the minimum product of `x` and `y`'s bounds  and the upper bound is the maximum product of `x` and `y`'s bounds.\n",
    "\n",
    "Upper and lower bounds of an interval can be both positive, both negative or negative lower with positive upper i.e. `[+,+]`, `[-,-]` or `[-,+]`\n",
    "- Can't have positive lower and negative upper as the lower bound would be less than the upper bound\n",
    "\n",
    "For `mul-interval` this gives the combinations:\n",
    "```\n",
    "[+,+] * [+,+]\n",
    "[+,+] * [-,-]\n",
    "[+,+] * [-,+]\n",
    "\n",
    "[-,-] * [-,-]\n",
    "[-,-] * [+,+]\n",
    "[-,-] * [-,+]\n",
    "\n",
    "[-,+] * [-,+]\n",
    "[-,+] * [+,+]\n",
    "[-,+] * [-,-]\n",
    "```\n",
    "\n",
    "More than 2 multiplications are required for the case `[-,+] * [-,+]` as the product of the two negative lower bounds could be larger than that of the upper bounds.\n",
    "\n",
    "In all other cases only two multiplications are required as there is only one combination of products that can produce the correct result\n",
    "- e.g. `[+,+] * [+,+]` -> multiply two upper bounds and multiply two lower bounds."
   ]
  },
  {
   "cell_type": "code",
   "execution_count": 16,
   "metadata": {},
   "outputs": [],
   "source": [
    "(define (pos? x) (>= x 0))\n",
    "(define (neg? x ) (<= x 0))\n",
    "\n",
    "(define (mul-interval x y)\n",
    "  (let ((lx (lower-bound x))\n",
    "        (ux (upper-bound x))\n",
    "        (ly (lower-bound y))\n",
    "        (uy (upper-bound y)))\n",
    "    (cond ((and (pos? lx)\n",
    "                (pos? ux)\n",
    "                (pos? ly)\n",
    "                (pos? uy))\n",
    "           ;; [+, +] * [+, +]\n",
    "           (make-interval (* lx ly) (* ux uy)))\n",
    "          ((and (pos? lx)\n",
    "                (pos? ux)\n",
    "                (neg? ly)\n",
    "                (pos? uy))\n",
    "           ;; [+, +] * [-, +]\n",
    "           (make-interval (* ux lx) (* ux uy)))\n",
    "          ((and (pos? lx)\n",
    "                (pos? ux)\n",
    "                (neg? ly)\n",
    "                (neg? uy))\n",
    "           ;; [+, +] * [-, -]\n",
    "           (make-interval (* ux lx) (* lx uy)))\n",
    "          ((and (neg? lx)\n",
    "                (pos? ux)\n",
    "                (pos? ly)\n",
    "                (pos? uy))\n",
    "           ;; [-, +] * [+, +]\n",
    "           (make-interval (* lx uy) (* ux uy)))\n",
    "          ((and (neg? lx)\n",
    "                (pos? ux)\n",
    "                (neg? ly)\n",
    "                (pos? uy))\n",
    "           ;; [-, +] * [-, +]\n",
    "           (make-interval (min (* ux ly) (* lx uy))\n",
    "                          (max (* lx ly) (* ux uy))))\n",
    "          ((and (neg? lx)\n",
    "                (pos? ux)\n",
    "                (neg? ly)\n",
    "                (neg? uy))\n",
    "           ;; [-, +] * [-, -]\n",
    "           (make-interval (* ux ly) (* lx ly)))\n",
    "          ((and (neg? lx)\n",
    "                (neg? ux)\n",
    "                (pos? ly)\n",
    "                (pos? uy))\n",
    "           ;; [-, -] * [+, +]\n",
    "           (make-interval (* lx ux) (* ux ly)))\n",
    "          ((and (neg? lx)\n",
    "                (neg? ux)\n",
    "                (neg? ly)\n",
    "                (pos? uy))\n",
    "           ;; [-, -] * [-, +]\n",
    "           (make-interval (* lx ux) (* lx ly)))\n",
    "          ((and (neg? lx)\n",
    "                (neg? ux)\n",
    "                (neg? ly)\n",
    "                (neg? uy))\n",
    "           ;; [-, -] * [-, -]\n",
    "           (make-interval (* ux uy) (* lx ly))))))"
   ]
  },
  {
   "cell_type": "code",
   "execution_count": 17,
   "metadata": {},
   "outputs": [],
   "source": [
    "(define a (make-interval 1 2))\n",
    "(define b (make-interval -1 2))\n",
    "(define c (make-interval -1 -2))"
   ]
  },
  {
   "cell_type": "code",
   "execution_count": 18,
   "metadata": {},
   "outputs": [
    {
     "data": {
      "text/plain": [
       "(1 . 4)"
      ]
     },
     "execution_count": 18,
     "metadata": {},
     "output_type": "execute_result"
    }
   ],
   "source": [
    "(mul-interval a a)"
   ]
  },
  {
   "cell_type": "code",
   "execution_count": 19,
   "metadata": {},
   "outputs": [
    {
     "data": {
      "text/plain": [
       "(2 . 4)"
      ]
     },
     "execution_count": 19,
     "metadata": {},
     "output_type": "execute_result"
    }
   ],
   "source": [
    "(mul-interval a b)"
   ]
  },
  {
   "cell_type": "code",
   "execution_count": 20,
   "metadata": {},
   "outputs": [
    {
     "data": {
      "text/plain": [
       "(2 . -1)"
      ]
     },
     "execution_count": 20,
     "metadata": {},
     "output_type": "execute_result"
    }
   ],
   "source": [
    "(mul-interval a c)"
   ]
  },
  {
   "cell_type": "code",
   "execution_count": 21,
   "metadata": {},
   "outputs": [
    {
     "data": {
      "text/plain": [
       "(-2 . 4)"
      ]
     },
     "execution_count": 21,
     "metadata": {},
     "output_type": "execute_result"
    }
   ],
   "source": [
    "(mul-interval b a)"
   ]
  },
  {
   "cell_type": "code",
   "execution_count": 22,
   "metadata": {},
   "outputs": [
    {
     "data": {
      "text/plain": [
       "(-2 . 4)"
      ]
     },
     "execution_count": 22,
     "metadata": {},
     "output_type": "execute_result"
    }
   ],
   "source": [
    "(mul-interval b b)"
   ]
  },
  {
   "cell_type": "code",
   "execution_count": 23,
   "metadata": {},
   "outputs": [
    {
     "data": {
      "text/plain": [
       "(-4 . 2)"
      ]
     },
     "execution_count": 23,
     "metadata": {},
     "output_type": "execute_result"
    }
   ],
   "source": [
    "(mul-interval b c)"
   ]
  },
  {
   "cell_type": "code",
   "execution_count": 24,
   "metadata": {},
   "outputs": [
    {
     "data": {
      "text/plain": [
       "(2 . -1)"
      ]
     },
     "execution_count": 24,
     "metadata": {},
     "output_type": "execute_result"
    }
   ],
   "source": [
    "(mul-interval c a)"
   ]
  },
  {
   "cell_type": "code",
   "execution_count": 25,
   "metadata": {},
   "outputs": [
    {
     "data": {
      "text/plain": [
       "(2 . 2)"
      ]
     },
     "execution_count": 25,
     "metadata": {},
     "output_type": "execute_result"
    }
   ],
   "source": [
    "(mul-interval c b)"
   ]
  },
  {
   "cell_type": "code",
   "execution_count": 65,
   "metadata": {},
   "outputs": [
    {
     "data": {
      "text/plain": [
       "(1 . 4)"
      ]
     },
     "execution_count": 65,
     "metadata": {},
     "output_type": "execute_result"
    }
   ],
   "source": [
    "(mul-interval c c)"
   ]
  },
  {
   "cell_type": "markdown",
   "metadata": {},
   "source": [
    "## 2.12"
   ]
  },
  {
   "cell_type": "code",
   "execution_count": 27,
   "metadata": {},
   "outputs": [],
   "source": [
    ";; definitions given in question\n",
    "(define (make-center-width c w)\n",
    "  (make-interval (- c w) (+ c w)))\n",
    "\n",
    "(define (center i)\n",
    "  (/ (+ (lower-bound i)\n",
    "        (upper-bound i))\n",
    "     2))\n",
    "\n",
    "(define (width i)\n",
    "  (/ (- (upper-bound i)\n",
    "        (lower-bound i))\n",
    "     2))"
   ]
  },
  {
   "cell_type": "code",
   "execution_count": 62,
   "metadata": {},
   "outputs": [],
   "source": [
    ";; using make-interval directly\n",
    "(define (make-center-percent c tolerance)\n",
    "  (let ((unc (* (/ c 100) tolerance)))\n",
    "    (make-interval (- c unc) (+ c unc))))\n",
    "\n",
    ";; using provided make-center-width\n",
    "(define (make-center-percent c tolerance)\n",
    "  (make-center-width c (* (/ c 100) tolerance)))\n",
    "\n",
    "(define (percent i)\n",
    "  (* (/ (width i) (center i)) 100.0))"
   ]
  },
  {
   "cell_type": "code",
   "execution_count": 63,
   "metadata": {},
   "outputs": [
    {
     "data": {
      "text/plain": [
       "(15/2 . 25/2)"
      ]
     },
     "execution_count": 63,
     "metadata": {},
     "output_type": "execute_result"
    }
   ],
   "source": [
    "(define i (make-center-percent 10 25))\n",
    "i"
   ]
  },
  {
   "cell_type": "code",
   "execution_count": 64,
   "metadata": {},
   "outputs": [
    {
     "data": {
      "text/plain": [
       "10"
      ]
     },
     "execution_count": 64,
     "metadata": {},
     "output_type": "execute_result"
    }
   ],
   "source": [
    "(center i)"
   ]
  },
  {
   "cell_type": "code",
   "execution_count": 65,
   "metadata": {},
   "outputs": [
    {
     "data": {
      "text/plain": [
       "25.0"
      ]
     },
     "execution_count": 65,
     "metadata": {},
     "output_type": "execute_result"
    }
   ],
   "source": [
    "(percent i)"
   ]
  },
  {
   "cell_type": "markdown",
   "metadata": {},
   "source": [
    "## 2.13\n",
    "\n",
    "Interval multiplication:\n",
    "\n",
    "$[a,b]\\cdot[c,d] = [\\min(ac,ad,bc,bd), \\max(ac,ad,bc,bd)]$\n",
    "\n",
    "Assuming all values are positive:\n",
    "\n",
    "$[a,b]\\cdot[c,d] = [ac, bd]$\n",
    "\n",
    "Interval represented by its center $c_i$ and tolerance percentage $p_i$ :\n",
    "\n",
    "$i = [c_i-\\frac{c_i\\cdot p_i}{100},c_i+\\frac{c_i\\cdot p_i}{100}]$\n",
    "\n",
    "$= [c_i\\frac{1-p_i}{100},c_i\\frac{1+p_i}{100}]$\n",
    "\n",
    "Multiplying two intervals $i,j$:\n",
    "\n",
    "$ij=[c_i\\frac{1-p_i}{100},c_i\\frac{1+p_i}{100}]\\cdot[c_j\\frac{1-p_j}{100},c_j\\frac{1+p_j}{100}]$\n",
    "\n",
    "$=[c_i\\frac{1-p_i}{100}\\cdot c_j\\frac{1-p_j}{100}, c_i\\frac{1+p_i}{100}\\cdot c_j\\frac{1+p_j}{100}]$\n",
    "\n",
    "$=[c_ic_j(1-\\frac{p_i+p_j}{100}+\\frac{p_ip_j}{10000}), c_ic_j(1+\\frac{p_i+p_j}{100}+\\frac{p_ip_j}{10000})]$\n",
    "\n",
    "Percentage tolerances are small ->$\\frac{p_ip_j}{10000}$ terms will be small -> approximate as:\n",
    "\n",
    "$ij=[c_ic_j(1-\\frac{p_i+p_j}{100}), c_ic_j(1+\\frac{p_i+p_j}{100})]$\n",
    "\n",
    "Percentage tolerance of the product = $p_i+p_j$\n",
    "- **sum of the tolerances of the two intervals**"
   ]
  },
  {
   "cell_type": "code",
   "execution_count": 67,
   "metadata": {},
   "outputs": [
    {
     "data": {
      "text/plain": [
       "2.9994001199760048"
      ]
     },
     "execution_count": 67,
     "metadata": {},
     "output_type": "execute_result"
    }
   ],
   "source": [
    ";; test with small tolerances\n",
    "(define i (make-center-percent 100 2))\n",
    "(define j (make-center-percent 80 1))\n",
    "\n",
    "(define ij (mul-interval i j))\n",
    ";; approximately 2+1=3\n",
    "(percent ij)"
   ]
  },
  {
   "cell_type": "markdown",
   "metadata": {},
   "source": [
    "## 2.14"
   ]
  },
  {
   "cell_type": "code",
   "execution_count": 68,
   "metadata": {},
   "outputs": [],
   "source": [
    ";; procedures from question\n",
    "(define (par1 r1 r2)\n",
    "  (div-interval\n",
    "   (mul-interval r1 r2)\n",
    "   (add-interval r1 r2)))\n",
    "\n",
    "(define (par2 r1 r2)\n",
    "  (let ((one (make-interval 1 1)))\n",
    "    (div-interval\n",
    "     one\n",
    "     (add-interval \n",
    "      (div-interval one r1)\n",
    "      (div-interval one r2)))))"
   ]
  },
  {
   "cell_type": "code",
   "execution_count": 85,
   "metadata": {},
   "outputs": [
    {
     "data": {
      "text/plain": [
       "(61.928338762214985 . 71.71331058020478)"
      ]
     },
     "execution_count": 85,
     "metadata": {},
     "output_type": "execute_result"
    }
   ],
   "source": [
    ";; demonstrate different results between par1 and par2\n",
    "(define A (make-center-percent 100 3))\n",
    "(define B (make-center-percent 200 2))\n",
    "\n",
    "(par1 A B)"
   ]
  },
  {
   "cell_type": "code",
   "execution_count": 86,
   "metadata": {},
   "outputs": [
    {
     "data": {
      "text/plain": [
       "(64.88737201365187 . 68.44299674267101)"
      ]
     },
     "execution_count": 86,
     "metadata": {},
     "output_type": "execute_result"
    }
   ],
   "source": [
    "(par2 A B)"
   ]
  },
  {
   "cell_type": "code",
   "execution_count": 87,
   "metadata": {},
   "outputs": [
    {
     "data": {
      "text/plain": [
       "1.0018016214593133"
      ]
     },
     "execution_count": 87,
     "metadata": {},
     "output_type": "execute_result"
    }
   ],
   "source": [
    ";; investigate behaviour with arithmetic expressions\n",
    "(define A/A (div-interval A A))\n",
    "(define A/B (div-interval A B))\n",
    "\n",
    "(center A/A)"
   ]
  },
  {
   "cell_type": "code",
   "execution_count": 88,
   "metadata": {},
   "outputs": [
    {
     "data": {
      "text/plain": [
       "5.994604855629938"
      ]
     },
     "execution_count": 88,
     "metadata": {},
     "output_type": "execute_result"
    }
   ],
   "source": [
    "(percent A/A)"
   ]
  },
  {
   "cell_type": "code",
   "execution_count": 89,
   "metadata": {},
   "outputs": [
    {
     "data": {
      "text/plain": [
       "0.500500200080032"
      ]
     },
     "execution_count": 89,
     "metadata": {},
     "output_type": "execute_result"
    }
   ],
   "source": [
    "(center A/B)"
   ]
  },
  {
   "cell_type": "code",
   "execution_count": 90,
   "metadata": {},
   "outputs": [
    {
     "data": {
      "text/plain": [
       "4.997001798920647"
      ]
     },
     "execution_count": 90,
     "metadata": {},
     "output_type": "execute_result"
    }
   ],
   "source": [
    "(percent A/B)"
   ]
  },
  {
   "cell_type": "markdown",
   "metadata": {},
   "source": [
    "The expected center of dividing an interval by itself is 1, however in the investigation above, `(center A/A)` returns `1.0018016214593133` - an approximation to 1."
   ]
  }
 ],
 "metadata": {
  "kernelspec": {
   "display_name": "Calysto Scheme 3",
   "language": "scheme",
   "name": "calysto_scheme"
  },
  "language_info": {
   "codemirror_mode": {
    "name": "scheme"
   },
   "mimetype": "text/x-scheme",
   "name": "scheme",
   "pygments_lexer": "scheme"
  }
 },
 "nbformat": 4,
 "nbformat_minor": 2
}
