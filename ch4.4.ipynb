{
 "cells": [
  {
   "cell_type": "markdown",
   "metadata": {},
   "source": [
    "# 4.4.4 Implementing the Query System\n",
    "\n",
    "Section placed first so query system can be used in 4.4.1-3 exercises\n",
    "\n",
    "### Supporting Code from Previous Chapters\n",
    "\n",
    "#### Table Data Structure from Chapter 3"
   ]
  },
  {
   "cell_type": "code",
   "execution_count": 3,
   "metadata": {},
   "outputs": [],
   "source": [
    "(define (assoc key records)\n",
    "  (cond ((null? records) #f)\n",
    "\t((equal? key (caar records)) (car records))\n",
    "\t(else\n",
    "\t    (assoc key (cdr records)))))\n",
    "\n",
    "(define (make-table)\n",
    "  (let ((local-table (list '*table*)))\n",
    "    (define (lookup key-1 key-2)\n",
    "      (let ((subtable (assoc key-1 (cdr local-table))))\n",
    "        (if subtable\n",
    "            (let ((record (assoc key-2 (cdr subtable))))\n",
    "              (if record\n",
    "                  (cdr record)\n",
    "                  #f))\n",
    "            #f)))\n",
    "    (define (insert! key-1 key-2 value)\n",
    "      (let ((subtable (assoc key-1 (cdr local-table))))\n",
    "        (if subtable\n",
    "            (let ((record (assoc key-2 (cdr subtable))))\n",
    "              (if record\n",
    "                  (set-cdr! record value)\n",
    "                  (set-cdr! subtable\n",
    "                            (cons (cons key-2 value)\n",
    "                                  (cdr subtable)))))\n",
    "            (set-cdr! local-table\n",
    "                      (cons (list key-1\n",
    "                                  (cons key-2 value))\n",
    "                            (cdr local-table)))))\n",
    "      'ok)    \n",
    "    (define (dispatch m)\n",
    "      (cond ((eq? m 'lookup-proc) lookup)\n",
    "            ((eq? m 'insert-proc!) insert!)\n",
    "            (else (error \"Unknown operation -- TABLE\" m))))\n",
    "    dispatch))"
   ]
  },
  {
   "cell_type": "markdown",
   "metadata": {},
   "source": [
    "#### Stream Implementation from Chapter 3"
   ]
  },
  {
   "cell_type": "code",
   "execution_count": 4,
   "metadata": {},
   "outputs": [],
   "source": [
    "; define as macros to override Schemes eager evalutation\n",
    "(define-syntax delay\n",
    "               [(delay ?exp) (memo-proc (lambda() ?exp))])\n",
    "(define-syntax cons-stream\n",
    "               [(cons-stream ?a ?b) (cons ?a (delay ?b))])\n",
    "\n",
    "(define the-empty-stream '())\n",
    "\n",
    "(define (stream-null? s)\n",
    "  (eq? s the-empty-stream))\n",
    "(define (stream-car stream)\n",
    "  (car stream))\n",
    "(define (stream-cdr stream)\n",
    "  (force (cdr stream)))\n",
    "(define (list->stream lst)\n",
    "  (accumulate (lambda (a b)\n",
    "                ;; wrap in lambda as cons-stream is a macro\n",
    "                ;; -> cannot pass directly as first class function\n",
    "                (cons-stream a b))\n",
    "              the-empty-stream lst))\n",
    "\n",
    "(define (stream-append s1 s2)\n",
    "  (if (stream-null? s1)\n",
    "      s2\n",
    "      (cons-stream\n",
    "       (stream-car s1)\n",
    "       (stream-append (stream-cdr s1) s2))))\n",
    "\n",
    "(define (stream-ref s n)\n",
    "  (if (= n 0)\n",
    "      (stream-car s)\n",
    "      (stream-ref (stream-cdr s) (- n 1))))\n",
    "\n",
    "(define (stream-map proc s)\n",
    "  (if (stream-null? s)\n",
    "      the-empty-stream\n",
    "      (cons-stream\n",
    "       (proc (stream-car s))\n",
    "       (stream-map proc (stream-cdr s)))))\n",
    "\n",
    "(define (stream-for-each proc s)\n",
    "  (if (stream-null? s)\n",
    "      'done\n",
    "      (begin\n",
    "       (proc (stream-car s))\n",
    "       (stream-for-each proc\n",
    "                        (stream-cdr s)))))\n",
    "\n",
    "(define (stream-filter pred stream)\n",
    "  (cond ((stream-null? stream)\n",
    "         the-empty-stream)\n",
    "        ((pred (stream-car stream))\n",
    "         (cons-stream\n",
    "          (stream-car stream)\n",
    "          (stream-filter\n",
    "           pred\n",
    "           (stream-cdr stream))))\n",
    "        (else (stream-filter\n",
    "               pred\n",
    "               (stream-cdr stream)))))\n",
    "\n",
    "(define (stream-enumerate-interval low high)\n",
    "  (if (> low high)\n",
    "      the-empty-stream\n",
    "      (cons-stream\n",
    "       low\n",
    "       (stream-enumerate-interval (+ low 1)\n",
    "                                  high))))\n",
    "\n",
    "(define (force delayed-object)\n",
    "  (delayed-object))\n",
    "\n",
    "(define (memo-proc proc)\n",
    "  (let ((already-run? #f)\n",
    "        (result #f))\n",
    "    (lambda ()\n",
    "      (if (not already-run?)\n",
    "          (begin (set! result (proc))\n",
    "                 (set! already-run? #t)\n",
    "                 result)\n",
    "          result))))\n",
    "\n",
    "(define (display-stream s)\n",
    "  (stream-for-each display-line s))\n",
    "\n",
    "(define (display-line x)\n",
    "  (newline)\n",
    "  (display x))\n",
    "\n",
    ";; from previous chapter\n",
    "(define (accumulate op initial sequence)\n",
    "  (if (null? sequence)\n",
    "      initial\n",
    "      (op (car sequence)\n",
    "          (accumulate op\n",
    "                      initial\n",
    "                      (cdr sequence)))))\n",
    "\n",
    "(define (tagged-list? exp tag)\n",
    "  (and (pair? exp)\n",
    "       (eq? (car exp) tag)))"
   ]
  },
  {
   "cell_type": "markdown",
   "metadata": {},
   "source": [
    "### 4.4.4.1 Driver Loop and Instantiation"
   ]
  },
  {
   "cell_type": "code",
   "execution_count": 5,
   "metadata": {},
   "outputs": [],
   "source": [
    "(define user-initial-environment (current-environment))\n",
    "\n",
    "(define input-prompt  \";;; Query input:\")\n",
    "(define output-prompt \";;; Query results:\")\n",
    "\n",
    ";; TODO: READ-INPUT doesn't always work\n",
    ";; i.e. will turn (and () () ) into (if) expression\n",
    ";; may need to update Calysto Scheme (read) implementation\n",
    ";; to behave like Scheme https://www.gnu.org/software/mit-scheme/documentation/mit-scheme-ref/Input-Procedures.html\n",
    ";; Use inter-pret-query instead\n",
    "\n",
    ";; see 4.4.4.3 Patterns with dotted tails for desired behaviour\n",
    ";; calysto scheme version of read procedure returns a string\n",
    ";; whereas scheme read procedure parses the string to a scheme object (pair etc)\n",
    ";; evaluator is designed to accept scheme objects not raw strings\n",
    "(define (read-input)\n",
    "  (unparse ;; turn AST into scheme code\n",
    "   (parse-string ;; parse to calysto scheme AST\n",
    "    (read)))) ;; read user input as string\n",
    "\n",
    "(define (query-driver-loop)\n",
    "  (prompt-for-input input-prompt)\n",
    "  (let ((q (query-syntax-process (read-input))))\n",
    "    ;; expression is rule/assertion to be added to database\n",
    "    (cond ((assertion-to-be-added? q)\n",
    "           (add-rule-or-assertion!\n",
    "            (add-assertion-body q))\n",
    "           (newline)\n",
    "           (display\n",
    "            \"Assertion added to data base.\")\n",
    "           (query-driver-loop))\n",
    "          ;; expression is a query\n",
    "          (else\n",
    "           (newline)\n",
    "           (display output-prompt)\n",
    "           (display-stream\n",
    "            (stream-map\n",
    "             ;; result of evalutation = stream of frames generated\n",
    "             ;; by satisfying query w/ vars found in database\n",
    "             ;; used to form new stream of copies of original query w/ instantiated vars\n",
    "             ;; w/ values from stream of frames from evaluation\n",
    "             (lambda (frame)\n",
    "               (instantiate\n",
    "                q\n",
    "                frame\n",
    "                (lambda (v g)\n",
    "                  (contract-question-mark v))))\n",
    "             ;; eval query w/ initial frame stream of single empty frame\n",
    "             (qeval q (singleton-stream '()))))\n",
    "            (query-driver-loop))))) \n",
    "\n",
    ";; instantiate an expression\n",
    ";; -> copy and replace vars with values in a given frame\n",
    ";; -> values are also instantiated (could contain variables)\n",
    "(define (instantiate\n",
    "         exp frame unbound-var-handler)\n",
    "  (define (copy exp)\n",
    "    (cond ((var? exp)\n",
    "           (let ((binding\n",
    "                  (binding-in-frame\n",
    "                   exp frame)))\n",
    "             (if binding\n",
    "                 (copy\n",
    "                  (binding-value binding))\n",
    "                 (unbound-var-handler\n",
    "                  exp frame))))\n",
    "          ((pair? exp)\n",
    "           (cons (copy (car exp))\n",
    "                 (copy (cdr exp))))\n",
    "          (else exp)))\n",
    "    (copy exp))\n",
    "\n",
    ";; from Section 4.1\n",
    "(define (prompt-for-input string)\n",
    "  (newline) (newline) (display string) (newline))\n"
   ]
  },
  {
   "cell_type": "markdown",
   "metadata": {},
   "source": [
    "### 4.4.4.2 The Evaluator"
   ]
  },
  {
   "cell_type": "code",
   "execution_count": 6,
   "metadata": {},
   "outputs": [],
   "source": [
    "(define (qeval query frame-stream)\n",
    "  ;; identify special forms w/ data-directed dispatch on query type\n",
    "  (let ((qproc (get (type query) 'qeval)))\n",
    "    (if qproc\n",
    "        (qproc (contents query) frame-stream)\n",
    "        (simple-query query frame-stream))))\n",
    "\n",
    ";; returns stream formed by extending each input framee\n",
    ";; by all databse matches of query\n",
    "(define (simple-query query-pattern\n",
    "                      frame-stream)\n",
    "  ;; form a stream of all ways any frames in original input\n",
    "  ;; can be extended to produce a match with query-pattern\n",
    "  (stream-flatmap\n",
    "   (lambda (frame)\n",
    "     ;; make stream of all ways query-pattern\n",
    "     ;; can be satisfied consistent w/ original frame\n",
    "     (stream-append-delayed\n",
    "      ;; match pattern against all assertion in database\n",
    "      ;; -> produce stream of extended frames\n",
    "      (find-assertions query-pattern frame)\n",
    "      (delay\n",
    "       ;; apply all possible rules\n",
    "       ;; -> produce another stream of extended frames\n",
    "       (apply-rules query-pattern frame))))\n",
    "   frame-stream))\n",
    "\n",
    ";; 'and' compound query\n",
    ";; -> process frame-stream to find stream of all possible frame\n",
    ";;    extensions satisfying first query in conjunction\n",
    ";; -> recursively call conjoin on remaining queries\n",
    "(define (conjoin conjuncts frame-stream)\n",
    "  (if (empty-conjunction? conjuncts)\n",
    "      frame-stream\n",
    "      ;; process as a series combination of queries\n",
    "      (conjoin (rest-conjuncts conjuncts)\n",
    "               ;; use output frame-stream of first conjunct\n",
    "               ;; as input frame-stream to next conjunct\n",
    "               (qeval\n",
    "                (first-conjunct conjuncts)\n",
    "                frame-stream))))\n",
    "\n",
    ";; 'or' compound query\n",
    ";; -> compute possible output streams for each disjunct separately\n",
    ";; -> return merged output streams\n",
    "(define (disjoin disjuncts frame-stream)\n",
    "  (if (empty-disjunction? disjuncts)\n",
    "      the-empty-stream\n",
    "      (interleave-delayed\n",
    "       (qeval (first-disjunct disjuncts)\n",
    "              frame-stream)\n",
    "       (delay (disjoin\n",
    "               (rest-disjuncts disjuncts)\n",
    "               frame-stream)))))\n",
    "\n",
    ";; 'not' compound query\n",
    ";; -> attempt to extend each frame to satisfy query\n",
    ";; -> only include frame in output if it cannot be extended\n",
    "(define (negate operands frame-stream)\n",
    "  (stream-flatmap\n",
    "   (lambda (frame)\n",
    "     (if (stream-null?\n",
    "          (qeval (negated-query operands)\n",
    "                 (singleton-stream frame)))\n",
    "         (singleton-stream frame)\n",
    "         the-empty-stream))\n",
    "   frame-stream))\n",
    "\n",
    ";; 'lisp-value' compound query\n",
    ";; -> each frame used to instantiate variables in the pattern\n",
    ";; -> lisp predicate is applied\n",
    ";; -> frames where predicate == false are filtered out\n",
    ";; -> error if unbound pattern variables encountered\n",
    "(define (lisp-value call frame-stream)\n",
    "  (stream-flatmap\n",
    "   (lambda (frame)\n",
    "     (if (execute\n",
    "          (instantiate\n",
    "           call\n",
    "           frame\n",
    "           (lambda (v f)\n",
    "             (error\n",
    "              \"LISP-VALUE\"\n",
    "              \"Unknown pat var: ~a\"\n",
    "              v))))\n",
    "         (singleton-stream frame)\n",
    "         the-empty-stream))\n",
    "   frame-stream))\n",
    "\n",
    ";; apply lisp predicate\n",
    "(define (execute exp)\n",
    "  (apply (eval (predicate exp) ;; eval expressions to get procedure to apply\n",
    "               user-initial-environment)\n",
    "         ;; don't evaluate arguments\n",
    "         ;; -> already actual arguments\n",
    "         ;; -> not expressions to evaluate in Lisp to produce arguments\n",
    "         (args exp)))\n",
    "\n",
    ";; special form for a query that is always satisfied\n",
    ";; ignore query contents and pass through all input frames\n",
    "(define (always-true ignore frame-stream)\n",
    "  frame-stream)"
   ]
  },
  {
   "cell_type": "markdown",
   "metadata": {},
   "source": [
    "### 4.4.4.3 Finding Assertions by Pattern Matching"
   ]
  },
  {
   "cell_type": "code",
   "execution_count": 7,
   "metadata": {},
   "outputs": [],
   "source": [
    ";; returns stream of frames each extending given frame\n",
    ";; by a database match of given pattern\n",
    "(define (find-assertions pattern frame)\n",
    "  (stream-flatmap\n",
    "   (lambda (datum)\n",
    "     (check-an-assertion datum pattern frame))\n",
    "   ;; get stream of all assertions which should be checked for match\n",
    "   (fetch-assertions pattern frame)))\n",
    "\n",
    ";; successful match -> return one element stream of extended frame\n",
    ";; failed match -> return the-empty-stream\n",
    "(define (check-an-assertion\n",
    "         assertion query-pat query-frame)\n",
    "  (let ((match-result\n",
    "         (pattern-match\n",
    "          query-pat assertion query-frame)))\n",
    "    (if (eq? match-result 'failed)\n",
    "        the-empty-stream\n",
    "        (singleton-stream match-result))))\n",
    "\n",
    ";; successful match -> return extended frame\n",
    ";; failed match -> return symbol 'failed\n",
    "(define (pattern-match pat dat frame)\n",
    "  (cond ((eq? frame 'failed) 'failed)\n",
    "        ;; pattern and data object are the same\n",
    "        ;; return frame of bindings accumulated so far\n",
    "        ((equal? pat dat) frame)\n",
    "        ;; pattern is a variable\n",
    "        ;; extend current frame by binding variable to data\n",
    "        ;; so long as consistent w/ bindings already in frame\n",
    "        ((var? pat)\n",
    "         (extend-if-consistent\n",
    "          pat dat frame))\n",
    "        ;; recursively match car of pattern against car of data\n",
    "        ;; to produce a frame\n",
    "        ;; -> match cdr of pattern against cdr of data in this frame\n",
    "        ((and (pair? pat)\n",
    "              (pair? dat))\n",
    "         (pattern-match\n",
    "          (cdr pat)\n",
    "          (cdr dat)\n",
    "          (pattern-match\n",
    "           (car pat)\n",
    "           (car dat)\n",
    "           frame)))\n",
    "        (else 'failed)))\n",
    "\n",
    ";; extend a frame by adding a new binding\n",
    ";; if consistent with existing bindings in frame\n",
    "(define (extend-if-consistent var dat frame)\n",
    "  (let ((binding (binding-in-frame var frame)))\n",
    "    (if binding\n",
    "        ;; existing binding\n",
    "        ;; -> match data against value of variable in frame\n",
    "        ;; if stored value contains only constants\n",
    "        ;; -> match tests whether stored and new values are the same\n",
    "        ;; -> if same, returns unmodified frame, else failure\n",
    "        ;; recursive call will add/check bindings for vars in the pattern\n",
    "        ;; -> vars could be bound to other vars\n",
    "        (pattern-match\n",
    "         (binding-value binding) dat frame)\n",
    "        ;; no existing binding \n",
    "        ;; -> add binding of var to data\n",
    "        (extend var dat frame))))"
   ]
  },
  {
   "cell_type": "markdown",
   "metadata": {},
   "source": [
    "### 4.4.4.4 Rules and Unification"
   ]
  },
  {
   "cell_type": "code",
   "execution_count": 8,
   "metadata": {},
   "outputs": [],
   "source": [
    ";; return stream of extension frames by applying rules from database\n",
    "(define (apply-rules pattern frame)\n",
    "  (stream-flatmap\n",
    "   (lambda (rule)\n",
    "     (apply-a-rule rule pattern frame))\n",
    "   ;; get possibly applicable rules\n",
    "   (fetch-rules pattern frame)))\n",
    "\n",
    ";; try to augment argument frame by unifying rule conclusion w/ query pattern\n",
    ";; success -> evaluate rule body in new frame\n",
    ";; fail -> return the-empty-stream\n",
    "(define (apply-a-rule rule\n",
    "                      query-pattern\n",
    "                      query-frame)\n",
    "  ;; rename all variables in rule to have unique names\n",
    "  ;; -> prevent vars for different rule applications \n",
    "  ;;    becoming confused /w each other\n",
    "  (let ((clean-rule\n",
    "         (rename-variables-in rule)))\n",
    "    (let ((unify-result\n",
    "           (unify-match query-pattern\n",
    "                        (conclusion clean-rule)\n",
    "                        query-frame)))\n",
    "      (if (eq? unify-result 'failed)\n",
    "          the-empty-stream\n",
    "          (qeval (rule-body clean-rule)\n",
    "                 (singleton-stream\n",
    "                  unify-result))))))\n",
    "\n",
    ";; rename all variables in a rule to be unique\n",
    ";; -> associate a unique id w/ each rule application\n",
    ";; -> combine id with original var names\n",
    "(define (rename-variables-in rule)\n",
    "  (let ((rule-application-id\n",
    "         (new-rule-application-id)))\n",
    "    (define (tree-walk exp)\n",
    "      (cond ((var? exp)\n",
    "             (make-new-variable\n",
    "              exp\n",
    "              rule-application-id))\n",
    "            ((pair? exp)\n",
    "             (cons (tree-walk (car exp))\n",
    "                   (tree-walk (cdr exp))))\n",
    "            (else exp)))\n",
    "    (tree-walk rule)))\n",
    "\n",
    ";; unfication successful -> return extended frame\n",
    ";; unification failed -> return symbol 'failed\n",
    "(define (unify-match p1 p2 frame)\n",
    "  (cond ((eq? frame 'failed) 'failed)\n",
    "        ((equal? p1 p2) frame)\n",
    "        ;; symmetrical -> allow vars on both side of the match\n",
    "        ((var? p1)\n",
    "         (extend-if-possible p1 p2 frame))\n",
    "        ((var? p2)\n",
    "         (extend-if-possible p2 p1 frame))\n",
    "        ((and (pair? p1)\n",
    "              (pair? p2))\n",
    "         (unify-match\n",
    "          (cdr p1)\n",
    "          (cdr p2)\n",
    "          (unify-match\n",
    "           (car p1)\n",
    "           (car p2)\n",
    "           frame)))\n",
    "        (else 'failed)))\n",
    "\n",
    ";; extend a frame by adding a new binding\n",
    ";; if consistent in unification\n",
    "(define (extend-if-possible var val frame)\n",
    "  (let ((binding (binding-in-frame var frame)))\n",
    "    (cond (binding\n",
    "           (unify-match\n",
    "            (binding-value binding) val frame))\n",
    "          ;; variable trying to match is not bound and\n",
    "          ;; value trying to match is itself a variable\n",
    "          ((var? val)\n",
    "           (let ((binding\n",
    "                  (binding-in-frame\n",
    "                   val\n",
    "                   frame)))\n",
    "             (if binding\n",
    "                 ;; value variable is bound\n",
    "                 ;; -> match it's value\n",
    "                 (unify-match\n",
    "                  var\n",
    "                  (binding-value binding)\n",
    "                  frame)\n",
    "                 ;; both parties to match are unbound\n",
    "                 ;; -> bind either to other\n",
    "                 (extend var val frame))))\n",
    "          ;; reject attempts to bind a variable to a pattern that includes that variable\n",
    "          ;; binding a variable to itself is OK\n",
    "          ;; -> handled by equal? clause in unify-match\n",
    "          ((depends-on? val var frame)\n",
    "           'failed)\n",
    "          (else (extend var val frame)))))\n",
    "\n",
    ";; predicate to test whether an expression proposed to be\n",
    ";; the value of a pattern variable depends on that variable\n",
    ";; -> relative to current frame\n",
    ";; -> expression may contain occurrences of a variable that already\n",
    ";;    has a value depending on the test variable\n",
    "(define (depends-on? exp var frame)\n",
    "  (define (tree-walk e)\n",
    "    (cond ((var? e)\n",
    "           (if (equal? var e)\n",
    "               ;; variable is expression -> depends\n",
    "               #t\n",
    "               (let \n",
    "                 ((b (binding-in-frame\n",
    "                      e\n",
    "                      frame)))\n",
    "                 (if b\n",
    "                     ;; expression is bound to variable\n",
    "                     ;; -> test value\n",
    "                     (tree-walk\n",
    "                      (binding-value b))\n",
    "                     ;; expression unbound -> does not depend\n",
    "                     #f))))\n",
    "          ((pair? e)\n",
    "           (or (tree-walk (car e))\n",
    "               (tree-walk (cdr e))))\n",
    "          (else #f)))\n",
    "  (tree-walk exp))"
   ]
  },
  {
   "cell_type": "markdown",
   "metadata": {},
   "source": [
    "### 4.4.4.5 Maintaining the Database"
   ]
  },
  {
   "cell_type": "code",
   "execution_count": 47,
   "metadata": {},
   "outputs": [],
   "source": [
    "(define THE-ASSERTIONS the-empty-stream)\n",
    "\n",
    "(define (fetch-assertions pattern frame)\n",
    "  (if (use-index? pattern)\n",
    "      (get-indexed-assertions pattern)\n",
    "      (get-all-assertions)))\n",
    "\n",
    "(define (get-all-assertions) THE-ASSERTIONS)\n",
    "\n",
    "(define (get-indexed-assertions pattern)\n",
    "  (get-stream (index-key-of pattern)\n",
    "              'assertion-stream))\n",
    "\n",
    ";; look up stream in table\n",
    ";; return the-empty-stream if not found\n",
    "(define (get-stream key1 key2)\n",
    "  (let ((s (get key1 key2)))\n",
    "    (if s s the-empty-stream)))\n",
    "\n",
    "(define THE-RULES the-empty-stream)\n",
    "\n",
    "(define (fetch-rules pattern frame)\n",
    "  (if (use-index? pattern)\n",
    "      (get-indexed-rules pattern)\n",
    "      (get-all-rules)))\n",
    "\n",
    "(define (get-all-rules) THE-RULES)\n",
    "\n",
    "(define (get-indexed-rules pattern)\n",
    "  (stream-append\n",
    "   ;; fetch patterns where car is a constant symbol\n",
    "   (get-stream (index-key-of pattern)\n",
    "               'rule-stream)\n",
    "   ;; fetch patterns where car is variable\n",
    "   (get-stream '? 'rule-stream)))\n",
    "\n",
    "\n",
    ";; add assertions and rules to database\n",
    ";; used by query-driver-loop\n",
    "(define (add-rule-or-assertion! assertion)\n",
    "  (if (rule? assertion)\n",
    "      (add-rule! assertion)\n",
    "      (add-assertion! assertion)))\n",
    "\n",
    ";; rules/assertions stored in index if appropriate\n",
    ";; and in stream of all rules/assertions\n",
    "\n",
    "(define (add-assertion! assertion)\n",
    "  (store-assertion-in-index assertion)\n",
    "  (let ((old-assertions THE-ASSERTIONS))\n",
    "    (set! THE-ASSERTIONS\n",
    "          (cons-stream assertion\n",
    "                       old-assertions))\n",
    "    'ok))\n",
    "\n",
    "(define (add-rule! rule)\n",
    "  (store-rule-in-index rule)\n",
    "  (let ((old-rules THE-RULES))\n",
    "    (set! THE-RULES\n",
    "          (cons-stream rule old-rules))\n",
    "    'ok))\n",
    "\n",
    ";; store a rule/assertion\n",
    ";; -> check if can be indexed\n",
    ";; -> if so, store in appropriate rule/assertion stream\n",
    ";; -> else no-op\n",
    "\n",
    "(define (store-assertion-in-index assertion)\n",
    "  (if (indexable? assertion)\n",
    "      (let ((key (index-key-of assertion)))\n",
    "        (let ((current-assertion-stream\n",
    "               (get-stream\n",
    "                key 'assertion-stream)))\n",
    "          (put key\n",
    "               'assertion-stream\n",
    "               (cons-stream\n",
    "                assertion\n",
    "                current-assertion-stream))))))\n",
    "\n",
    "(define (store-rule-in-index rule)\n",
    "  (let ((pattern (conclusion rule)))\n",
    "    (if (indexable? pattern)\n",
    "        (let ((key (index-key-of pattern)))\n",
    "          (let ((current-rule-stream\n",
    "                 (get-stream \n",
    "                  key 'rule-stream)))\n",
    "            (put key\n",
    "                 'rule-stream\n",
    "                 (cons-stream \n",
    "                  rule\n",
    "                  current-rule-stream)))))))\n",
    "\n",
    ";; pattern stored in table if starts w/ variable or constant symbol\n",
    "(define (indexable? pat)\n",
    "  (or (constant-symbol? (car pat))\n",
    "      (var? (car pat))))\n",
    "\n",
    ";; key to store a pattern\n",
    ";; -> ? if pattern start w/ variabl\n",
    ";; -> else constant symbol with which pattern starts\n",
    "(define (index-key-of pat)\n",
    "  (let ((key (car pat)))\n",
    "    (if (var? key) '? key)))\n",
    "\n",
    ";; index will be used to retrieve items\n",
    ";; matching a pattern if pattern starts w/ constant symbol\n",
    "(define (use-index? pat)\n",
    "  (constant-symbol? (car pat)))\n",
    "\n",
    "\n",
    ";; from instructors manual\n",
    "\n",
    "(define get '())\n",
    "(define put '())\n",
    "\n",
    "(define (initialize-data-base rules-and-assertions)\n",
    "  (define (deal-out r-and-a rules assertions)\n",
    "    (cond ((null? r-and-a)\n",
    "           (set! THE-ASSERTIONS (list->stream assertions))\n",
    "           (set! THE-RULES (list->stream rules))\n",
    "           (void))\n",
    "          (else\n",
    "           (let ((s (query-syntax-process (car r-and-a))))\n",
    "             (cond ((rule? s)\n",
    "                    (store-rule-in-index s)\n",
    "                    (deal-out (cdr r-and-a)\n",
    "                              (cons s rules)\n",
    "                              assertions))\n",
    "                   (else\n",
    "                    (store-assertion-in-index s)\n",
    "                    (deal-out (cdr r-and-a)\n",
    "                              rules\n",
    "                              (cons s assertions))))))))\n",
    "  (let ((operation-table (make-table)))\n",
    "    (set! get (operation-table 'lookup-proc))\n",
    "    (set! put (operation-table 'insert-proc!)))\n",
    "  (put 'and 'qeval conjoin)\n",
    "  (put 'and2 'qeval conjoin2)\n",
    "  (put 'or 'qeval disjoin)\n",
    "  (put 'not 'qeval negate)\n",
    "  (put 'lisp-value 'qeval lisp-value)\n",
    "  (put 'always-true 'qeval always-true)\n",
    "  (put 'unique 'qeval uniquely-asserted) ;; ex 4.75\n",
    "  (deal-out rules-and-assertions '() '()))\n",
    "\n",
    ";; from section 4.4.1\n",
    "(define microshaft-database\n",
    "  '((address (Bitdiddle Ben) (Slumerville (Ridge Road) 10))\n",
    "    (job (Bitdiddle Ben) (computer wizard))\n",
    "    (salary (Bitdiddle Ben) 60000)\n",
    "    \n",
    "    (address (Hacker Alyssa P) (Cambridge (Mass Ave) 78))\n",
    "    (job (Hacker Alyssa P) (computer programmer))\n",
    "    (salary (Hacker Alyssa P) 40000)\n",
    "    (supervisor (Hacker Alyssa P) (Bitdiddle Ben))\n",
    "\n",
    "    (address (Fect Cy D) (Cambridge (Ames Street) 3))\n",
    "    (job (Fect Cy D) (computer programmer))\n",
    "    (salary (Fect Cy D) 35000)\n",
    "    (supervisor (Fect Cy D) (Bitdiddle Ben))\n",
    "\n",
    "    (address (Tweakit Lem E) (Boston (Bay State Road) 22))\n",
    "    (job (Tweakit Lem E) (computer technician))\n",
    "    (salary (Tweakit Lem E) 25000)\n",
    "    (supervisor (Tweakit Lem E) (Bitdiddle Ben))\n",
    "\n",
    "    (address (Reasoner Louis) (Slumerville (Pine Tree Road) 80))\n",
    "    (job (Reasoner Louis) (computer programmer trainee))\n",
    "    (salary (Reasoner Louis) 30000)\n",
    "    (supervisor (Reasoner Louis) (Hacker Alyssa P))\n",
    "\n",
    "    (supervisor (Bitdiddle Ben) (Warbucks Oliver))\n",
    "\n",
    "    (address (Warbucks Oliver) (Swellesley (Top Heap Road)))\n",
    "    (job (Warbucks Oliver) (administration big wheel))\n",
    "    (salary (Warbucks Oliver) 150000)\n",
    "\n",
    "    (address (Scrooge Eben) (Weston (Shady Lane) 10))\n",
    "    (job (Scrooge Eben) (accounting chief accountant))\n",
    "    (salary (Scrooge Eben) 75000)\n",
    "    (supervisor (Scrooge Eben) (Warbucks Oliver))\n",
    "\n",
    "    (address (Cratchet Robert) (Allston (N Harvard Street) 16))\n",
    "    (job (Cratchet Robert) (accounting scrivener))\n",
    "    (salary (Cratchet Robert) 18000)\n",
    "    (supervisor (Cratchet Robert) (Scrooge Eben))\n",
    "\n",
    "    (address (Aull DeWitt) (Slumerville (Onion Square) 5))\n",
    "    (job (Aull DeWitt) (administration secretary))\n",
    "    (salary (Aull DeWitt) 25000)\n",
    "    (supervisor (Aull DeWitt) (Warbucks Oliver))\n",
    "\n",
    "    (can-do-job (computer wizard) (computer programmer))\n",
    "    (can-do-job (computer wizard) (computer technician))\n",
    "\n",
    "    (can-do-job (computer programmer)\n",
    "                (computer programmer trainee))\n",
    "\n",
    "    (can-do-job (administration secretary)\n",
    "                (administration big wheel))\n",
    "\n",
    "    (rule (lives-near ?person-1 ?person-2)\n",
    "          (and (address ?person-1 (?town . ?rest-1))\n",
    "               (address ?person-2 (?town . ?rest-2))\n",
    "               (not (same ?person-1 ?person-2))))\n",
    "\n",
    "    (rule (same ?x ?x))\n",
    "\n",
    "    (rule (wheel ?person)\n",
    "          (and (supervisor ?middle-manager ?person)\n",
    "               (supervisor ?x ?middle-manager)))\n",
    "\n",
    "    (rule (outranked-by ?staff-person ?boss)\n",
    "          (or (supervisor ?staff-person ?boss)\n",
    "              (and (supervisor ?staff-person ?middle-manager)\n",
    "                   (outranked-by ?middle-manager ?boss))))))\n",
    "\n",
    ";; reinit the database using microshaft-database\n",
    ";; call from Scheme not driver loop\n",
    "(define (setup-database)\n",
    "  (initialize-data-base microshaft-database))\n",
    "\n",
    "(define (make-database rules-and-assertions)\n",
    "  (initialize-data-base rules-and-assertions))\n",
    "\n",
    "(setup-database)"
   ]
  },
  {
   "cell_type": "markdown",
   "metadata": {},
   "source": [
    "## 4.70\n",
    "\n",
    "The second argument to `cons-stream` is lazy and is therefore not evaluated when `const-stream` is called. The `let` is required to force the evaluation of `THE-ASSERTIONS`, assigning it's value to the variable `old-assertions`. In the definition in the question, `THE-ASSERTIONS` in `cons-stream` would point to itself and no changes would be made:\n",
    "\n",
    "```scheme\n",
    "(define (add-assertion! assertion)\n",
    "  (store-assertion-in-index assertion)\n",
    "  (set! THE-ASSERTIONS\n",
    "        (cons-stream assertion \n",
    "                     THE-ASSERTIONS)) ;; not evaluated -> set! has no effect\n",
    "  'ok)\n",
    "```\n",
    "\n",
    "### 4.4.4.6 Stream Operations"
   ]
  },
  {
   "cell_type": "code",
   "execution_count": 10,
   "metadata": {},
   "outputs": [],
   "source": [
    ";; append delayed stream to a stream\n",
    "(define (stream-append-delayed s1 delayed-s2)\n",
    "  (if (stream-null? s1)\n",
    "      (force delayed-s2)\n",
    "      (cons-stream\n",
    "       (stream-car s1)\n",
    "       (stream-append-delayed (stream-cdr s1)\n",
    "                              delayed-s2))))\n",
    "\n",
    ";; interleave a delayed stream with a stream\n",
    "(define (interleave-delayed s1 delayed-s2)\n",
    "  (if (stream-null? s1)\n",
    "      (force delayed-s2)\n",
    "      (cons-stream\n",
    "       (stream-car s1)\n",
    "       (interleave-delayed\n",
    "        (force delayed-s2)\n",
    "        (delay (stream-cdr s1))))))\n",
    "\n",
    ";; map a procedure over a stream of frames\n",
    ";; combine resulting stream of frames\n",
    "(define (stream-flatmap proc s)\n",
    "  (flatten-stream (stream-map proc s)))\n",
    "\n",
    "(define (flatten-stream stream)\n",
    "  (if (stream-null? stream)\n",
    "      the-empty-stream\n",
    "      (interleave-delayed\n",
    "       (stream-car stream)\n",
    "       (delay (flatten-stream\n",
    "               (stream-cdr stream))))))\n",
    "\n",
    ";; generate single-element stream\n",
    "(define (singleton-stream x)\n",
    "  (cons-stream x the-empty-stream))"
   ]
  },
  {
   "cell_type": "markdown",
   "metadata": {},
   "source": [
    "### 4.4.4.7 Query Syntax Procedures"
   ]
  },
  {
   "cell_type": "code",
   "execution_count": 11,
   "metadata": {},
   "outputs": [],
   "source": [
    ";; specify that a special form is identified by symbol in its car\n",
    "(define (type exp)\n",
    "  (if (pair? exp)\n",
    "      (car exp)\n",
    "      (error \"TYPE\"\n",
    "             \"unknown expression ~a\"\n",
    "             exp)))\n",
    "(define (contents exp)\n",
    "  (if (pair? exp)\n",
    "      (cdr exp)\n",
    "      (error \"CONTENTS\"\n",
    "             \"unknown expression ~a\"\n",
    "             exp)))\n",
    "\n",
    ";; specify that rules and assertions are added to database\n",
    ";; by expressions of form (assert! <rule-or-assertion>)\n",
    "(define (assertion-to-be-added? exp)\n",
    "  (eq? (type exp) 'assert!))\n",
    "(define (add-assertion-body exp)\n",
    "  (car (contents exp)))\n",
    "\n",
    ";; syntax definitions for and, or, not and lisp-value special forms\n",
    "(define (empty-conjunction? exps) (null? exps))\n",
    "(define (first-conjunct exps) (car exps))\n",
    "(define (rest-conjuncts exps) (cdr exps))\n",
    "(define (empty-disjunction? exps) (null? exps))\n",
    "(define (first-disjunct exps) (car exps))\n",
    "(define (rest-disjuncts exps) (cdr exps))\n",
    "(define (negated-query exps) (car exps))\n",
    "(define (predicate exps) (car exps))\n",
    "(define (args exps) (cdr exps))\n",
    "\n",
    ";; rule syntax\n",
    "(define (rule? statement)\n",
    "  (tagged-list? statement 'rule))\n",
    "(define (conclusion rule)\n",
    "  (cadr rule))\n",
    "(define (rule-body rule)\n",
    "  (if (null? (cddr rule))\n",
    "      '(always-true)\n",
    "      (caddr rule)))\n",
    "\n",
    ";; transform pattern variables of form ?symbol into internal format (? symbol)\n",
    ";; -> (job ?x ?y) -> (job (? x) (? y))\n",
    ";; increase efficiency when determining if expression is a pattern variable\n",
    ";; -> just check car of expression instead of extracting characters from symbol\n",
    "(define (query-syntax-process exp)\n",
    "  (map-over-symbols expand-question-mark exp))\n",
    "\n",
    "(define (map-over-symbols proc exp)\n",
    "  (cond ((pair? exp)\n",
    "         (cons (map-over-symbols\n",
    "                proc\n",
    "                (car exp))\n",
    "               (map-over-symbols\n",
    "                proc\n",
    "                (cdr exp))))\n",
    "        ((symbol? exp) (proc exp))\n",
    "        (else exp)))\n",
    "\n",
    ";; transform variable from input format to internal format\n",
    ";; -> ?x -> (? x)\n",
    "(define (expand-question-mark symbol)\n",
    "  (let ((chars (symbol->string symbol)))\n",
    "    (if (string=? (substring chars 0 1) \"?\")\n",
    "        (list '? (string->symbol\n",
    "                  (substring\n",
    "                   chars\n",
    "                   1\n",
    "                   (string-length chars))))\n",
    "        symbol)))\n",
    "\n",
    ";; transform variable from internal format back to input format\n",
    ";; ->  (? x) -> ?x \n",
    "(define (contract-question-mark variable)\n",
    "  (string->symbol\n",
    "   (string-append \"?\"\n",
    "                  (if (number? (cadr variable))\n",
    "                      (string-append\n",
    "                       (symbol->string (caddr variable))\n",
    "                      \"-\"\n",
    "                       (number->string (cadr variable)))\n",
    "                      (symbol->string (cadr variable))))))\n",
    "\n",
    "(define (var? exp)\n",
    "  (tagged-list? exp '?))\n",
    "(define (constant-symbol? exp)\n",
    "  (symbol? exp))\n",
    "\n",
    ";; generate unique identifier for variable renaming\n",
    "(define rule-counter 0)\n",
    "\n",
    "(define (new-rule-application-id)\n",
    "  (set! rule-counter (+ 1 rule-counter))\n",
    "  rule-counter)\n",
    "\n",
    "(define (make-new-variable\n",
    "         var rule-application-id)\n",
    "  (cons '? (cons rule-application-id\n",
    "                 (cdr var))))\n"
   ]
  },
  {
   "cell_type": "markdown",
   "metadata": {},
   "source": [
    "### 4.4.4.8 Frames and Bindings"
   ]
  },
  {
   "cell_type": "code",
   "execution_count": 12,
   "metadata": {},
   "outputs": [],
   "source": [
    ";; frames = list of bindings\n",
    ";; bindings = (variable value) pairs\n",
    "\n",
    "(define (make-binding variable value)\n",
    "  (cons variable value))\n",
    "\n",
    "(define (binding-variable binding)\n",
    "  (car binding))\n",
    "\n",
    "(define (binding-value binding)\n",
    "  (cdr binding))\n",
    "\n",
    "(define (binding-in-frame variable frame)\n",
    "  (assoc variable frame))\n",
    "\n",
    "(define (extend variable value frame)\n",
    "  (cons (make-binding variable value) frame))"
   ]
  },
  {
   "cell_type": "markdown",
   "metadata": {},
   "source": [
    "#### Helpers\n",
    "\n",
    "Additional helpers for testing/running queries without the driver loop"
   ]
  },
  {
   "cell_type": "code",
   "execution_count": 13,
   "metadata": {},
   "outputs": [],
   "source": [
    "(define (interpret-query query)\n",
    "  (let ((q (query-syntax-process query)))\n",
    "    (cond ((assertion-to-be-added? q)\n",
    "           (add-rule-or-assertion! (add-assertion-body q))\n",
    "           (newline)\n",
    "           (display \"Assertion added to data base.\"))\n",
    "          (else\n",
    "           (newline)\n",
    "           (display-stream\n",
    "            (stream-map\n",
    "             (lambda (frame)\n",
    "               (instantiate q\n",
    "                            frame\n",
    "                            (lambda (v f)\n",
    "                              (contract-question-mark v))))\n",
    "             (qeval q (singleton-stream '()))))))))\n",
    "\n",
    "(define (assert-multiple rules-and-assertions)\n",
    "  (for-each\n",
    "   (lambda (x)\n",
    "     (interpret-query (list 'assert! x)))\n",
    "   rules-and-assertions))"
   ]
  },
  {
   "cell_type": "markdown",
   "metadata": {},
   "source": [
    "## 4.71\n",
    "\n",
    "Using explicit `delay` operations allows query results to be output even if a set of rules leads to an infinite loop. For example, given an infinitely recursive rule such as:\n",
    "\n",
    "```scheme\n",
    ";; infinitely recursive rule\n",
    "(assert! (rule (person ?x) (person ?x)))\n",
    "\n",
    "(assert! (person (Bitdiddle Ben)))\n",
    "(assert! (person (Hacker P Alyssa)))\n",
    "(assert! (person (Reasoner Louis)))\n",
    "```\n",
    "Evaluating the rule using the explicit `delay`'s in the text will give an infinite result set:\n",
    "\n",
    "```scheme\n",
    "(person ?who)\n",
    ";; (person (Reasoner Louis))\n",
    ";; (person (Hacker P Alyssa))\n",
    ";; (person (Bitdiddle Ben))\n",
    ";; (person (Reasoner Louis))\n",
    ";; (person (Hacker P Alyssa))\n",
    ";; (person (Bitdiddle Ben))\n",
    "...\n",
    "```\n",
    "\n",
    "Without the explicit `delay`'s however, no results will ever be returned as the evaluator will attempt to find the entire set before returning any values:\n",
    "\n",
    "```scheme\n",
    "(person ?who)\n",
    ";; -> will error with a stack overflow due to infinite recursion\n",
    "```\n",
    "\n",
    "Using explicit `delay`'s at least allows results to be returned instead of crashing the program. However, it is still not ideal as the program will now be stuck returning values infinitely for the query.\n",
    "\n",
    "## 4.72\n",
    "\n",
    "`disjoin` and `stream-flatmap` interleave the streams in order to provide useful results when infinite streams are used. Without interleaving, the first of the stream arguments will be exhausted before any results from the second stream are included. If this first stream is infinite, then the second stream will never be reached.\n",
    "\n",
    "## 4.73\n",
    "\n",
    "`flatten-stream` uses an explicit `delay` for the same reasons as in exercise 4.71. If the stream were infinite, `flatten-stream` would cause a stack overflow without the `delay` as the entire `stream-cdr` will be evaluated:\n",
    "\n",
    "```scheme\n",
    "(define (flatten-stream stream)\n",
    "  (if (stream-null? stream)\n",
    "      the-empty-stream\n",
    "      (interleave (stream-car stream)\n",
    "                  (flatten-stream \n",
    "                   ;; stack overflow if infinite\n",
    "                   (stream-cdr stream)))))\n",
    "\n",
    "```\n",
    "\n",
    "## 4.74\n",
    "\n",
    "1."
   ]
  },
  {
   "cell_type": "code",
   "execution_count": 14,
   "metadata": {},
   "outputs": [],
   "source": [
    "(define (simple-stream-flatmap proc s)\n",
    "  (simple-flatten (stream-map proc s)))\n",
    "\n",
    ";; stream is always a singleton or the empty stream\n",
    "(define (simple-flatten stream)\n",
    "  (stream-map\n",
    "   stream-car\n",
    "   ;; filter out empty streams\n",
    "   (stream-filter\n",
    "    (lambda (s)\n",
    "      (not (stream-null? s)))\n",
    "    stream)))"
   ]
  },
  {
   "cell_type": "markdown",
   "metadata": {},
   "source": [
    "2. No, provided Alyssa's assertions regarding the argument to `simple-flatten` always being either a singleton or an empty stream the behaviour will be the same as with the implementation in the text.\n",
    "\n",
    "Original implementation:\n",
    "\n",
    "```scheme\n",
    "(define (flatten-stream stream)\n",
    "  (if (stream-null? stream)\n",
    "      the-empty-stream ;; a\n",
    "      (interleave (stream-car stream) ;; b\n",
    "                  (flatten-stream \n",
    "                   (stream-cdr stream)))))\n",
    "```\n",
    "\n",
    "a. If `flatten-stream` receives an empty stream as input, it will return an empty stream.\n",
    "b. If `flatten-stream` receives a singleton stream as input it will return the result of calling `interleave` with the `car` of the stream as it's first argument and the result of a recursive call to `flatten-stream` on the `cdr` of the stream as it's second. The `car` will be the single value of the stream, the recursive call to `flatten-stream` will receive an empty stream as input (`cdr` of a singleton stream) and will therefore return an empty stream as described in `a`. Producing a stream of the values in the singleton stream.\n",
    "\n",
    "## 4.75"
   ]
  },
  {
   "cell_type": "code",
   "execution_count": 15,
   "metadata": {},
   "outputs": [],
   "source": [
    "(define (singleton-stream? stream)\n",
    "  (and (not (stream-null? stream))\n",
    "       (stream-null? (stream-cdr stream))))\n",
    "\n",
    ";; installed in initialize-database under 'unique key\n",
    "(define (uniquely-asserted operands frame-stream)\n",
    "  (stream-flatmap\n",
    "   (lambda (frame)\n",
    "     ;; find stream of all extensions satisfying query\n",
    "     (let ((result (qeval (car operands)\n",
    "                          (singleton-stream frame))))\n",
    "       ;; return result stream only if unique (single element)\n",
    "       (if (singleton-stream? result)\n",
    "           result \n",
    "           the-empty-stream)))\n",
    "   frame-stream))"
   ]
  },
  {
   "cell_type": "code",
   "execution_count": 25,
   "metadata": {},
   "outputs": [
    {
     "name": "stdout",
     "output_type": "stream",
     "text": [
      "\n",
      "\n",
      "(unique (job (Bitdiddle Ben) (computer wizard)))"
     ]
    },
    {
     "data": {
      "text/plain": [
       "done"
      ]
     },
     "execution_count": 25,
     "metadata": {},
     "output_type": "execute_result"
    }
   ],
   "source": [
    "(interpret-query '(unique (job ?x (computer wizard))))"
   ]
  },
  {
   "cell_type": "code",
   "execution_count": 26,
   "metadata": {},
   "outputs": [
    {
     "name": "stdout",
     "output_type": "stream",
     "text": [
      "\n"
     ]
    },
    {
     "data": {
      "text/plain": [
       "done"
      ]
     },
     "execution_count": 26,
     "metadata": {},
     "output_type": "execute_result"
    }
   ],
   "source": [
    "(interpret-query '(unique (job ?x (computer programmer))))"
   ]
  },
  {
   "cell_type": "code",
   "execution_count": 27,
   "metadata": {},
   "outputs": [
    {
     "name": "stdout",
     "output_type": "stream",
     "text": [
      "\n",
      "\n",
      "(and (job (Aull DeWitt) (administration secretary)) (unique (job (Aull DeWitt) (administration secretary))))\n",
      "(and (job (Cratchet Robert) (accounting scrivener)) (unique (job (Cratchet Robert) (accounting scrivener))))\n",
      "(and (job (Scrooge Eben) (accounting chief accountant)) (unique (job (Scrooge Eben) (accounting chief accountant))))\n",
      "(and (job (Warbucks Oliver) (administration big wheel)) (unique (job (Warbucks Oliver) (administration big wheel))))\n",
      "(and (job (Reasoner Louis) (computer programmer trainee)) (unique (job (Reasoner Louis) (computer programmer trainee))))\n",
      "(and (job (Tweakit Lem E) (computer technician)) (unique (job (Tweakit Lem E) (computer technician))))\n",
      "(and (job (Bitdiddle Ben) (computer wizard)) (unique (job (Bitdiddle Ben) (computer wizard))))"
     ]
    },
    {
     "data": {
      "text/plain": [
       "done"
      ]
     },
     "execution_count": 27,
     "metadata": {},
     "output_type": "execute_result"
    }
   ],
   "source": [
    "(interpret-query '(and (job ?x ?j) \n",
    "                       (unique (job ?anyone ?j))))"
   ]
  },
  {
   "cell_type": "markdown",
   "metadata": {},
   "source": [
    "## 4.76"
   ]
  },
  {
   "cell_type": "code",
   "execution_count": 16,
   "metadata": {},
   "outputs": [
    {
     "name": "stdout",
     "output_type": "stream",
     "text": [
      "\n",
      "\n",
      "(and2 (job ?x ?j) (supervisor ?x (Bitdiddle Ben)))\n",
      "(and2 (job ?x ?j) (supervisor ?x (Bitdiddle Ben)))\n",
      "(and2 (job ?x ?j) (supervisor ?x (Bitdiddle Ben)))\n",
      "(and2 (job ?x ?j) (supervisor ?x (Bitdiddle Ben)))\n",
      "(and2 (job ?x ?j) (supervisor ?x (Bitdiddle Ben)))\n",
      "(and2 (job ?x ?j) (supervisor ?x (Bitdiddle Ben)))\n",
      "(and2 (job ?x ?j) (supervisor ?x (Bitdiddle Ben)))\n",
      "(and2 (job ?x ?j) (supervisor ?x (Bitdiddle Ben)))\n",
      "(and2 (job ?x ?j) (supervisor ?x (Bitdiddle Ben)))\n",
      "(and2 (job ?x ?j) (supervisor ?x (Bitdiddle Ben)))\n",
      "(and2 (job ?x ?j) (supervisor ?x (Bitdiddle Ben)))\n",
      "(and2 (job ?x ?j) (supervisor ?x (Bitdiddle Ben)))\n",
      "(and2 (job ?x ?j) (supervisor ?x (Bitdiddle Ben)))\n",
      "(and2 (job ?x ?j) (supervisor ?x (Bitdiddle Ben)))\n",
      "(and2 (job ?x ?j) (supervisor ?x (Bitdiddle Ben)))\n",
      "(and2 (job ?x ?j) (supervisor ?x (Bitdiddle Ben)))\n",
      "(and2 (job ?x ?j) (supervisor ?x (Bitdiddle Ben)))\n",
      "(and2 (job ?x ?j) (supervisor ?x (Bitdiddle Ben)))\n",
      "(and2 (job ?x ?j) (supervisor ?x (Bitdiddle Ben)))\n",
      "(and2 (job ?x ?j) (supervisor ?x (Bitdiddle Ben)))\n",
      "(and2 (job ?x ?j) (supervisor ?x (Bitdiddle Ben)))\n",
      "(and2 (job ?x ?j) (supervisor ?x (Bitdiddle Ben)))\n",
      "(and2 (job ?x ?j) (supervisor ?x (Bitdiddle Ben)))\n",
      "(and2 (job ?x ?j) (supervisor ?x (Bitdiddle Ben)))\n",
      "(and2 (job ?x ?j) (supervisor ?x (Bitdiddle Ben)))\n",
      "(and2 (job ?x ?j) (supervisor ?x (Bitdiddle Ben)))\n",
      "(and2 (job ?x ?j) (supervisor ?x (Bitdiddle Ben)))"
     ]
    },
    {
     "data": {
      "text/plain": [
       "done"
      ]
     },
     "execution_count": 16,
     "metadata": {},
     "output_type": "execute_result"
    }
   ],
   "source": [
    ";; installed in setup-database above as and2\n",
    "(define (conjoin2 conjuncts frame-stream)\n",
    "  (if (empty-conjunction? conjuncts)\n",
    "      frame-stream\n",
    "      (merge-streams-of-frames\n",
    "       (qeval (first-conjunct conjuncts)\n",
    "              frame-stream)\n",
    "       (conjoin2 (rest-conjuncts conjuncts)\n",
    "                frame-stream))))\n",
    "\n",
    ";; For each binding in each frame of s1, check if consistent\n",
    ";; with corresponding frame in s2. If so -> merge frame\n",
    "(define (merge-streams-of-frames s1 s2)\n",
    " (define attempted-merges\n",
    "   (stream-map\n",
    "    (lambda (f1)\n",
    "      (stream-map\n",
    "       (lambda (f2)\n",
    "         (merge-frames-if-consistent f1 f2))\n",
    "       s2))\n",
    "    s1)) \n",
    "  (define successful-merges\n",
    "    (stream-filter\n",
    "     (lambda (f)\n",
    "       (not (eq? f 'failed)))\n",
    "     attempted-merges))\n",
    "  (flatten-stream successful-merges))\n",
    "       \n",
    "      \n",
    ";; for each binding in f1, check if consistent w/f2 (extend-if-possible)\n",
    ";; return 'failed if any binding is inconsistent\n",
    "(define (merge-frames-if-consistent f1 f2)\n",
    "  (if (null? f1)\n",
    "      f2\n",
    "      (let* ((binding (first-binding f1))\n",
    "             (extension (extend-if-possible\n",
    "                         (binding-value binding)\n",
    "                         (binding-variable binding)\n",
    "                         f2)))\n",
    "        (if (eq? extension 'failed)\n",
    "            'failed\n",
    "            (merge-frames-if-consistent\n",
    "             (rest-bindings f1)\n",
    "             extension)))))\n",
    "      \n",
    "(define (first-binding frame)\n",
    "  (car frame))\n",
    "      \n",
    "(define (rest-bindings frame)\n",
    "  (cdr frame))\n",
    "(setup-database)\n",
    "\n",
    "(interpret-query\n",
    "  '(and2 \n",
    "    (job ?x ?j) \n",
    "    (supervisor ?x (Bitdiddle Ben))))"
   ]
  },
  {
   "cell_type": "markdown",
   "metadata": {},
   "source": [
    "# 4.4 Logic Programming\n",
    "\n",
    "## 4.55"
   ]
  },
  {
   "cell_type": "code",
   "execution_count": 39,
   "metadata": {},
   "outputs": [
    {
     "name": "stdout",
     "output_type": "stream",
     "text": [
      "\n",
      "\n",
      "(supervisor (Tweakit Lem E) (Bitdiddle Ben))\n",
      "(supervisor (Fect Cy D) (Bitdiddle Ben))\n",
      "(supervisor (Hacker Alyssa P) (Bitdiddle Ben))"
     ]
    },
    {
     "data": {
      "text/plain": [
       "done"
      ]
     },
     "execution_count": 39,
     "metadata": {},
     "output_type": "execute_result"
    }
   ],
   "source": [
    "(interpret-query '(supervisor ?x (Bitdiddle Ben)))"
   ]
  },
  {
   "cell_type": "code",
   "execution_count": 40,
   "metadata": {},
   "outputs": [
    {
     "name": "stdout",
     "output_type": "stream",
     "text": [
      "\n",
      "\n",
      "(job (Cratchet Robert) (accounting scrivener))\n",
      "(job (Scrooge Eben) (accounting chief accountant))"
     ]
    },
    {
     "data": {
      "text/plain": [
       "done"
      ]
     },
     "execution_count": 40,
     "metadata": {},
     "output_type": "execute_result"
    }
   ],
   "source": [
    "(interpret-query '(job ?x (accounting . ?type)))"
   ]
  },
  {
   "cell_type": "code",
   "execution_count": 41,
   "metadata": {},
   "outputs": [
    {
     "name": "stdout",
     "output_type": "stream",
     "text": [
      "\n",
      "\n",
      "(address (Aull DeWitt) (Slumerville (Onion Square) 5))\n",
      "(address (Reasoner Louis) (Slumerville (Pine Tree Road) 80))\n",
      "(address (Bitdiddle Ben) (Slumerville (Ridge Road) 10))"
     ]
    },
    {
     "data": {
      "text/plain": [
       "done"
      ]
     },
     "execution_count": 41,
     "metadata": {},
     "output_type": "execute_result"
    }
   ],
   "source": [
    "(interpret-query '(address ?x (Slumerville . ?y)))"
   ]
  },
  {
   "cell_type": "markdown",
   "metadata": {},
   "source": [
    "## 4.56"
   ]
  },
  {
   "cell_type": "code",
   "execution_count": 44,
   "metadata": {},
   "outputs": [
    {
     "name": "stdout",
     "output_type": "stream",
     "text": [
      "\n",
      "\n",
      "(and (supervisor (Tweakit Lem E) (Bitdiddle Ben)) (address (Tweakit Lem E) (Boston (Bay State Road) 22)))\n",
      "(and (supervisor (Fect Cy D) (Bitdiddle Ben)) (address (Fect Cy D) (Cambridge (Ames Street) 3)))\n",
      "(and (supervisor (Hacker Alyssa P) (Bitdiddle Ben)) (address (Hacker Alyssa P) (Cambridge (Mass Ave) 78)))"
     ]
    },
    {
     "data": {
      "text/plain": [
       "done"
      ]
     },
     "execution_count": 44,
     "metadata": {},
     "output_type": "execute_result"
    }
   ],
   "source": [
    "(interpret-query '(and (supervisor ?person (Bitdiddle Ben))\n",
    "                       (address ?person . ?street)))"
   ]
  },
  {
   "cell_type": "code",
   "execution_count": 45,
   "metadata": {},
   "outputs": [
    {
     "name": "stdout",
     "output_type": "stream",
     "text": [
      "\n",
      "\n",
      "(and (salary (Bitdiddle Ben) 60000) (salary (Aull DeWitt) 25000) (lisp-value < 25000 60000))\n",
      "(and (salary (Bitdiddle Ben) 60000) (salary (Cratchet Robert) 18000) (lisp-value < 18000 60000))\n",
      "(and (salary (Bitdiddle Ben) 60000) (salary (Reasoner Louis) 30000) (lisp-value < 30000 60000))\n",
      "(and (salary (Bitdiddle Ben) 60000) (salary (Tweakit Lem E) 25000) (lisp-value < 25000 60000))\n",
      "(and (salary (Bitdiddle Ben) 60000) (salary (Fect Cy D) 35000) (lisp-value < 35000 60000))\n",
      "(and (salary (Bitdiddle Ben) 60000) (salary (Hacker Alyssa P) 40000) (lisp-value < 40000 60000))"
     ]
    },
    {
     "data": {
      "text/plain": [
       "done"
      ]
     },
     "execution_count": 45,
     "metadata": {},
     "output_type": "execute_result"
    }
   ],
   "source": [
    "(interpret-query '(and (salary (Bitdiddle Ben) ?x)\n",
    "                       (salary ?person ?amount)\n",
    "                       (lisp-value < ?amount ?x)))"
   ]
  },
  {
   "cell_type": "code",
   "execution_count": 46,
   "metadata": {},
   "outputs": [
    {
     "name": "stdout",
     "output_type": "stream",
     "text": [
      "\n",
      "\n",
      "(and (supervisor (Aull DeWitt) (Warbucks Oliver)) (job (Warbucks Oliver) (administration big wheel)) (not (job (Warbucks Oliver) (computer . ?type))))\n",
      "(and (supervisor (Cratchet Robert) (Scrooge Eben)) (job (Scrooge Eben) (accounting chief accountant)) (not (job (Scrooge Eben) (computer . ?type))))\n",
      "(and (supervisor (Scrooge Eben) (Warbucks Oliver)) (job (Warbucks Oliver) (administration big wheel)) (not (job (Warbucks Oliver) (computer . ?type))))\n",
      "(and (supervisor (Bitdiddle Ben) (Warbucks Oliver)) (job (Warbucks Oliver) (administration big wheel)) (not (job (Warbucks Oliver) (computer . ?type))))"
     ]
    },
    {
     "data": {
      "text/plain": [
       "done"
      ]
     },
     "execution_count": 46,
     "metadata": {},
     "output_type": "execute_result"
    }
   ],
   "source": [
    "(interpret-query '(and (supervisor ?person ?supervisor)\n",
    "                       (job ?supervisor ?job)\n",
    "                       (not (job ?supervisor (computer . ?type)))))"
   ]
  },
  {
   "cell_type": "markdown",
   "metadata": {},
   "source": [
    "## 4.57"
   ]
  },
  {
   "cell_type": "code",
   "execution_count": 92,
   "metadata": {},
   "outputs": [
    {
     "name": "stdout",
     "output_type": "stream",
     "text": [
      "\n",
      "Assertion added to data base."
     ]
    }
   ],
   "source": [
    "(interpret-query\n",
    " '(assert!\n",
    "   (rule (can-replace ?person1 ?person2)\n",
    "         (and (job ?person1 ?job1)\n",
    "              (job ?person2 ?job2)\n",
    "              (not (same ?person1 ?person2))\n",
    "              (or (same ?job1 ?job2)\n",
    "                  (can-do-job ?job1 ?job2))))))"
   ]
  },
  {
   "cell_type": "code",
   "execution_count": 90,
   "metadata": {},
   "outputs": [
    {
     "name": "stdout",
     "output_type": "stream",
     "text": [
      "\n",
      "\n",
      "(can-replace (Hacker Alyssa P) (Fect Cy D))\n",
      "(can-replace (Bitdiddle Ben) (Fect Cy D))"
     ]
    },
    {
     "data": {
      "text/plain": [
       "done"
      ]
     },
     "execution_count": 90,
     "metadata": {},
     "output_type": "execute_result"
    }
   ],
   "source": [
    "(interpret-query '(can-replace ?person (Fect Cy D)))"
   ]
  },
  {
   "cell_type": "code",
   "execution_count": 91,
   "metadata": {},
   "outputs": [
    {
     "name": "stdout",
     "output_type": "stream",
     "text": [
      "\n",
      "\n",
      "(and (can-replace (Fect Cy D) (Hacker Alyssa P)) (salary (Fect Cy D) 35000) (salary (Hacker Alyssa P) 40000) (lisp-value > 40000 35000))\n",
      "(and (can-replace (Aull DeWitt) (Warbucks Oliver)) (salary (Aull DeWitt) 25000) (salary (Warbucks Oliver) 150000) (lisp-value > 150000 25000))"
     ]
    },
    {
     "data": {
      "text/plain": [
       "done"
      ]
     },
     "execution_count": 91,
     "metadata": {},
     "output_type": "execute_result"
    }
   ],
   "source": [
    "(interpret-query\n",
    " '(and (can-replace ?person1 ?person2)\n",
    "       (salary ?person1 ?salary1)\n",
    "       (salary ?person2 ?salary2)\n",
    "       (lisp-value > ?salary2 ?salary1)))"
   ]
  },
  {
   "cell_type": "markdown",
   "metadata": {},
   "source": [
    "## 4.58"
   ]
  },
  {
   "cell_type": "code",
   "execution_count": 94,
   "metadata": {},
   "outputs": [
    {
     "name": "stdout",
     "output_type": "stream",
     "text": [
      "\n",
      "Assertion added to data base."
     ]
    }
   ],
   "source": [
    "(interpret-query\n",
    " '(assert!\n",
    "   (rule (big-shot ?person ?division)\n",
    "         (and \n",
    "          ;; person works in given division\n",
    "          (job ?person (?division . ?type))\n",
    "          (supervisor ?person ?supervisor)\n",
    "          (job ?supervisor (?sup-division . ?sup-type))\n",
    "          ;; persons superervisor does not work in given division\n",
    "          (not (same ?division ?sup-division))))))"
   ]
  },
  {
   "cell_type": "code",
   "execution_count": 108,
   "metadata": {},
   "outputs": [
    {
     "name": "stdout",
     "output_type": "stream",
     "text": [
      "\n",
      "\n",
      "(big-shot (Scrooge Eben) accounting)\n",
      "(big-shot (Bitdiddle Ben) computer)"
     ]
    },
    {
     "data": {
      "text/plain": [
       "done"
      ]
     },
     "execution_count": 108,
     "metadata": {},
     "output_type": "execute_result"
    }
   ],
   "source": [
    "(interpret-query '(big-shot ?person ?division))"
   ]
  },
  {
   "cell_type": "markdown",
   "metadata": {},
   "source": [
    "## 4.59"
   ]
  },
  {
   "cell_type": "code",
   "execution_count": 235,
   "metadata": {},
   "outputs": [
    {
     "name": "stdout",
     "output_type": "stream",
     "text": [
      "\n",
      "Assertion added to data base.\n",
      "Assertion added to data base.\n",
      "Assertion added to data base.\n",
      "Assertion added to data base.\n",
      "Assertion added to data base."
     ]
    }
   ],
   "source": [
    "(assert-multiple\n",
    " '((meeting accounting (Monday 9am))\n",
    "   (meeting administration (Monday 10am))\n",
    "   (meeting computer (Wednesday 3pm))\n",
    "   (meeting administration (Friday 1pm))\n",
    "   (meeting whole-company (Wednesday 4pm))))"
   ]
  },
  {
   "cell_type": "code",
   "execution_count": 236,
   "metadata": {},
   "outputs": [
    {
     "name": "stdout",
     "output_type": "stream",
     "text": [
      "\n",
      "\n",
      "(meeting administration (Friday 1pm))"
     ]
    },
    {
     "data": {
      "text/plain": [
       "done"
      ]
     },
     "execution_count": 236,
     "metadata": {},
     "output_type": "execute_result"
    }
   ],
   "source": [
    "(interpret-query '(meeting ?division (Friday ?time)))"
   ]
  },
  {
   "cell_type": "code",
   "execution_count": 129,
   "metadata": {},
   "outputs": [
    {
     "name": "stdout",
     "output_type": "stream",
     "text": [
      "\n",
      "Assertion added to data base.\n",
      "\n",
      "(meeting-time (Hacker Alyssa P) (Wednesday 3pm))\n",
      "(meeting-time (Hacker Alyssa P) (Wednesday 4pm))"
     ]
    },
    {
     "data": {
      "text/plain": [
       "done"
      ]
     },
     "execution_count": 129,
     "metadata": {},
     "output_type": "execute_result"
    }
   ],
   "source": [
    "(interpret-query\n",
    " '(assert!\n",
    "   ;; a person's meetings include all whole-company\n",
    "   ;; meetings + all meetings of their division\n",
    "   (rule (meeting-time ?person ?when)\n",
    "      (or (and (job ?person (?division . ?type))\n",
    "               (meeting ?division ?when))\n",
    "          (meeting whole-company ?when)))))\n",
    "\n",
    "(interpret-query '(meeting-time (Hacker Alyssa P)\n",
    "                                (Wednesday ?time)))"
   ]
  },
  {
   "cell_type": "markdown",
   "metadata": {},
   "source": [
    "## 4.60\n",
    "\n",
    "The `lives-near` rule is commutative, so the following two queries will both return the same *values* but in the opposite order:\n",
    "\n",
    "```scheme\n",
    "(lives-near ?person-1 ?person-2)\n",
    "(lives-near ?person-2 ?person-1)\n",
    "```\n",
    "\n",
    "This is because `lives-near` is implemented using an `and` expression, which is in itself commutative:\n",
    "\n",
    "```scheme\n",
    "(rule (lives-near ?person-1 ?person-2)\n",
    "      ;; arguments to and could be in any order\n",
    "      (and (address ?person-1 \n",
    "                    (?town . ?rest-1))\n",
    "           (address ?person-2 \n",
    "                    (?town . ?rest-2))\n",
    "           (not (same ?person-1 ?person-2))))\n",
    "```\n",
    "\n",
    "This poses no restrictions on the values that `?person-1` and `?person-2` can take, so every *combination* that the query succeeds for is returned.\n",
    "\n",
    "To produce a list of *unique pairs* of people who live near each other, a futher restriction can be added to the `lives-near` rule that enforces an **ordering** of the pairs. For example, enforcing alphabetical ordering of `person-1` and `person-2` in the pair will mean only one combination of the two people is returned. For example, `(Hacker Alyssa P) (Fect Cy D))` is alphabetically *less* than `((Fect Cy D) (Hacker Alyssa P))`."
   ]
  },
  {
   "cell_type": "code",
   "execution_count": 168,
   "metadata": {},
   "outputs": [
    {
     "data": {
      "text/plain": [
       "#f"
      ]
     },
     "execution_count": 168,
     "metadata": {},
     "output_type": "execute_result"
    }
   ],
   "source": [
    ";; convert a list of symbols into a single string\n",
    "(define (symbol-list->string lst)\n",
    "  (accumulate string-append \"\" (map symbol->string lst)))\n",
    "\n",
    ";; compare two lists of symbols to determine if\n",
    ";; lst1 is alphabetically less than lst2\n",
    "(define (symbol-list<? lst1 lst2)\n",
    "  (string<? (symbol-list->string lst1)\n",
    "            (symbol-list->string lst2)))\n",
    "\n",
    "(symbol-list<? '(Hacker Alyssa P) '(Fect Cy D))"
   ]
  },
  {
   "cell_type": "code",
   "execution_count": 169,
   "metadata": {},
   "outputs": [
    {
     "data": {
      "text/plain": [
       "#t"
      ]
     },
     "execution_count": 169,
     "metadata": {},
     "output_type": "execute_result"
    }
   ],
   "source": [
    "(symbol-list<?  '(Fect Cy D) '(Hacker Alyssa P))"
   ]
  },
  {
   "cell_type": "code",
   "execution_count": 194,
   "metadata": {},
   "outputs": [
    {
     "data": {
      "text/plain": [
       "#f"
      ]
     },
     "execution_count": 194,
     "metadata": {},
     "output_type": "execute_result"
    }
   ],
   "source": [
    "(symbol-list<? '(Aull DeWitt) '(Bitdiddle Ben))\n",
    "(symbol-list<?  '(Bitdiddle Ben)'(Aull DeWitt))"
   ]
  },
  {
   "cell_type": "code",
   "execution_count": 208,
   "metadata": {},
   "outputs": [
    {
     "name": "stdout",
     "output_type": "stream",
     "text": [
      "\n",
      "Assertion added to data base."
     ]
    }
   ],
   "source": [
    "(interpret-query\n",
    " '(assert!\n",
    "   (rule (lives-near-unique ?person-1 ?person-2)\n",
    "         (and (address ?person-1 \n",
    "                       (?town . ?rest-1))\n",
    "              (address ?person-2 \n",
    "                       (?town . ?rest-2))\n",
    "              (not (same ?person-1 ?person-2))\n",
    "              (lisp-value symbol-list<? ?person-1 ?person-2)))))"
   ]
  },
  {
   "cell_type": "code",
   "execution_count": 209,
   "metadata": {},
   "outputs": [
    {
     "name": "stdout",
     "output_type": "stream",
     "text": [
      "\n",
      "\n",
      "(lives-near-unique (Aull DeWitt) (Reasoner Louis))\n",
      "(lives-near-unique (Aull DeWitt) (Bitdiddle Ben))\n",
      "(lives-near-unique (Fect Cy D) (Hacker Alyssa P))\n",
      "(lives-near-unique (Bitdiddle Ben) (Reasoner Louis))"
     ]
    },
    {
     "data": {
      "text/plain": [
       "done"
      ]
     },
     "execution_count": 209,
     "metadata": {},
     "output_type": "execute_result"
    }
   ],
   "source": [
    "(interpret-query '(lives-near-unique ?person-1 ?person-2))"
   ]
  },
  {
   "cell_type": "markdown",
   "metadata": {},
   "source": [
    "## 4.61\n",
    "\n",
    "```scheme\n",
    "(rule (?x next-to ?y in (?x ?y . ?u)))\n",
    "(rule (?x next-to ?y in (?v . ?z))\n",
    "      (?x next-to ?y in ?z))\n",
    "\n",
    "(?x next-to ?y in (1 (2 3) 4))\n",
    ";; ((2 3) next-to 4 in (1 (2 3) 4))\n",
    ";; (1 next-to (2 3) in (1 (2 3) 4))\n",
    "\n",
    "(?x next-to 1 in (2 1 3 1))\n",
    ";; (2 next-to 1 in (2 1 3 1))\n",
    ";; (3 next-to 1 in (2 1 3 1))\n",
    "```"
   ]
  },
  {
   "cell_type": "markdown",
   "metadata": {},
   "source": [
    "## 4.62\n",
    "\n",
    "#### Expected results from examples:\n",
    "\n",
    "```scheme\n",
    "(last-pair (3) ?x)\n",
    ";; (last-pair (3) (3))\n",
    "\n",
    "(last-pair (1 2 3) ?x)\n",
    ";; (last-pair (1 2 3) (3))\n",
    "\n",
    "(last-pair (2 ?x) (3))\n",
    ";; (last-pair (2 3) (3))\n",
    "\n",
    ";; not possible -> infinite possible solutions:\n",
    "(last-pair ?x (3))\n",
    ";; (last-pair (3) (3))\n",
    ";; (last-pair (1 3) (3))\n",
    ";; (last-pair (2 3) (3))\n",
    ";; (last-pair (3 3) (3))\n",
    ";; ...\n",
    "```\n",
    "\n",
    "#### `last-pair` rules:\n",
    "\n",
    "- For a single element list `x`, `last-pair` is `x`\n",
    "- For any `x`, `y`, `z`, `last-pair` of `(cons x y)` is `z` *if* `last-pair` of `y` is `z`"
   ]
  },
  {
   "cell_type": "code",
   "execution_count": 237,
   "metadata": {},
   "outputs": [
    {
     "name": "stdout",
     "output_type": "stream",
     "text": [
      "\n",
      "Assertion added to data base.\n",
      "Assertion added to data base."
     ]
    }
   ],
   "source": [
    "(assert-multiple\n",
    " '((rule (last-pair (?x) (?x)))\n",
    "   (rule (last-pair (?x . ?y) (?z))\n",
    "                  (last-pair ?y (?z)))))"
   ]
  },
  {
   "cell_type": "code",
   "execution_count": 219,
   "metadata": {},
   "outputs": [
    {
     "name": "stdout",
     "output_type": "stream",
     "text": [
      "\n",
      "\n",
      "(last-pair (3) (3))"
     ]
    },
    {
     "data": {
      "text/plain": [
       "done"
      ]
     },
     "execution_count": 219,
     "metadata": {},
     "output_type": "execute_result"
    }
   ],
   "source": [
    "(interpret-query '(last-pair (3) ?x))"
   ]
  },
  {
   "cell_type": "code",
   "execution_count": 220,
   "metadata": {},
   "outputs": [
    {
     "name": "stdout",
     "output_type": "stream",
     "text": [
      "\n",
      "\n",
      "(last-pair (1 2 3) (3))"
     ]
    },
    {
     "data": {
      "text/plain": [
       "done"
      ]
     },
     "execution_count": 220,
     "metadata": {},
     "output_type": "execute_result"
    }
   ],
   "source": [
    "(interpret-query '(last-pair (1 2 3) ?x))"
   ]
  },
  {
   "cell_type": "code",
   "execution_count": 221,
   "metadata": {},
   "outputs": [
    {
     "name": "stdout",
     "output_type": "stream",
     "text": [
      "\n",
      "\n",
      "(last-pair (2 3) (3))"
     ]
    },
    {
     "data": {
      "text/plain": [
       "done"
      ]
     },
     "execution_count": 221,
     "metadata": {},
     "output_type": "execute_result"
    }
   ],
   "source": [
    "(interpret-query '(last-pair (2 ?x) (3)))"
   ]
  },
  {
   "cell_type": "markdown",
   "metadata": {},
   "source": [
    "## 4.63"
   ]
  },
  {
   "cell_type": "code",
   "execution_count": 37,
   "metadata": {},
   "outputs": [
    {
     "name": "stdout",
     "output_type": "stream",
     "text": [
      "\n",
      "Assertion added to data base.\n",
      "Assertion added to data base.\n",
      "Assertion added to data base.\n",
      "Assertion added to data base.\n",
      "Assertion added to data base.\n",
      "Assertion added to data base.\n",
      "Assertion added to data base.\n",
      "Assertion added to data base.\n",
      "Assertion added to data base.\n",
      "Assertion added to data base.\n",
      "Assertion added to data base."
     ]
    }
   ],
   "source": [
    "(assert-multiple\n",
    " '((son Adam Cain) (son Cain Enoch)\n",
    "   (son Enoch Irad) (son Irad Mehujael)\n",
    "   (son Mehujael Methushael)\n",
    "   (son Methushael Lamech)\n",
    "   (wife Lamech Ada) (son Ada Jabal)\n",
    "   (son Ada Jubal)))\n",
    "\n",
    "(assert-multiple\n",
    " '((rule (grandson ?g ?s)\n",
    "         (and (son ?g ?f)\n",
    "              (son ?f ?s)))\n",
    "   (rule (son ?m ?s)\n",
    "         (and (wife ?m ?w)\n",
    "              (son ?w ?s)))))"
   ]
  },
  {
   "cell_type": "code",
   "execution_count": 38,
   "metadata": {},
   "outputs": [
    {
     "name": "stdout",
     "output_type": "stream",
     "text": [
      "\n",
      "\n",
      "(grandson Cain Irad)"
     ]
    },
    {
     "data": {
      "text/plain": [
       "done"
      ]
     },
     "execution_count": 38,
     "metadata": {},
     "output_type": "execute_result"
    }
   ],
   "source": [
    "(interpret-query '(grandson Cain ?s))"
   ]
  },
  {
   "cell_type": "code",
   "execution_count": 39,
   "metadata": {},
   "outputs": [
    {
     "name": "stdout",
     "output_type": "stream",
     "text": [
      "\n",
      "\n",
      "(son Lamech Jubal)\n",
      "(son Lamech Jabal)"
     ]
    },
    {
     "data": {
      "text/plain": [
       "done"
      ]
     },
     "execution_count": 39,
     "metadata": {},
     "output_type": "execute_result"
    }
   ],
   "source": [
    "(interpret-query '(son Lamech ?s))"
   ]
  },
  {
   "cell_type": "code",
   "execution_count": 41,
   "metadata": {},
   "outputs": [
    {
     "name": "stdout",
     "output_type": "stream",
     "text": [
      "\n",
      "\n",
      "(grandson Methushael Jubal)\n",
      "(grandson Methushael Jabal)"
     ]
    },
    {
     "data": {
      "text/plain": [
       "done"
      ]
     },
     "execution_count": 41,
     "metadata": {},
     "output_type": "execute_result"
    }
   ],
   "source": [
    "(interpret-query '(grandson Methushael ?s))"
   ]
  },
  {
   "cell_type": "markdown",
   "metadata": {},
   "source": [
    "## 4.64\n",
    "\n",
    "Louis' `outranked-by` rule\n",
    "\n",
    "```scheme\n",
    "(rule (outranked-by ?staff-person ?boss)\n",
    "      (or (supervisor ?staff-person ?boss)\n",
    "          (and (outranked-by ?middle-manager\n",
    "                             ?boss)\n",
    "               (supervisor ?staff-person\n",
    "                           ?middle-manager))))\n",
    "```\n",
    "\n",
    "Method for applying a rule described in 4.4.2:\n",
    "1. Unify the query with the conclusion of the rule to form, if successful, an extension of the original frame.\n",
    "2. Relative to the *extended* frame, evaluate the query formed by the body of the rule.\n",
    "\n",
    "Unify the query with the conclusion of the rule:\n",
    "```scheme\n",
    ";; query\n",
    "(outranked-by (Bitdiddle Ben) ?who)\n",
    "\n",
    ";; conclusion of rule\n",
    "(outranked-by ?staff-person ?boss)\n",
    "```\n",
    "\n",
    "This `succeeds`, extending the original frame with a binding from `?staff-person` -> `(Bitdiddle Ben)` and from `?boss` -> `?who`:\n",
    "\n",
    "```scheme\n",
    ";; body of rule\n",
    "(or (supervisor ?staff-person ?boss)\n",
    "    (and (outranked-by ?middle-manager\n",
    "                       ?boss)\n",
    "         (supervisor ?staff-person\n",
    "                     ?middle-manager)))\n",
    "\n",
    ";; with the extended binding from step 1 becomes\n",
    "(or (supervisor (Bitdiddle Ben) ?who)\n",
    "    (and (outranked-by ?middle-manager\n",
    "                       ?who)\n",
    "         (supervisor (Bitdiddle Ben)\n",
    "                     ?middle-manager)))\n",
    "```\n",
    "\n",
    "Evaluating the `outranked-by` query within the `and` expression:\n",
    "\n",
    "```scheme\n",
    ";; query\n",
    "(outranked-by ?middle-manager ?who)\n",
    "\n",
    ";; conclusion of rule\n",
    "(outranked-by ?staff-person ?boss)\n",
    "```\n",
    "\n",
    "Again, this succeeds, extending the original frame with a binding from `?staff-person` -> `?middle-manager` and from `?boss` -> `?who`.\n",
    "\n",
    "```scheme\n",
    ";; body of rule within extended binding\n",
    "(or (supervisor ?middle-manager ?who)\n",
    "    (and (outranked-by ?middle-manager\n",
    "                       ?who)\n",
    "         (supervisor ?middle-manager\n",
    "                     ?middle-manager)))\n",
    "```\n",
    "\n",
    "The `outranked-by` query within the `and` expression is evaluated again, binding `?staff-person` -> `?middle-manager` and `?boss` -> `?who`, repeating this infinitely.\n",
    "\n",
    "The original definition of `outranked-by` from 4.4.1 doesn't cause an infinite loop because the sub-queries within the `and` expression are in opposite order. The `supervisor` query is evaluated first which creates bindings for `?staff-person` and `?middle-manager` which restrict the search space for the recursive `outranked-by` query."
   ]
  },
  {
   "cell_type": "markdown",
   "metadata": {},
   "source": [
    "## 4.65\n",
    "\n",
    "`wheel` rule from 4.4.1:\n",
    "```scheme\n",
    "(rule (wheel ?person)\n",
    "      (and (supervisor ?middle-manager\n",
    "                       ?person)\n",
    "           (supervisor ?x ?middle-manager)))\n",
    "```\n",
    "\n",
    "The query `(wheel ?who)` results in Oliver Warbucks being listed four times because the database contains entries corresponding to four middle managers who have Oliver Warbucks as a manager. The `wheel` query does not put any restriction on uniqueness of results and will just return all matches found in the database. Using the database defined in 4.4.1, Oliver Warbucks is the manager of the following middle managers:\n",
    "- Ben Bitdiddle \n",
    "- Eben Scrooge\n",
    "\n",
    "Ben Bitdiddle, however, has entries which describe 3 different people for whom he is the middle manager:\n",
    "- Lem E Tweakit\n",
    "- Cy D Fect\n",
    "- Alyssa P Hacker\n",
    "\n",
    "There is one entry for whom Ben Bitdiddle is the `wheel`:\n",
    "- Alyssa P Hacker\n",
    "    - Middle manager of Louis Reasoner\n",
    "\n",
    "Each of these will return Oliver Warbucks as being the `wheel`, as he is the manager of Ben Bitdiddle."
   ]
  },
  {
   "cell_type": "markdown",
   "metadata": {},
   "source": [
    "## 4.66\n",
    "\n",
    "Ben realised that query results can contain duplicates which would produce incorrect values for aggregation functions. For example, computing the `sum` of the salaries of all the wheels (4.65) in the business:\n",
    "\n",
    "```scheme\n",
    "(sum ?amount\n",
    "     (and (wheel ?who)\n",
    "          (salary ?who ?amount)))\n",
    "```\n",
    "As shown in 4.65, the `wheel` query will return Oliver Warbucks four times and as such the `sum` result will include his salary four times.\n",
    "\n",
    "To fix this, Ben will need to enforce a uniqueness constraint on the results from the `query pattern` passed to the `accumulation-function`. This could be implemented at the evaluator level, by tracking intermediate results from `query pattern` in association with the sub-query that produced the result and the current frame.\n",
    "\n",
    "For example, the result `(wheel (Warbucks Oliver))` returned from the `wheel` sub-query would be stored under a `wheel` key for the current environment. A subsequent result from `(wheel ?who)` that would return `(wheel (Warbucks Oliver))` would be found to already be present and then not included in the returned result set. Storing values in association with *both* the current frame and sub-query is important to adhere to the query evaluator's unification rules - the 'parallel' evaluation of `or` and the serial evaluation of `and` is handled by capturing the current frame for the sub-query."
   ]
  },
  {
   "cell_type": "markdown",
   "metadata": {},
   "source": [
    "## 4.67"
   ]
  },
  {
   "cell_type": "code",
   "execution_count": null,
   "metadata": {},
   "outputs": [],
   "source": []
  },
  {
   "cell_type": "markdown",
   "metadata": {},
   "source": [
    "## 4.68 \n",
    "\n",
    "`reverse`:\n",
    "- Base case: `reverse` of empty list is the empty list\n",
    "- Recursive case: `reverse` of a list is it's head, appended to the `reverse` of it's tail:\n",
    "\n",
    "```scheme\n",
    "(reverse (1 2 3))\n",
    "(append (append (reverse (3)) 2) 1)\n",
    "(append (append (append (reverse ()) 3) 2) 1)\n",
    "(append (append (append () 3) 2) 1)\n",
    "(append (append (3) 2) 1)\n",
    "(append (3 2) 1)\n",
    "(3 2 1)\n",
    "```"
   ]
  },
  {
   "cell_type": "code",
   "execution_count": 48,
   "metadata": {},
   "outputs": [
    {
     "name": "stdout",
     "output_type": "stream",
     "text": [
      "\n",
      "Assertion added to data base.\n",
      "Assertion added to data base.\n",
      "Assertion added to data base.\n",
      "Assertion added to data base."
     ]
    }
   ],
   "source": [
    ";; from 4.4.1\n",
    "(assert-multiple\n",
    " '((rule (append-to-form () ?y ?y))\n",
    "   (rule (append-to-form (?u . ?v) ?y (?u . ?z))\n",
    "         (append-to-form ?v ?y ?z))))\n",
    "\n",
    "(assert-multiple\n",
    " '((rule (reverse  () ()))\n",
    "   (rule (reverse ?x ?y)\n",
    "         (and (append-to-form (?x-head) ?x-tail ?x)\n",
    "              (append-to-form ?reversed-x-tail (?x-head) ?y)\n",
    "              (reverse ?x-tail ?reversed-x-tail)))))"
   ]
  },
  {
   "cell_type": "code",
   "execution_count": 49,
   "metadata": {},
   "outputs": [
    {
     "name": "stdout",
     "output_type": "stream",
     "text": [
      "\n",
      "\n",
      "(reverse (3 2 1) (1 2 3))"
     ]
    },
    {
     "data": {
      "text/plain": [
       "done"
      ]
     },
     "execution_count": 49,
     "metadata": {},
     "output_type": "execute_result"
    }
   ],
   "source": [
    "(interpret-query '(reverse ?x (1 2 3)))"
   ]
  },
  {
   "cell_type": "markdown",
   "metadata": {},
   "source": [
    "Won't answer, due to infinite loop:\n",
    "\n",
    "```scheme\n",
    "(interpret-query '(reverse (1 2 3) ?x))\n",
    "```"
   ]
  },
  {
   "cell_type": "markdown",
   "metadata": {},
   "source": [
    "## 4.69 "
   ]
  },
  {
   "cell_type": "code",
   "execution_count": null,
   "metadata": {},
   "outputs": [],
   "source": []
  },
  {
   "cell_type": "markdown",
   "metadata": {},
   "source": []
  },
  {
   "cell_type": "code",
   "execution_count": null,
   "metadata": {},
   "outputs": [],
   "source": []
  }
 ],
 "metadata": {
  "kernelspec": {
   "display_name": "Calysto Scheme 3",
   "language": "scheme",
   "name": "calysto_scheme"
  },
  "language_info": {
   "codemirror_mode": {
    "name": "scheme"
   },
   "mimetype": "text/x-scheme",
   "name": "scheme",
   "pygments_lexer": "scheme"
  }
 },
 "nbformat": 4,
 "nbformat_minor": 2
}
