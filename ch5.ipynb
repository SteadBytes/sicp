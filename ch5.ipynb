{
 "cells": [
  {
   "cell_type": "markdown",
   "metadata": {},
   "source": [
    "# 5.1 Designing Register Machines\n",
    "\n",
    "## 5.1\n",
    "\n",
    "Register machine to compute factorials using the following algorithm:\n",
    "\n",
    "```scheme\n",
    "(define (factorial n)\n",
    "  (define (iter product counter)\n",
    "    (if (> counter n)\n",
    "        product\n",
    "        (iter (* counter product)\n",
    "              (+ counter 1))))\n",
    "  (iter 1 1))\n",
    "```\n",
    "![](./images/ex-5.1.png)\n",
    "\n",
    "## 5.2\n",
    "\n",
    "Factorial machine from 5.1 in the 'register-machine' language:\n",
    "\n",
    "```scheme\n",
    "(controller\n",
    " (assign p (const 1))\n",
    " (assign c (const 1))\n",
    " test-n\n",
    "   (test (op >) (reg c) (reg n))\n",
    "   (assign p (op *) (reg p) (reg c))\n",
    "   (assign c (op +) (reg c) (const 1))\n",
    "   (goto (label test-n))\n",
    " factorial-done)\n",
    "```"
   ]
  },
  {
   "cell_type": "code",
   "execution_count": null,
   "metadata": {},
   "outputs": [],
   "source": []
  }
 ],
 "metadata": {
  "kernelspec": {
   "display_name": "Calysto Scheme 3",
   "language": "scheme",
   "name": "calysto_scheme"
  },
  "language_info": {
   "codemirror_mode": {
    "name": "scheme"
   },
   "mimetype": "text/x-scheme",
   "name": "scheme",
   "pygments_lexer": "scheme"
  }
 },
 "nbformat": 4,
 "nbformat_minor": 2
}
