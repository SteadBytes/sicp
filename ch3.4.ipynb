{
 "cells": [
  {
   "cell_type": "markdown",
   "metadata": {},
   "source": [
    "# Chapter 3.4 Onwards"
   ]
  },
  {
   "cell_type": "markdown",
   "metadata": {},
   "source": [
    "## 3.38\n",
    "1.\n",
    "\n",
    "$(peter,paul,mary)=\\frac{100+10-20}{2}=45$\n",
    "\n",
    "$(peter,mary,paul)=\\frac{100+10}{2}-20=35$\n",
    "\n",
    "$(paul,peter,mary)=\\frac{100-20+10}{2}=45$\n",
    "\n",
    "$(paul,mary,peter)=\\frac{100-20}{2}+10=50$\n",
    "\n",
    "$(mary,peter,paul)=\\frac{100}{2}+10-20=40$\n",
    "\n",
    "$(mary,paul,peter)=\\frac{100}{2}-20+10=40$\n",
    "\n",
    "2.\n",
    "\n",
    "```\n",
    "|    Peter    |     Paul    | Bank |    Mary    |\n",
    "|:-----------:|:-----------:|:----:|:----------:|\n",
    "|             |             |  100 |            |\n",
    "| Access: 100 | Access: 100 |      | Access:100 |\n",
    "|   New: 100  |   New: 80   |      |   New: 50  |\n",
    "|   Set: 110  |             |      |            |\n",
    "|             |             | 110  |            |\n",
    "|             |             |      | Set: 50    |\n",
    "|             |             | 50   |            |\n",
    "|             | Set: 80     |      |            |\n",
    "|             |             | 80   |            |\n",
    "\n",
    "\n",
    "|    Peter    |     Paul    | Bank |    Mary    |\n",
    "|:-----------:|:-----------:|:----:|:----------:|\n",
    "|             |             |  100 |            |\n",
    "| Access: 100 | Access: 100 |      | Access:100 |\n",
    "|   New: 110  |   New: 80   |      |   New: 50  |\n",
    "|             |             |      |   Set: 50  |\n",
    "|             |             | 50   |            |\n",
    "|             |   Set: 80   |      |            |\n",
    "|             |             | 80   |            |\n",
    "|  Set: 110   |             |      |            |\n",
    "|             |             | 110  |            |\n",
    "```"
   ]
  },
  {
   "cell_type": "code",
   "execution_count": null,
   "metadata": {},
   "outputs": [],
   "source": []
  }
 ],
 "metadata": {
  "kernelspec": {
   "display_name": "Calysto Scheme 3",
   "language": "scheme",
   "name": "calysto_scheme"
  },
  "language_info": {
   "codemirror_mode": {
    "name": "scheme"
   },
   "mimetype": "text/x-scheme",
   "name": "scheme",
   "pygments_lexer": "scheme"
  }
 },
 "nbformat": 4,
 "nbformat_minor": 2
}
