{
 "cells": [
  {
   "cell_type": "markdown",
   "metadata": {},
   "source": [
    "# Chapter 3.4 Onwards"
   ]
  },
  {
   "cell_type": "markdown",
   "metadata": {},
   "source": [
    "## 3.38\n",
    "1.\n",
    "\n",
    "$(peter,paul,mary)=\\frac{100+10-20}{2}=45$\n",
    "\n",
    "$(peter,mary,paul)=\\frac{100+10}{2}-20=35$\n",
    "\n",
    "$(paul,peter,mary)=\\frac{100-20+10}{2}=45$\n",
    "\n",
    "$(paul,mary,peter)=\\frac{100-20}{2}+10=50$\n",
    "\n",
    "$(mary,peter,paul)=\\frac{100}{2}+10-20=40$\n",
    "\n",
    "$(mary,paul,peter)=\\frac{100}{2}-20+10=40$\n",
    "\n",
    "2.\n",
    "\n",
    "```\n",
    "|    Peter    |     Paul    | Bank |    Mary    |\n",
    "|:-----------:|:-----------:|:----:|:----------:|\n",
    "|             |             |  100 |            |\n",
    "| Access: 100 | Access: 100 |      | Access:100 |\n",
    "|   New: 100  |   New: 80   |      |   New: 50  |\n",
    "|   Set: 110  |             |      |            |\n",
    "|             |             | 110  |            |\n",
    "|             |             |      | Set: 50    |\n",
    "|             |             | 50   |            |\n",
    "|             | Set: 80     |      |            |\n",
    "|             |             | 80   |            |\n",
    "\n",
    "\n",
    "|    Peter    |     Paul    | Bank |    Mary    |\n",
    "|:-----------:|:-----------:|:----:|:----------:|\n",
    "|             |             |  100 |            |\n",
    "| Access: 100 | Access: 100 |      | Access:100 |\n",
    "|   New: 110  |   New: 80   |      |   New: 50  |\n",
    "|             |             |      |   Set: 50  |\n",
    "|             |             | 50   |            |\n",
    "|             |   Set: 80   |      |            |\n",
    "|             |             | 80   |            |\n",
    "|  Set: 110   |             |      |            |\n",
    "|             |             | 110  |            |\n",
    "```"
   ]
  },
  {
   "cell_type": "markdown",
   "metadata": {},
   "source": [
    "## 3.39"
   ]
  },
  {
   "cell_type": "code",
   "execution_count": null,
   "metadata": {},
   "outputs": [],
   "source": [
    "; n.b make-serializer not implemented yet\n",
    "(define x 10)\n",
    "(define s (make-serializer))\n",
    "(parallel-execute\n",
    " (lambda ()\n",
    "   (set! x ((s (lambda () (* x x)))))) ; P1\n",
    " (s (lambda () (set! x (+ x 1))))) ; P2"
   ]
  },
  {
   "cell_type": "markdown",
   "metadata": {},
   "source": [
    "Possible values:\n",
    "* `101`: \n",
    "    * $P_1$ sets `x` to `100`\n",
    "    * $P_2$ increments `x` to `101`\n",
    "* `121`:\n",
    "    * $P_2$ increments `x` to `11`\n",
    "    * $P_1$ sets `x` to `x` times `x`\n",
    "* `100`:\n",
    "    * $P_1$ accesses `x` (twice)\n",
    "    * $P_2$ sets `x` to `11`\n",
    "    * $P_1$ sets `x`\n",
    "\n",
    "$P_2$ can interleave between the *computation* and *assignment* in $P_1$."
   ]
  },
  {
   "cell_type": "markdown",
   "metadata": {},
   "source": [
    "## 3.40"
   ]
  },
  {
   "cell_type": "code",
   "execution_count": null,
   "metadata": {},
   "outputs": [],
   "source": [
    "(define x 10)\n",
    "(parallel-execute\n",
    " (lambda () (set! x (* x x)))\n",
    " (lambda () (set! x (* x x x))))"
   ]
  },
  {
   "cell_type": "markdown",
   "metadata": {},
   "source": [
    "Possible values:\n",
    "* `100` (Steps 1 and 2 can be swapped):\n",
    "    1. $P_1$ accesses `x` (`2` times)\n",
    "    2. $P_2$ accesses `x` (`3` times)\n",
    "    3. $P_2$ sets `x` to `1000`\n",
    "    4. $P_1$ sets `x` to `100`\n",
    "* `1000` (Steps 1 and 2 can be swapped):\n",
    "    1. $P_1$ accesses `x` (`2` times)\n",
    "    2. $P_2$ accesses `x` (`3` times)\n",
    "    3. $P_1$ sets `x` to `100`\n",
    "    4. $P_2$ sets `x` to `1000`\n",
    "* `10000`: \n",
    "    *  \n",
    "        1. $P_1$ accesses `x` (`1` time)\n",
    "        2. $P_2$ accesses `x` (`3` times)\n",
    "        3. $P_2$ sets `x` to `1000`\n",
    "        4. $P_1$ accesses `x` (`1` time) -> `1000`\n",
    "        5. $P_1$ sets `x` to `10000`\n",
    "    * \n",
    "        1. $P_2$ accesses `x` (`2` times)\n",
    "        2. $P_1$ accesses `x` (`2` times)\n",
    "        3. $P_1$ sets `x` to `100`\n",
    "        4. $P_2$ accesses `x` (`1` time) -> `100`\n",
    "        5. $P_2$ sets `x` to `10000` -> `(* 10 10 100)`\n",
    "* `100000`:\n",
    "    1. $P_2$ accesses `x` (`1` time)\n",
    "    2. $P_1$ accesses `x` (`2` times)\n",
    "    3. $P_1$ sets `x` to `100`\n",
    "    4. $P_2$ accesses `x` (`2` times) -> `100`\n",
    "    5. $P_2$ sets `x` to `100000` -> `(* 10 100 100)`\n",
    "* `1000000`:\n",
    "    * \n",
    "        1. $P_2$ accesses `x` (`3` times)\n",
    "        2. $P_2$ sets `x` to `1000`\n",
    "        3. $P_1$ accesses `x` (`2` times)\n",
    "        4. $P_1$ sets `x` to `1000000` -> `(* 1000 1000)`\n",
    "    * \n",
    "        1. $P_1$ accesses `x` (`2` times)\n",
    "        2. $P_1$ sets `x` to `100`\n",
    "        3. $P_2$ accesses `x` (`3` times) -> `100`\n",
    "        4. $P_2$ sets `x` to `1000000` -> `(* 100 100 100)`\n",
    "       "
   ]
  },
  {
   "cell_type": "code",
   "execution_count": null,
   "metadata": {},
   "outputs": [],
   "source": [
    "(define x 10)\n",
    "(define s (make-serializer))\n",
    "(parallel-execute\n",
    " (s (lambda () (set! x (* x x))))\n",
    " (s (lambda () (set! x (* x x x)))))"
   ]
  },
  {
   "cell_type": "markdown",
   "metadata": {},
   "source": [
    "`1000000` is the only possible value as $P_1$ and $P_2$ cannot interleave due to the serializer. Execution must follow one of the two paths shown for the `1000000` value in part 1."
   ]
  },
  {
   "cell_type": "markdown",
   "metadata": {},
   "source": [
    "## 3.41\n",
    "No, unserialized access to the balance is acceptable because, in the given implementation, accessing the balance does not alter it's value and is completed in **a single step**.\n",
    "\n",
    "If accessing the balance required multiple steps, then an unserialized implementation could result in anomalous behaviour as other processes could be interleaved between the steps. "
   ]
  },
  {
   "cell_type": "markdown",
   "metadata": {},
   "source": [
    "## 3.42"
   ]
  },
  {
   "cell_type": "code",
   "execution_count": null,
   "metadata": {},
   "outputs": [],
   "source": [
    "; creates new serialized procedure on each withdraw/deposit message\n",
    "(define (make-account balance)\n",
    "  (define (withdraw amount)\n",
    "    (if (>= balance amount)\n",
    "        (begin (set! balance\n",
    "                     (- balance amount))\n",
    "               balance)\n",
    "        \"Insufficient funds\"))\n",
    "  (define (deposit amount)\n",
    "    (set! balance (+ balance amount))\n",
    "    balance)\n",
    "  (let ((protected (make-serializer)))\n",
    "    (define (dispatch m)\n",
    "      (cond ((eq? m 'withdraw)\n",
    "             (protected withdraw))\n",
    "            ((eq? m 'deposit)\n",
    "             (protected deposit))\n",
    "            ((eq? m 'balance)\n",
    "             balance)\n",
    "            (else (error \"make-account.dispatch\"\n",
    "                         \"Unknown request: ~a\"\n",
    "                         m))))\n",
    "    dispatch))\n",
    "\n",
    "; returns same serialized procedure that was created at same time as account\n",
    "(define (make-account balance)\n",
    "  (define (withdraw amount)\n",
    "    (if (>= balance amount)\n",
    "        (begin (set! balance\n",
    "                     (- balance amount))\n",
    "               balance)\n",
    "        \"Insufficient funds\"))\n",
    "  (define (deposit amount)\n",
    "    (set! balance (+ balance amount))\n",
    "    balance)\n",
    "  (let ((protected (make-serializer)))\n",
    "    (let ((protected-withdraw\n",
    "           (protected withdraw))\n",
    "          (protected-deposit\n",
    "           (protected deposit)))\n",
    "      (define (dispatch m)\n",
    "        (cond ((eq? m 'withdraw)\n",
    "               protected-withdraw)\n",
    "              ((eq? m 'deposit)\n",
    "               protected-deposit)\n",
    "              ((eq? m 'balance)\n",
    "               balance)\n",
    "              (else (error \"make-account.dispatch\"\n",
    "                           \"Unknown request: ~a\"\n",
    "                           m))))\n",
    "        dispatch)))"
   ]
  },
  {
   "cell_type": "markdown",
   "metadata": {},
   "source": [
    "Yes, the change is safe - there is no difference in the concurrency that is allowed because the procedures are still handled by the **same serializer**. "
   ]
  },
  {
   "cell_type": "markdown",
   "metadata": {},
   "source": [
    "## 3.43\n",
    "When run sequentially, there can be no interleaving of operations between the processes. For two accounts `A` and `B` `(exchange A B)` maintains the overall sum of the balances between `A` and `B`, with the balance values remaining the same but swapped to the other account. \n",
    "\n",
    "When implemented using the first version of the account-exchange program, the operations between the processes can be interleaved - violating this property. For example:\n",
    "\n",
    "```scheme\n",
    "(define (exchange account1 account2)\n",
    "  (let ((difference (- (account1 'balance)\n",
    "                       (account2 'balance))))\n",
    "    ((account1 'withdraw) difference)\n",
    "    ((account2 'deposit) difference)))\n",
    "\n",
    "(define a1 (make-account 10))\n",
    "(define a2 (make-account 20))\n",
    "(define a3 (make-account 30))\n",
    "\n",
    "(parallel-execute\n",
    " (exchange a2 a1) ; P1\n",
    " (exchange a3 a1) ; P2\n",
    "```\n",
    "\n",
    "* $P_1$ computes `difference -> 10`\n",
    "* $P_2$ computes `difference -> 10`\n",
    "* $P_2$ withdraws `difference` from `a3`\n",
    "    * `(a3 'balance) -> 20`\n",
    "* $P_2$ deposits `difference` into `a2`\n",
    "    * `(a2 'balance) -> 30`\n",
    "* $P_1$ withdraws `difference` from `a2`\n",
    "    * `(a2 'balance) -> 20`\n",
    "* $P_1$ deposits `difference` into `a1` \n",
    "    * `(a1 'balance) -> 20`\n",
    "* Final balances:\n",
    "    * `a1 -> 20`\n",
    "    * `a2 -> 20`\n",
    "    * `a3 -> 20`\n",
    "\n",
    "The overall sum of the balances has remained the same, as each `exchange` adds/subtracts an equal amount between accounts. However, the balance *values* have changed and the expected `exchange` behaviour has not been observed."
   ]
  },
  {
   "cell_type": "markdown",
   "metadata": {},
   "source": [
    "## 3.44"
   ]
  },
  {
   "cell_type": "code",
   "execution_count": null,
   "metadata": {},
   "outputs": [],
   "source": [
    "(define\n",
    "  (transer from-account to-account amount)\n",
    "  ((from-account 'withdraw) amount)\n",
    "  ((to-account 'deposit) amount))"
   ]
  },
  {
   "cell_type": "markdown",
   "metadata": {},
   "source": [
    "Louis is wrong, with the constraint that `deposit` and `withdraw` procedures of the accounts are serialized, `transfer` makes no calls to unserialized procedures that interact with the account *state*. This means that the `deposit` and `withdraw` operations within `transfer` cannot interleave when run in parallel.\n",
    "\n",
    "The `exchange` procedure made calls to an unserialized "
   ]
  }
 ],
 "metadata": {
  "kernelspec": {
   "display_name": "Calysto Scheme 3",
   "language": "scheme",
   "name": "calysto_scheme"
  },
  "language_info": {
   "codemirror_mode": {
    "name": "scheme"
   },
   "mimetype": "text/x-scheme",
   "name": "scheme",
   "pygments_lexer": "scheme"
  }
 },
 "nbformat": 4,
 "nbformat_minor": 2
}
