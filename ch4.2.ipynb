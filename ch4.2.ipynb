{
 "cells": [
  {
   "cell_type": "markdown",
   "metadata": {},
   "source": [
    "# 4.2 Variations on a Scheme - Lazy Evaluation"
   ]
  },
  {
   "cell_type": "markdown",
   "metadata": {},
   "source": [
    "## 4.25"
   ]
  },
  {
   "cell_type": "markdown",
   "metadata": {},
   "source": [
    "```scheme\n",
    "(define (unless condition\n",
    "                usual-value\n",
    "                exceptional-value)\n",
    "  (if condition\n",
    "      exceptional-value\n",
    "      usual-value))\n",
    "\n",
    "(define (factorial n)\n",
    "  (unless (= n 1)\n",
    "          (* n (factorial (- n 1)))\n",
    "          1))\n",
    "```\n",
    "\n",
    "Evalutaing `(factorial 5)` will *not* work in an applicative order language. Both branches of the `unless` expression are evalutated regardless of the predicate value. When `n == 1`, `(* 1 (factorial 0))` will be evaluated instead of terminating using the `usual-value` branch of `1`. This will lead to `(* 0 (factorial -1))` being evaluated and so on, causing the procedure to run infinitely.\n",
    "\n",
    "In a normal order language, the procedure will work as expected. Since the branches of the `unless` expression are only evaluated when needed, the procedure will terminate when `n == 1` with the `usual-branch` evaluation of `1`. The `exceptional-value` won't be evaluated, preventing the infinite loop encountered in the applicative order language."
   ]
  },
  {
   "cell_type": "markdown",
   "metadata": {},
   "source": [
    "## 4.26"
   ]
  },
  {
   "cell_type": "markdown",
   "metadata": {},
   "source": [
    " `unless` can be implemented as a special form in the evaluator easily by transforming it into and `if` expression:"
   ]
  },
  {
   "cell_type": "code",
   "execution_count": 8,
   "metadata": {},
   "outputs": [],
   "source": [
    "(define (unless? exp)\n",
    "  (tagged-list? exp 'unless))\n",
    "\n",
    "(define (unless-condition exp)\n",
    "  (cadr exp))\n",
    "(define (unless-usual-value exp)\n",
    "  (caddr exp))\n",
    "(define (unless-exceptional-value exp)\n",
    "  (cadddr exp))\n",
    "\n",
    "(define (unless->if exp)\n",
    "  (make-if (unless-condition exp)\n",
    "           (unless-exceptional-value exp)\n",
    "           (unless-usual-value exp)))\n",
    "\n",
    ";; within evaluator cond expression\n",
    ";;((unless? exp)\n",
    " ;;(unless->if exp))"
   ]
  },
  {
   "cell_type": "markdown",
   "metadata": {},
   "source": [
    "Alyssa's argument is correct in that `unless` as a special form can't be passed as an argument to a higher order procedure such as `map`. However, I cannot think of a use case for doing so."
   ]
  },
  {
   "cell_type": "code",
   "execution_count": null,
   "metadata": {},
   "outputs": [],
   "source": []
  }
 ],
 "metadata": {
  "kernelspec": {
   "display_name": "Calysto Scheme 3",
   "language": "scheme",
   "name": "calysto_scheme"
  },
  "language_info": {
   "codemirror_mode": {
    "name": "scheme"
   },
   "mimetype": "text/x-scheme",
   "name": "scheme",
   "pygments_lexer": "scheme"
  }
 },
 "nbformat": 4,
 "nbformat_minor": 2
}
