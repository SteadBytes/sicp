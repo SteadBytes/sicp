{
 "cells": [
  {
   "cell_type": "markdown",
   "metadata": {},
   "source": [
    "# 3.5 Streams"
   ]
  },
  {
   "cell_type": "code",
   "execution_count": 25,
   "metadata": {},
   "outputs": [],
   "source": [
    "; define as macros to override Schemes eager evalutation\n",
    "(define-syntax delay\n",
    "               [(delay ?exp) (memo-proc (lambda() ?exp))])\n",
    "(define-syntax cons-stream\n",
    "               [(cons-stream ?a ?b) (cons ?a (delay ?b))])\n",
    "\n",
    "(define the-empty-stream '())\n",
    "\n",
    "(define (stream-null? s)\n",
    "  (eq? s the-empty-stream))\n",
    "(define (stream-car stream)\n",
    "  (car stream))\n",
    "(define (stream-cdr stream)\n",
    "  (force (cdr stream)))\n",
    "\n",
    "(define (stream-ref s n)\n",
    "  (if (= n 0)\n",
    "      (stream-car s)\n",
    "      (stream-ref (stream-cdr s) (- n 1))))\n",
    "\n",
    "(define (stream-map proc s)\n",
    "  (if (stream-null? s)\n",
    "      the-empty-stream\n",
    "      (cons-stram\n",
    "       (proc (stream-car s))\n",
    "       (stream-map proc (stream-cdr s)))))\n",
    "\n",
    "(define (stream-for-each proc s)\n",
    "  (if (stream-null? s)\n",
    "      'done\n",
    "      (begin\n",
    "       (proc (stream-car s))\n",
    "       (stream-for-each proc\n",
    "                        (stream-cdr s)))))\n",
    "\n",
    "(define (stream-filter pred stream)\n",
    "  (cond ((stream-null? stream)\n",
    "         the-empty-stream)\n",
    "        ((pred (stream-car stream))\n",
    "         (cons-stream\n",
    "          (stream-car stream)\n",
    "          (stream-filter\n",
    "           pred\n",
    "           (stream-cdr stream))))\n",
    "        (else (stream-filter\n",
    "               pred\n",
    "               (stream-cdr stream)))))\n",
    "\n",
    "(define (stream-enumerate-interval low high)\n",
    "  (if (> low high)\n",
    "      the-empty-stream\n",
    "      (cons-stream\n",
    "       low\n",
    "       (stream-enumerate-interval (+ low 1)\n",
    "                                  high))))\n",
    "\n",
    "(define (force delayed-object)\n",
    "  (delayed-object))\n",
    "\n",
    "(define (memo-proc proc)\n",
    "  (let ((already-run? #f)\n",
    "        (result #f))\n",
    "    (lambda ()\n",
    "      (if (not already-run?)\n",
    "          (begin (set! result (proc))\n",
    "                 (set! already-run? #t)\n",
    "                 result)\n",
    "          result))))\n",
    "\n",
    "(define (display-stream s)\n",
    "  (stream-for-each display-line s))\n",
    "\n",
    "(define (display-line x)\n",
    "  (newline)\n",
    "  (display x))"
   ]
  },
  {
   "cell_type": "markdown",
   "metadata": {},
   "source": [
    "## 3.50"
   ]
  },
  {
   "cell_type": "code",
   "execution_count": 26,
   "metadata": {},
   "outputs": [],
   "source": [
    "; take proc of n args along with n streams\n",
    "; apply proc to to all elements of each stream\n",
    "(define (stream-map proc . argstreams)\n",
    "  (if (stream-null? (car argstreams))\n",
    "      the-empty-stream\n",
    "      (cons-stream\n",
    "       (apply proc (map stream-car argstreams))\n",
    "       (apply stream-map\n",
    "              (cons proc\n",
    "                    (map stream-cdr\n",
    "                         argstreams))))))"
   ]
  },
  {
   "cell_type": "markdown",
   "metadata": {},
   "source": [
    "## 3.51"
   ]
  },
  {
   "cell_type": "code",
   "execution_count": 27,
   "metadata": {},
   "outputs": [
    {
     "name": "stdout",
     "output_type": "stream",
     "text": [
      "\n",
      "0"
     ]
    }
   ],
   "source": [
    "; prints and returns argument\n",
    "(define (show x)\n",
    "  (display-line x)\n",
    "  x)\n",
    "\n",
    "(define x\n",
    "  (stream-map\n",
    "   show\n",
    "   (stream-enumerate-interval 0 10)))"
   ]
  },
  {
   "cell_type": "code",
   "execution_count": 28,
   "metadata": {},
   "outputs": [
    {
     "name": "stdout",
     "output_type": "stream",
     "text": [
      "\n",
      "1\n",
      "2\n",
      "3\n",
      "4\n",
      "5"
     ]
    },
    {
     "data": {
      "text/plain": [
       "5"
      ]
     },
     "execution_count": 28,
     "metadata": {},
     "output_type": "execute_result"
    }
   ],
   "source": [
    "(stream-ref x 5)"
   ]
  },
  {
   "cell_type": "code",
   "execution_count": 29,
   "metadata": {},
   "outputs": [
    {
     "name": "stdout",
     "output_type": "stream",
     "text": [
      "\n",
      "6\n",
      "7"
     ]
    },
    {
     "data": {
      "text/plain": [
       "7"
      ]
     },
     "execution_count": 29,
     "metadata": {},
     "output_type": "execute_result"
    }
   ],
   "source": [
    "(stream-ref x 7)"
   ]
  },
  {
   "cell_type": "markdown",
   "metadata": {},
   "source": [
    "## 3.52"
   ]
  },
  {
   "cell_type": "code",
   "execution_count": 34,
   "metadata": {},
   "outputs": [
    {
     "data": {
      "text/plain": [
       "0"
      ]
     },
     "execution_count": 34,
     "metadata": {},
     "output_type": "execute_result"
    }
   ],
   "source": [
    "(define sum 0)\n",
    "\n",
    "sum"
   ]
  },
  {
   "cell_type": "code",
   "execution_count": 35,
   "metadata": {},
   "outputs": [
    {
     "data": {
      "text/plain": [
       "0"
      ]
     },
     "execution_count": 35,
     "metadata": {},
     "output_type": "execute_result"
    }
   ],
   "source": [
    "(define (accum x)\n",
    "  (set! sum (+ x sum))\n",
    "  sum)\n",
    "\n",
    "sum"
   ]
  },
  {
   "cell_type": "code",
   "execution_count": 36,
   "metadata": {},
   "outputs": [
    {
     "data": {
      "text/plain": [
       "1"
      ]
     },
     "execution_count": 36,
     "metadata": {},
     "output_type": "execute_result"
    }
   ],
   "source": [
    "(define seq\n",
    "  (stream-map\n",
    "   accum\n",
    "   (stream-enumerate-interval 1 20)))\n",
    "\n",
    "sum"
   ]
  },
  {
   "cell_type": "code",
   "execution_count": 37,
   "metadata": {},
   "outputs": [
    {
     "data": {
      "text/plain": [
       "6"
      ]
     },
     "execution_count": 37,
     "metadata": {},
     "output_type": "execute_result"
    }
   ],
   "source": [
    "(define y (stream-filter even? seq))\n",
    "\n",
    "sum"
   ]
  },
  {
   "cell_type": "code",
   "execution_count": 38,
   "metadata": {},
   "outputs": [
    {
     "data": {
      "text/plain": [
       "10"
      ]
     },
     "execution_count": 38,
     "metadata": {},
     "output_type": "execute_result"
    }
   ],
   "source": [
    "(define z\n",
    "  (stream-filter\n",
    "   (lambda (x)\n",
    "     (= (remainder x 5) 0)) seq))\n",
    "\n",
    "sum"
   ]
  },
  {
   "cell_type": "code",
   "execution_count": 39,
   "metadata": {},
   "outputs": [
    {
     "data": {
      "text/plain": [
       "136"
      ]
     },
     "execution_count": 39,
     "metadata": {},
     "output_type": "execute_result"
    }
   ],
   "source": [
    "(stream-ref y 7)"
   ]
  },
  {
   "cell_type": "code",
   "execution_count": 40,
   "metadata": {},
   "outputs": [
    {
     "data": {
      "text/plain": [
       "136"
      ]
     },
     "execution_count": 40,
     "metadata": {},
     "output_type": "execute_result"
    }
   ],
   "source": [
    "sum"
   ]
  },
  {
   "cell_type": "code",
   "execution_count": 41,
   "metadata": {},
   "outputs": [
    {
     "name": "stdout",
     "output_type": "stream",
     "text": [
      "\n",
      "10\n",
      "15\n",
      "45\n",
      "55\n",
      "105\n",
      "120\n",
      "190\n",
      "210"
     ]
    },
    {
     "data": {
      "text/plain": [
       "done"
      ]
     },
     "execution_count": 41,
     "metadata": {},
     "output_type": "execute_result"
    }
   ],
   "source": [
    "(display-stream z)"
   ]
  },
  {
   "cell_type": "code",
   "execution_count": 42,
   "metadata": {},
   "outputs": [
    {
     "data": {
      "text/plain": [
       "210"
      ]
     },
     "execution_count": 42,
     "metadata": {},
     "output_type": "execute_result"
    }
   ],
   "source": [
    "sum"
   ]
  },
  {
   "cell_type": "raw",
   "metadata": {},
   "source": [
    "The results above would be different if `delay` did not use memoization through `memo-proc`. This is because `sum` is mutated each time `seq` is evaluated."
   ]
  },
  {
   "cell_type": "markdown",
   "metadata": {},
   "source": [
    "## 3.53\n",
    "```scheme\n",
    "(define s (cons-stream 1 (add-streams s s)))\n",
    "```\n",
    "`s` is an infinite stream of powers of 2: `1, 2, 4, 8, 16, 32 ...`\n",
    "\n",
    "It is equivalent to the `double` stream defined earlier in the chapter:\n",
    "```scheme\n",
    "(define double\n",
    "  (cons-stream 1 (scale-stream double 2)))\n",
    "```"
   ]
  },
  {
   "cell_type": "code",
   "execution_count": null,
   "metadata": {},
   "outputs": [],
   "source": []
  }
 ],
 "metadata": {
  "kernelspec": {
   "display_name": "Calysto Scheme 3",
   "language": "scheme",
   "name": "calysto_scheme"
  },
  "language_info": {
   "codemirror_mode": {
    "name": "scheme"
   },
   "mimetype": "text/x-scheme",
   "name": "scheme",
   "pygments_lexer": "scheme"
  }
 },
 "nbformat": 4,
 "nbformat_minor": 2
}
