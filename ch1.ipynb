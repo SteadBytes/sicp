{
 "cells": [
  {
   "cell_type": "markdown",
   "metadata": {},
   "source": [
    "# SICP Chapter 1"
   ]
  },
  {
   "cell_type": "markdown",
   "metadata": {},
   "source": [
    "## 1.1\n",
    "\n",
    "```\n",
    "10\n",
    "12\n",
    "8\n",
    "3\n",
    "6\n",
    "a\n",
    "b\n",
    "19\n",
    "#f\n",
    "4\n",
    "16\n",
    "6\n",
    "16\n",
    "```"
   ]
  },
  {
   "cell_type": "code",
   "execution_count": 2,
   "metadata": {},
   "outputs": [
    {
     "data": {
      "text/plain": [
       "10"
      ]
     },
     "execution_count": 2,
     "metadata": {},
     "output_type": "execute_result"
    }
   ],
   "source": [
    "10"
   ]
  },
  {
   "cell_type": "code",
   "execution_count": 2,
   "metadata": {},
   "outputs": [
    {
     "data": {
      "text/plain": [
       "12"
      ]
     },
     "execution_count": 2,
     "metadata": {},
     "output_type": "execute_result"
    }
   ],
   "source": [
    "(+ 5 3 4)"
   ]
  },
  {
   "cell_type": "code",
   "execution_count": 3,
   "metadata": {},
   "outputs": [
    {
     "data": {
      "text/plain": [
       "8"
      ]
     },
     "execution_count": 3,
     "metadata": {},
     "output_type": "execute_result"
    }
   ],
   "source": [
    "(- 9 1)"
   ]
  },
  {
   "cell_type": "code",
   "execution_count": 4,
   "metadata": {},
   "outputs": [
    {
     "data": {
      "text/plain": [
       "3"
      ]
     },
     "execution_count": 4,
     "metadata": {},
     "output_type": "execute_result"
    }
   ],
   "source": [
    "(/ 6 2)"
   ]
  },
  {
   "cell_type": "code",
   "execution_count": 5,
   "metadata": {},
   "outputs": [
    {
     "data": {
      "text/plain": [
       "6"
      ]
     },
     "execution_count": 5,
     "metadata": {},
     "output_type": "execute_result"
    }
   ],
   "source": [
    "(+ (* 2 4) (- 4 6))"
   ]
  },
  {
   "cell_type": "code",
   "execution_count": 6,
   "metadata": {},
   "outputs": [],
   "source": [
    "(define a 3)"
   ]
  },
  {
   "cell_type": "code",
   "execution_count": 7,
   "metadata": {},
   "outputs": [],
   "source": [
    "(define b (+ a 1))"
   ]
  },
  {
   "cell_type": "code",
   "execution_count": 8,
   "metadata": {},
   "outputs": [
    {
     "data": {
      "text/plain": [
       "19"
      ]
     },
     "execution_count": 8,
     "metadata": {},
     "output_type": "execute_result"
    }
   ],
   "source": [
    "(+ a b (* a b))"
   ]
  },
  {
   "cell_type": "code",
   "execution_count": 9,
   "metadata": {},
   "outputs": [
    {
     "data": {
      "text/plain": [
       "#f"
      ]
     },
     "execution_count": 9,
     "metadata": {},
     "output_type": "execute_result"
    }
   ],
   "source": [
    "(= a b)"
   ]
  },
  {
   "cell_type": "code",
   "execution_count": 10,
   "metadata": {},
   "outputs": [
    {
     "data": {
      "text/plain": [
       "4"
      ]
     },
     "execution_count": 10,
     "metadata": {},
     "output_type": "execute_result"
    }
   ],
   "source": [
    "(if (and (> b a) (< b (* a b)))\n",
    " b\n",
    " a)"
   ]
  },
  {
   "cell_type": "code",
   "execution_count": 11,
   "metadata": {},
   "outputs": [
    {
     "data": {
      "text/plain": [
       "16"
      ]
     },
     "execution_count": 11,
     "metadata": {},
     "output_type": "execute_result"
    }
   ],
   "source": [
    "(cond ((= a 4) 6)\n",
    " ((= b 4) (+ 6 7 a))\n",
    " (else 25))"
   ]
  },
  {
   "cell_type": "code",
   "execution_count": 12,
   "metadata": {},
   "outputs": [
    {
     "data": {
      "text/plain": [
       "6"
      ]
     },
     "execution_count": 12,
     "metadata": {},
     "output_type": "execute_result"
    }
   ],
   "source": [
    "(+ 2 (if (> b a) b a))"
   ]
  },
  {
   "cell_type": "code",
   "execution_count": 13,
   "metadata": {},
   "outputs": [
    {
     "data": {
      "text/plain": [
       "16"
      ]
     },
     "execution_count": 13,
     "metadata": {},
     "output_type": "execute_result"
    }
   ],
   "source": [
    "(* (cond ((> a b) a)\n",
    " ((< a b) b)\n",
    " (else -1))\n",
    " (+ a 1))"
   ]
  },
  {
   "cell_type": "markdown",
   "metadata": {},
   "source": [
    "## 1.2"
   ]
  },
  {
   "cell_type": "code",
   "execution_count": 14,
   "metadata": {},
   "outputs": [
    {
     "data": {
      "text/plain": [
       "-37/150"
      ]
     },
     "execution_count": 14,
     "metadata": {},
     "output_type": "execute_result"
    }
   ],
   "source": [
    " (/ (+ 5 \n",
    "       4 \n",
    "       (- 2 (- 3 (+ 6 (/ 4 5))))) \n",
    "    (* 3 \n",
    "       (- 6 2) \n",
    "       (- 2 7))) "
   ]
  },
  {
   "cell_type": "markdown",
   "metadata": {},
   "source": [
    "## 1.3"
   ]
  },
  {
   "cell_type": "code",
   "execution_count": 3,
   "metadata": {},
   "outputs": [],
   "source": [
    "(define (square x) (* x x))\n",
    "(define (sumsquares x y) (+ (square x) (square y)))\n",
    "(define (sumsquarelargest x y z)\n",
    "  (cond\n",
    "    ((and (>= x z) (>= y z)) (sumsquares x y))\n",
    "    ((and (>= y x) (>= z x)) (sumsquares y z))\n",
    "    ((and (>= x y) (>= z y)) (sumsquares x z))))"
   ]
  },
  {
   "cell_type": "markdown",
   "metadata": {},
   "source": [
    "## 1.4\n",
    "`if` statement returns the `+` operator when `b > 0` and the `-` operator otherwise. The returned operator is then applied to the operands `a` and `b`."
   ]
  },
  {
   "cell_type": "markdown",
   "metadata": {},
   "source": [
    "## 1.5\n",
    "Applicative-order evaluation:\n",
    "- Never terminates\n",
    "- `(p)` is expanded to itself in an infinite loop\n",
    "\n",
    "Normal-order evaluation\n",
    "- Evaluates to `0`\n",
    "```\n",
    "(if (= 0 0 )\n",
    "  0\n",
    "  (p))\n",
    "(if #t\n",
    "  0\n",
    "  (p))\n",
    "0\n",
    "```"
   ]
  },
  {
   "cell_type": "markdown",
   "metadata": {},
   "source": [
    "## 1.6\n",
    "`if` will only evaluate one if it's parameters, whereas`cond` will evaluate both. In `sqrt-iter` this results in infinite recursion due to calling itself as part of the `else` clause of the `new-if`."
   ]
  },
  {
   "cell_type": "markdown",
   "metadata": {},
   "source": [
    "## 1.7\n",
    "For very small numbers, the tolerance of `0.001` is very large - causing `sqrt` to terminate with a guess htat could be very far from the true value."
   ]
  },
  {
   "cell_type": "code",
   "execution_count": 4,
   "metadata": {},
   "outputs": [
    {
     "data": {
      "text/plain": [
       "0.03135649010771716"
      ]
     },
     "execution_count": 4,
     "metadata": {},
     "output_type": "execute_result"
    }
   ],
   "source": [
    "(define (sqrt-iter guess x)\n",
    " (if (good-enough? guess x)\n",
    " guess\n",
    " (sqrt-iter (improve guess x)\n",
    " x)))\n",
    "\n",
    "(define (improve guess x)\n",
    " (average guess (/ x guess)))\n",
    "\n",
    "(define (average x y)\n",
    " (/ (+ x y) 2))\n",
    "\n",
    "(define (good-enough? guess x)\n",
    " (< (abs (- (square guess) x)) 0.001))\n",
    "\n",
    "(define (sqrt x)\n",
    " (sqrt-iter 1.0 x))\n",
    "\n",
    "(sqrt 0.00001)"
   ]
  },
  {
   "cell_type": "markdown",
   "metadata": {},
   "source": [
    "```\n",
    "true value = 0.01\n",
    "\n",
    "error = 100*(03135649010771716 - 0.01)/0.01\n",
    "      = 213.56 %\n",
    "```\n",
    "\n",
    "Machine precision limitations cause the difference between very large numbers to be unrepresentable. This means that `sqrt` may never terminate as the square of the best guess will not be within the `0.001` tolerance and callsto `improve` will continue to yield the same result.\n",
    "\n",
    "### Improved `sqrt`:"
   ]
  },
  {
   "cell_type": "code",
   "execution_count": 17,
   "metadata": {},
   "outputs": [],
   "source": [
    "(define (sqrt-iter guess prevguess x)\n",
    "  (if (good-enough? guess prevguess)\n",
    "    guess\n",
    "    (sqrt-iter (improve guess x) guess\n",
    "                x)))\n",
    "\n",
    "(define (good-enough? guess prevguess)\n",
    "  (< (abs (- guess prevguess))\n",
    "    (* guess 0.0001)))\n",
    "\n",
    "(define (sqrt x)\n",
    "  (sqrt-iter 1.0 2.0 x))"
   ]
  },
  {
   "cell_type": "markdown",
   "metadata": {},
   "source": [
    "## 1.8"
   ]
  },
  {
   "cell_type": "code",
   "execution_count": 18,
   "metadata": {},
   "outputs": [],
   "source": [
    "(define (cubert-iter guess prevguess x)\n",
    "  (if (good-enough? guess prevguess)\n",
    "    guess\n",
    "    (sqrt-iter (improve guess x) guess\n",
    "                x)))\n",
    "\n",
    "(define (good-enough? guess prevguess)\n",
    "  (< (abs (- guess prevguess))\n",
    "    (* guess 0.0001)))\n",
    "\n",
    "(define (improve guess x)\n",
    "  (average (/ x (square guess)) (* 2 guess)))\n",
    "\n",
    "(define (average x y)\n",
    "  (/ (+ x y) 2))\n",
    "\n",
    "(define (cubert x)\n",
    "  (cubert-iter 1.0 2.0 x))"
   ]
  },
  {
   "cell_type": "markdown",
   "metadata": {},
   "source": [
    "## 1.9"
   ]
  },
  {
   "cell_type": "markdown",
   "metadata": {},
   "source": [
    "Recursive Process:\n",
    "```\n",
    "(+ 4 5)\n",
    "(inc (+ (dec 4) 5))\n",
    "(inc (+ 3 5))\n",
    "(inc (inc (+ (dec 3) 5)))\n",
    "(inc (inc (+ 2 5)))\n",
    "(inc (inc (inc (+ (dec 2) 5))))\n",
    "(inc (inc (inc (+ 1 5))))\n",
    "(inc (inc (inc (inc (+ (dec 1) 5)))))\n",
    "(inc (inc (inc (inc (+ 0 5)))))\n",
    "(inc (inc (inc (inc 5)))\n",
    "(inc (inc (inc 6)))\n",
    "(inc (inc 7))\n",
    "(inc 8)\n",
    "(9)\n",
    "```\n",
    "\n",
    "Iterative Process:\n",
    "```\n",
    "(+ 4 5)\n",
    "(+ (dec 4) (inc 5))\n",
    "(+ 3 6)\n",
    "(+ (dec 3) (inc 6))\n",
    "(+ 2 7)\n",
    "(+ (dec 2) (inc 7))\n",
    "(+ 1 8)\n",
    "(+ (dec 1) (inc 8))\n",
    "(+ 0 9)\n",
    "(9)\n",
    "```"
   ]
  },
  {
   "cell_type": "markdown",
   "metadata": {},
   "source": [
    "## 1.10"
   ]
  },
  {
   "cell_type": "code",
   "execution_count": 19,
   "metadata": {},
   "outputs": [],
   "source": [
    "(define (A x y)\n",
    "  (cond ((= y 0) 0)\n",
    "        ((= x 0) (* 2 y))\n",
    "        ((= y 1) 2)\n",
    "        (else (A (- x 1)\n",
    "                  (A x (- y 1))))))"
   ]
  },
  {
   "cell_type": "code",
   "execution_count": 20,
   "metadata": {},
   "outputs": [
    {
     "data": {
      "text/plain": [
       "1024"
      ]
     },
     "execution_count": 20,
     "metadata": {},
     "output_type": "execute_result"
    }
   ],
   "source": [
    "(A 1 10)"
   ]
  },
  {
   "cell_type": "code",
   "execution_count": 21,
   "metadata": {},
   "outputs": [
    {
     "data": {
      "text/plain": [
       "65536"
      ]
     },
     "execution_count": 21,
     "metadata": {},
     "output_type": "execute_result"
    }
   ],
   "source": [
    "(A 2 4)"
   ]
  },
  {
   "cell_type": "code",
   "execution_count": 22,
   "metadata": {},
   "outputs": [
    {
     "data": {
      "text/plain": [
       "65536"
      ]
     },
     "execution_count": 22,
     "metadata": {},
     "output_type": "execute_result"
    }
   ],
   "source": [
    "(A 3 3)"
   ]
  },
  {
   "cell_type": "markdown",
   "metadata": {},
   "source": [
    "- `(f n) = 2n`\n",
    "- `(g n)= 2^n`\n",
    "- `(h n) = 2^2^2...(n-1 times)`"
   ]
  },
  {
   "cell_type": "markdown",
   "metadata": {},
   "source": [
    "## 1.11\n",
    "\n",
    "### Recursive Process:"
   ]
  },
  {
   "cell_type": "code",
   "execution_count": 23,
   "metadata": {},
   "outputs": [],
   "source": [
    "(define (f n)\n",
    "  (if (< n 3)\n",
    "    n\n",
    "    (+ (f (- n 1))\n",
    "       (* 2 (f (- n 2)))\n",
    "       (* 3 (f (- n 3))))))"
   ]
  },
  {
   "cell_type": "markdown",
   "metadata": {},
   "source": [
    "```\n",
    "(f 4)\n",
    "\n",
    "(+ (f (- 4 1))\n",
    "    (* 2 (f (- 4 2)))\n",
    "    (* 3 (f (- 4 3))))\n",
    "\n",
    "(+ (f 3)\n",
    "    (* 2 (f 2))\n",
    "    (* 3 (f 1)))\n",
    "\n",
    "(+ (+ (f (- 3 1))\n",
    "      (* 2 (f (- 3 2)))\n",
    "      (* 3 (f (- 3 3))))\n",
    "    (* 2 2)\n",
    "    (* 3 1))\n",
    "\n",
    "(+ (+ (f 2)\n",
    "      (* 2 (f 1))\n",
    "      (* 3 (f 0)))\n",
    "    4\n",
    "    3)\n",
    "\n",
    "(+ (+ 2\n",
    "      (* 2 1)\n",
    "      (* 3 0))\n",
    "    4\n",
    "    3)\n",
    "\n",
    "(+ (+ 2\n",
    "      2\n",
    "      0)\n",
    "    4\n",
    "    3)\n",
    "\n",
    "(+ 4\n",
    "   4\n",
    "   3)\n",
    "  \n",
    "(11)\n",
    "```"
   ]
  },
  {
   "cell_type": "markdown",
   "metadata": {},
   "source": [
    "## Iterative Process"
   ]
  },
  {
   "cell_type": "code",
   "execution_count": 24,
   "metadata": {},
   "outputs": [],
   "source": [
    "(define (f n)\n",
    "  (define (iter n f1 f2 f3)\n",
    "    (if (< n 3)\n",
    "        f1\n",
    "        (iter (- n 1) (+ f1 (* 2 f2) (* 3 f3)) f1 f2)))\n",
    "  (if (< n 3)\n",
    "      n\n",
    "      (iter n 2 1 0)))"
   ]
  },
  {
   "cell_type": "markdown",
   "metadata": {},
   "source": [
    "```\n",
    "(f 4)\n",
    "\n",
    "(iter 4 2 1 0)\n",
    "(iter (- 4 1) (+ 2 (* 2 1) (* 3 0)) 2 1))\n",
    "(iter 3 (+ 2 2 0) 2 1)\n",
    "(iter 3 4 2 1)\n",
    "(iter (- 3 1) (+ 4 (* 2 2) (* 3 1)) 4 2)\n",
    "(iter 2 (+ 4 4 3) 4 2)\n",
    "(iter 2 11 4 2)\n",
    "(11)\n",
    "```"
   ]
  },
  {
   "cell_type": "markdown",
   "metadata": {},
   "source": [
    "## 1.12"
   ]
  },
  {
   "cell_type": "markdown",
   "metadata": {},
   "source": [
    "Pascals triangle:\n",
    "```\n",
    "    1\n",
    "   1 1\n",
    "  1 2 1\n",
    " 1 3 3 1\n",
    "1 4 6 5 1\n",
    "```\n",
    "\n",
    "### Recursive process to calculate value at given row and column:"
   ]
  },
  {
   "cell_type": "code",
   "execution_count": 25,
   "metadata": {},
   "outputs": [],
   "source": [
    ";; rows start from 1 at the top of the triangle\n",
    ";; columns start from 1 left->right\n",
    "\n",
    "(define (pascal r c)\n",
    "  (if (or (= c 1) (= c r))\n",
    "    1\n",
    "    (+ (pascal (-r 1) (- c 1)) (pascal (- r 1) c))))"
   ]
  },
  {
   "cell_type": "markdown",
   "metadata": {},
   "source": [
    "Substitution process:\n",
    "```\n",
    "(pascal 1, 1)\n",
    "(1)\n",
    "\n",
    "(pascal 2, 1)\n",
    "(1)\n",
    "\n",
    "(pascal 3 2)\n",
    "(+ (pascal (- 3 1) (- 2 1)) (pascal (- 3 1) 2))\n",
    "(+ (pascal 2 1) (pascal 2 2))\n",
    "(+ 1 1)\n",
    "(2)\n",
    "```"
   ]
  },
  {
   "cell_type": "markdown",
   "metadata": {},
   "source": [
    "## 1.13 - TODO\n",
    "- Fib(n) = closest integer to &phi;<sup>n</sup>/sqrt(5)\n",
    "- &phi; = (1 + sqrt(5))/2\n",
    "- &psi; = (1 - sqrt(5))/2\n",
    "Use induction and definition of Fibonacci numbers to prove that:\n",
    "- Fib(n) = (&phi;<sup>n</sup> - &psi;<sup>n</sup>)/sqrt(5)"
   ]
  },
  {
   "cell_type": "code",
   "execution_count": null,
   "metadata": {},
   "outputs": [],
   "source": [
    "(define phi\n",
    "  (/ (+ 1 (sqrt 5)) 2))\n",
    "\n",
    "(define psi\n",
    "  (/ (- 1 (sqrt 5)) 2))\n",
    "\n",
    "(define (fib-approx n)\n",
    "  (/ (expt phi n) (sqrt 5)))\n",
    "\n",
    "(define (fib n)\n",
    "  (round (fib-approx n)))"
   ]
  },
  {
   "cell_type": "markdown",
   "metadata": {},
   "source": [
    "## 1.14"
   ]
  },
  {
   "cell_type": "code",
   "execution_count": null,
   "metadata": {},
   "outputs": [],
   "source": [
    "(define (count-change amount)\n",
    "  (cc amount 5))\n",
    "(define (cc amount kinds-of-coins)\n",
    " (cond ((= amount 0) 1)\n",
    "       ((or (< amount 0) (= kinds-of-coins 0)) 0)\n",
    "       (else (+ (cc amount\n",
    "                    (- kinds-of-coins 1))\n",
    "                (cc (- amount\n",
    "                       (first-denomination kinds-of-coins))\n",
    "                    kinds-of-coins)))))\n",
    "(define (first-denomination kinds-of-coins)\n",
    " (cond ((= kinds-of-coins 1) 1)\n",
    "       ((= kinds-of-coins 2) 5)\n",
    "       ((= kinds-of-coins 3) 10)\n",
    "       ((= kinds-of-coins 4) 25)\n",
    "       ((= kinds-of-coins 5) 50)))"
   ]
  },
  {
   "cell_type": "markdown",
   "metadata": {},
   "source": [
    "```\n",
    "(count-change 11)\n",
    "\n",
    " cc 11 5\n",
    "* cc 11 4\n",
    "** cc 11 3\n",
    "*** cc 11 2\n",
    "**** cc 11 1\n",
    "***** cc 11 0\n",
    "***** cc 10 1\n",
    "****** cc 10 0\n",
    "****** cc 9 1\n",
    "******* cc 9 0\n",
    "******* cc 8 1\n",
    "******** cc 8 0\n",
    "******** cc 7 1\n",
    "********* cc 7 0\n",
    "********* cc 6 1\n",
    "********** cc 6 0\n",
    "********** cc 5 1\n",
    "*********** cc 5 0\n",
    "*********** cc 4 1\n",
    "************ cc 4 0\n",
    "************ cc 3 1\n",
    "************* cc 3 0\n",
    "************* cc 2 1\n",
    "************** cc 2 0\n",
    "************** cc 1 1\n",
    "*************** cc 1 0\n",
    "*************** cc 0 1\n",
    "**** cc 6 2\n",
    "***** cc 6 1\n",
    "****** cc 6 0\n",
    "****** cc 5 1\n",
    "******* cc 5 0\n",
    "******* cc 4 1\n",
    "******** cc 4 0\n",
    "******** cc 3 1\n",
    "********* cc 3 0\n",
    "********* cc 2 1\n",
    "********** cc 2 0\n",
    "********** cc 1 1\n",
    "*********** cc 1 0\n",
    "*********** cc 0 1\n",
    "***** cc 1 2\n",
    "****** cc 1 1\n",
    "******* cc 1 0\n",
    "******* cc 0 1\n",
    "****** cc -4 2\n",
    "*** cc 1 3\n",
    "**** cc 1 2\n",
    "***** cc 1 1\n",
    "****** cc 1 0\n",
    "****** cc 0 1\n",
    "***** cc -4 2\n",
    "**** cc -9 3\n",
    "** cc -14 4\n",
    "* cc -39 5\n",
    "\n",
    "4\n",
    "```\n",
    "Orders of growth\n",
    "- Space = O(n)\n",
    "- Steps = O(n<sup>2</sup>)"
   ]
  },
  {
   "cell_type": "markdown",
   "metadata": {},
   "source": [
    "## 1.15\n",
    "a. `p` is called 5 times\n",
    "```\n",
    "(sine 12.15)\n",
    "(p (sine (/ 12.15 3.0)))->(p (sine 4.05))\n",
    "  (p (sine (/ 4.05 3.0)))->(p (sine 1.3499999999999999))\n",
    "    (p (sine (/ 1.3499999999999999 3.0)))->(p (sine .44999999999999996))\n",
    "      (p (sine (/ .44999999999999996 3.0)))->(p (sine .15))\n",
    "        (p (sine (/ .15 3.0)))->(p (sine 4.9999999999999996e-2))->p(4.9999999999999996e-2)\n",
    "```\n",
    "b. Orders of growth = O(log(a)):\n",
    "  - `p` called once for each power of 3 contained within angle `a`\n",
    "    - (ceiling (/ log(/ a 0.1)) (log 3)))"
   ]
  },
  {
   "cell_type": "markdown",
   "metadata": {},
   "source": [
    "## 1.16"
   ]
  },
  {
   "cell_type": "code",
   "execution_count": 5,
   "metadata": {},
   "outputs": [],
   "source": [
    "(define (expt-iter b n)\n",
    "  (define (iter b n a)\n",
    "    (cond ((= n 0) a)\n",
    "          ((is-even n) (iter (square b) (/ n 2) a))\n",
    "          (else (iter b (- n 1) (* a b)))))\n",
    "  (iter b n 1))\n",
    "\n",
    "(define (square x) (* x x))\n",
    "(define (is-even n)\n",
    "  (= (remainder n 2) 0))"
   ]
  },
  {
   "cell_type": "markdown",
   "metadata": {},
   "source": [
    "## 1.17"
   ]
  },
  {
   "cell_type": "code",
   "execution_count": null,
   "metadata": {},
   "outputs": [],
   "source": [
    "(define (double x) (+ x x))\n",
    "(define (halve x) (/ x 2))\n",
    "\n",
    "(define (* a b)\n",
    "  (cond ((= b 0) 0)\n",
    "        ((is-even b) (double (* a (halve b))))\n",
    "        (else (+ a (* a (- b 1))))))"
   ]
  },
  {
   "cell_type": "markdown",
   "metadata": {},
   "source": [
    "## 1.18\n",
    "\n",
    "Modify solution to `1.17` to introduce state variable `c` with the invariant property that `a * b + c` remains unchanged between state transitions.\n",
    "- Multiplication not exponention as in `1.16` so invariant is different\n",
    "\n",
    "`c` should start at `0` and hold the product `a * b` by the end of the process."
   ]
  },
  {
   "cell_type": "code",
   "execution_count": null,
   "metadata": {},
   "outputs": [],
   "source": [
    "(define (*-iter a b)\n",
    "  (define (iter a b c)\n",
    "    (cond ((= b 0) c)\n",
    "          ((is-even b) (iter (double a) (halve b) c))\n",
    "          (else (iter a (- b 1) (+ a c)))))\n",
    "  (iter a b 0))"
   ]
  },
  {
   "cell_type": "code",
   "execution_count": 31,
   "metadata": {},
   "outputs": [
    {
     "data": {
      "text/plain": [
       "15"
      ]
     },
     "execution_count": 31,
     "metadata": {},
     "output_type": "execute_result"
    }
   ],
   "source": [
    "(*-iter 5 3)"
   ]
  },
  {
   "cell_type": "markdown",
   "metadata": {},
   "source": [
    "## 1.19"
   ]
  },
  {
   "cell_type": "markdown",
   "metadata": {},
   "source": [
    "$T_{pq}$ transforms $(a,b)$:\n",
    "- $a \\leftarrow bq + aq + ap$\n",
    "- $b \\leftarrow bp + aq$\n",
    "\n",
    "$$a'=bq + aq + ap = (p+q)a+bq$$\n",
    "$$b'=bp+aq$$\n",
    "\n",
    "$$a''=b'q+a'q+a'p$$\n",
    "$$b''=b'p+a'q$$\n",
    "\n",
    "$$a''=(p^2+2q^2+2pq)a+(2pq+q^2)b$$\n",
    "$$b''=(2pq+q^2)a+(p^2+q^2)b$$\n",
    "\n",
    "$$p'=(p^2+q^2)$$\n",
    "$$q'=(2pq+q^2)$$"
   ]
  },
  {
   "cell_type": "code",
   "execution_count": 6,
   "metadata": {},
   "outputs": [
    {
     "data": {
      "text/plain": [
       "21"
      ]
     },
     "execution_count": 6,
     "metadata": {},
     "output_type": "execute_result"
    }
   ],
   "source": [
    "(define (fib n)\n",
    "  (fib-iter 1 0 0 1 n))\n",
    "(define (fib-iter a b p q count)\n",
    "  (cond ((= count 0) b)\n",
    "        ((is-even count)\n",
    "         (fib-iter a\n",
    "                   b\n",
    "                   (+ (square p) (square q))\n",
    "                   (+ (* 2 p q) (square q))\n",
    "                   (/ count 2)))\n",
    "        (else (fib-iter (+ (* b q) (* a q) (* a p))\n",
    "                        (+ (* b p) (* a q))\n",
    "                        p\n",
    "                        q\n",
    "                        (- count 1)))))\n",
    "(fib 8)"
   ]
  },
  {
   "cell_type": "markdown",
   "metadata": {},
   "source": [
    "## 1.20"
   ]
  },
  {
   "cell_type": "code",
   "execution_count": 3,
   "metadata": {},
   "outputs": [
    {
     "data": {
      "text/plain": [
       "2"
      ]
     },
     "execution_count": 3,
     "metadata": {},
     "output_type": "execute_result"
    }
   ],
   "source": [
    "(define (gcd a b)\n",
    "  (if (= b 0)\n",
    "      a\n",
    "      (gcd b (remainder a b))))\n",
    "\n",
    "(gcd 206 40)"
   ]
  },
  {
   "cell_type": "markdown",
   "metadata": {},
   "source": [
    "Normal order substitution method:\n",
    "```\n",
    "(gcd 206 40)\n",
    "\n",
    "(if (= 40 0) ...)\n",
    "\n",
    "(gcd 40 (remainder 206 40))\n",
    "\n",
    "(if (= (remainder 206 40) 0) ...)\n",
    "\n",
    "(if (= 6 0) ...)\n",
    "\n",
    "(gcd (remainder 206 40) (remainder 40 (remainder 206 40)))\n",
    "\n",
    "(if (= (remainder 40 (remainder 206 40)) 0) ...)\n",
    "\n",
    "(if (= 4 0) ...)\n",
    "\n",
    "(gcd (gcd remainder 40 (remainder 206 40)) (remainder (remainder 206 40) \n",
    "(remainder 40 (remainder 206 40))))\n",
    "\n",
    "(if (= (remainder (remainder 206 40) (remainder 40 (remainder 206 40))) 0) ...)\n",
    "\n",
    "(if (= 2 0))\n",
    "\n",
    "(gcd (remainder (remainder 206 40) (remainder 40 (remainder 206 40))) (remainder (remainder 40 (remainder 206 40)) (remainder (remainder 206 40) (remainder 40 (remainder 206 40))))) \n",
    "\n",
    "(if (= (remainder (remainder 40 (remainder 206 40)) (remainder (remainder 206 40) (remainder 40 (remainder 206 40)))) 0) ...) \n",
    "\n",
    "(if (= 0 0) ...) \n",
    "\n",
    "(remainder (remainder 206 40) (remainder 40 (remainder 206 40)))\n",
    "```\n",
    "Normal order = **18** calls to `remainder`\n",
    "\n",
    "Applicative order substitution method:\n",
    "```\n",
    "(gcd 206 40) \n",
    "\n",
    "(gcd 40 (remainder 206 40)) \n",
    "\n",
    "(gcd 40 6) \n",
    "\n",
    "(gcd 6 (remainder 40 6)) \n",
    "\n",
    "(gcd 6 4) \n",
    "\n",
    "(gcd 4 (remainder 6 4)) \n",
    "\n",
    "(gcd 4 2) \n",
    "\n",
    "(gcd 2 (remainder 4 2)) \n",
    "\n",
    "(gcd 2 0)\n",
    "```\n",
    "Applicative order = **4** calls to `remainder`"
   ]
  },
  {
   "cell_type": "markdown",
   "metadata": {},
   "source": [
    "## 1.21"
   ]
  },
  {
   "cell_type": "code",
   "execution_count": 5,
   "metadata": {},
   "outputs": [],
   "source": [
    "(define (smallest-divisor n)\n",
    "  (find-divisor n 2))\n",
    "(define (find-divisor n test-divisor)\n",
    "  (cond ((> (square test-divisor) n) n)\n",
    "        ((divides? test-divisor n) test-divisor)\n",
    "        (else (find-divisor n (+ test-divisor 1)))))\n",
    "(define (divides? a b)\n",
    "  (= (remainder b a) 0))"
   ]
  },
  {
   "cell_type": "code",
   "execution_count": 6,
   "metadata": {},
   "outputs": [
    {
     "data": {
      "text/plain": [
       "199"
      ]
     },
     "execution_count": 6,
     "metadata": {},
     "output_type": "execute_result"
    }
   ],
   "source": [
    "(smallest-divisor 199)"
   ]
  },
  {
   "cell_type": "code",
   "execution_count": 7,
   "metadata": {},
   "outputs": [
    {
     "data": {
      "text/plain": [
       "1999"
      ]
     },
     "execution_count": 7,
     "metadata": {},
     "output_type": "execute_result"
    }
   ],
   "source": [
    "(smallest-divisor 1999)"
   ]
  },
  {
   "cell_type": "code",
   "execution_count": 8,
   "metadata": {},
   "outputs": [
    {
     "data": {
      "text/plain": [
       "7"
      ]
     },
     "execution_count": 8,
     "metadata": {},
     "output_type": "execute_result"
    }
   ],
   "source": [
    "(smallest-divisor 19999)"
   ]
  },
  {
   "cell_type": "markdown",
   "metadata": {},
   "source": [
    "## 1.22"
   ]
  },
  {
   "cell_type": "code",
   "execution_count": 30,
   "metadata": {},
   "outputs": [],
   "source": [
    "; runtime primitive not implemented in Calysto Scheme 3\n",
    "; use current-time primitive converted to microseconds instead\n",
    "(define (current-time-micro) (* (current-time) 1000000))\n",
    "\n",
    "(define (prime? n)\n",
    "  (= n (smallest-divisor n)))\n",
    "\n",
    "(define (timed-prime-test n)\n",
    "  (newline)\n",
    "  (display n)\n",
    "  (start-prime-test n (current-time-micro)))\n",
    "(define (start-prime-test n start-time)\n",
    "  (if (prime? n)\n",
    "      (report-prime (- (current-time-micro) start-time))))\n",
    "(define (report-prime elapsed-time)\n",
    "  (display \" *** \")\n",
    "  (display elapsed-time))\n",
    "\n",
    "(define (search-for-primes lower upper)\n",
    "  (define (iter current upper)\n",
    "    (if (<= current upper) (timed-prime-test current))\n",
    "    (if (<= current upper) (iter (+ current 2) upper)))\n",
    "  (iter (if (is-even lower) (+ lower 1) lower)\n",
    "        (if (is-even upper) (- upper 1) upper)))"
   ]
  },
  {
   "cell_type": "markdown",
   "metadata": {},
   "source": [
    "To find 3 smalest primes larger than 1000, 10,000 and 100,000. Run `search-for-primes` with each lower bound and an arbitrary upper bound to find where the 3rd smallest prime larger that the lower bound lies. The upper bounds in the following cells are where the 3rd prime lies (reduce wasted output space)."
   ]
  },
  {
   "cell_type": "code",
   "execution_count": 30,
   "metadata": {},
   "outputs": [
    {
     "name": "stdout",
     "output_type": "stream",
     "text": [
      "\n",
      "1001\n",
      "1003\n",
      "1005\n",
      "1007\n",
      "1009 *** 27657.0\n",
      "1011\n",
      "1013 *** 24878.25\n",
      "1015\n",
      "1017\n",
      "1019 *** 24663.0"
     ]
    },
    {
     "data": {
      "text/plain": [
       "#f"
      ]
     },
     "execution_count": 30,
     "metadata": {},
     "output_type": "execute_result"
    }
   ],
   "source": [
    "(search-for-primes 1000 1019)"
   ]
  },
  {
   "cell_type": "code",
   "execution_count": 32,
   "metadata": {},
   "outputs": [
    {
     "name": "stdout",
     "output_type": "stream",
     "text": [
      "\n",
      "10001\n",
      "10003\n",
      "10005\n",
      "10007 *** 78146.75\n",
      "10009 *** 91732.25\n",
      "10011\n",
      "10013\n",
      "10015\n",
      "10017\n",
      "10019\n",
      "10021\n",
      "10023\n",
      "10025\n",
      "10027\n",
      "10029\n",
      "10031\n",
      "10033\n",
      "10035\n",
      "10037 *** 83006.5"
     ]
    },
    {
     "data": {
      "text/plain": [
       "#f"
      ]
     },
     "execution_count": 32,
     "metadata": {},
     "output_type": "execute_result"
    }
   ],
   "source": [
    "(search-for-primes 10000 10037)"
   ]
  },
  {
   "cell_type": "code",
   "execution_count": 34,
   "metadata": {},
   "outputs": [
    {
     "name": "stdout",
     "output_type": "stream",
     "text": [
      "\n",
      "100001\n",
      "100003 *** 295533.5\n",
      "100005\n",
      "100007\n",
      "100009\n",
      "100011\n",
      "100013\n",
      "100015\n",
      "100017\n",
      "100019 *** 356780.0\n",
      "100021\n",
      "100023\n",
      "100025\n",
      "100027\n",
      "100029\n",
      "100031\n",
      "100033\n",
      "100035\n",
      "100037\n",
      "100039\n",
      "100041\n",
      "100043 *** 400793.0"
     ]
    },
    {
     "data": {
      "text/plain": [
       "#f"
      ]
     },
     "execution_count": 34,
     "metadata": {},
     "output_type": "execute_result"
    }
   ],
   "source": [
    "(search-for-primes 100000 100043)"
   ]
  },
  {
   "cell_type": "code",
   "execution_count": 46,
   "metadata": {},
   "outputs": [
    {
     "name": "stdout",
     "output_type": "stream",
     "text": [
      "\n",
      "1000001\n",
      "1000003 *** 1577142.0\n",
      "1000005\n",
      "1000007\n",
      "1000009\n",
      "1000011\n",
      "1000013\n",
      "1000015\n",
      "1000017\n",
      "1000019\n",
      "1000021\n",
      "1000023\n",
      "1000025\n",
      "1000027\n",
      "1000029\n",
      "1000031\n",
      "1000033 *** 1277147.25\n",
      "1000035\n",
      "1000037 *** 1402371.75"
     ]
    },
    {
     "data": {
      "text/plain": [
       "#f"
      ]
     },
     "execution_count": 46,
     "metadata": {},
     "output_type": "execute_result"
    }
   ],
   "source": [
    "(search-for-primes 1000000 1000037)"
   ]
  },
  {
   "cell_type": "code",
   "execution_count": 47,
   "metadata": {},
   "outputs": [
    {
     "data": {
      "text/plain": [
       "1418887.0"
      ]
     },
     "execution_count": 47,
     "metadata": {},
     "output_type": "execute_result"
    }
   ],
   "source": [
    "(define (average3 x y z)\n",
    "  (/ (+ x y z) 3))\n",
    "\n",
    "(average3 27657.0 24878.25 24663.0)\n",
    "(average3 78146.75 91732.25 83006.5)\n",
    "(average3 295533.5 356780.0 400793.0)\n",
    "(average3 1577142.0 1277147.25 1402371.75)"
   ]
  },
  {
   "cell_type": "markdown",
   "metadata": {},
   "source": [
    "|   n    | Time $\\mu s$ |\n",
    "|:------:|:------------:|\n",
    "|  1000  | 25732.75     |\n",
    "|  10000 | 84295.17     |\n",
    "| 100000 | 351035.5     |\n",
    "| 1000000 | 1418887.0   |"
   ]
  },
  {
   "cell_type": "code",
   "execution_count": 43,
   "metadata": {},
   "outputs": [
    {
     "data": {
      "text/plain": [
       "3.1622776601683795"
      ]
     },
     "execution_count": 43,
     "metadata": {},
     "output_type": "execute_result"
    }
   ],
   "source": [
    "(sqrt 10)"
   ]
  },
  {
   "cell_type": "code",
   "execution_count": 41,
   "metadata": {},
   "outputs": [
    {
     "data": {
      "text/plain": [
       "3.2757932984232156"
      ]
     },
     "execution_count": 41,
     "metadata": {},
     "output_type": "execute_result"
    }
   ],
   "source": [
    "(/ 84295.17 25732.75)"
   ]
  },
  {
   "cell_type": "code",
   "execution_count": 44,
   "metadata": {},
   "outputs": [
    {
     "data": {
      "text/plain": [
       "4.164360781287943"
      ]
     },
     "execution_count": 44,
     "metadata": {},
     "output_type": "execute_result"
    }
   ],
   "source": [
    "(/ 351035.5 84295.17)"
   ]
  },
  {
   "cell_type": "code",
   "execution_count": 48,
   "metadata": {},
   "outputs": [
    {
     "data": {
      "text/plain": [
       "4.04200429871053"
      ]
     },
     "execution_count": 48,
     "metadata": {},
     "output_type": "execute_result"
    }
   ],
   "source": [
    "(/ 1418887.0 351035.5)"
   ]
  },
  {
   "cell_type": "markdown",
   "metadata": {},
   "source": [
    "## 1.24"
   ]
  },
  {
   "cell_type": "code",
   "execution_count": 15,
   "metadata": {},
   "outputs": [],
   "source": [
    "(define (expmod base exp m)\n",
    "  (cond ((= exp 0) 1)\n",
    "        ((even? exp) \n",
    "         (remainder (square (expmod base (/ exp 2) m))m))\n",
    "        (else \n",
    "         (remainder (* base (expmod base (- exp 1) m))m))))\n",
    "\n",
    "(define (fermat-test n)\n",
    " (define (try-it a)\n",
    " (= (expmod a n n) a))\n",
    " (try-it (+ 1 (random (- n 1)))))\n",
    "(define (fast-prime? n times)\n",
    " (cond ((= times 0) #t)\n",
    " ((fermat-test n) (fast-prime? n (- times 1)))\n",
    " (else #f)))\n",
    "\n",
    "\n",
    "(define (timed-fast-prime-test n)\n",
    "  (newline)\n",
    "  (display n)\n",
    "  (start-prime-test n (current-time-micro)))\n",
    "(define (start-prime-test n start-time)\n",
    "  ; arbitrary number of tests\n",
    "  (if (fast-prime? n 100) \n",
    "      (report-prime (- (current-time-micro) start-time))))\n",
    "(define (report-prime elapsed-time)\n",
    "  (display \" *** \")\n",
    "  (display elapsed-time))"
   ]
  },
  {
   "cell_type": "code",
   "execution_count": 60,
   "metadata": {},
   "outputs": [
    {
     "name": "stdout",
     "output_type": "stream",
     "text": [
      "\n",
      "1009 *** 2023840.25"
     ]
    }
   ],
   "source": [
    "(timed-fast-prime-test 1009)"
   ]
  },
  {
   "cell_type": "code",
   "execution_count": 61,
   "metadata": {},
   "outputs": [
    {
     "name": "stdout",
     "output_type": "stream",
     "text": [
      "\n",
      "1013 *** 1858965.75"
     ]
    }
   ],
   "source": [
    "(timed-fast-prime-test 1013)"
   ]
  },
  {
   "cell_type": "code",
   "execution_count": 62,
   "metadata": {},
   "outputs": [
    {
     "name": "stdout",
     "output_type": "stream",
     "text": [
      "\n",
      "1019 *** 1903597.25"
     ]
    }
   ],
   "source": [
    "(timed-fast-prime-test 1019)"
   ]
  },
  {
   "cell_type": "code",
   "execution_count": 63,
   "metadata": {},
   "outputs": [
    {
     "name": "stdout",
     "output_type": "stream",
     "text": [
      "\n",
      "10007 *** 3343810.0"
     ]
    }
   ],
   "source": [
    "(timed-fast-prime-test 10007)"
   ]
  },
  {
   "cell_type": "code",
   "execution_count": 64,
   "metadata": {},
   "outputs": [
    {
     "name": "stdout",
     "output_type": "stream",
     "text": [
      "\n",
      "10009 *** 3099679.75"
     ]
    }
   ],
   "source": [
    "(timed-fast-prime-test 10009)"
   ]
  },
  {
   "cell_type": "code",
   "execution_count": 65,
   "metadata": {},
   "outputs": [
    {
     "name": "stdout",
     "output_type": "stream",
     "text": [
      "\n",
      "10037 *** 2680772.5"
     ]
    }
   ],
   "source": [
    "(timed-fast-prime-test 10037)"
   ]
  },
  {
   "cell_type": "code",
   "execution_count": 66,
   "metadata": {},
   "outputs": [
    {
     "name": "stdout",
     "output_type": "stream",
     "text": [
      "\n",
      "100003 *** 3355807.0"
     ]
    }
   ],
   "source": [
    "(timed-fast-prime-test 100003)"
   ]
  },
  {
   "cell_type": "code",
   "execution_count": 67,
   "metadata": {},
   "outputs": [
    {
     "name": "stdout",
     "output_type": "stream",
     "text": [
      "\n",
      "100019 *** 3775779.5"
     ]
    }
   ],
   "source": [
    "(timed-fast-prime-test 100019)"
   ]
  },
  {
   "cell_type": "code",
   "execution_count": 68,
   "metadata": {},
   "outputs": [
    {
     "name": "stdout",
     "output_type": "stream",
     "text": [
      "\n",
      "100043 *** 4066553.5"
     ]
    }
   ],
   "source": [
    "(timed-fast-prime-test 100043)"
   ]
  },
  {
   "cell_type": "code",
   "execution_count": 69,
   "metadata": {},
   "outputs": [
    {
     "name": "stdout",
     "output_type": "stream",
     "text": [
      "\n",
      "1000003 *** 3612945.25"
     ]
    }
   ],
   "source": [
    "(timed-fast-prime-test 1000003)"
   ]
  },
  {
   "cell_type": "code",
   "execution_count": 70,
   "metadata": {},
   "outputs": [
    {
     "name": "stdout",
     "output_type": "stream",
     "text": [
      "\n",
      "1000003 *** 4587879.75"
     ]
    }
   ],
   "source": [
    "(timed-fast-prime-test 1000003)"
   ]
  },
  {
   "cell_type": "code",
   "execution_count": 71,
   "metadata": {},
   "outputs": [
    {
     "name": "stdout",
     "output_type": "stream",
     "text": [
      "\n",
      "1000037 *** 4378834.0"
     ]
    }
   ],
   "source": [
    "(timed-fast-prime-test 1000037)"
   ]
  },
  {
   "cell_type": "markdown",
   "metadata": {},
   "source": [
    "Testing numbers with twice as many digits is *roughly* twice as slow - supporting logarithmic growth."
   ]
  },
  {
   "cell_type": "markdown",
   "metadata": {},
   "source": [
    "## 1.25\n",
    "`expmod` using `fast-iter` will produce the same correct results as `expmod`. However, it will compute very large squares as intermediate values. This will slow down the procedure as arithmetic with such large numbers is computationally expensive.\n",
    "\n",
    "The modified version of `square` below displays the `x` to be squared in order to demonstrate this."
   ]
  },
  {
   "cell_type": "code",
   "execution_count": 22,
   "metadata": {},
   "outputs": [],
   "source": [
    "(define (square x)\n",
    "  (display \"square \")(display x)(newline)\n",
    "  (* x x))\n",
    "\n",
    "(define (fast-expt b n)\n",
    "  (cond ((= n 0) 1)\n",
    "        ((is-even n) (square (fast-expt b (/ n 2))))\n",
    "         (else (* b (fast-expt b (- n 1))))))\n",
    "\n",
    "(define (expmod-fast-expt base exp m)\n",
    "  (remainder (fast-expt base exp) m))"
   ]
  },
  {
   "cell_type": "code",
   "execution_count": 28,
   "metadata": {},
   "outputs": [
    {
     "name": "stdout",
     "output_type": "stream",
     "text": [
      "square 2\n",
      "square 4\n",
      "square 16\n",
      "square 62\n",
      "square 94\n",
      "square 122\n",
      "square 68\n"
     ]
    },
    {
     "data": {
      "text/plain": [
       "124"
      ]
     },
     "execution_count": 28,
     "metadata": {},
     "output_type": "execute_result"
    }
   ],
   "source": [
    "(expmod 2 150 150)"
   ]
  },
  {
   "cell_type": "code",
   "execution_count": 29,
   "metadata": {},
   "outputs": [
    {
     "name": "stdout",
     "output_type": "stream",
     "text": [
      "square 2\n",
      "square 4\n",
      "square 16\n",
      "square 512\n",
      "square 262144\n",
      "square 137438953472\n",
      "square 37778931862957161709568\n"
     ]
    },
    {
     "data": {
      "text/plain": [
       "124"
      ]
     },
     "execution_count": 29,
     "metadata": {},
     "output_type": "execute_result"
    }
   ],
   "source": [
    "(expmod-fast-expt 2 150 150)"
   ]
  },
  {
   "cell_type": "markdown",
   "metadata": {},
   "source": [
    "## 1.26"
   ]
  },
  {
   "cell_type": "markdown",
   "metadata": {},
   "source": [
    "Replacing the calls to `square` with explicit multiplication changes `expmod` from a *linear* recursive process to a *tree* recursive process.\n",
    "\n",
    "The exection time of the tree recursion grows exponentially (two calls to `expmod` each time) with the depth of the tree. The depth of a tree is `O(log n)`, therefore the execution time is `O((log n)^2) -> O(log n)`"
   ]
  },
  {
   "cell_type": "markdown",
   "metadata": {},
   "source": [
    "## 1.27\n",
    "Carmichael numbers < 100,000,000:\n",
    "```\n",
    "561\n",
    "1105\n",
    "1729\n",
    "2465\n",
    "2821\n",
    "6601\n",
    "```\n",
    "\n",
    "`full-fermat` tests if $a^n$ is congruent to $a\\bmod n$ for every $a<n$ for a given integer $n$.\n",
    "\n",
    "Each of the Carmichael numbers are **not prime** and thus the fermat test **should** return false. However, as can be seen below, `full-fermat` returns `#t` for each of them."
   ]
  },
  {
   "cell_type": "code",
   "execution_count": 3,
   "metadata": {},
   "outputs": [],
   "source": [
    "(define (square x) (* x x))\n",
    "\n",
    "(define (full-fermat n)\n",
    "  (define (iter a n) \n",
    "     (if (= a n) #t \n",
    "         (if (= (expmod a n n) a) (iter (+ a 1) n) #f))) \n",
    "   (iter 1 n))"
   ]
  },
  {
   "cell_type": "code",
   "execution_count": 45,
   "metadata": {},
   "outputs": [
    {
     "data": {
      "text/plain": [
       "#t"
      ]
     },
     "execution_count": 45,
     "metadata": {},
     "output_type": "execute_result"
    }
   ],
   "source": [
    "(full-fermat 561)"
   ]
  },
  {
   "cell_type": "code",
   "execution_count": 46,
   "metadata": {},
   "outputs": [
    {
     "data": {
      "text/plain": [
       "#t"
      ]
     },
     "execution_count": 46,
     "metadata": {},
     "output_type": "execute_result"
    }
   ],
   "source": [
    "(full-fermat 1105)"
   ]
  },
  {
   "cell_type": "code",
   "execution_count": 47,
   "metadata": {},
   "outputs": [
    {
     "data": {
      "text/plain": [
       "#t"
      ]
     },
     "execution_count": 47,
     "metadata": {},
     "output_type": "execute_result"
    }
   ],
   "source": [
    "(full-fermat 1729)"
   ]
  },
  {
   "cell_type": "code",
   "execution_count": 48,
   "metadata": {},
   "outputs": [
    {
     "data": {
      "text/plain": [
       "#t"
      ]
     },
     "execution_count": 48,
     "metadata": {},
     "output_type": "execute_result"
    }
   ],
   "source": [
    "(full-fermat 2465)"
   ]
  },
  {
   "cell_type": "code",
   "execution_count": 49,
   "metadata": {},
   "outputs": [
    {
     "data": {
      "text/plain": [
       "#t"
      ]
     },
     "execution_count": 49,
     "metadata": {},
     "output_type": "execute_result"
    }
   ],
   "source": [
    "(full-fermat 2821)"
   ]
  },
  {
   "cell_type": "code",
   "execution_count": 50,
   "metadata": {},
   "outputs": [
    {
     "data": {
      "text/plain": [
       "#t"
      ]
     },
     "execution_count": 50,
     "metadata": {},
     "output_type": "execute_result"
    }
   ],
   "source": [
    "(full-fermat 6601)"
   ]
  },
  {
   "cell_type": "markdown",
   "metadata": {},
   "source": [
    "## 1.28\n",
    "Nontrivial square root of 1 modulo n:\n",
    "- Number not equal to 1 or n -1\n",
    "- Whose square is **congruent** to 1 modulo n\n",
    "    - Corrected from error in book"
   ]
  },
  {
   "cell_type": "code",
   "execution_count": 12,
   "metadata": {},
   "outputs": [],
   "source": [
    "(define (non-trivial-sqrt1? n m)\n",
    "  (cond ((= n 1) #f)\n",
    "        ((= n (- m 1)) #f)\n",
    "        (else (= (remainder (square n) m) 1))))\n",
    "\n",
    "(define (square-check n m)\n",
    "  (if (non-trivial-sqrt1? n m)\n",
    "      0\n",
    "      (remainder (square n) m)))\n",
    "\n",
    "(define (miller-rabin-expmod base exp m)\n",
    "  (cond ((= exp 0) 1)\n",
    "        ((even? exp)\n",
    "         (square-check (miller-rabin-expmod base (/ exp 2) m) m))\n",
    "        (else\n",
    "         (remainder (* base (expmod base (- exp 1) m)) m))))\n",
    "\n",
    "(define (miller-rabin-test n)\n",
    "  (define (iter a)\n",
    "    (= (miller-rabin-expmod a (- n 1) n) 1))\n",
    "  (iter (+ 2 (random (- n 2)))))"
   ]
  },
  {
   "cell_type": "markdown",
   "metadata": {},
   "source": [
    "Test Carmichael Numbers:"
   ]
  },
  {
   "cell_type": "code",
   "execution_count": 13,
   "metadata": {},
   "outputs": [
    {
     "data": {
      "text/plain": [
       "#f"
      ]
     },
     "execution_count": 13,
     "metadata": {},
     "output_type": "execute_result"
    }
   ],
   "source": [
    "(miller-rabin-test 561)"
   ]
  },
  {
   "cell_type": "code",
   "execution_count": 14,
   "metadata": {},
   "outputs": [
    {
     "data": {
      "text/plain": [
       "#f"
      ]
     },
     "execution_count": 14,
     "metadata": {},
     "output_type": "execute_result"
    }
   ],
   "source": [
    "(miller-rabin-test 1105)"
   ]
  },
  {
   "cell_type": "code",
   "execution_count": 15,
   "metadata": {},
   "outputs": [
    {
     "data": {
      "text/plain": [
       "#f"
      ]
     },
     "execution_count": 15,
     "metadata": {},
     "output_type": "execute_result"
    }
   ],
   "source": [
    "(miller-rabin-test 1729)"
   ]
  },
  {
   "cell_type": "code",
   "execution_count": 16,
   "metadata": {},
   "outputs": [
    {
     "data": {
      "text/plain": [
       "#f"
      ]
     },
     "execution_count": 16,
     "metadata": {},
     "output_type": "execute_result"
    }
   ],
   "source": [
    "(miller-rabin-test 2465)"
   ]
  },
  {
   "cell_type": "code",
   "execution_count": 17,
   "metadata": {},
   "outputs": [
    {
     "data": {
      "text/plain": [
       "#f"
      ]
     },
     "execution_count": 17,
     "metadata": {},
     "output_type": "execute_result"
    }
   ],
   "source": [
    "(miller-rabin-test 2821)"
   ]
  },
  {
   "cell_type": "code",
   "execution_count": 18,
   "metadata": {},
   "outputs": [
    {
     "data": {
      "text/plain": [
       "#f"
      ]
     },
     "execution_count": 18,
     "metadata": {},
     "output_type": "execute_result"
    }
   ],
   "source": [
    "(miller-rabin-test 6601)"
   ]
  },
  {
   "cell_type": "markdown",
   "metadata": {},
   "source": [
    "Test Known Primes:"
   ]
  },
  {
   "cell_type": "code",
   "execution_count": 19,
   "metadata": {},
   "outputs": [
    {
     "data": {
      "text/plain": [
       "#t"
      ]
     },
     "execution_count": 19,
     "metadata": {},
     "output_type": "execute_result"
    }
   ],
   "source": [
    "(miller-rabin-test 5)"
   ]
  },
  {
   "cell_type": "code",
   "execution_count": 20,
   "metadata": {},
   "outputs": [
    {
     "data": {
      "text/plain": [
       "#t"
      ]
     },
     "execution_count": 20,
     "metadata": {},
     "output_type": "execute_result"
    }
   ],
   "source": [
    "(miller-rabin-test 7)"
   ]
  },
  {
   "cell_type": "code",
   "execution_count": 21,
   "metadata": {},
   "outputs": [
    {
     "data": {
      "text/plain": [
       "#t"
      ]
     },
     "execution_count": 21,
     "metadata": {},
     "output_type": "execute_result"
    }
   ],
   "source": [
    "(miller-rabin-test 29)"
   ]
  },
  {
   "cell_type": "markdown",
   "metadata": {},
   "source": [
    "Test known non-primes:"
   ]
  },
  {
   "cell_type": "code",
   "execution_count": 26,
   "metadata": {},
   "outputs": [
    {
     "data": {
      "text/plain": [
       "#f"
      ]
     },
     "execution_count": 26,
     "metadata": {},
     "output_type": "execute_result"
    }
   ],
   "source": [
    "(miller-rabin-test 6)"
   ]
  },
  {
   "cell_type": "code",
   "execution_count": 27,
   "metadata": {},
   "outputs": [
    {
     "data": {
      "text/plain": [
       "#f"
      ]
     },
     "execution_count": 27,
     "metadata": {},
     "output_type": "execute_result"
    }
   ],
   "source": [
    "(miller-rabin-test 15)"
   ]
  },
  {
   "cell_type": "code",
   "execution_count": 28,
   "metadata": {},
   "outputs": [
    {
     "data": {
      "text/plain": [
       "#f"
      ]
     },
     "execution_count": 28,
     "metadata": {},
     "output_type": "execute_result"
    }
   ],
   "source": [
    "(miller-rabin-test 21)"
   ]
  },
  {
   "cell_type": "code",
   "execution_count": 29,
   "metadata": {},
   "outputs": [
    {
     "data": {
      "text/plain": [
       "#f"
      ]
     },
     "execution_count": 29,
     "metadata": {},
     "output_type": "execute_result"
    }
   ],
   "source": [
    "(miller-rabin-test 256)"
   ]
  },
  {
   "cell_type": "markdown",
   "metadata": {},
   "source": [
    "## 1.29\n",
    "\n",
    "### Simpsons rule\n",
    "Approximation of the integral of a function $f$ between $a$ and $b$: $\\frac{h}{3}[y_0+4y_1+2y_2+4y_3+2y_4+...+2y_{n-2}+4y_{n-1}+y_n]$\n",
    "\n",
    "Where:\n",
    "- $h=\\frac{(b-a)}{n}$ for some even integer {n}\n",
    "- $y_k=f(a+kh)$"
   ]
  },
  {
   "cell_type": "code",
   "execution_count": 6,
   "metadata": {},
   "outputs": [],
   "source": [
    "(define (cube x) (* x x x))\n",
    "\n",
    "(define (increment n) (+ n 1))\n",
    "\n",
    "(define (sum term a next b)\n",
    "  (if (> a b)\n",
    "      0\n",
    "      (+ (term a)\n",
    "         (sum term (next a) next b))))\n",
    "\n",
    "(define (simpsons f a b n)\n",
    "  (define h (/ (- b a) n))\n",
    "  (define (simpsons-term k)\n",
    "    (define y (f (+ a (* k h))))\n",
    "    (* (cond ((or (= k 0) (= k n)) 1)\n",
    "             ((is-even k) 2)\n",
    "             (else 4))\n",
    "       y))\n",
    "  (* (/ h 3) (sum simpsons-term 0 increment n)))"
   ]
  },
  {
   "cell_type": "code",
   "execution_count": 4,
   "metadata": {},
   "outputs": [
    {
     "data": {
      "text/plain": [
       "1/4"
      ]
     },
     "execution_count": 4,
     "metadata": {},
     "output_type": "execute_result"
    }
   ],
   "source": [
    "(simpsons cube 0 1 100)"
   ]
  },
  {
   "cell_type": "code",
   "execution_count": 5,
   "metadata": {},
   "outputs": [
    {
     "data": {
      "text/plain": [
       "1/4"
      ]
     },
     "execution_count": 5,
     "metadata": {},
     "output_type": "execute_result"
    }
   ],
   "source": [
    "(simpsons cube 0 1 1000)"
   ]
  },
  {
   "cell_type": "markdown",
   "metadata": {},
   "source": [
    "## 1.30"
   ]
  },
  {
   "cell_type": "code",
   "execution_count": 10,
   "metadata": {},
   "outputs": [],
   "source": [
    "(define (sum term a next b)\n",
    "  (define (iter a result)\n",
    "    (if (> a b)\n",
    "        result\n",
    "        (iter (next a) (+ (term a) result))))\n",
    "  (iter a 0))\n",
    "\n",
    "; test with simple function\n",
    "(define (identity x) x)\n",
    "(define (sum-integers a b)\n",
    "  (sum identity a increment b))"
   ]
  },
  {
   "cell_type": "code",
   "execution_count": 11,
   "metadata": {},
   "outputs": [
    {
     "data": {
      "text/plain": [
       "55"
      ]
     },
     "execution_count": 11,
     "metadata": {},
     "output_type": "execute_result"
    }
   ],
   "source": [
    "(sum-integers 1 10)"
   ]
  },
  {
   "cell_type": "markdown",
   "metadata": {},
   "source": [
    "## 1.31\n"
   ]
  },
  {
   "cell_type": "code",
   "execution_count": 15,
   "metadata": {},
   "outputs": [],
   "source": [
    "(define (product term a next b)\n",
    "  (define (iter a result)\n",
    "    (if (> a b)\n",
    "        result\n",
    "        (iter (next a) (* (term a) result))))\n",
    "  (iter a 1))\n",
    "\n",
    "(define (factorial n) (product identity 1 increment n))"
   ]
  },
  {
   "cell_type": "code",
   "execution_count": 18,
   "metadata": {},
   "outputs": [
    {
     "data": {
      "text/plain": [
       "120"
      ]
     },
     "execution_count": 18,
     "metadata": {},
     "output_type": "execute_result"
    }
   ],
   "source": [
    "(factorial 5)"
   ]
  },
  {
   "cell_type": "code",
   "execution_count": 20,
   "metadata": {},
   "outputs": [],
   "source": [
    "(define (pi-term n) \n",
    "  (if (is-even n) \n",
    "      (/ (+ n 2) (+ n 1)) \n",
    "      (/ (+ n 1) (+ n 2))))\n",
    "\n",
    "(define (approx-pi n)\n",
    "  (* (product pi-term 1 increment n) 4))"
   ]
  },
  {
   "cell_type": "code",
   "execution_count": 22,
   "metadata": {},
   "outputs": [
    {
     "data": {
      "text/plain": [
       "4096/1225"
      ]
     },
     "execution_count": 22,
     "metadata": {},
     "output_type": "execute_result"
    }
   ],
   "source": [
    "(approx-pi 6)"
   ]
  },
  {
   "cell_type": "code",
   "execution_count": 1,
   "metadata": {},
   "outputs": [],
   "source": [
    "(define (product-recursive term a next b)\n",
    "  (if (> a b)\n",
    "      1\n",
    "      (* (term a)\n",
    "         (product-recursive term (next a) next b))))"
   ]
  },
  {
   "cell_type": "markdown",
   "metadata": {},
   "source": [
    "## 1.32"
   ]
  },
  {
   "cell_type": "code",
   "execution_count": 12,
   "metadata": {},
   "outputs": [],
   "source": [
    "(define (accumulate combiner null-value term a next b)\n",
    "  (define (iter a result)\n",
    "    (if (> a b)\n",
    "        result\n",
    "        (iter (next a) (combiner (term a) result))))\n",
    "  (iter a null-value))\n",
    "\n",
    "(define (sum term a next b)\n",
    "  (accumulate + 0 term a next b))\n",
    "\n",
    "(define (product term a next b)\n",
    "  (accumulate * 1 term a next b))"
   ]
  },
  {
   "cell_type": "code",
   "execution_count": 14,
   "metadata": {},
   "outputs": [],
   "source": [
    "(define (accumulate-recursive combiner null-value term a next b)\n",
    "  (if (> a b)\n",
    "      null-value\n",
    "      (combine (term a) \n",
    "               (accumulate-recursive combiner null-value term (next a) next b))))"
   ]
  },
  {
   "cell_type": "markdown",
   "metadata": {},
   "source": [
    "## 1.33"
   ]
  },
  {
   "cell_type": "code",
   "execution_count": 17,
   "metadata": {},
   "outputs": [],
   "source": [
    "(define (filtered-accumulate combiner null-value term a next b filter)\n",
    "  (define (iter a result)\n",
    "    (cond ((> a b) result)\n",
    "          ((filter a) (iter (next a) (combiner (term a) result)))\n",
    "          (else (iter (next a ) result))))\n",
    "  (iter a null-value))"
   ]
  },
  {
   "cell_type": "code",
   "execution_count": 20,
   "metadata": {},
   "outputs": [],
   "source": [
    "(define (sum-prime-squares a b)\n",
    "  (filtered-accumulate + 0 square a increment b prime))"
   ]
  },
  {
   "cell_type": "code",
   "execution_count": 21,
   "metadata": {},
   "outputs": [],
   "source": [
    "(define (gcd a b)\n",
    "  (if (= b 0)\n",
    "      a\n",
    "      (gcd b (remainder a b))))\n",
    "\n",
    "(define (relative-prime? x n)\n",
    "  (= (gcd x n)))\n",
    "\n",
    "(define (product-relatively-prime n)\n",
    "  (define (filter x)\n",
    "    (relative-prime? x n))\n",
    "  (filtered-accumulate * 1 identity a increment b filter))"
   ]
  },
  {
   "cell_type": "markdown",
   "metadata": {},
   "source": [
    "## 1.34\n",
    "`(f f)` will cause the interpreter will throw an error. The first invocation of `f` will apply it's argument of `f` to the value `2`. The second invocation will apply it's argument of `2` to `2` resulting in an error."
   ]
  },
  {
   "cell_type": "code",
   "execution_count": 1,
   "metadata": {},
   "outputs": [
    {
     "name": "stderr",
     "output_type": "stream",
     "text": [
      "\u001b[0;31m\n",
      "Traceback (most recent call last):\n",
      "  File \"In [1]\", line 3, col 1, in 'f'\n",
      "  File \"In [1]\", line 2, col 3, in 'g'\n",
      "  File \"In [1]\", line 2, col 3, in 'g'\n",
      "  File \"In [1]\", line 2, col 3\n",
      "RunTimeError: attempt to apply non-procedure '2'\n",
      "\n",
      "\u001b[0m"
     ]
    }
   ],
   "source": [
    "(define (f g)\n",
    "  (g 2))\n",
    "(f f)"
   ]
  },
  {
   "cell_type": "markdown",
   "metadata": {},
   "source": [
    "## 1.35\n",
    "\n",
    "$\\phi=\\frac{1+\\sqrt{5}}{2}$\n",
    "\n",
    "$x = 1 + \\frac{1}{x}$x\n",
    "\n",
    "$x^2 = x + 1$\n",
    "\n",
    "$x^2 - x -1 = 0$\n",
    "\n",
    "$x = \\frac{-(-x)\\pm\\sqrt{1^2-4\\cdot1\\cdot-1}}{2}$\n",
    "\n",
    "$x = \\frac{x + \\sqrt{5}}{2}$"
   ]
  },
  {
   "cell_type": "code",
   "execution_count": 75,
   "metadata": {},
   "outputs": [
    {
     "data": {
      "text/plain": [
       "1.6180327868852458"
      ]
     },
     "execution_count": 75,
     "metadata": {},
     "output_type": "execute_result"
    }
   ],
   "source": [
    "(define tolerance 0.00001)\n",
    "(define (fixed-point f first-guess)\n",
    "  (define (close-enough? v1 v2)\n",
    "    (< (abs (- v1 v2)) tolerance))\n",
    "  (define (try-guess guess) ; renamed from 'try' due to Python keyword conflict\n",
    "    (let ((next (f guess)))\n",
    "      (if (close-enough? guess next)\n",
    "          next\n",
    "          (try-guess next))))\n",
    "  (try-guess first-guess))\n",
    "(fixed-point (lambda (x) (+ 1 (/ 1 x))) 1.0)"
   ]
  },
  {
   "cell_type": "markdown",
   "metadata": {},
   "source": [
    "## 1.36\n",
    "Using average damping, the procedure completes in fewer steps:\n",
    "- No damping = 33 'guesses'\n",
    "- Damping = 8 'guesses'"
   ]
  },
  {
   "cell_type": "code",
   "execution_count": 44,
   "metadata": {},
   "outputs": [],
   "source": [
    "(define (fixed-point f first-guess)\n",
    "  (define (close-enough? v1 v2)\n",
    "    (< (abs (- v1 v2)) tolerance))\n",
    "  (define (try-guess guess)\n",
    "    (let ((next (f guess)))\n",
    "      (display guess)\n",
    "      (newline)\n",
    "      (if (close-enough? guess next)\n",
    "          next\n",
    "          (try-guess next))))\n",
    "  (try-guess first-guess))"
   ]
  },
  {
   "cell_type": "code",
   "execution_count": 45,
   "metadata": {},
   "outputs": [
    {
     "name": "stdout",
     "output_type": "stream",
     "text": [
      "2.0\n",
      "9.965784284662087\n",
      "3.004472209841214\n",
      "6.279195757507157\n",
      "3.759850702401539\n",
      "5.215843784925895\n",
      "4.182207192401397\n",
      "4.8277650983445906\n",
      "4.387593384662677\n",
      "4.671250085763899\n",
      "4.481403616895052\n",
      "4.6053657460929\n",
      "4.5230849678718865\n",
      "4.577114682047341\n",
      "4.541382480151454\n",
      "4.564903245230833\n",
      "4.549372679303342\n",
      "4.559606491913287\n",
      "4.552853875788271\n",
      "4.557305529748263\n",
      "4.554369064436181\n",
      "4.556305311532999\n",
      "4.555028263573554\n",
      "4.555870396702851\n",
      "4.555315001192079\n",
      "4.5556812635433275\n",
      "4.555439715736846\n",
      "4.555599009998291\n",
      "4.555493957531389\n",
      "4.555563237292884\n",
      "4.555517548417651\n",
      "4.555547679306398\n",
      "4.555527808516254\n",
      "4.555540912917957\n"
     ]
    },
    {
     "data": {
      "text/plain": [
       "4.555532270803653"
      ]
     },
     "execution_count": 45,
     "metadata": {},
     "output_type": "execute_result"
    }
   ],
   "source": [
    ";; calysto scheme doesn't implement Scheme log function\n",
    ";; import and use python version to replicate\n",
    "(import \"math\")\n",
    "(define (log x ) (math.log x))\n",
    "\n",
    "(fixed-point (lambda (x) (/ (log 1000) (log x))) 2.0)"
   ]
  },
  {
   "cell_type": "code",
   "execution_count": 43,
   "metadata": {},
   "outputs": [
    {
     "name": "stdout",
     "output_type": "stream",
     "text": [
      "2.0\n",
      "5.9828921423310435\n",
      "4.922168721308343\n",
      "4.628224318195455\n",
      "4.568346513136242\n",
      "4.5577305909237005\n",
      "4.555909809045131\n",
      "4.555599411610624\n",
      "4.5555465521473675\n"
     ]
    },
    {
     "data": {
      "text/plain": [
       "4.555537551999825"
      ]
     },
     "execution_count": 43,
     "metadata": {},
     "output_type": "execute_result"
    }
   ],
   "source": [
    "(fixed-point (lambda (x) (average x (/ (log 1000) (log x)))) 2.0)"
   ]
  },
  {
   "cell_type": "markdown",
   "metadata": {},
   "source": [
    "## 1.37\n",
    "$k\\geq10$ is required to obtain an approximation of $\\phi$ accurate to 4 decimal places."
   ]
  },
  {
   "cell_type": "code",
   "execution_count": null,
   "metadata": {},
   "outputs": [],
   "source": [
    "(define (cont-frac n d k)\n",
    "  (define (iter result i)\n",
    "    (if (= i 0)\n",
    "        result\n",
    "        (iter (/ (n i)\n",
    "                 (+ (d i) result))\n",
    "              (- i 1))))\n",
    "  (iter 0 k))"
   ]
  },
  {
   "cell_type": "code",
   "execution_count": 79,
   "metadata": {},
   "outputs": [],
   "source": [
    "(define (phi-cont-frac k)\n",
    "  (cont-frac (lambda (i) 1.0) \n",
    "             (lambda (i) 1.0) \n",
    "             k))\n",
    "\n",
    "(define tolerance 0.0001)\n",
    "(define phi-expected 0.61803)\n",
    "(define (close-enough? guess)\n",
    "  (display guess)\n",
    "  (newline)\n",
    "  (< (abs (- guess phi-expected)) tolerance))"
   ]
  },
  {
   "cell_type": "code",
   "execution_count": 80,
   "metadata": {},
   "outputs": [
    {
     "name": "stdout",
     "output_type": "stream",
     "text": [
      "1.0\n"
     ]
    },
    {
     "data": {
      "text/plain": [
       "#f"
      ]
     },
     "execution_count": 80,
     "metadata": {},
     "output_type": "execute_result"
    }
   ],
   "source": [
    "(close-enough? (phi-cont-frac 1))"
   ]
  },
  {
   "cell_type": "code",
   "execution_count": 81,
   "metadata": {},
   "outputs": [
    {
     "name": "stdout",
     "output_type": "stream",
     "text": [
      "0.625\n"
     ]
    },
    {
     "data": {
      "text/plain": [
       "#f"
      ]
     },
     "execution_count": 81,
     "metadata": {},
     "output_type": "execute_result"
    }
   ],
   "source": [
    "(close-enough? (phi-cont-frac 5))"
   ]
  },
  {
   "cell_type": "code",
   "execution_count": 82,
   "metadata": {},
   "outputs": [
    {
     "name": "stdout",
     "output_type": "stream",
     "text": [
      "0.6176470588235294\n"
     ]
    },
    {
     "data": {
      "text/plain": [
       "#f"
      ]
     },
     "execution_count": 82,
     "metadata": {},
     "output_type": "execute_result"
    }
   ],
   "source": [
    "(close-enough? (phi-cont-frac 8))"
   ]
  },
  {
   "cell_type": "code",
   "execution_count": 83,
   "metadata": {},
   "outputs": [
    {
     "name": "stdout",
     "output_type": "stream",
     "text": [
      "0.6181818181818182\n"
     ]
    },
    {
     "data": {
      "text/plain": [
       "#f"
      ]
     },
     "execution_count": 83,
     "metadata": {},
     "output_type": "execute_result"
    }
   ],
   "source": [
    "(close-enough? (phi-cont-frac 9))"
   ]
  },
  {
   "cell_type": "code",
   "execution_count": 85,
   "metadata": {},
   "outputs": [
    {
     "name": "stdout",
     "output_type": "stream",
     "text": [
      "0.6179775280898876\n"
     ]
    },
    {
     "data": {
      "text/plain": [
       "#t"
      ]
     },
     "execution_count": 85,
     "metadata": {},
     "output_type": "execute_result"
    }
   ],
   "source": [
    "(close-enough? (phi-cont-frac 10))"
   ]
  },
  {
   "cell_type": "code",
   "execution_count": 86,
   "metadata": {},
   "outputs": [],
   "source": [
    " (define (cont-frac-recursive n d k) \n",
    "   (define (recurse i) \n",
    "     (if (> i k) \n",
    "         0 \n",
    "         (/ (n i) (+ (d i) (recurse (increment i)))))) \n",
    "   (recur 1)) "
   ]
  },
  {
   "cell_type": "markdown",
   "metadata": {},
   "source": [
    "## 1.38\n",
    "$N_i=1$\n",
    "\n",
    "$(D_i)_{i=1}^\\infty= (1,2,1,1,4,1,1,6,1,1,8,...)$\n",
    "\n",
    "$D_i=1\\ where\\ (i+1)\\bmod3\\ne0$\n",
    "\n",
    "$else\\ D_i=\\frac{2(i+1)}{3}$"
   ]
  },
  {
   "cell_type": "code",
   "execution_count": 34,
   "metadata": {},
   "outputs": [],
   "source": [
    "(define (d i) \n",
    "  (if (= 0 (remainder (+ i 1) 3))\n",
    "      (/ (* 2 (+ i 1)) 3) \n",
    "      1))"
   ]
  },
  {
   "cell_type": "code",
   "execution_count": 50,
   "metadata": {},
   "outputs": [
    {
     "name": "stdout",
     "output_type": "stream",
     "text": [
      "1\n",
      "2\n",
      "1\n",
      "1\n",
      "4\n",
      "1\n",
      "1\n",
      "6\n",
      "1\n",
      "1\n",
      "8\n"
     ]
    },
    {
     "data": {
      "text/plain": [
       "0"
      ]
     },
     "execution_count": 50,
     "metadata": {},
     "output_type": "execute_result"
    }
   ],
   "source": [
    "(define (show-d k)\n",
    "  (define (iter i)\n",
    "    (cond ((< i k) \n",
    "           (display (d i)) \n",
    "           (newline)\n",
    "           (iter (+ i 1)))\n",
    "          (else 0)))\n",
    "  (iter 1))\n",
    "(show-d 12)"
   ]
  },
  {
   "cell_type": "code",
   "execution_count": 55,
   "metadata": {
    "scrolled": true
   },
   "outputs": [
    {
     "data": {
      "text/plain": [
       "2.7182817182817183"
      ]
     },
     "execution_count": 55,
     "metadata": {},
     "output_type": "execute_result"
    }
   ],
   "source": [
    ";; continued fraction expansion computes e-2 -> + 2 to approximate e\n",
    "(define e\n",
    "  (+ 2 (cont-frac (lambda (i) 1.0) d 10)))\n",
    "e"
   ]
  },
  {
   "cell_type": "markdown",
   "metadata": {},
   "source": [
    "## 1.39\n",
    "\n",
    "$\\tan x = \\frac{x}{1-\\frac{x^2}{3-\\frac{x^2}{5-...}}}$\n",
    "\n",
    "$N_i=x \\ where \\ x=1$\n",
    "\n",
    "$N_i=-x^2 \\ where \\ x>1$\n",
    "\n",
    "$(D_i)_{i=1}^\\infty= (1,2,3,5,7, ...)$\n",
    "\n",
    "$D_i = odd \\ numbers = 2i-1$"
   ]
  },
  {
   "cell_type": "code",
   "execution_count": 56,
   "metadata": {},
   "outputs": [],
   "source": [
    "(define (tan-cf x k)\n",
    "  (define (n k)\n",
    "    (if (= k 1)\n",
    "        x\n",
    "        (- (square x))))\n",
    "  (define (d k)\n",
    "    (- (* 2 k) 1))\n",
    "  (cont-frac n d k))"
   ]
  },
  {
   "cell_type": "code",
   "execution_count": 66,
   "metadata": {},
   "outputs": [],
   "source": [
    ";; calysto scheme missing tan builtin\n",
    ";; define own using python math module\n",
    "(import \"math\")\n",
    "(define (tan x) (math.tan x))\n",
    "(define pi math.pi)"
   ]
  },
  {
   "cell_type": "code",
   "execution_count": 70,
   "metadata": {},
   "outputs": [
    {
     "data": {
      "text/plain": [
       "0.5773502691896257"
      ]
     },
     "execution_count": 70,
     "metadata": {},
     "output_type": "execute_result"
    }
   ],
   "source": [
    "(tan (/ pi 6))"
   ]
  },
  {
   "cell_type": "code",
   "execution_count": 69,
   "metadata": {},
   "outputs": [
    {
     "data": {
      "text/plain": [
       "0.5773502691896257"
      ]
     },
     "execution_count": 69,
     "metadata": {},
     "output_type": "execute_result"
    }
   ],
   "source": [
    "(tan-cf (/ pi 6) 10)"
   ]
  },
  {
   "cell_type": "code",
   "execution_count": 71,
   "metadata": {},
   "outputs": [
    {
     "data": {
      "text/plain": [
       "0.9999999999999999"
      ]
     },
     "execution_count": 71,
     "metadata": {},
     "output_type": "execute_result"
    }
   ],
   "source": [
    "(tan (/ pi 4))"
   ]
  },
  {
   "cell_type": "code",
   "execution_count": 72,
   "metadata": {},
   "outputs": [
    {
     "data": {
      "text/plain": [
       "1.0"
      ]
     },
     "execution_count": 72,
     "metadata": {},
     "output_type": "execute_result"
    }
   ],
   "source": [
    "(tan-cf (/ pi 4) 10)"
   ]
  },
  {
   "cell_type": "code",
   "execution_count": 73,
   "metadata": {},
   "outputs": [
    {
     "data": {
      "text/plain": [
       "1.7320508075688767"
      ]
     },
     "execution_count": 73,
     "metadata": {},
     "output_type": "execute_result"
    }
   ],
   "source": [
    "(tan (/ pi 3))"
   ]
  },
  {
   "cell_type": "code",
   "execution_count": 74,
   "metadata": {},
   "outputs": [
    {
     "data": {
      "text/plain": [
       "1.732050807568877"
      ]
     },
     "execution_count": 74,
     "metadata": {},
     "output_type": "execute_result"
    }
   ],
   "source": [
    "(tan-cf (/ pi 3) 10)"
   ]
  },
  {
   "cell_type": "markdown",
   "metadata": {},
   "source": [
    "## 1.40"
   ]
  },
  {
   "cell_type": "code",
   "execution_count": 94,
   "metadata": {},
   "outputs": [],
   "source": [
    "(define (deriv g)\n",
    "  (lambda (x)\n",
    "    (/ (- (g (+ x dx)) (g x))\n",
    "       dx)))\n",
    "(define dx 0.00001)\n",
    "(define (newton-transform g)\n",
    "  (lambda (x)\n",
    "    (- x (/ (g x) ((deriv g) x)))))\n",
    "(define (newtons-method g guess)\n",
    "  (fixed-point (newton-transform g ) guess))"
   ]
  },
  {
   "cell_type": "code",
   "execution_count": 95,
   "metadata": {},
   "outputs": [],
   "source": [
    "(define (cubic a b c)\n",
    "  (lambda (x) \n",
    "    (+ (cube x) (* a (square x)) (* b x) c)))"
   ]
  },
  {
   "cell_type": "markdown",
   "metadata": {},
   "source": [
    "Example to test `cubic`:\n",
    "\n",
    "$x^3+ax^2+bx+c$\n",
    "\n",
    "$For: \\ a=2, \\ b=2,\\ c=2$\n",
    "\n",
    "$x^3+2x^2+2x+2$\n",
    "\n",
    "$For: \\ x=5$\n",
    "\n",
    "$5^3+2(5^2)+2(5)+2$\n",
    "\n",
    "$125+50+10+2=187$"
   ]
  },
  {
   "cell_type": "code",
   "execution_count": 96,
   "metadata": {},
   "outputs": [
    {
     "data": {
      "text/plain": [
       "187"
      ]
     },
     "execution_count": 96,
     "metadata": {},
     "output_type": "execute_result"
    }
   ],
   "source": [
    "((cubic 2 2 2) 5)"
   ]
  },
  {
   "cell_type": "markdown",
   "metadata": {},
   "source": [
    "Real root for $x^3+2x^2+2x+2$:\n",
    "\n",
    "$x\\approx-1.5437$\n",
    "\n",
    "[WolframAlpha solver](https://www.wolframalpha.com/input/?i=y+%3Dx%5E3+%2B+2x%5E2%2B+2x+%2B2)"
   ]
  },
  {
   "cell_type": "code",
   "execution_count": 98,
   "metadata": {},
   "outputs": [
    {
     "data": {
      "text/plain": [
       "-1.5436890126920524"
      ]
     },
     "execution_count": 98,
     "metadata": {},
     "output_type": "execute_result"
    }
   ],
   "source": [
    "(newtons-method (cubic 2 2 2) 1)"
   ]
  },
  {
   "cell_type": "code",
   "execution_count": 101,
   "metadata": {},
   "outputs": [],
   "source": [
    "(define (double f)\n",
    "  (lambda (f x)\n",
    "    (f (f x))))"
   ]
  },
  {
   "cell_type": "code",
   "execution_count": 102,
   "metadata": {},
   "outputs": [
    {
     "name": "stderr",
     "output_type": "stream",
     "text": [
      "\u001b[0;31m\n",
      "Traceback (most recent call last):\n",
      "  File \"In [102]\", line 2, col 2, in 'application'\n",
      "  File \"In [102]\", line 2, col 2\n",
      "RunTimeError: incorrect number of arguments in application\n",
      "\n",
      "\u001b[0m"
     ]
    }
   ],
   "source": [
    "(define (inc x) (+ x 1))\n",
    "(((double (double double)) inc) 5)"
   ]
  },
  {
   "cell_type": "code",
   "execution_count": null,
   "metadata": {},
   "outputs": [],
   "source": []
  }
 ],
 "metadata": {
  "kernelspec": {
   "display_name": "Calysto Scheme 3",
   "language": "scheme",
   "name": "calysto_scheme"
  },
  "language_info": {
   "codemirror_mode": {
    "name": "scheme"
   },
   "mimetype": "text/x-scheme",
   "name": "scheme",
   "pygments_lexer": "scheme"
  }
 },
 "nbformat": 4,
 "nbformat_minor": 2
}
