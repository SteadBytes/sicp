{
 "cells": [
  {
   "cell_type": "markdown",
   "metadata": {},
   "source": [
    "# SICP Chapter 1"
   ]
  },
  {
   "cell_type": "markdown",
   "metadata": {},
   "source": [
    "## 1.1\n",
    "\n",
    "```\n",
    "10\n",
    "12\n",
    "8\n",
    "3\n",
    "6\n",
    "a\n",
    "b\n",
    "19\n",
    "#f\n",
    "4\n",
    "16\n",
    "6\n",
    "16\n",
    "```"
   ]
  },
  {
   "cell_type": "code",
   "execution_count": 1,
   "metadata": {},
   "outputs": [
    {
     "data": {
      "text/plain": [
       "10"
      ]
     },
     "execution_count": 1,
     "metadata": {},
     "output_type": "execute_result"
    }
   ],
   "source": [
    "10"
   ]
  },
  {
   "cell_type": "code",
   "execution_count": 2,
   "metadata": {},
   "outputs": [
    {
     "data": {
      "text/plain": [
       "12"
      ]
     },
     "execution_count": 2,
     "metadata": {},
     "output_type": "execute_result"
    }
   ],
   "source": [
    "(+ 5 3 4)"
   ]
  },
  {
   "cell_type": "code",
   "execution_count": 3,
   "metadata": {},
   "outputs": [
    {
     "data": {
      "text/plain": [
       "8"
      ]
     },
     "execution_count": 3,
     "metadata": {},
     "output_type": "execute_result"
    }
   ],
   "source": [
    "(- 9 1)"
   ]
  },
  {
   "cell_type": "code",
   "execution_count": 4,
   "metadata": {},
   "outputs": [
    {
     "data": {
      "text/plain": [
       "3"
      ]
     },
     "execution_count": 4,
     "metadata": {},
     "output_type": "execute_result"
    }
   ],
   "source": [
    "(/ 6 2)"
   ]
  },
  {
   "cell_type": "code",
   "execution_count": 5,
   "metadata": {},
   "outputs": [
    {
     "data": {
      "text/plain": [
       "6"
      ]
     },
     "execution_count": 5,
     "metadata": {},
     "output_type": "execute_result"
    }
   ],
   "source": [
    "(+ (* 2 4) (- 4 6))"
   ]
  },
  {
   "cell_type": "code",
   "execution_count": 6,
   "metadata": {},
   "outputs": [],
   "source": [
    "(define a 3)"
   ]
  },
  {
   "cell_type": "code",
   "execution_count": 7,
   "metadata": {},
   "outputs": [],
   "source": [
    "(define b (+ a 1))"
   ]
  },
  {
   "cell_type": "code",
   "execution_count": 8,
   "metadata": {},
   "outputs": [
    {
     "data": {
      "text/plain": [
       "19"
      ]
     },
     "execution_count": 8,
     "metadata": {},
     "output_type": "execute_result"
    }
   ],
   "source": [
    "(+ a b (* a b))"
   ]
  },
  {
   "cell_type": "code",
   "execution_count": 9,
   "metadata": {},
   "outputs": [
    {
     "data": {
      "text/plain": [
       "#f"
      ]
     },
     "execution_count": 9,
     "metadata": {},
     "output_type": "execute_result"
    }
   ],
   "source": [
    "(= a b)"
   ]
  },
  {
   "cell_type": "code",
   "execution_count": 10,
   "metadata": {},
   "outputs": [
    {
     "data": {
      "text/plain": [
       "4"
      ]
     },
     "execution_count": 10,
     "metadata": {},
     "output_type": "execute_result"
    }
   ],
   "source": [
    "(if (and (> b a) (< b (* a b)))\n",
    " b\n",
    " a)"
   ]
  },
  {
   "cell_type": "code",
   "execution_count": 11,
   "metadata": {},
   "outputs": [
    {
     "data": {
      "text/plain": [
       "16"
      ]
     },
     "execution_count": 11,
     "metadata": {},
     "output_type": "execute_result"
    }
   ],
   "source": [
    "(cond ((= a 4) 6)\n",
    " ((= b 4) (+ 6 7 a))\n",
    " (else 25))"
   ]
  },
  {
   "cell_type": "code",
   "execution_count": 12,
   "metadata": {},
   "outputs": [
    {
     "data": {
      "text/plain": [
       "6"
      ]
     },
     "execution_count": 12,
     "metadata": {},
     "output_type": "execute_result"
    }
   ],
   "source": [
    "(+ 2 (if (> b a) b a))"
   ]
  },
  {
   "cell_type": "code",
   "execution_count": 13,
   "metadata": {},
   "outputs": [
    {
     "data": {
      "text/plain": [
       "16"
      ]
     },
     "execution_count": 13,
     "metadata": {},
     "output_type": "execute_result"
    }
   ],
   "source": [
    "(* (cond ((> a b) a)\n",
    " ((< a b) b)\n",
    " (else -1))\n",
    " (+ a 1))"
   ]
  },
  {
   "cell_type": "markdown",
   "metadata": {},
   "source": [
    "## 1.2"
   ]
  },
  {
   "cell_type": "code",
   "execution_count": 14,
   "metadata": {},
   "outputs": [
    {
     "data": {
      "text/plain": [
       "-37/150"
      ]
     },
     "execution_count": 14,
     "metadata": {},
     "output_type": "execute_result"
    }
   ],
   "source": [
    " (/ (+ 5 \n",
    "       4 \n",
    "       (- 2 (- 3 (+ 6 (/ 4 5))))) \n",
    "    (* 3 \n",
    "       (- 6 2) \n",
    "       (- 2 7))) "
   ]
  },
  {
   "cell_type": "markdown",
   "metadata": {},
   "source": [
    "## 1.3"
   ]
  },
  {
   "cell_type": "code",
   "execution_count": 15,
   "metadata": {},
   "outputs": [],
   "source": [
    "(define (square x) (* x x))\n",
    "(define (sumsquares x y) (+ (square x) (square y)))\n",
    "(define (sumsquarelargest x y z)\n",
    "  (cond\n",
    "    ((and (>= x z) (>= y z)) (sumsquares x y))\n",
    "    ((and (>= y x) (>= z x)) (sumsquares y z))\n",
    "    ((and (>= x y) (>= z y)) (sumsquares x z))))"
   ]
  },
  {
   "cell_type": "markdown",
   "metadata": {},
   "source": [
    "## 1.4\n",
    "`if` statement returns the `+` operator when `b > 0` and the `-` operator otherwise. The returned operator is then applied to the operands `a` and `b`."
   ]
  },
  {
   "cell_type": "markdown",
   "metadata": {},
   "source": [
    "## 1.5\n",
    "Applicative-order evaluation:\n",
    "- Never terminates\n",
    "- `(p)` is expanded to itself in an infinite loop\n",
    "\n",
    "Normal-order evaluation\n",
    "- Evaluates to `0`\n",
    "```\n",
    "(if (= 0 0 )\n",
    "  0\n",
    "  (p))\n",
    "(if #t\n",
    "  0\n",
    "  (p))\n",
    "0\n",
    "```"
   ]
  },
  {
   "cell_type": "markdown",
   "metadata": {},
   "source": [
    "## 1.6\n",
    "`if` will only evaluate one if it's parameters, whereas`cond` will evaluate both. In `sqrt-iter` this results in infinite recursion due to calling itself as part of the `else` clause of the `new-if`."
   ]
  },
  {
   "cell_type": "markdown",
   "metadata": {},
   "source": [
    "## 1.7\n",
    "For very small numbers, the tolerance of `0.001` is very large - causing `sqrt` to terminate with a guess htat could be very far from the true value."
   ]
  },
  {
   "cell_type": "code",
   "execution_count": 16,
   "metadata": {},
   "outputs": [
    {
     "data": {
      "text/plain": [
       "0.03135649010771716"
      ]
     },
     "execution_count": 16,
     "metadata": {},
     "output_type": "execute_result"
    }
   ],
   "source": [
    "(define (sqrt-iter guess x)\n",
    " (if (good-enough? guess x)\n",
    " guess\n",
    " (sqrt-iter (improve guess x)\n",
    " x)))\n",
    "\n",
    "(define (improve guess x)\n",
    " (average guess (/ x guess)))\n",
    "\n",
    "(define (average x y)\n",
    " (/ (+ x y) 2))\n",
    "\n",
    "(define (good-enough? guess x)\n",
    " (< (abs (- (square guess) x)) 0.001))\n",
    "\n",
    "(define (sqrt x)\n",
    " (sqrt-iter 1.0 x))\n",
    "\n",
    "(sqrt 0.00001)"
   ]
  },
  {
   "cell_type": "markdown",
   "metadata": {},
   "source": [
    "```\n",
    "true value = 0.01\n",
    "\n",
    "error = 100*(03135649010771716 - 0.01)/0.01\n",
    "      = 213.56 %\n",
    "```\n",
    "\n",
    "Machine precision limitations cause the difference between very large numbers to be unrepresentable. This means that `sqrt` may never terminate as the square of the best guess will not be within the `0.001` tolerance and callsto `improve` will continue to yield the same result.\n",
    "\n",
    "### Improved `sqrt`:"
   ]
  },
  {
   "cell_type": "code",
   "execution_count": 17,
   "metadata": {},
   "outputs": [],
   "source": [
    "(define (sqrt-iter guess prevguess x)\n",
    "  (if (good-enough? guess prevguess)\n",
    "    guess\n",
    "    (sqrt-iter (improve guess x) guess\n",
    "                x)))\n",
    "\n",
    "(define (good-enough? guess prevguess)\n",
    "  (< (abs (- guess prevguess))\n",
    "    (* guess 0.0001)))\n",
    "\n",
    "(define (sqrt x)\n",
    "  (sqrt-iter 1.0 2.0 x))"
   ]
  },
  {
   "cell_type": "markdown",
   "metadata": {},
   "source": [
    "## 1.8"
   ]
  },
  {
   "cell_type": "code",
   "execution_count": 18,
   "metadata": {},
   "outputs": [],
   "source": [
    "(define (cubert-iter guess prevguess x)\n",
    "  (if (good-enough? guess prevguess)\n",
    "    guess\n",
    "    (sqrt-iter (improve guess x) guess\n",
    "                x)))\n",
    "\n",
    "(define (good-enough? guess prevguess)\n",
    "  (< (abs (- guess prevguess))\n",
    "    (* guess 0.0001)))\n",
    "\n",
    "(define (improve guess x)\n",
    "  (average (/ x (square guess)) (* 2 guess)))\n",
    "\n",
    "(define (average x y)\n",
    "  (/ (+ x y) 2))\n",
    "\n",
    "(define (cubert x)\n",
    "  (cubert-iter 1.0 2.0 x))"
   ]
  },
  {
   "cell_type": "markdown",
   "metadata": {},
   "source": [
    "## 1.9"
   ]
  },
  {
   "cell_type": "markdown",
   "metadata": {},
   "source": [
    "Recursive Process:\n",
    "```\n",
    "(+ 4 5)\n",
    "(inc (+ (dec 4) 5))\n",
    "(inc (+ 3 5))\n",
    "(inc (inc (+ (dec 3) 5)))\n",
    "(inc (inc (+ 2 5)))\n",
    "(inc (inc (inc (+ (dec 2) 5))))\n",
    "(inc (inc (inc (+ 1 5))))\n",
    "(inc (inc (inc (inc (+ (dec 1) 5)))))\n",
    "(inc (inc (inc (inc (+ 0 5)))))\n",
    "(inc (inc (inc (inc 5)))\n",
    "(inc (inc (inc 6)))\n",
    "(inc (inc 7))\n",
    "(inc 8)\n",
    "(9)\n",
    "```\n",
    "\n",
    "Iterative Process:\n",
    "```\n",
    "(+ 4 5)\n",
    "(+ (dec 4) (inc 5))\n",
    "(+ 3 6)\n",
    "(+ (dec 3) (inc 6))\n",
    "(+ 2 7)\n",
    "(+ (dec 2) (inc 7))\n",
    "(+ 1 8)\n",
    "(+ (dec 1) (inc 8))\n",
    "(+ 0 9)\n",
    "(9)\n",
    "```"
   ]
  },
  {
   "cell_type": "markdown",
   "metadata": {},
   "source": [
    "## 1.10"
   ]
  },
  {
   "cell_type": "code",
   "execution_count": 19,
   "metadata": {},
   "outputs": [],
   "source": [
    "(define (A x y)\n",
    "  (cond ((= y 0) 0)\n",
    "        ((= x 0) (* 2 y))\n",
    "        ((= y 1) 2)\n",
    "        (else (A (- x 1)\n",
    "                  (A x (- y 1))))))"
   ]
  },
  {
   "cell_type": "code",
   "execution_count": 20,
   "metadata": {},
   "outputs": [
    {
     "data": {
      "text/plain": [
       "1024"
      ]
     },
     "execution_count": 20,
     "metadata": {},
     "output_type": "execute_result"
    }
   ],
   "source": [
    "(A 1 10)"
   ]
  },
  {
   "cell_type": "code",
   "execution_count": 21,
   "metadata": {},
   "outputs": [
    {
     "data": {
      "text/plain": [
       "65536"
      ]
     },
     "execution_count": 21,
     "metadata": {},
     "output_type": "execute_result"
    }
   ],
   "source": [
    "(A 2 4)"
   ]
  },
  {
   "cell_type": "code",
   "execution_count": 22,
   "metadata": {},
   "outputs": [
    {
     "data": {
      "text/plain": [
       "65536"
      ]
     },
     "execution_count": 22,
     "metadata": {},
     "output_type": "execute_result"
    }
   ],
   "source": [
    "(A 3 3)"
   ]
  },
  {
   "cell_type": "markdown",
   "metadata": {},
   "source": [
    "- `(f n) = 2n`\n",
    "- `(g n)= 2^n`\n",
    "- `(h n) = 2^2^2...(n-1 times)`"
   ]
  },
  {
   "cell_type": "markdown",
   "metadata": {},
   "source": [
    "## 1.11\n",
    "\n",
    "### Recursive Process:"
   ]
  },
  {
   "cell_type": "code",
   "execution_count": 23,
   "metadata": {},
   "outputs": [],
   "source": [
    "(define (f n)\n",
    "  (if (< n 3)\n",
    "    n\n",
    "    (+ (f (- n 1))\n",
    "       (* 2 (f (- n 2)))\n",
    "       (* 3 (f (- n 3))))))"
   ]
  },
  {
   "cell_type": "markdown",
   "metadata": {},
   "source": [
    "```\n",
    "(f 4)\n",
    "\n",
    "(+ (f (- 4 1))\n",
    "    (* 2 (f (- 4 2)))\n",
    "    (* 3 (f (- 4 3))))\n",
    "\n",
    "(+ (f 3)\n",
    "    (* 2 (f 2))\n",
    "    (* 3 (f 1)))\n",
    "\n",
    "(+ (+ (f (- 3 1))\n",
    "      (* 2 (f (- 3 2)))\n",
    "      (* 3 (f (- 3 3))))\n",
    "    (* 2 2)\n",
    "    (* 3 1))\n",
    "\n",
    "(+ (+ (f 2)\n",
    "      (* 2 (f 1))\n",
    "      (* 3 (f 0)))\n",
    "    4\n",
    "    3)\n",
    "\n",
    "(+ (+ 2\n",
    "      (* 2 1)\n",
    "      (* 3 0))\n",
    "    4\n",
    "    3)\n",
    "\n",
    "(+ (+ 2\n",
    "      2\n",
    "      0)\n",
    "    4\n",
    "    3)\n",
    "\n",
    "(+ 4\n",
    "   4\n",
    "   3)\n",
    "  \n",
    "(11)\n",
    "```"
   ]
  },
  {
   "cell_type": "markdown",
   "metadata": {},
   "source": [
    "## Iterative Process"
   ]
  },
  {
   "cell_type": "code",
   "execution_count": 24,
   "metadata": {},
   "outputs": [],
   "source": [
    "(define (f n)\n",
    "  (define (iter n f1 f2 f3)\n",
    "    (if (< n 3)\n",
    "        f1\n",
    "        (iter (- n 1) (+ f1 (* 2 f2) (* 3 f3)) f1 f2)))\n",
    "  (if (< n 3)\n",
    "      n\n",
    "      (iter n 2 1 0)))"
   ]
  },
  {
   "cell_type": "markdown",
   "metadata": {},
   "source": [
    "```\n",
    "(f 4)\n",
    "\n",
    "(iter 4 2 1 0)\n",
    "(iter (- 4 1) (+ 2 (* 2 1) (* 3 0)) 2 1))\n",
    "(iter 3 (+ 2 2 0) 2 1)\n",
    "(iter 3 4 2 1)\n",
    "(iter (- 3 1) (+ 4 (* 2 2) (* 3 1)) 4 2)\n",
    "(iter 2 (+ 4 4 3) 4 2)\n",
    "(iter 2 11 4 2)\n",
    "(11)\n",
    "```"
   ]
  },
  {
   "cell_type": "markdown",
   "metadata": {},
   "source": [
    "## 1.12"
   ]
  },
  {
   "cell_type": "markdown",
   "metadata": {},
   "source": [
    "Pascals triangle:\n",
    "```\n",
    "    1\n",
    "   1 1\n",
    "  1 2 1\n",
    " 1 3 3 1\n",
    "1 4 6 5 1\n",
    "```\n",
    "\n",
    "### Recursive process to calculate value at given row and column:"
   ]
  },
  {
   "cell_type": "code",
   "execution_count": 25,
   "metadata": {},
   "outputs": [],
   "source": [
    ";; rows start from 1 at the top of the triangle\n",
    ";; columns start from 1 left->right\n",
    "\n",
    "(define (pascal r c)\n",
    "  (if (or (= c 1) (= c r))\n",
    "    1\n",
    "    (+ (pascal (-r 1) (- c 1)) (pascal (- r 1) c))))"
   ]
  },
  {
   "cell_type": "markdown",
   "metadata": {},
   "source": [
    "Substitution process:\n",
    "```\n",
    "(pascal 1, 1)\n",
    "(1)\n",
    "\n",
    "(pascal 2, 1)\n",
    "(1)\n",
    "\n",
    "(pascal 3 2)\n",
    "(+ (pascal (- 3 1) (- 2 1)) (pascal (- 3 1) 2))\n",
    "(+ (pascal 2 1) (pascal 2 2))\n",
    "(+ 1 1)\n",
    "(2)\n",
    "```"
   ]
  },
  {
   "cell_type": "markdown",
   "metadata": {},
   "source": [
    "## 1.13 - TODO\n",
    "- Fib(n) = closest integer to &phi;<sup>n</sup>/sqrt(5)\n",
    "- &phi; = (1 + sqrt(5))/2\n",
    "- &psi; = (1 - sqrt(5))/2\n",
    "Use induction and definition of Fibonacci numbers to prove that:\n",
    "- Fib(n) = (&phi;<sup>n</sup> - &psi;<sup>n</sup>)/sqrt(5)"
   ]
  },
  {
   "cell_type": "code",
   "execution_count": null,
   "metadata": {},
   "outputs": [],
   "source": [
    "(define phi\n",
    "  (/ (+ 1 (sqrt 5)) 2))\n",
    "\n",
    "(define psi\n",
    "  (/ (- 1 (sqrt 5)) 2))\n",
    "\n",
    "(define (fib-approx n)\n",
    "  (/ (expt phi n) (sqrt 5)))\n",
    "\n",
    "(define (fib n)\n",
    "  (round (fib-approx n)))"
   ]
  },
  {
   "cell_type": "markdown",
   "metadata": {},
   "source": [
    "## 1.14"
   ]
  },
  {
   "cell_type": "code",
   "execution_count": null,
   "metadata": {},
   "outputs": [],
   "source": [
    "(define (count-change amount)\n",
    "  (cc amount 5))\n",
    "(define (cc amount kinds-of-coins)\n",
    " (cond ((= amount 0) 1)\n",
    "       ((or (< amount 0) (= kinds-of-coins 0)) 0)\n",
    "       (else (+ (cc amount\n",
    "                    (- kinds-of-coins 1))\n",
    "                (cc (- amount\n",
    "                       (first-denomination kinds-of-coins))\n",
    "                    kinds-of-coins)))))\n",
    "(define (first-denomination kinds-of-coins)\n",
    " (cond ((= kinds-of-coins 1) 1)\n",
    "       ((= kinds-of-coins 2) 5)\n",
    "       ((= kinds-of-coins 3) 10)\n",
    "       ((= kinds-of-coins 4) 25)\n",
    "       ((= kinds-of-coins 5) 50)))"
   ]
  },
  {
   "cell_type": "markdown",
   "metadata": {},
   "source": [
    "```\n",
    "(count-change 11)\n",
    "\n",
    " cc 11 5\n",
    "* cc 11 4\n",
    "** cc 11 3\n",
    "*** cc 11 2\n",
    "**** cc 11 1\n",
    "***** cc 11 0\n",
    "***** cc 10 1\n",
    "****** cc 10 0\n",
    "****** cc 9 1\n",
    "******* cc 9 0\n",
    "******* cc 8 1\n",
    "******** cc 8 0\n",
    "******** cc 7 1\n",
    "********* cc 7 0\n",
    "********* cc 6 1\n",
    "********** cc 6 0\n",
    "********** cc 5 1\n",
    "*********** cc 5 0\n",
    "*********** cc 4 1\n",
    "************ cc 4 0\n",
    "************ cc 3 1\n",
    "************* cc 3 0\n",
    "************* cc 2 1\n",
    "************** cc 2 0\n",
    "************** cc 1 1\n",
    "*************** cc 1 0\n",
    "*************** cc 0 1\n",
    "**** cc 6 2\n",
    "***** cc 6 1\n",
    "****** cc 6 0\n",
    "****** cc 5 1\n",
    "******* cc 5 0\n",
    "******* cc 4 1\n",
    "******** cc 4 0\n",
    "******** cc 3 1\n",
    "********* cc 3 0\n",
    "********* cc 2 1\n",
    "********** cc 2 0\n",
    "********** cc 1 1\n",
    "*********** cc 1 0\n",
    "*********** cc 0 1\n",
    "***** cc 1 2\n",
    "****** cc 1 1\n",
    "******* cc 1 0\n",
    "******* cc 0 1\n",
    "****** cc -4 2\n",
    "*** cc 1 3\n",
    "**** cc 1 2\n",
    "***** cc 1 1\n",
    "****** cc 1 0\n",
    "****** cc 0 1\n",
    "***** cc -4 2\n",
    "**** cc -9 3\n",
    "** cc -14 4\n",
    "* cc -39 5\n",
    "\n",
    "4\n",
    "```\n",
    "Orders of growth\n",
    "- Space = O(n)\n",
    "- Steps = O(n<sup>2</sup>)"
   ]
  },
  {
   "cell_type": "markdown",
   "metadata": {},
   "source": [
    "## 1.15\n",
    "a. `p` is called 5 times\n",
    "```\n",
    "(sine 12.15)\n",
    "(p (sine (/ 12.15 3.0)))->(p (sine 4.05))\n",
    "  (p (sine (/ 4.05 3.0)))->(p (sine 1.3499999999999999))\n",
    "    (p (sine (/ 1.3499999999999999 3.0)))->(p (sine .44999999999999996))\n",
    "      (p (sine (/ .44999999999999996 3.0)))->(p (sine .15))\n",
    "        (p (sine (/ .15 3.0)))->(p (sine 4.9999999999999996e-2))->p(4.9999999999999996e-2)\n",
    "```\n",
    "b. Orders of growth = O(log(a)):\n",
    "  - `p` called once for each power of 3 contained within angle `a`\n",
    "    - (ceiling (/ log(/ a 0.1)) (log 3)))"
   ]
  },
  {
   "cell_type": "markdown",
   "metadata": {},
   "source": [
    "## 1.16"
   ]
  },
  {
   "cell_type": "code",
   "execution_count": 3,
   "metadata": {},
   "outputs": [],
   "source": [
    "(define (expt-iter b n)\n",
    "  (define (iter b n a)\n",
    "    (cond ((= n 0) a)\n",
    "          ((is-even n) (iter (square b) (/ n 2) a))\n",
    "          (else (iter b (- n 1) (* a b)))))\n",
    "  (iter b n 1))\n",
    "\n",
    "(define (square x) (* x x))\n",
    "(define (is-even n)\n",
    "  (= (remainder n 2) 0))"
   ]
  },
  {
   "cell_type": "markdown",
   "metadata": {},
   "source": [
    "## 1.17"
   ]
  },
  {
   "cell_type": "code",
   "execution_count": null,
   "metadata": {},
   "outputs": [],
   "source": [
    "(define (double x) (+ x x))\n",
    "(define (halve x) (/ x 2))\n",
    "\n",
    "(define (* a b)\n",
    "  (cond ((= b 0) 0)\n",
    "        ((is-even b) (double (* a (halve b))))\n",
    "        (else (+ a (* a (- b 1))))))"
   ]
  },
  {
   "cell_type": "markdown",
   "metadata": {},
   "source": [
    "## 1.18\n",
    "\n",
    "Modify solution to `1.17` to introduce state variable `c` with the invariant property that `a * b + c` remains unchanged between state transitions.\n",
    "- Multiplication not exponention as in `1.16` so invariant is different\n",
    "\n",
    "`c` should start at `0` and hold the product `a * b` by the end of the process."
   ]
  },
  {
   "cell_type": "code",
   "execution_count": null,
   "metadata": {},
   "outputs": [],
   "source": [
    "(define (*-iter a b)\n",
    "  (define (iter a b c)\n",
    "    (cond ((= b 0) c)\n",
    "          ((is-even b) (iter (double a) (halve b) c))\n",
    "          (else (iter a (- b 1) (+ a c)))))\n",
    "  (iter a b 0))"
   ]
  },
  {
   "cell_type": "code",
   "execution_count": 31,
   "metadata": {},
   "outputs": [
    {
     "data": {
      "text/plain": [
       "15"
      ]
     },
     "execution_count": 31,
     "metadata": {},
     "output_type": "execute_result"
    }
   ],
   "source": [
    "(*-iter 5 3)"
   ]
  },
  {
   "cell_type": "markdown",
   "metadata": {},
   "source": [
    "## 1.19"
   ]
  },
  {
   "cell_type": "markdown",
   "metadata": {},
   "source": [
    "$T_{pq}$ transforms $(a,b)$:\n",
    "- $a \\leftarrow bq + aq + ap$\n",
    "- $b \\leftarrow bp + aq$\n",
    "\n",
    "$$a'=bq + aq + ap = (p+q)a+bq$$\n",
    "$$b'=bp+aq$$\n",
    "\n",
    "$$a''=b'q+a'q+a'p$$\n",
    "$$b''=b'p+a'q$$\n",
    "\n",
    "$$a''=(p^2+2q^2+2pq)a+(2pq+q^2)b$$\n",
    "$$b''=(2pq+q^2)a+(p^2+q^2)b$$\n",
    "\n",
    "$$p'=(p^2+q^2)$$\n",
    "$$q'=(2pq+q^2)$$"
   ]
  },
  {
   "cell_type": "code",
   "execution_count": 6,
   "metadata": {},
   "outputs": [
    {
     "data": {
      "text/plain": [
       "21"
      ]
     },
     "execution_count": 6,
     "metadata": {},
     "output_type": "execute_result"
    }
   ],
   "source": [
    "(define (fib n)\n",
    "  (fib-iter 1 0 0 1 n))\n",
    "(define (fib-iter a b p q count)\n",
    "  (cond ((= count 0) b)\n",
    "        ((is-even count)\n",
    "         (fib-iter a\n",
    "                   b\n",
    "                   (+ (square p) (square q))\n",
    "                   (+ (* 2 p q) (square q))\n",
    "                   (/ count 2)))\n",
    "        (else (fib-iter (+ (* b q) (* a q) (* a p))\n",
    "                        (+ (* b p) (* a q))\n",
    "                        p\n",
    "                        q\n",
    "                        (- count 1)))))\n",
    "(fib 8)"
   ]
  },
  {
   "cell_type": "code",
   "execution_count": null,
   "metadata": {},
   "outputs": [],
   "source": []
  }
 ],
 "metadata": {
  "kernelspec": {
   "display_name": "Calysto Scheme 3",
   "language": "scheme",
   "name": "calysto_scheme"
  },
  "language_info": {
   "codemirror_mode": {
    "name": "scheme"
   },
   "mimetype": "text/x-scheme",
   "name": "scheme",
   "pygments_lexer": "scheme"
  }
 },
 "nbformat": 4,
 "nbformat_minor": 2
}
