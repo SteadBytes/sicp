{
 "cells": [
  {
   "cell_type": "markdown",
   "metadata": {},
   "source": [
    "# SICP Chapter 2"
   ]
  },
  {
   "cell_type": "code",
   "execution_count": 1,
   "metadata": {},
   "outputs": [],
   "source": [
    ";; from book -> not technically correct as will return negative\n",
    "(define (gcd a b)\n",
    "  (if (= b 0)\n",
    "      a\n",
    "      (gcd b (remainder a b))))\n",
    "\n",
    ";; construct rational number reduced to lowest terms\n",
    "(define (make-rat n d) \n",
    "  (let ((g (gcd n d)))\n",
    "    (cons (/ n g)\n",
    "          (/ d g))))\n",
    "\n",
    "(define (numer x) (car x))\n",
    "(define (denom x) (cdr x))\n",
    "\n",
    "(define (add-rat x y)\n",
    "  (make-rat (+ (* (numer x) (denom y))\n",
    "               (* (numer y) (denom x)))\n",
    "            (* (denom x) (denom y))))\n",
    "\n",
    "(define (sub-rat x y)\n",
    "  (make-rat (- (* (numer x) (denom y))\n",
    "               (* (numer y) (denom x)))\n",
    "            (* (denom x) (denom y))))\n",
    "\n",
    "(define (mul-rat x y)\n",
    "  (make-rat (* (numer x) (numer y))\n",
    "            (* (denom x) (denom y))))\n",
    "\n",
    "(define (div-rat x y)\n",
    "  (make-rat (* (numer x) (denom y))\n",
    "            (* (denom x) (numer y))))\n",
    "\n",
    "(define (equal-rat? x y)\n",
    "  (= (* (numer x) (denom y))\n",
    "     (* (numer y) (denom x))))\n",
    "\n",
    "(define (print-rat x)\n",
    "  (newline)\n",
    "  (display (numer x))\n",
    "  (display \"/\")\n",
    "  (display (denom x)))"
   ]
  },
  {
   "cell_type": "code",
   "execution_count": 2,
   "metadata": {},
   "outputs": [
    {
     "name": "stdout",
     "output_type": "stream",
     "text": [
      "\n",
      "1/2"
     ]
    }
   ],
   "source": [
    "(define half (make-rat 1 2))\n",
    "(print-rat half)"
   ]
  },
  {
   "cell_type": "code",
   "execution_count": 3,
   "metadata": {},
   "outputs": [
    {
     "name": "stdout",
     "output_type": "stream",
     "text": [
      "\n",
      "1/5"
     ]
    }
   ],
   "source": [
    "(define fifth (make-rat 1 5))\n",
    "(print-rat fifth)"
   ]
  },
  {
   "cell_type": "code",
   "execution_count": 4,
   "metadata": {},
   "outputs": [
    {
     "name": "stdout",
     "output_type": "stream",
     "text": [
      "\n",
      "1/3"
     ]
    }
   ],
   "source": [
    "(define third (make-rat 1 3))\n",
    "(print-rat third)"
   ]
  },
  {
   "cell_type": "code",
   "execution_count": 5,
   "metadata": {},
   "outputs": [
    {
     "name": "stdout",
     "output_type": "stream",
     "text": [
      "\n",
      "1/10"
     ]
    }
   ],
   "source": [
    "(print-rat (mul-rat half fifth))"
   ]
  },
  {
   "cell_type": "code",
   "execution_count": 6,
   "metadata": {},
   "outputs": [
    {
     "name": "stdout",
     "output_type": "stream",
     "text": [
      "\n",
      "7/10"
     ]
    }
   ],
   "source": [
    "(print-rat (add-rat half fifth))"
   ]
  },
  {
   "cell_type": "code",
   "execution_count": 7,
   "metadata": {},
   "outputs": [
    {
     "name": "stdout",
     "output_type": "stream",
     "text": [
      "\n",
      "1/1"
     ]
    }
   ],
   "source": [
    "(print-rat (add-rat half half))"
   ]
  },
  {
   "cell_type": "code",
   "execution_count": 8,
   "metadata": {},
   "outputs": [
    {
     "name": "stdout",
     "output_type": "stream",
     "text": [
      "\n",
      "2/3"
     ]
    }
   ],
   "source": [
    "(print-rat (add-rat third third))"
   ]
  },
  {
   "cell_type": "markdown",
   "metadata": {},
   "source": [
    "## 2.1"
   ]
  },
  {
   "cell_type": "code",
   "execution_count": 9,
   "metadata": {},
   "outputs": [],
   "source": [
    "(define (make-rat n d) \n",
    "  (let ((g (abs (gcd n d)))) ; abs to correct for negative return from gcd\n",
    "    (if (< d 0)\n",
    "        (cons (/ (* n -1) g) \n",
    "              (/ (* d -1) g))\n",
    "        (cons (/ n g) \n",
    "              (/ d g)))))\n",
    "    "
   ]
  },
  {
   "cell_type": "code",
   "execution_count": 10,
   "metadata": {},
   "outputs": [
    {
     "name": "stdout",
     "output_type": "stream",
     "text": [
      "\n",
      "1/2"
     ]
    }
   ],
   "source": [
    "(print-rat (make-rat 1 2))"
   ]
  },
  {
   "cell_type": "code",
   "execution_count": 11,
   "metadata": {},
   "outputs": [
    {
     "name": "stdout",
     "output_type": "stream",
     "text": [
      "\n",
      "-1/2"
     ]
    }
   ],
   "source": [
    "(print-rat (make-rat -1 2))"
   ]
  },
  {
   "cell_type": "code",
   "execution_count": 12,
   "metadata": {},
   "outputs": [
    {
     "name": "stdout",
     "output_type": "stream",
     "text": [
      "\n",
      "-1/2"
     ]
    }
   ],
   "source": [
    "(print-rat (make-rat 1 -2))"
   ]
  },
  {
   "cell_type": "markdown",
   "metadata": {},
   "source": [
    "## 2.2"
   ]
  },
  {
   "cell_type": "code",
   "execution_count": 13,
   "metadata": {},
   "outputs": [],
   "source": [
    "(define (make-point x y)\n",
    "  (cons x y))\n",
    "(define (x-point point)\n",
    "  (car point))\n",
    "(define (y-point point)\n",
    "  (cdr point))\n",
    "\n",
    "(define (make-segment start-point end-point)\n",
    "  (cons start-point end-point))\n",
    "(define (start-segment segment)\n",
    "  (car segment))\n",
    "(define (end-segment segment)\n",
    "  (cdr segment))\n",
    "\n",
    "(define (midpoint-segment segment)\n",
    "  (define (avg x y) (/ (+ x y) 2.0))\n",
    "  (let ((start (start-segment segment)) (end (end-segment segment)))\n",
    "    (make-point\n",
    "     (avg (x-point start) (x-point end))\n",
    "     (avg (y-point start) (y-point end)))))\n",
    "\n",
    "(define (print-point p)\n",
    "  (newline)\n",
    "  (display \"(\")\n",
    "  (display (x-point p))\n",
    "  (display \",\")\n",
    "  (display (y-point p))\n",
    "  (display \")\"))"
   ]
  },
  {
   "cell_type": "code",
   "execution_count": 14,
   "metadata": {},
   "outputs": [
    {
     "name": "stdout",
     "output_type": "stream",
     "text": [
      "\n",
      "(1,2)"
     ]
    }
   ],
   "source": [
    "(print-point (make-point 1 2))"
   ]
  },
  {
   "cell_type": "code",
   "execution_count": 15,
   "metadata": {},
   "outputs": [
    {
     "name": "stdout",
     "output_type": "stream",
     "text": [
      "\n",
      "(1.5,3.0)"
     ]
    }
   ],
   "source": [
    "(define start (make-point 1 2))\n",
    "(define end (make-point 2 4))\n",
    "\n",
    "(define seg (make-segment start end))\n",
    "(print-point (midpoint-segment seg))"
   ]
  },
  {
   "cell_type": "markdown",
   "metadata": {},
   "source": [
    "## 2.3"
   ]
  },
  {
   "cell_type": "code",
   "execution_count": 16,
   "metadata": {},
   "outputs": [],
   "source": [
    ";; opposite corners representation\n",
    "(define (make-rect bottom-left top-right)\n",
    "  (cons bottom-left top-right))\n",
    "(define (rect-width rect)\n",
    "  (abs (- (x-point (car rect)) (x-point (cdr rect)))))\n",
    "(define (rect-height rect)\n",
    "  (abs (- (y-point (car rect)) (y-point (cdr rect)))))\n",
    "\n",
    "(define (rect-perim rect)\n",
    "  (* 2 (+ (rect-width rect) (rect-height rect))))\n",
    "\n",
    "(define (rect-area rect)\n",
    "  (* (rect-width rect) (rect-height rect)))"
   ]
  },
  {
   "cell_type": "code",
   "execution_count": 17,
   "metadata": {},
   "outputs": [
    {
     "data": {
      "text/plain": [
       "2"
      ]
     },
     "execution_count": 17,
     "metadata": {},
     "output_type": "execute_result"
    }
   ],
   "source": [
    "(define rect (make-rect (make-point 1 2) (make-point 3 5)))\n",
    "\n",
    "(rect-width rect)"
   ]
  },
  {
   "cell_type": "code",
   "execution_count": 18,
   "metadata": {},
   "outputs": [
    {
     "data": {
      "text/plain": [
       "3"
      ]
     },
     "execution_count": 18,
     "metadata": {},
     "output_type": "execute_result"
    }
   ],
   "source": [
    "(rect-height rect)"
   ]
  },
  {
   "cell_type": "code",
   "execution_count": 19,
   "metadata": {},
   "outputs": [
    {
     "data": {
      "text/plain": [
       "10"
      ]
     },
     "execution_count": 19,
     "metadata": {},
     "output_type": "execute_result"
    }
   ],
   "source": [
    "(rect-perim rect)"
   ]
  },
  {
   "cell_type": "code",
   "execution_count": 20,
   "metadata": {},
   "outputs": [
    {
     "data": {
      "text/plain": [
       "6"
      ]
     },
     "execution_count": 20,
     "metadata": {},
     "output_type": "execute_result"
    }
   ],
   "source": [
    "(rect-area rect)"
   ]
  },
  {
   "cell_type": "code",
   "execution_count": 21,
   "metadata": {},
   "outputs": [],
   "source": [
    ";; bottom left corner + width/height representation\n",
    "(define (make-rect bottom-left width height)\n",
    "  (cons bottom-left (cons width height)))\n",
    "(define (rect-width rect)\n",
    "  (car (cdr rect)))\n",
    "(define (rect-height rect)\n",
    "  (cdr (cdr rect)))"
   ]
  },
  {
   "cell_type": "code",
   "execution_count": 22,
   "metadata": {},
   "outputs": [],
   "source": [
    "(define rect (make-rect (make-point 1 2) 2 3))"
   ]
  },
  {
   "cell_type": "code",
   "execution_count": 23,
   "metadata": {},
   "outputs": [
    {
     "data": {
      "text/plain": [
       "10"
      ]
     },
     "execution_count": 23,
     "metadata": {},
     "output_type": "execute_result"
    }
   ],
   "source": [
    "(rect-perim rect)"
   ]
  },
  {
   "cell_type": "code",
   "execution_count": 66,
   "metadata": {},
   "outputs": [
    {
     "data": {
      "text/plain": [
       "6"
      ]
     },
     "execution_count": 66,
     "metadata": {},
     "output_type": "execute_result"
    }
   ],
   "source": [
    "(rect-area rect)"
   ]
  },
  {
   "cell_type": "markdown",
   "metadata": {},
   "source": [
    "## 2.4"
   ]
  },
  {
   "cell_type": "code",
   "execution_count": 32,
   "metadata": {},
   "outputs": [],
   "source": [
    ";; returns function that takes 2 arguments and applies it to x y\n",
    "(define (cons x y)\n",
    "  (lambda (m) (m x y)))\n",
    "\n",
    ";; z takes a 2 argument function that is passed p q in order\n",
    ";; returning first arg p implements car function\n",
    "(define (car z)\n",
    "  (z (lambda (p q) p)))\n",
    "\n",
    ";; z takes a 2 argument function that is passed p q in order\n",
    ";; returning sencond arg q produces cdr\n",
    "(define (cdr z)\n",
    "  (z (lambda (p q) q)))"
   ]
  },
  {
   "cell_type": "code",
   "execution_count": 27,
   "metadata": {},
   "outputs": [
    {
     "data": {
      "text/plain": [
       "1"
      ]
     },
     "execution_count": 27,
     "metadata": {},
     "output_type": "execute_result"
    }
   ],
   "source": [
    "(car (cons 1 2))"
   ]
  },
  {
   "cell_type": "code",
   "execution_count": 33,
   "metadata": {},
   "outputs": [
    {
     "data": {
      "text/plain": [
       "2"
      ]
     },
     "execution_count": 33,
     "metadata": {},
     "output_type": "execute_result"
    }
   ],
   "source": [
    "(cdr (cons 1 2))"
   ]
  },
  {
   "cell_type": "markdown",
   "metadata": {},
   "source": [
    "Applicative-order evaluation to verify `(car (cons x y))` yields `x` for any objects `x` and `y`:\n",
    "```scheme\n",
    "(car (cons (x y)))\n",
    "(car (lambda (m) (m x y)))\n",
    "((lambda (m) (m x y)) (lambda (p q) p))\n",
    "((lambda (p q) p) x y)\n",
    "x\n",
    "```"
   ]
  },
  {
   "cell_type": "markdown",
   "metadata": {},
   "source": [
    "## 2.5"
   ]
  },
  {
   "cell_type": "markdown",
   "metadata": {},
   "source": [
    "Represent pair of nonnegative integers $a, b$ as the integer that is the product $2^a3^b$\n",
    "\n",
    "2 and 3 are prime -> $2^a3^b$ will give unique values for each all combinations of $a, b$ due to the [Fundamental Theorem of Arithmetic](http://mathworld.wolfram.com/FundamentalTheoremofArithmetic.html)\n",
    "\n",
    "$a$ can be calculated from the product by the number of times it is evenly divisible by 2.\n",
    "\n",
    "$b$ can be calculated from the product by the the number of times it is evenly divisible by 3.\n",
    "\n",
    "Example:\n",
    "\n",
    "$a=2\\ ,b=3$\n",
    "\n",
    "$2^a3^b=2^2\\cdot3^3=108$\n",
    "\n",
    "Calculating $a$:\n",
    "\n",
    "$\\frac{108}{2}=54$\n",
    "\n",
    "$\\frac{54}{2}=27$\n",
    "\n",
    "$\\frac{27}{2}=13.5$\n",
    "\n",
    "2 even divisions by 2:\n",
    "\n",
    "$a=2$\n",
    "\n",
    "Calculating $b$:\n",
    "\n",
    "$\\frac{108}{3}=36$\n",
    "\n",
    "$\\frac{36}{3}=12$\n",
    "\n",
    "$\\frac{12}{3}=4$\n",
    "\n",
    "$\\frac{4}{3} = 1.3333333$\n",
    "\n",
    "3 even divisions by 3:\n",
    "\n",
    "$b=3$\n",
    "\n",
    "\n"
   ]
  },
  {
   "cell_type": "code",
   "execution_count": 11,
   "metadata": {},
   "outputs": [],
   "source": [
    "(define (cons a b)\n",
    "  (* (expt 2 a)\n",
    "     (expt 3 b)))\n",
    "\n",
    "; number of times n is evenly divisible by d\n",
    "(define (num-div n d)\n",
    "  (define (iter x count)\n",
    "    (if (= 0 (remainder x d))\n",
    "        (iter (/ x d) (+ 1 count))\n",
    "        count))\n",
    "  (iter n 0))\n",
    "\n",
    "(define (car x)\n",
    "  (num-div x 2))\n",
    "\n",
    "(define (cdr x)\n",
    "  (num-div x 3))"
   ]
  },
  {
   "cell_type": "code",
   "execution_count": 12,
   "metadata": {},
   "outputs": [
    {
     "data": {
      "text/plain": [
       "2"
      ]
     },
     "execution_count": 12,
     "metadata": {},
     "output_type": "execute_result"
    }
   ],
   "source": [
    "(car (cons 2 3))"
   ]
  },
  {
   "cell_type": "code",
   "execution_count": 13,
   "metadata": {},
   "outputs": [
    {
     "data": {
      "text/plain": [
       "3"
      ]
     },
     "execution_count": 13,
     "metadata": {},
     "output_type": "execute_result"
    }
   ],
   "source": [
    "(cdr (cons 2 3))"
   ]
  },
  {
   "cell_type": "markdown",
   "metadata": {},
   "source": [
    "## 2.6"
   ]
  },
  {
   "cell_type": "code",
   "execution_count": 17,
   "metadata": {},
   "outputs": [],
   "source": [
    "(define zero (lambda (f) (lambda (x) x)))\n",
    "\n",
    "(define (add-1 n)\n",
    "  (lambda (f) (lambda (x) (f ((n f) x)))))"
   ]
  },
  {
   "cell_type": "markdown",
   "metadata": {},
   "source": [
    "Substitution to find definition of `one`:\n",
    "```scheme\n",
    "(add-1 zero)\n",
    "(lambda (f) (lambda (x) (f ((zero f) x))))\n",
    "(lambda (f) (lambda (x) (f ((lambda (x) x) x))))\n",
    "(lambda (f) (lambda (x) (f x)))\n",
    "```"
   ]
  },
  {
   "cell_type": "code",
   "execution_count": 19,
   "metadata": {},
   "outputs": [],
   "source": [
    ";; applies given procedure once\n",
    "(define one (lambda (f) (lambda (x) (f x))))"
   ]
  },
  {
   "cell_type": "markdown",
   "metadata": {},
   "source": [
    "Substitution to find definition of `two`:\n",
    "```scheme\n",
    "(add-1 one)\n",
    "(lambda (f) (lambda (x) (f ((one f) x))))\n",
    "(lambda (f) (lambda (x) (f ((lambda (x) (f x)) x))))\n",
    "(lambda (f) (lambda (x) (f (f x))))\n",
    "```"
   ]
  },
  {
   "cell_type": "code",
   "execution_count": 20,
   "metadata": {},
   "outputs": [],
   "source": [
    ";; applies given procedure twice\n",
    "(define two (lambda (f) (lambda (x) (f (f x)))))"
   ]
  },
  {
   "cell_type": "code",
   "execution_count": 24,
   "metadata": {},
   "outputs": [],
   "source": [
    ";; 'wrap' n in m function calls\n",
    "(define (church+ m n)\n",
    "  (lambda (f) (lambda (x) ((m f) ((n f) x)))))"
   ]
  },
  {
   "cell_type": "code",
   "execution_count": 38,
   "metadata": {},
   "outputs": [],
   "source": [
    ";; easy to see number of function applications with increment procedure\n",
    "(define (increment n)\n",
    "  (+ n 1))"
   ]
  },
  {
   "cell_type": "code",
   "execution_count": 39,
   "metadata": {},
   "outputs": [
    {
     "data": {
      "text/plain": [
       "0"
      ]
     },
     "execution_count": 39,
     "metadata": {},
     "output_type": "execute_result"
    }
   ],
   "source": [
    "((zero increment) 0)"
   ]
  },
  {
   "cell_type": "code",
   "execution_count": 40,
   "metadata": {},
   "outputs": [
    {
     "data": {
      "text/plain": [
       "1"
      ]
     },
     "execution_count": 40,
     "metadata": {},
     "output_type": "execute_result"
    }
   ],
   "source": [
    "((zero increment) 1)"
   ]
  },
  {
   "cell_type": "code",
   "execution_count": 41,
   "metadata": {},
   "outputs": [
    {
     "data": {
      "text/plain": [
       "2"
      ]
     },
     "execution_count": 41,
     "metadata": {},
     "output_type": "execute_result"
    }
   ],
   "source": [
    "((zero increment) 2)"
   ]
  },
  {
   "cell_type": "code",
   "execution_count": 42,
   "metadata": {},
   "outputs": [
    {
     "data": {
      "text/plain": [
       "1"
      ]
     },
     "execution_count": 42,
     "metadata": {},
     "output_type": "execute_result"
    }
   ],
   "source": [
    "((one increment) 0)"
   ]
  },
  {
   "cell_type": "code",
   "execution_count": 43,
   "metadata": {},
   "outputs": [
    {
     "data": {
      "text/plain": [
       "2"
      ]
     },
     "execution_count": 43,
     "metadata": {},
     "output_type": "execute_result"
    }
   ],
   "source": [
    "((one increment) 1)"
   ]
  },
  {
   "cell_type": "code",
   "execution_count": 44,
   "metadata": {},
   "outputs": [
    {
     "data": {
      "text/plain": [
       "3"
      ]
     },
     "execution_count": 44,
     "metadata": {},
     "output_type": "execute_result"
    }
   ],
   "source": [
    "((one increment) 2)"
   ]
  },
  {
   "cell_type": "code",
   "execution_count": 45,
   "metadata": {},
   "outputs": [
    {
     "data": {
      "text/plain": [
       "2"
      ]
     },
     "execution_count": 45,
     "metadata": {},
     "output_type": "execute_result"
    }
   ],
   "source": [
    "((two increment) 0)"
   ]
  },
  {
   "cell_type": "code",
   "execution_count": 46,
   "metadata": {},
   "outputs": [
    {
     "data": {
      "text/plain": [
       "3"
      ]
     },
     "execution_count": 46,
     "metadata": {},
     "output_type": "execute_result"
    }
   ],
   "source": [
    "((two increment) 1)"
   ]
  },
  {
   "cell_type": "code",
   "execution_count": 47,
   "metadata": {},
   "outputs": [
    {
     "data": {
      "text/plain": [
       "4"
      ]
     },
     "execution_count": 47,
     "metadata": {},
     "output_type": "execute_result"
    }
   ],
   "source": [
    "((two increment) 2)"
   ]
  },
  {
   "cell_type": "code",
   "execution_count": null,
   "metadata": {},
   "outputs": [],
   "source": [
    "(define three (church+ one two))\n",
    "\n",
    "((three increment) 0)"
   ]
  },
  {
   "cell_type": "markdown",
   "metadata": {},
   "source": [
    "## 2.7"
   ]
  },
  {
   "cell_type": "code",
   "execution_count": 1,
   "metadata": {},
   "outputs": [],
   "source": [
    ";; procedures given in question description\n",
    "(define (make-interval a b) (cons a b))\n",
    "\n",
    "(define (add-interval x y)\n",
    "  (make-interval (+ (lower-bound x)\n",
    "                    (lower-bound y))\n",
    "                 (+ (upper-bound x)\n",
    "                    (upper-bound y))))\n",
    "\n",
    ";; find minimum and maximum of products of the bounds\n",
    "(define (mul-interval x y)\n",
    "  (let ((p1 (* (lower-bound x)\n",
    "               (lower-bound y)))\n",
    "        (p2 (* (lower-bound x)\n",
    "               (upper-bound y)))\n",
    "        (p3 (* (upper-bound x)\n",
    "               (lower-bound y)))\n",
    "        (p4 (* (upper-bound x)\n",
    "               (upper-bound y))))\n",
    "    (make-interval (min p1 p2 p3 p4)\n",
    "                   (max p1 p2 p3 p4))))\n",
    "(define (div-interval x y)\n",
    "  (mul-interval x\n",
    "                (make-interval\n",
    "                 (/ 1.0 (upper-bound y))\n",
    "                 (/ 1.0 (lower-bound y)))))"
   ]
  },
  {
   "cell_type": "code",
   "execution_count": 2,
   "metadata": {},
   "outputs": [],
   "source": [
    "(define (lower-bound x) (min (car x) (cdr x)))\n",
    "(define (upper-bound x) (max (car x) (cdr x)))"
   ]
  },
  {
   "cell_type": "code",
   "execution_count": 3,
   "metadata": {},
   "outputs": [
    {
     "data": {
      "text/plain": [
       "10"
      ]
     },
     "execution_count": 3,
     "metadata": {},
     "output_type": "execute_result"
    }
   ],
   "source": [
    ";; test with a=lower, b=upper\n",
    "(define x (make-interval 10 20))\n",
    "\n",
    "(lower-bound x)"
   ]
  },
  {
   "cell_type": "code",
   "execution_count": 4,
   "metadata": {},
   "outputs": [
    {
     "data": {
      "text/plain": [
       "20"
      ]
     },
     "execution_count": 4,
     "metadata": {},
     "output_type": "execute_result"
    }
   ],
   "source": [
    "(upper-bound x)"
   ]
  },
  {
   "cell_type": "code",
   "execution_count": 5,
   "metadata": {},
   "outputs": [
    {
     "data": {
      "text/plain": [
       "10"
      ]
     },
     "execution_count": 5,
     "metadata": {},
     "output_type": "execute_result"
    }
   ],
   "source": [
    ";; test with a=upper, b=lower\n",
    "(define y (make-interval 20 10))\n",
    "\n",
    "(lower-bound y)"
   ]
  },
  {
   "cell_type": "code",
   "execution_count": 6,
   "metadata": {},
   "outputs": [
    {
     "data": {
      "text/plain": [
       "20"
      ]
     },
     "execution_count": 6,
     "metadata": {},
     "output_type": "execute_result"
    }
   ],
   "source": [
    "(upper-bound y)"
   ]
  },
  {
   "cell_type": "markdown",
   "metadata": {},
   "source": [
    "## 2.8\n",
    "Difference between intervals `x, y`:\n",
    "- Minimum = lower bound `x` subtract upper bound `y` \n",
    "- Maximum = upper bound `x` subtract lower bound `y`"
   ]
  },
  {
   "cell_type": "code",
   "execution_count": 7,
   "metadata": {},
   "outputs": [
    {
     "data": {
      "text/plain": [
       "(5 . 19)"
      ]
     },
     "execution_count": 7,
     "metadata": {},
     "output_type": "execute_result"
    }
   ],
   "source": [
    "(define (sub-interval x y)\n",
    "  (make-interval \n",
    "   (- (lower-bound x) (upper-bound y))\n",
    "   (- (upper-bound x) (lower-bound y))))\n",
    "\n",
    "(define x (make-interval 10 20))\n",
    "(define y (make-interval 1 5))\n",
    "(sub-interval x y)"
   ]
  },
  {
   "cell_type": "markdown",
   "metadata": {},
   "source": [
    "## 2.9\n",
    "\n",
    "`add-interval`:\n",
    "\n",
    "$[a,b]+[c,d]=[(a+c), (b+d)]$\n",
    "\n",
    "`width`:\n",
    "\n",
    "$width([a,b])=\\frac{b-a}{2}$\n",
    "\n",
    "`width` of `add-interval`:\n",
    "\n",
    "$width([a,b]+[c,d])=width([(a+c), (b+d)])$\n",
    "\n",
    "$=\\frac{(b+d)-(a+c)}{2}$\n",
    "\n",
    "sum of `width` of two intervals:\n",
    "\n",
    "$width([a,b]) + width([c,d])=\\frac{b-a}{2}+\\frac{d-c}{2}$\n",
    "\n",
    "$=\\frac{(b-a)+(d-c)}{2}$\n",
    "\n",
    "$=\\frac{(b+d)-(a+c)}{2}$\n",
    "\n",
    "`width` of `add-interval` is equal to the sum of `with` of the same two intervals. Therefore the width of the the sum of two intervals is a function only of the widthds of the intervals being added."
   ]
  },
  {
   "cell_type": "code",
   "execution_count": 8,
   "metadata": {},
   "outputs": [],
   "source": [
    "(define (width x)\n",
    "  (/ (- (upper-bound x) (lower-bound x)) 2))\n",
    "\n",
    "(define a (make-interval 10 20))\n",
    "(define b (make-interval 30 40))\n",
    "(define c (make-interval 1 3))"
   ]
  },
  {
   "cell_type": "code",
   "execution_count": 9,
   "metadata": {},
   "outputs": [
    {
     "data": {
      "text/plain": [
       "5"
      ]
     },
     "execution_count": 9,
     "metadata": {},
     "output_type": "execute_result"
    }
   ],
   "source": [
    "(width a)"
   ]
  },
  {
   "cell_type": "code",
   "execution_count": 10,
   "metadata": {},
   "outputs": [
    {
     "data": {
      "text/plain": [
       "5"
      ]
     },
     "execution_count": 10,
     "metadata": {},
     "output_type": "execute_result"
    }
   ],
   "source": [
    "(width b)"
   ]
  },
  {
   "cell_type": "code",
   "execution_count": 11,
   "metadata": {},
   "outputs": [
    {
     "data": {
      "text/plain": [
       "1"
      ]
     },
     "execution_count": 11,
     "metadata": {},
     "output_type": "execute_result"
    }
   ],
   "source": [
    "(width c)"
   ]
  },
  {
   "cell_type": "code",
   "execution_count": 12,
   "metadata": {},
   "outputs": [
    {
     "data": {
      "text/plain": [
       "10"
      ]
     },
     "execution_count": 12,
     "metadata": {},
     "output_type": "execute_result"
    }
   ],
   "source": [
    "(width (add-interval a b))"
   ]
  },
  {
   "cell_type": "markdown",
   "metadata": {},
   "source": [
    "Intervals `a` and `b` have the same width. Multiplying each of them by `c` gives produce intervals with different widths. Therefore the product of two intervals has a width that is not a function solely of the widths of said intervals."
   ]
  },
  {
   "cell_type": "code",
   "execution_count": 13,
   "metadata": {},
   "outputs": [
    {
     "data": {
      "text/plain": [
       "25"
      ]
     },
     "execution_count": 13,
     "metadata": {},
     "output_type": "execute_result"
    }
   ],
   "source": [
    "(width (mul-interval a c))"
   ]
  },
  {
   "cell_type": "code",
   "execution_count": 14,
   "metadata": {},
   "outputs": [
    {
     "data": {
      "text/plain": [
       "45"
      ]
     },
     "execution_count": 14,
     "metadata": {},
     "output_type": "execute_result"
    }
   ],
   "source": [
    "(width (mul-interval b c))"
   ]
  },
  {
   "cell_type": "markdown",
   "metadata": {},
   "source": [
    "## 2.10"
   ]
  },
  {
   "cell_type": "code",
   "execution_count": 15,
   "metadata": {},
   "outputs": [
    {
     "name": "stderr",
     "output_type": "stream",
     "text": [
      "\u001b[0;31m\n",
      "Traceback (most recent call last):\n",
      "  File \"In [15]\", line 14, col 1, in 'div-interval'\n",
      "  File \"In [15]\", line 8, col 7, in 'error'\n",
      "  File \"In [15]\", line 8, col 7\n",
      "RunTimeError: Error in 'div-interval': Cannot divide by interval with span 0\n",
      "\n",
      "\u001b[0m"
     ]
    }
   ],
   "source": [
    "(define (zero-span? x)\n",
    "  (and (<= (lower-bound x) 0)\n",
    "       (>= (upper-bound x) 0)))\n",
    "\n",
    ";; throws an error if divide by 0\n",
    "(define (div-interval x y)\n",
    "  (if (zero-span? y)\n",
    "      (error \"div-interval\" \"Cannot divide by interval with span 0\")\n",
    "      (mul-interval x\n",
    "                (make-interval\n",
    "                 (/ 1.0 (upper-bound y))\n",
    "                 (/ 1.0 (lower-bound y))))))\n",
    "\n",
    "(div-interval (make-interval 10 20) (make-interval -1 1))"
   ]
  },
  {
   "cell_type": "markdown",
   "metadata": {},
   "source": [
    "## 2.11\n",
    "`(mul-interval x y)` produces an interval where the lower bound is the minimum product of `x` and `y`'s bounds  and the upper bound is the maximum product of `x` and `y`'s bounds.\n",
    "\n",
    "Upper and lower bounds of an interval can be both positive, both negative or negative lower with positive upper i.e. `[+,+]`, `[-,-]` or `[-,+]`\n",
    "- Can't have positive lower and negative upper as the lower bound would be less than the upper bound\n",
    "\n",
    "For `mul-interval` this gives the combinations:\n",
    "```\n",
    "[+,+] * [+,+]\n",
    "[+,+] * [-,-]\n",
    "[+,+] * [-,+]\n",
    "\n",
    "[-,-] * [-,-]\n",
    "[-,-] * [+,+]\n",
    "[-,-] * [-,+]\n",
    "\n",
    "[-,+] * [-,+]\n",
    "[-,+] * [+,+]\n",
    "[-,+] * [-,-]\n",
    "```\n",
    "\n",
    "More than 2 multiplications are required for the case `[-,+] * [-,+]` as the product of the two negative lower bounds could be larger than that of the upper bounds.\n",
    "\n",
    "In all other cases only two multiplications are required as there is only one combination of products that can produce the correct result\n",
    "- e.g. `[+,+] * [+,+]` -> multiply two upper bounds and multiply two lower bounds."
   ]
  },
  {
   "cell_type": "code",
   "execution_count": 16,
   "metadata": {},
   "outputs": [],
   "source": [
    "(define (pos? x) (>= x 0))\n",
    "(define (neg? x ) (<= x 0))\n",
    "\n",
    "(define (mul-interval x y)\n",
    "  (let ((lx (lower-bound x))\n",
    "        (ux (upper-bound x))\n",
    "        (ly (lower-bound y))\n",
    "        (uy (upper-bound y)))\n",
    "    (cond ((and (pos? lx)\n",
    "                (pos? ux)\n",
    "                (pos? ly)\n",
    "                (pos? uy))\n",
    "           ;; [+, +] * [+, +]\n",
    "           (make-interval (* lx ly) (* ux uy)))\n",
    "          ((and (pos? lx)\n",
    "                (pos? ux)\n",
    "                (neg? ly)\n",
    "                (pos? uy))\n",
    "           ;; [+, +] * [-, +]\n",
    "           (make-interval (* ux lx) (* ux uy)))\n",
    "          ((and (pos? lx)\n",
    "                (pos? ux)\n",
    "                (neg? ly)\n",
    "                (neg? uy))\n",
    "           ;; [+, +] * [-, -]\n",
    "           (make-interval (* ux lx) (* lx uy)))\n",
    "          ((and (neg? lx)\n",
    "                (pos? ux)\n",
    "                (pos? ly)\n",
    "                (pos? uy))\n",
    "           ;; [-, +] * [+, +]\n",
    "           (make-interval (* lx uy) (* ux uy)))\n",
    "          ((and (neg? lx)\n",
    "                (pos? ux)\n",
    "                (neg? ly)\n",
    "                (pos? uy))\n",
    "           ;; [-, +] * [-, +]\n",
    "           (make-interval (min (* ux ly) (* lx uy))\n",
    "                          (max (* lx ly) (* ux uy))))\n",
    "          ((and (neg? lx)\n",
    "                (pos? ux)\n",
    "                (neg? ly)\n",
    "                (neg? uy))\n",
    "           ;; [-, +] * [-, -]\n",
    "           (make-interval (* ux ly) (* lx ly)))\n",
    "          ((and (neg? lx)\n",
    "                (neg? ux)\n",
    "                (pos? ly)\n",
    "                (pos? uy))\n",
    "           ;; [-, -] * [+, +]\n",
    "           (make-interval (* lx ux) (* ux ly)))\n",
    "          ((and (neg? lx)\n",
    "                (neg? ux)\n",
    "                (neg? ly)\n",
    "                (pos? uy))\n",
    "           ;; [-, -] * [-, +]\n",
    "           (make-interval (* lx ux) (* lx ly)))\n",
    "          ((and (neg? lx)\n",
    "                (neg? ux)\n",
    "                (neg? ly)\n",
    "                (neg? uy))\n",
    "           ;; [-, -] * [-, -]\n",
    "           (make-interval (* ux uy) (* lx ly))))))"
   ]
  },
  {
   "cell_type": "code",
   "execution_count": 17,
   "metadata": {},
   "outputs": [],
   "source": [
    "(define a (make-interval 1 2))\n",
    "(define b (make-interval -1 2))\n",
    "(define c (make-interval -1 -2))"
   ]
  },
  {
   "cell_type": "code",
   "execution_count": 18,
   "metadata": {},
   "outputs": [
    {
     "data": {
      "text/plain": [
       "(1 . 4)"
      ]
     },
     "execution_count": 18,
     "metadata": {},
     "output_type": "execute_result"
    }
   ],
   "source": [
    "(mul-interval a a)"
   ]
  },
  {
   "cell_type": "code",
   "execution_count": 19,
   "metadata": {},
   "outputs": [
    {
     "data": {
      "text/plain": [
       "(2 . 4)"
      ]
     },
     "execution_count": 19,
     "metadata": {},
     "output_type": "execute_result"
    }
   ],
   "source": [
    "(mul-interval a b)"
   ]
  },
  {
   "cell_type": "code",
   "execution_count": 20,
   "metadata": {},
   "outputs": [
    {
     "data": {
      "text/plain": [
       "(2 . -1)"
      ]
     },
     "execution_count": 20,
     "metadata": {},
     "output_type": "execute_result"
    }
   ],
   "source": [
    "(mul-interval a c)"
   ]
  },
  {
   "cell_type": "code",
   "execution_count": 21,
   "metadata": {},
   "outputs": [
    {
     "data": {
      "text/plain": [
       "(-2 . 4)"
      ]
     },
     "execution_count": 21,
     "metadata": {},
     "output_type": "execute_result"
    }
   ],
   "source": [
    "(mul-interval b a)"
   ]
  },
  {
   "cell_type": "code",
   "execution_count": 22,
   "metadata": {},
   "outputs": [
    {
     "data": {
      "text/plain": [
       "(-2 . 4)"
      ]
     },
     "execution_count": 22,
     "metadata": {},
     "output_type": "execute_result"
    }
   ],
   "source": [
    "(mul-interval b b)"
   ]
  },
  {
   "cell_type": "code",
   "execution_count": 23,
   "metadata": {},
   "outputs": [
    {
     "data": {
      "text/plain": [
       "(-4 . 2)"
      ]
     },
     "execution_count": 23,
     "metadata": {},
     "output_type": "execute_result"
    }
   ],
   "source": [
    "(mul-interval b c)"
   ]
  },
  {
   "cell_type": "code",
   "execution_count": 24,
   "metadata": {},
   "outputs": [
    {
     "data": {
      "text/plain": [
       "(2 . -1)"
      ]
     },
     "execution_count": 24,
     "metadata": {},
     "output_type": "execute_result"
    }
   ],
   "source": [
    "(mul-interval c a)"
   ]
  },
  {
   "cell_type": "code",
   "execution_count": 25,
   "metadata": {},
   "outputs": [
    {
     "data": {
      "text/plain": [
       "(2 . 2)"
      ]
     },
     "execution_count": 25,
     "metadata": {},
     "output_type": "execute_result"
    }
   ],
   "source": [
    "(mul-interval c b)"
   ]
  },
  {
   "cell_type": "code",
   "execution_count": 65,
   "metadata": {},
   "outputs": [
    {
     "data": {
      "text/plain": [
       "(1 . 4)"
      ]
     },
     "execution_count": 65,
     "metadata": {},
     "output_type": "execute_result"
    }
   ],
   "source": [
    "(mul-interval c c)"
   ]
  },
  {
   "cell_type": "markdown",
   "metadata": {},
   "source": [
    "## 2.12"
   ]
  },
  {
   "cell_type": "code",
   "execution_count": 27,
   "metadata": {},
   "outputs": [],
   "source": [
    ";; definitions given in question\n",
    "(define (make-center-width c w)\n",
    "  (make-interval (- c w) (+ c w)))\n",
    "\n",
    "(define (center i)\n",
    "  (/ (+ (lower-bound i)\n",
    "        (upper-bound i))\n",
    "     2))\n",
    "\n",
    "(define (width i)\n",
    "  (/ (- (upper-bound i)\n",
    "        (lower-bound i))\n",
    "     2))"
   ]
  },
  {
   "cell_type": "code",
   "execution_count": 62,
   "metadata": {},
   "outputs": [],
   "source": [
    ";; using make-interval directly\n",
    "(define (make-center-percent c tolerance)\n",
    "  (let ((unc (* (/ c 100) tolerance)))\n",
    "    (make-interval (- c unc) (+ c unc))))\n",
    "\n",
    ";; using provided make-center-width\n",
    "(define (make-center-percent c tolerance)\n",
    "  (make-center-width c (* (/ c 100) tolerance)))\n",
    "\n",
    "(define (percent i)\n",
    "  (* (/ (width i) (center i)) 100.0))"
   ]
  },
  {
   "cell_type": "code",
   "execution_count": 63,
   "metadata": {},
   "outputs": [
    {
     "data": {
      "text/plain": [
       "(15/2 . 25/2)"
      ]
     },
     "execution_count": 63,
     "metadata": {},
     "output_type": "execute_result"
    }
   ],
   "source": [
    "(define i (make-center-percent 10 25))\n",
    "i"
   ]
  },
  {
   "cell_type": "code",
   "execution_count": 64,
   "metadata": {},
   "outputs": [
    {
     "data": {
      "text/plain": [
       "10"
      ]
     },
     "execution_count": 64,
     "metadata": {},
     "output_type": "execute_result"
    }
   ],
   "source": [
    "(center i)"
   ]
  },
  {
   "cell_type": "code",
   "execution_count": 65,
   "metadata": {},
   "outputs": [
    {
     "data": {
      "text/plain": [
       "25.0"
      ]
     },
     "execution_count": 65,
     "metadata": {},
     "output_type": "execute_result"
    }
   ],
   "source": [
    "(percent i)"
   ]
  },
  {
   "cell_type": "markdown",
   "metadata": {},
   "source": [
    "## 2.13\n",
    "\n",
    "Interval multiplication:\n",
    "\n",
    "$[a,b]\\cdot[c,d] = [\\min(ac,ad,bc,bd), \\max(ac,ad,bc,bd)]$\n",
    "\n",
    "Assuming all values are positive:\n",
    "\n",
    "$[a,b]\\cdot[c,d] = [ac, bd]$\n",
    "\n",
    "Interval represented by its center $c_i$ and tolerance percentage $p_i$ :\n",
    "\n",
    "$i = [c_i-\\frac{c_i\\cdot p_i}{100},c_i+\\frac{c_i\\cdot p_i}{100}]$\n",
    "\n",
    "$= [c_i\\frac{1-p_i}{100},c_i\\frac{1+p_i}{100}]$\n",
    "\n",
    "Multiplying two intervals $i,j$:\n",
    "\n",
    "$ij=[c_i\\frac{1-p_i}{100},c_i\\frac{1+p_i}{100}]\\cdot[c_j\\frac{1-p_j}{100},c_j\\frac{1+p_j}{100}]$\n",
    "\n",
    "$=[c_i\\frac{1-p_i}{100}\\cdot c_j\\frac{1-p_j}{100}, c_i\\frac{1+p_i}{100}\\cdot c_j\\frac{1+p_j}{100}]$\n",
    "\n",
    "$=[c_ic_j(1-\\frac{p_i+p_j}{100}+\\frac{p_ip_j}{10000}), c_ic_j(1+\\frac{p_i+p_j}{100}+\\frac{p_ip_j}{10000})]$\n",
    "\n",
    "Percentage tolerances are small ->$\\frac{p_ip_j}{10000}$ terms will be small -> approximate as:\n",
    "\n",
    "$ij=[c_ic_j(1-\\frac{p_i+p_j}{100}), c_ic_j(1+\\frac{p_i+p_j}{100})]$\n",
    "\n",
    "Percentage tolerance of the product = $p_i+p_j$\n",
    "- **sum of the tolerances of the two intervals**"
   ]
  },
  {
   "cell_type": "code",
   "execution_count": 67,
   "metadata": {},
   "outputs": [
    {
     "data": {
      "text/plain": [
       "2.9994001199760048"
      ]
     },
     "execution_count": 67,
     "metadata": {},
     "output_type": "execute_result"
    }
   ],
   "source": [
    ";; test with small tolerances\n",
    "(define i (make-center-percent 100 2))\n",
    "(define j (make-center-percent 80 1))\n",
    "\n",
    "(define ij (mul-interval i j))\n",
    ";; approximately 2+1=3\n",
    "(percent ij)"
   ]
  },
  {
   "cell_type": "markdown",
   "metadata": {},
   "source": [
    "## 2.14"
   ]
  },
  {
   "cell_type": "code",
   "execution_count": 68,
   "metadata": {},
   "outputs": [],
   "source": [
    ";; procedures from question\n",
    "(define (par1 r1 r2)\n",
    "  (div-interval\n",
    "   (mul-interval r1 r2)\n",
    "   (add-interval r1 r2)))\n",
    "\n",
    "(define (par2 r1 r2)\n",
    "  (let ((one (make-interval 1 1)))\n",
    "    (div-interval\n",
    "     one\n",
    "     (add-interval \n",
    "      (div-interval one r1)\n",
    "      (div-interval one r2)))))"
   ]
  },
  {
   "cell_type": "code",
   "execution_count": 85,
   "metadata": {},
   "outputs": [
    {
     "data": {
      "text/plain": [
       "(61.928338762214985 . 71.71331058020478)"
      ]
     },
     "execution_count": 85,
     "metadata": {},
     "output_type": "execute_result"
    }
   ],
   "source": [
    ";; demonstrate different results between par1 and par2\n",
    "(define A (make-center-percent 100 3))\n",
    "(define B (make-center-percent 200 2))\n",
    "\n",
    "(par1 A B)"
   ]
  },
  {
   "cell_type": "code",
   "execution_count": 86,
   "metadata": {},
   "outputs": [
    {
     "data": {
      "text/plain": [
       "(64.88737201365187 . 68.44299674267101)"
      ]
     },
     "execution_count": 86,
     "metadata": {},
     "output_type": "execute_result"
    }
   ],
   "source": [
    "(par2 A B)"
   ]
  },
  {
   "cell_type": "code",
   "execution_count": 87,
   "metadata": {},
   "outputs": [
    {
     "data": {
      "text/plain": [
       "1.0018016214593133"
      ]
     },
     "execution_count": 87,
     "metadata": {},
     "output_type": "execute_result"
    }
   ],
   "source": [
    ";; investigate behaviour with arithmetic expressions\n",
    "(define A/A (div-interval A A))\n",
    "(define A/B (div-interval A B))\n",
    "\n",
    "(center A/A)"
   ]
  },
  {
   "cell_type": "code",
   "execution_count": 88,
   "metadata": {},
   "outputs": [
    {
     "data": {
      "text/plain": [
       "5.994604855629938"
      ]
     },
     "execution_count": 88,
     "metadata": {},
     "output_type": "execute_result"
    }
   ],
   "source": [
    "(percent A/A)"
   ]
  },
  {
   "cell_type": "code",
   "execution_count": 89,
   "metadata": {},
   "outputs": [
    {
     "data": {
      "text/plain": [
       "0.500500200080032"
      ]
     },
     "execution_count": 89,
     "metadata": {},
     "output_type": "execute_result"
    }
   ],
   "source": [
    "(center A/B)"
   ]
  },
  {
   "cell_type": "code",
   "execution_count": 90,
   "metadata": {},
   "outputs": [
    {
     "data": {
      "text/plain": [
       "4.997001798920647"
      ]
     },
     "execution_count": 90,
     "metadata": {},
     "output_type": "execute_result"
    }
   ],
   "source": [
    "(percent A/B)"
   ]
  },
  {
   "cell_type": "markdown",
   "metadata": {},
   "source": [
    "The expected center of dividing an interval by itself is 1, however in the investigation above, `(center A/A)` returns `1.0018016214593133` - an approximation to 1."
   ]
  },
  {
   "cell_type": "markdown",
   "metadata": {},
   "source": [
    "## 2.15\n",
    "The question states that `par1` and `par2` use two different but algebraically equivalent formulae:\n",
    "- `par1` uses the formula $\\frac{R_1R_2}{R_1+R_2}$\n",
    "- `par2` uses the formula $\\frac{1}{\\frac{1}{R_1}+\\frac{1}{R_2}}$\n",
    "\n",
    "Proof of algrebraic equivalence:\n",
    "\n",
    "Multiply by $\\frac{R_1}{R_1}$ and $\\frac{R_2}{R_2}$. These are both equivalent to 1 and so the formula is still valid:\n",
    "\n",
    "$\\frac{1}{\\frac{1}{R_1}+\\frac{1}{R_2}}=\\frac{R_1}{R_1}\\frac{R_2}{R_2}\\frac{R_1R_2}{R_1+R_2}$\n",
    "\n",
    "$=\\frac{R_1R_2}{R_1R_2(\\frac{1}{R_1}+\\frac{1}{R_2})}$\n",
    "\n",
    "$=\\frac{R_1R_2}{\\frac{R_1R_2}{R_1}+\\frac{R_1R_2}{R_2}}$\n",
    "\n",
    "$=\\frac{R_1R_2}{R_1+R_2}$\n",
    "\n",
    "The transformation assumes that $\\frac{R_1}{R_1}$ and $\\frac{R_2}{R_2}$ equal 1. However it was shown in question 2.14 that dividing an interval by itself will produce a result with a center that is an **approximation** to 1 - introducing the descrepancy between `par1` and `par2`. Therefore, tighter error bounds will be achieved by avoiding repetition of variables that represent uncertain numbers - **Eva Lu Ator is correct**."
   ]
  },
  {
   "cell_type": "markdown",
   "metadata": {},
   "source": [
    "## 2.17"
   ]
  },
  {
   "cell_type": "code",
   "execution_count": 1,
   "metadata": {},
   "outputs": [],
   "source": [
    "(define (last-pair l)\n",
    "  (if (null? (cdr l))\n",
    "      l\n",
    "      (last-pair (cdr l))))"
   ]
  },
  {
   "cell_type": "code",
   "execution_count": 2,
   "metadata": {},
   "outputs": [
    {
     "data": {
      "text/plain": [
       "(34)"
      ]
     },
     "execution_count": 2,
     "metadata": {},
     "output_type": "execute_result"
    }
   ],
   "source": [
    "(last-pair (list 23 72 149 34))"
   ]
  },
  {
   "cell_type": "markdown",
   "metadata": {},
   "source": [
    "## 2.18"
   ]
  },
  {
   "cell_type": "code",
   "execution_count": 12,
   "metadata": {},
   "outputs": [
    {
     "data": {
      "text/plain": [
       "(25 16 9 4 1)"
      ]
     },
     "execution_count": 12,
     "metadata": {},
     "output_type": "execute_result"
    }
   ],
   "source": [
    ";; given in question\n",
    "(define (append list1 list2)\n",
    "  (if (null? list1)\n",
    "      list2\n",
    "      (cons (car list1)\n",
    "            (append (cdr list1)\n",
    "                    list2))))\n",
    "\n",
    ";; reverse by appending car of a list to the reverse of cdr of the list\n",
    "(define (reverse l)\n",
    "  (if (null? l)\n",
    "      l\n",
    "      (append (reverse (cdr l)) (list (car l)))))\n",
    "\n",
    "(reverse (list 1 4 9 16 25))"
   ]
  },
  {
   "cell_type": "markdown",
   "metadata": {},
   "source": [
    "## 2.19"
   ]
  },
  {
   "cell_type": "code",
   "execution_count": 3,
   "metadata": {},
   "outputs": [],
   "source": [
    ";; given in question\n",
    "(define us-coins \n",
    "  (list 50 25 10 5 1))\n",
    "\n",
    "(define (cc amount coin-values)\n",
    "  (cond ((= amount 0)\n",
    "         1)\n",
    "        ((or (< amount 0)\n",
    "             (no-more? coin-values))\n",
    "         0)\n",
    "        (else\n",
    "         (+ (cc\n",
    "             amount\n",
    "             (except-first-denomination\n",
    "              coin-values))\n",
    "            (cc\n",
    "             (- amount\n",
    "                (first-denomination\n",
    "                 coin-values))\n",
    "             coin-values)))))\n",
    "\n",
    "(define (first-denomination coin-values)\n",
    "  (car coin-values))\n",
    "\n",
    "(define (except-first-denomination coin-values)\n",
    "  (cdr coin-values))\n",
    "\n",
    "(define (no-more? coin-values)\n",
    "  (null? coin-values))"
   ]
  },
  {
   "cell_type": "code",
   "execution_count": 27,
   "metadata": {},
   "outputs": [
    {
     "data": {
      "text/plain": [
       "292"
      ]
     },
     "execution_count": 27,
     "metadata": {},
     "output_type": "execute_result"
    }
   ],
   "source": [
    "(cc 100 us-coins)"
   ]
  },
  {
   "cell_type": "markdown",
   "metadata": {},
   "source": [
    "##### The order of the list `coin-values` will **not effect** the answer produced by `cc`\n",
    "- Each sub-list of `coin-values` is evaluated recursively after subtracting the value of the first coin from the amount\n",
    "- All possible combinations are computed regardless of the order of `coin-values`"
   ]
  },
  {
   "cell_type": "code",
   "execution_count": 4,
   "metadata": {},
   "outputs": [
    {
     "data": {
      "text/plain": [
       "292"
      ]
     },
     "execution_count": 4,
     "metadata": {},
     "output_type": "execute_result"
    }
   ],
   "source": [
    "(cc 100 (reverse us-coins))"
   ]
  },
  {
   "cell_type": "code",
   "execution_count": 6,
   "metadata": {},
   "outputs": [
    {
     "data": {
      "text/plain": [
       "292"
      ]
     },
     "execution_count": 6,
     "metadata": {},
     "output_type": "execute_result"
    }
   ],
   "source": [
    "(define us-coins-shuffled (list 25 5 50 1 10))\n",
    "(cc 100 us-coins-shuffled)"
   ]
  },
  {
   "cell_type": "markdown",
   "metadata": {},
   "source": [
    "## 2.20"
   ]
  },
  {
   "cell_type": "code",
   "execution_count": 21,
   "metadata": {},
   "outputs": [],
   "source": [
    ";; check parity of first element x\n",
    ";; filter list using function that determines if input is that parity\n",
    "(define (same-parity x . y)\n",
    "  (define (iter z filter)\n",
    "    (cond ((null? z) z)\n",
    "          ((filter (car z))\n",
    "            ;; parity matches append first item, check next\n",
    "           (cons (car z) (iter (cdr z) filter)))\n",
    "          ;; parity mismatch, check next\n",
    "          (else (iter (cdr z) filter))))\n",
    "  (iter (cons x y) (if (even? x) even? odd?)))"
   ]
  },
  {
   "cell_type": "code",
   "execution_count": 22,
   "metadata": {},
   "outputs": [
    {
     "data": {
      "text/plain": [
       "(1 3 5 7)"
      ]
     },
     "execution_count": 22,
     "metadata": {},
     "output_type": "execute_result"
    }
   ],
   "source": [
    "(same-parity 1 2 3 4 5 6 7)"
   ]
  },
  {
   "cell_type": "code",
   "execution_count": 23,
   "metadata": {},
   "outputs": [
    {
     "data": {
      "text/plain": [
       "(2 4 6)"
      ]
     },
     "execution_count": 23,
     "metadata": {},
     "output_type": "execute_result"
    }
   ],
   "source": [
    "(same-parity 2 3 4 5 6 7)"
   ]
  },
  {
   "cell_type": "markdown",
   "metadata": {},
   "source": [
    "## 2.21"
   ]
  },
  {
   "cell_type": "code",
   "execution_count": 22,
   "metadata": {},
   "outputs": [
    {
     "data": {
      "text/plain": [
       "(1 4 9 16)"
      ]
     },
     "execution_count": 22,
     "metadata": {},
     "output_type": "execute_result"
    }
   ],
   "source": [
    "(define (map proc items)\n",
    "  (if (null? items)\n",
    "      items\n",
    "      (cons (proc (car items))\n",
    "            (map proc (cdr items)))))\n",
    "\n",
    "(define (square-list items)\n",
    "  (if (null? items)\n",
    "      items\n",
    "      (cons (* (car items) (car items)) \n",
    "            (square-list (cdr items)))))\n",
    "\n",
    "(square-list (list 1 2 3 4))"
   ]
  },
  {
   "cell_type": "code",
   "execution_count": 23,
   "metadata": {},
   "outputs": [],
   "source": [
    "(define (square-list items)\n",
    "  (map (lambda (x) (* x x)) items))"
   ]
  },
  {
   "cell_type": "code",
   "execution_count": 24,
   "metadata": {},
   "outputs": [
    {
     "data": {
      "text/plain": [
       "(1 4 9 16)"
      ]
     },
     "execution_count": 24,
     "metadata": {},
     "output_type": "execute_result"
    }
   ],
   "source": [
    "(square-list (list 1 2 3 4))"
   ]
  },
  {
   "cell_type": "markdown",
   "metadata": {},
   "source": [
    "## 2.22"
   ]
  },
  {
   "cell_type": "code",
   "execution_count": 38,
   "metadata": {},
   "outputs": [
    {
     "data": {
      "text/plain": [
       "(16 9 4 1)"
      ]
     },
     "execution_count": 38,
     "metadata": {},
     "output_type": "execute_result"
    }
   ],
   "source": [
    "(define (square x) (* x x))\n",
    "\n",
    ";; Result list is reversed\n",
    "(define (square-list items)\n",
    "  (define (iter things answer)\n",
    "    (if (null? things)\n",
    "        answer\n",
    "        (iter (cdr things)\n",
    "              ;; square item from front of input list and append to \n",
    "              ;; front of answer list\n",
    "              (cons (square (car things))\n",
    "                    answer))))\n",
    "  ;; start with empty list due to implementation details of nil value\n",
    "  (iter items (list)))\n",
    "\n",
    "(square-list (list 1 2 3 4))"
   ]
  },
  {
   "cell_type": "markdown",
   "metadata": {},
   "source": [
    "On each iteration, an item is taken from the front of the original list, is squared and then appends the result to the *front* of the answer list. The last item to be squared from the original list will therfore end up as the first item in the answer list "
   ]
  },
  {
   "cell_type": "code",
   "execution_count": 39,
   "metadata": {},
   "outputs": [
    {
     "data": {
      "text/plain": [
       "((((() . 1) . 4) . 9) . 16)"
      ]
     },
     "execution_count": 39,
     "metadata": {},
     "output_type": "execute_result"
    }
   ],
   "source": [
    "(define (square-list items)\n",
    "  (define (iter things answer)\n",
    "    (if (null? things)\n",
    "        answer\n",
    "        (iter (cdr things)\n",
    "              ;; pass list as first arg to cons\n",
    "              (cons answer \n",
    "                    (square\n",
    "                     (car things))))))\n",
    "  (iter items (list)))\n",
    "\n",
    "(square-list (list 1 2 3 4))"
   ]
  },
  {
   "cell_type": "markdown",
   "metadata": {},
   "source": [
    "Flipping the order of arguments to `cons` creates a pair containing the answer list and the next squared integer. It does *not* append the integer onto the list. Each iteration combines the list from the previous step with the next integer result and wraps it in a new list."
   ]
  },
  {
   "cell_type": "markdown",
   "metadata": {},
   "source": [
    "## 2.23"
   ]
  },
  {
   "cell_type": "code",
   "execution_count": 44,
   "metadata": {},
   "outputs": [
    {
     "name": "stdout",
     "output_type": "stream",
     "text": [
      "\n",
      "1\n",
      "2\n",
      "3\n",
      "4"
     ]
    },
    {
     "data": {
      "text/plain": [
       "#t"
      ]
     },
     "execution_count": 44,
     "metadata": {},
     "output_type": "execute_result"
    }
   ],
   "source": [
    "(define (for-each proc items)\n",
    "  (cond ((null? items)\n",
    "         #t)\n",
    "        (else (proc (car items))\n",
    "              (for-each proc (cdr items)))))\n",
    "\n",
    "(for-each \n",
    " (lambda (x) (newline) (display x))\n",
    " (list 1 2 3 4))"
   ]
  },
  {
   "cell_type": "markdown",
   "metadata": {},
   "source": [
    "## 2.24 TODO - ADD DIAGRAMS"
   ]
  },
  {
   "cell_type": "code",
   "execution_count": 45,
   "metadata": {},
   "outputs": [
    {
     "data": {
      "text/plain": [
       "(1 (2 (3 4)))"
      ]
     },
     "execution_count": 45,
     "metadata": {},
     "output_type": "execute_result"
    }
   ],
   "source": [
    "(list 1 (list 2 (list 3 4)))"
   ]
  },
  {
   "cell_type": "markdown",
   "metadata": {},
   "source": [
    "## 2.25"
   ]
  },
  {
   "cell_type": "code",
   "execution_count": 47,
   "metadata": {},
   "outputs": [
    {
     "data": {
      "text/plain": [
       "(1 3 (5 7) 9)"
      ]
     },
     "execution_count": 47,
     "metadata": {},
     "output_type": "execute_result"
    }
   ],
   "source": [
    "(define a (list 1 3 (list 5 7) 9))\n",
    "a"
   ]
  },
  {
   "cell_type": "code",
   "execution_count": 57,
   "metadata": {},
   "outputs": [
    {
     "data": {
      "text/plain": [
       "7"
      ]
     },
     "execution_count": 57,
     "metadata": {},
     "output_type": "execute_result"
    }
   ],
   "source": [
    "(car (cdr (car (cdr (cdr a)))))"
   ]
  },
  {
   "cell_type": "code",
   "execution_count": 48,
   "metadata": {},
   "outputs": [
    {
     "data": {
      "text/plain": [
       "((7))"
      ]
     },
     "execution_count": 48,
     "metadata": {},
     "output_type": "execute_result"
    }
   ],
   "source": [
    "(define b (list (list 7)))\n",
    "b"
   ]
  },
  {
   "cell_type": "code",
   "execution_count": 56,
   "metadata": {},
   "outputs": [
    {
     "data": {
      "text/plain": [
       "7"
      ]
     },
     "execution_count": 56,
     "metadata": {},
     "output_type": "execute_result"
    }
   ],
   "source": [
    "(car (car b))"
   ]
  },
  {
   "cell_type": "code",
   "execution_count": 49,
   "metadata": {},
   "outputs": [
    {
     "data": {
      "text/plain": [
       "(1 (2 (3 (4 (5 (6 7))))))"
      ]
     },
     "execution_count": 49,
     "metadata": {},
     "output_type": "execute_result"
    }
   ],
   "source": [
    "(define c (list 1 (list 2 (list 3 (list 4 (list 5 (list 6 7)))))))\n",
    "c"
   ]
  },
  {
   "cell_type": "code",
   "execution_count": 72,
   "metadata": {},
   "outputs": [
    {
     "data": {
      "text/plain": [
       "(7)"
      ]
     },
     "execution_count": 72,
     "metadata": {},
     "output_type": "execute_result"
    }
   ],
   "source": [
    "(cdr (car (cdr (car (cdr (car (cdr (car (cdr (car (cdr c)))))))))))"
   ]
  },
  {
   "cell_type": "markdown",
   "metadata": {},
   "source": [
    "## 2.26"
   ]
  },
  {
   "cell_type": "code",
   "execution_count": 73,
   "metadata": {},
   "outputs": [],
   "source": [
    "(define x (list 1 2 3))\n",
    "(define y (list 4 5 6))"
   ]
  },
  {
   "cell_type": "code",
   "execution_count": 76,
   "metadata": {},
   "outputs": [
    {
     "data": {
      "text/plain": [
       "(1 2 3 4 5 6)"
      ]
     },
     "execution_count": 76,
     "metadata": {},
     "output_type": "execute_result"
    }
   ],
   "source": [
    "(append x y)"
   ]
  },
  {
   "cell_type": "code",
   "execution_count": 77,
   "metadata": {},
   "outputs": [
    {
     "data": {
      "text/plain": [
       "((1 2 3) 4 5 6)"
      ]
     },
     "execution_count": 77,
     "metadata": {},
     "output_type": "execute_result"
    }
   ],
   "source": [
    "(cons x y)"
   ]
  },
  {
   "cell_type": "code",
   "execution_count": 78,
   "metadata": {},
   "outputs": [
    {
     "data": {
      "text/plain": [
       "((1 2 3) (4 5 6))"
      ]
     },
     "execution_count": 78,
     "metadata": {},
     "output_type": "execute_result"
    }
   ],
   "source": [
    "(list x y)"
   ]
  },
  {
   "cell_type": "markdown",
   "metadata": {},
   "source": [
    "## 2.27"
   ]
  },
  {
   "cell_type": "code",
   "execution_count": 83,
   "metadata": {},
   "outputs": [],
   "source": [
    ";; from 2.18\n",
    "(define (reverse l)\n",
    "  (if (null? l)\n",
    "      l\n",
    "      (append (reverse (cdr l)) (list (car l)))))\n",
    "\n",
    "(define (deep-reverse l)\n",
    "  (cond ((null? l) (list))\n",
    "        ((pair? (car l))\n",
    "         (append (deep-reverse (cdr l))\n",
    "                 (list (deep-reverse (car l)))))\n",
    "        (else (append (deep-reverse (cdr l))\n",
    "                      (list (car l))))))"
   ]
  },
  {
   "cell_type": "code",
   "execution_count": 84,
   "metadata": {},
   "outputs": [
    {
     "data": {
      "text/plain": [
       "((1 2) (3 4))"
      ]
     },
     "execution_count": 84,
     "metadata": {},
     "output_type": "execute_result"
    }
   ],
   "source": [
    "(define x (list (list 1 2) (list 3 4)))\n",
    "x"
   ]
  },
  {
   "cell_type": "code",
   "execution_count": 85,
   "metadata": {},
   "outputs": [
    {
     "data": {
      "text/plain": [
       "((3 4) (1 2))"
      ]
     },
     "execution_count": 85,
     "metadata": {},
     "output_type": "execute_result"
    }
   ],
   "source": [
    "(reverse x)"
   ]
  },
  {
   "cell_type": "code",
   "execution_count": 88,
   "metadata": {},
   "outputs": [
    {
     "data": {
      "text/plain": [
       "((4 3) (2 1))"
      ]
     },
     "execution_count": 88,
     "metadata": {},
     "output_type": "execute_result"
    }
   ],
   "source": [
    "(deep-reverse x)"
   ]
  },
  {
   "cell_type": "markdown",
   "metadata": {},
   "source": [
    "## 2.28"
   ]
  },
  {
   "cell_type": "code",
   "execution_count": 103,
   "metadata": {},
   "outputs": [],
   "source": [
    ";; traverse tree->append each node to list result,\n",
    "(define (fringe t)\n",
    "  (cond ((null? t) (list))\n",
    "        ((not (pair? t)) (list t))\n",
    "        (else (append (fringe (car t))\n",
    "                      (fringe (cdr t))))))"
   ]
  },
  {
   "cell_type": "code",
   "execution_count": 104,
   "metadata": {},
   "outputs": [
    {
     "data": {
      "text/plain": [
       "((1 2) (3 4))"
      ]
     },
     "execution_count": 104,
     "metadata": {},
     "output_type": "execute_result"
    }
   ],
   "source": [
    "(define x (list (list 1 2) (list 3 4)))\n",
    "x"
   ]
  },
  {
   "cell_type": "code",
   "execution_count": 105,
   "metadata": {},
   "outputs": [
    {
     "data": {
      "text/plain": [
       "(1 2 3 4)"
      ]
     },
     "execution_count": 105,
     "metadata": {},
     "output_type": "execute_result"
    }
   ],
   "source": [
    "(fringe x)"
   ]
  },
  {
   "cell_type": "markdown",
   "metadata": {},
   "source": [
    "## 2.29"
   ]
  },
  {
   "cell_type": "code",
   "execution_count": 111,
   "metadata": {},
   "outputs": [],
   "source": [
    "(define (make-mobile left right)\n",
    "  (list left right))\n",
    "\n",
    "(define (make-branch len structure)\n",
    "  (list len structure))\n",
    "\n",
    "(define (left-branch mobile)\n",
    "  (car mobile))\n",
    "\n",
    "(define (right-branch mobile)\n",
    "  (car (cdr mobile)))\n",
    "\n",
    "(define (branch-length branch)\n",
    "  (car branch))\n",
    "\n",
    "(define (branch-structure branch)\n",
    "  (car (cdr branch)))\n",
    "\n",
    ";; mobile total weight = sum of left + right branch weight\n",
    ";; branch weight = value of weight if not a mobile, or recursive if branch\n",
    ";; holds a mobile\n",
    "(define (branch-weight branch)\n",
    "  (if (pair? (branch-structure branch))\n",
    "      (total-weight (branch-structure branch))\n",
    "      (branch-structure branch)))\n",
    "\n",
    "(define (total-weight mobile)\n",
    "  (+ (branch-weight (left-branch mobile))\n",
    "     (branch-weight (right-branch mobile))))\n",
    "\n",
    "(define (branch-torque branch)\n",
    "  (* (branch-length branch)\n",
    "     (branch-weight branch)))\n",
    "\n",
    "(define (branch-balanced? branch)\n",
    "  (if (pair? (branch-structure branch))\n",
    "      (mobile-balanced? (branch-structure branch))\n",
    "      #t))\n",
    "(define (mobile-balanced?)\n",
    "  (and (= (branch-torque (left-branch mobile))\n",
    "          (branch-torque (right-branch mobile)))\n",
    "       (branch-balanced? (left-branch mobile))\n",
    "       (branch-balanced? (right-branch mobile))))"
   ]
  },
  {
   "cell_type": "markdown",
   "metadata": {},
   "source": [
    "Changing the representation to:\n",
    "```scheme\n",
    "(define (make-mobile left right)\n",
    "  (cons left right))\n",
    "\n",
    "(define (make-branch length structure)\n",
    "  (cons length structure))\n",
    "```\n",
    "\n",
    "Would only affect the `right-branch` and `branch-structure` accessors:\n",
    "```scheme\n",
    "(define (right-branch mobile)\n",
    "  (cdr mobile))\n",
    "\n",
    "(define (branch-structure branch)\n",
    "  (cdr branch))\n",
    "```"
   ]
  },
  {
   "cell_type": "markdown",
   "metadata": {},
   "source": [
    "## 2.30"
   ]
  },
  {
   "cell_type": "code",
   "execution_count": 5,
   "metadata": {},
   "outputs": [
    {
     "data": {
      "text/plain": [
       "(1 (2 (3 4) 5) (6 7))"
      ]
     },
     "execution_count": 5,
     "metadata": {},
     "output_type": "execute_result"
    }
   ],
   "source": [
    "(define t (list 1\n",
    "                (list 2 (list 3 4) 5)\n",
    "                (list 6 7)))\n",
    "t"
   ]
  },
  {
   "cell_type": "code",
   "execution_count": 6,
   "metadata": {},
   "outputs": [],
   "source": [
    "(define (square-tree tree)\n",
    "  (cond ((null? tree) (list))\n",
    "        ((not (pair? tree))\n",
    "         (* tree tree))\n",
    "        (else\n",
    "         (cons (square-tree (car tree))\n",
    "               (square-tree (cdr tree))))))"
   ]
  },
  {
   "cell_type": "code",
   "execution_count": 7,
   "metadata": {},
   "outputs": [
    {
     "data": {
      "text/plain": [
       "(1 (4 (9 16) 25) (36 49))"
      ]
     },
     "execution_count": 7,
     "metadata": {},
     "output_type": "execute_result"
    }
   ],
   "source": [
    "(square-tree t)"
   ]
  },
  {
   "cell_type": "code",
   "execution_count": 8,
   "metadata": {},
   "outputs": [],
   "source": [
    "(define (square-tree tree)\n",
    "  (map (lambda (sub-tree)\n",
    "         (if (pair? sub-tree)\n",
    "             (square-tree sub-tree)\n",
    "             (* sub-tree sub-tree)))\n",
    "       tree))"
   ]
  },
  {
   "cell_type": "code",
   "execution_count": 9,
   "metadata": {},
   "outputs": [
    {
     "data": {
      "text/plain": [
       "(1 (4 (9 16) 25) (36 49))"
      ]
     },
     "execution_count": 9,
     "metadata": {},
     "output_type": "execute_result"
    }
   ],
   "source": [
    "(square-tree t)"
   ]
  },
  {
   "cell_type": "markdown",
   "metadata": {},
   "source": [
    "## 2.31"
   ]
  },
  {
   "cell_type": "code",
   "execution_count": 12,
   "metadata": {},
   "outputs": [
    {
     "data": {
      "text/plain": [
       "(1 (4 (9 16) 25) (36 49))"
      ]
     },
     "execution_count": 12,
     "metadata": {},
     "output_type": "execute_result"
    }
   ],
   "source": [
    "(define (tree-map proc tree)\n",
    "  (map (lambda (sub-tree)\n",
    "         (if (pair? sub-tree)\n",
    "             (tree-map proc sub-tree)\n",
    "             (proc sub-tree)))\n",
    "       tree))\n",
    "\n",
    "(define (square x) (* x x))\n",
    "\n",
    "(define (square-tree tree)\n",
    "  (tree-map square tree))\n",
    "\n",
    "(square-tree t)"
   ]
  },
  {
   "cell_type": "markdown",
   "metadata": {},
   "source": [
    "## 2.32\n",
    "Set of subsets of a set = **powerset**\n",
    "\n",
    "Algorithm from [Wikipedia](https://en.wikipedia.org/wiki/Power_set#Algorithms):\n",
    "- Powerset of empty set = the set containing the empty set\n",
    "- Powerset of any other set is all the subsets of the set containing a specific element and all the subsets of the set not containing that element\n",
    "\n",
    "\n",
    "$S=\\{1, 2, 3\\}$\n",
    "\n",
    "$P(S)=\\{\\{\\}\\{3\\}\\{2\\}\\{2,3\\}\\{1\\}\\{1,3\\}\\{1,2\\}\\{1,2,3\\}\\}$"
   ]
  },
  {
   "cell_type": "code",
   "execution_count": 36,
   "metadata": {},
   "outputs": [],
   "source": [
    "(define (subsets s)\n",
    "  (if (null? s)\n",
    "      (list ())\n",
    "      (let ((rest (subsets (cdr s))))\n",
    "        (append rest (map (lambda (x) (cons (car s) x)) rest)))))"
   ]
  },
  {
   "cell_type": "code",
   "execution_count": 37,
   "metadata": {},
   "outputs": [
    {
     "data": {
      "text/plain": [
       "(() (3) (2) (2 3) (1) (1 3) (1 2) (1 2 3))"
      ]
     },
     "execution_count": 37,
     "metadata": {},
     "output_type": "execute_result"
    }
   ],
   "source": [
    "(subsets (list 1 2 3))"
   ]
  },
  {
   "cell_type": "markdown",
   "metadata": {},
   "source": [
    "Line `3` of `subsets` represents the base case:\n",
    "- $P(\\{\\})=\\{\\{\\}\\}$\n",
    "`subsets` is then called recursively with `(cdr s)`- is all but the first element of the set. The first element of the set - `(car s)` - is then appended to each subset of `(cdr s)`. The recursion stops when `(cdr s)` on line `4` of `subsets` has no elements and the base case is reached."
   ]
  },
  {
   "cell_type": "markdown",
   "metadata": {},
   "source": [
    "## 2.33"
   ]
  },
  {
   "cell_type": "code",
   "execution_count": 2,
   "metadata": {},
   "outputs": [],
   "source": [
    ";; accumulate definition from book\n",
    "(define (accumulate op initial sequence)\n",
    "  (if (null? sequence)\n",
    "      initial\n",
    "      (op (car sequence)\n",
    "          (accumulate op\n",
    "                      initial\n",
    "                      (cdr sequence)))))"
   ]
  },
  {
   "cell_type": "code",
   "execution_count": 20,
   "metadata": {},
   "outputs": [
    {
     "data": {
      "text/plain": [
       "6"
      ]
     },
     "execution_count": 20,
     "metadata": {},
     "output_type": "execute_result"
    }
   ],
   "source": [
    "(accumulate + 0 (list 1 2 3))"
   ]
  },
  {
   "cell_type": "code",
   "execution_count": 6,
   "metadata": {},
   "outputs": [
    {
     "data": {
      "text/plain": [
       "120"
      ]
     },
     "execution_count": 6,
     "metadata": {},
     "output_type": "execute_result"
    }
   ],
   "source": [
    "(accumulate * 1 (list 4 5 6))"
   ]
  },
  {
   "cell_type": "code",
   "execution_count": 10,
   "metadata": {},
   "outputs": [
    {
     "data": {
      "text/plain": [
       "(1 4 9)"
      ]
     },
     "execution_count": 10,
     "metadata": {},
     "output_type": "execute_result"
    }
   ],
   "source": [
    "(define (map p sequence)\n",
    "  (accumulate (lambda (x y) (cons (p x) y))\n",
    "              (list) sequence))\n",
    "\n",
    "(define (square x) (* x x))\n",
    "(map square (list 1 2 3))"
   ]
  },
  {
   "cell_type": "code",
   "execution_count": 12,
   "metadata": {},
   "outputs": [
    {
     "data": {
      "text/plain": [
       "(1 2 3 4 5 6)"
      ]
     },
     "execution_count": 12,
     "metadata": {},
     "output_type": "execute_result"
    }
   ],
   "source": [
    "(define (append seq1 seq2)\n",
    "  (accumulate cons seq2 seq1))\n",
    "\n",
    "(append (list 1 2 3) (list 4 5 6))"
   ]
  },
  {
   "cell_type": "code",
   "execution_count": 15,
   "metadata": {},
   "outputs": [
    {
     "data": {
      "text/plain": [
       "3"
      ]
     },
     "execution_count": 15,
     "metadata": {},
     "output_type": "execute_result"
    }
   ],
   "source": [
    "(define (length sequence)\n",
    "  (accumulate (lambda (x y) (+ y 1)) 0 sequence))\n",
    "\n",
    "(length (list 1 2 3))"
   ]
  },
  {
   "cell_type": "markdown",
   "metadata": {},
   "source": [
    "## 2.34\n",
    "\n",
    "### Horner's rule\n",
    "Evaluation of the polynomial:\n",
    "\n",
    "$a_nx^n+a_{n-1}x^{n-1}+...+a_1x+a_0$\n",
    "\n",
    "At a given value of $x$ can be computed as:\n",
    "\n",
    "$(...(a_nx+a_{n-1})x+...+a_1)x+a_0$"
   ]
  },
  {
   "cell_type": "code",
   "execution_count": 18,
   "metadata": {},
   "outputs": [],
   "source": [
    "(define\n",
    "  (horner-eval x coefficient-sequence)\n",
    "  (accumulate\n",
    "   (lambda (this-coeff higher-terms)\n",
    "     (+ (* x higher-terms) this-coeff))\n",
    "   0\n",
    "  coefficient-sequence))"
   ]
  },
  {
   "cell_type": "code",
   "execution_count": 19,
   "metadata": {},
   "outputs": [
    {
     "data": {
      "text/plain": [
       "79"
      ]
     },
     "execution_count": 19,
     "metadata": {},
     "output_type": "execute_result"
    }
   ],
   "source": [
    "(horner-eval 2 (list 1 3 0 5 0 1))"
   ]
  },
  {
   "cell_type": "markdown",
   "metadata": {},
   "source": [
    "## 2.35"
   ]
  },
  {
   "cell_type": "code",
   "execution_count": 4,
   "metadata": {},
   "outputs": [],
   "source": [
    ";; from book\n",
    "(define (enumerate-tree tree)\n",
    "  (cond ((null? tree) (list))\n",
    "         ((not (pair? tree)) (list tree))\n",
    "         (else (append\n",
    "                (enumerate-tree (car tree))\n",
    "                (enumerate-tree (cdr tree))))))\n",
    "\n",
    "(define (count-leaves t)\n",
    "  (accumulate + 0 (map (lambda (x) 1)\n",
    "                       (enumerate-tree t))))"
   ]
  },
  {
   "cell_type": "code",
   "execution_count": 5,
   "metadata": {},
   "outputs": [
    {
     "data": {
      "text/plain": [
       "4"
      ]
     },
     "execution_count": 5,
     "metadata": {},
     "output_type": "execute_result"
    }
   ],
   "source": [
    "(count-leaves (cons (list 1 2) (list 3 4)))"
   ]
  },
  {
   "cell_type": "markdown",
   "metadata": {},
   "source": [
    "## 2.36"
   ]
  },
  {
   "cell_type": "code",
   "execution_count": 6,
   "metadata": {},
   "outputs": [],
   "source": [
    "(define (accumulate-n op init seqs)\n",
    "  (if (null? (car seqs))\n",
    "      (list)\n",
    "      (cons (accumulate op init (map car seqs))\n",
    "            (accumulate-n op init (map cdr seqs)))))"
   ]
  },
  {
   "cell_type": "code",
   "execution_count": 7,
   "metadata": {},
   "outputs": [
    {
     "data": {
      "text/plain": [
       "((1 2 3) (4 5 6) (7 8 9) (10 11 12))"
      ]
     },
     "execution_count": 7,
     "metadata": {},
     "output_type": "execute_result"
    }
   ],
   "source": [
    "(define s (list (list 1 2 3)\n",
    "                (list 4 5 6) \n",
    "                (list 7 8 9) \n",
    "                (list 10 11 12)))\n",
    "s"
   ]
  },
  {
   "cell_type": "code",
   "execution_count": 51,
   "metadata": {},
   "outputs": [
    {
     "data": {
      "text/plain": [
       "(22 26 30)"
      ]
     },
     "execution_count": 51,
     "metadata": {},
     "output_type": "execute_result"
    }
   ],
   "source": [
    "(accumulate-n + 0 s)"
   ]
  },
  {
   "cell_type": "markdown",
   "metadata": {},
   "source": [
    "## 2.37"
   ]
  },
  {
   "cell_type": "code",
   "execution_count": 1,
   "metadata": {},
   "outputs": [
    {
     "data": {
      "text/plain": [
       "(1 2 3 4)"
      ]
     },
     "execution_count": 1,
     "metadata": {},
     "output_type": "execute_result"
    }
   ],
   "source": [
    ";; representation of a vector\n",
    "(list 1 2 3 4)"
   ]
  },
  {
   "cell_type": "code",
   "execution_count": 4,
   "metadata": {},
   "outputs": [
    {
     "data": {
      "text/plain": [
       "((1 2 3 4) (4 5 6 6) (6 7 8 9))"
      ]
     },
     "execution_count": 4,
     "metadata": {},
     "output_type": "execute_result"
    }
   ],
   "source": [
    ";; representation of a matrix\n",
    "(define m (list (list 1 2 3 4)\n",
    "                (list 4 5 6 6)\n",
    "                (list 6 7 8 9)))\n",
    "m"
   ]
  },
  {
   "cell_type": "code",
   "execution_count": 15,
   "metadata": {},
   "outputs": [
    {
     "name": "stdout",
     "output_type": "stream",
     "text": [
      "(1 2 3 4)\n",
      "(4 5 6 6)\n",
      "(6 7 8 9)\n"
     ]
    },
    {
     "data": {
      "text/plain": [
       "(<void> <void> <void>)"
      ]
     },
     "execution_count": 15,
     "metadata": {},
     "output_type": "execute_result"
    }
   ],
   "source": [
    ";; helper function to print a matrix\n",
    "(define (print-matrix m)\n",
    "  (map (lambda (row) (display row)(newline)) m))\n",
    "\n",
    "(print-matrix m)"
   ]
  },
  {
   "cell_type": "code",
   "execution_count": 9,
   "metadata": {},
   "outputs": [
    {
     "data": {
      "text/plain": [
       "60"
      ]
     },
     "execution_count": 9,
     "metadata": {},
     "output_type": "execute_result"
    }
   ],
   "source": [
    ";; given in book\n",
    "(define (dot-product v w)\n",
    "  (accumulate + 0 (map * v w)))\n",
    "\n",
    "(dot-product (list 1 2 3 4) (list 4 5 6 7))"
   ]
  },
  {
   "cell_type": "code",
   "execution_count": 10,
   "metadata": {},
   "outputs": [
    {
     "data": {
      "text/plain": [
       "(30 56 80)"
      ]
     },
     "execution_count": 10,
     "metadata": {},
     "output_type": "execute_result"
    }
   ],
   "source": [
    "(define (matrix-*-vector m v)\n",
    "  (map (lambda (row) (dot-product row v)) m))\n",
    "\n",
    "(matrix-*-vector m (list 1 2 3 4))"
   ]
  },
  {
   "cell_type": "code",
   "execution_count": 13,
   "metadata": {},
   "outputs": [
    {
     "name": "stdout",
     "output_type": "stream",
     "text": [
      "(1 4 6)\n",
      "(2 5 7)\n",
      "(3 6 8)\n",
      "(4 6 9)\n"
     ]
    },
    {
     "data": {
      "text/plain": [
       "(<void> <void> <void> <void>)"
      ]
     },
     "execution_count": 13,
     "metadata": {},
     "output_type": "execute_result"
    }
   ],
   "source": [
    ";; make columns of input matrix rows of output matrix\n",
    "(define (transpose mat)\n",
    "  (accumulate-n cons (list) mat))\n",
    "\n",
    "(print-matrix (transpose m))"
   ]
  },
  {
   "cell_type": "code",
   "execution_count": 20,
   "metadata": {},
   "outputs": [
    {
     "name": "stdout",
     "output_type": "stream",
     "text": [
      "m:\n",
      "(1 2 3 4)\n",
      "(4 5 6 6)\n",
      "(6 7 8 9)\n",
      "n:\n",
      "(1 2 5 8)\n",
      "(9 5 2 1)\n",
      "(8 7 3 4)\n",
      "m*n:\n",
      "(43 33 18 22)\n",
      "(97 75 48 61)\n",
      "(133 103 68 87)\n"
     ]
    },
    {
     "data": {
      "text/plain": [
       "(<void> <void> <void>)"
      ]
     },
     "execution_count": 20,
     "metadata": {},
     "output_type": "execute_result"
    }
   ],
   "source": [
    "(define (matrix-*-matrix m n)\n",
    "  (let ((cols (transpose n)))\n",
    "    (map (lambda (row) (matrix-*-vector cols row)) m)))\n",
    "\n",
    "(define n (list (list 1 2 5 8)\n",
    "                (list 9 5 2 1)\n",
    "                (list 8 7 3 4)))\n",
    "\n",
    "(display \"m:\")(newline)\n",
    "(print-matrix m)\n",
    "(display \"n:\")(newline)\n",
    "(print-matrix n)\n",
    "(display \"m*n:\")(newline)\n",
    "(print-matrix (matrix-*-matrix m n))"
   ]
  },
  {
   "cell_type": "markdown",
   "metadata": {},
   "source": [
    "## 2.38\n",
    "```\n",
    "3/2\n",
    "1/6\n",
    "(1 (2 (3 ())))\n",
    "(((() 1) 2) 3)\n",
    "```"
   ]
  },
  {
   "cell_type": "code",
   "execution_count": 3,
   "metadata": {},
   "outputs": [],
   "source": [
    ";; same as accumulate\n",
    "(define (fold-right op initial sequence)\n",
    "   (if (null? sequence)\n",
    "       initial\n",
    "       (op (car sequence)\n",
    "           (fold-right op initial (cdr sequence)))))\n",
    "\n",
    "(define (fold-left op initial sequence)\n",
    "  (define (iter result rest)\n",
    "    (if (null? rest)\n",
    "        result\n",
    "        (iter (op result (car rest))\n",
    "              (cdr rest))))\n",
    "  (iter initial sequence))"
   ]
  },
  {
   "cell_type": "code",
   "execution_count": 29,
   "metadata": {},
   "outputs": [
    {
     "data": {
      "text/plain": [
       "3/2"
      ]
     },
     "execution_count": 29,
     "metadata": {},
     "output_type": "execute_result"
    }
   ],
   "source": [
    "(fold-right / 1 (list 1 2 3))"
   ]
  },
  {
   "cell_type": "code",
   "execution_count": 30,
   "metadata": {},
   "outputs": [
    {
     "data": {
      "text/plain": [
       "1/6"
      ]
     },
     "execution_count": 30,
     "metadata": {},
     "output_type": "execute_result"
    }
   ],
   "source": [
    "(fold-left / 1 (list 1 2 3))"
   ]
  },
  {
   "cell_type": "code",
   "execution_count": 31,
   "metadata": {},
   "outputs": [
    {
     "data": {
      "text/plain": [
       "(1 (2 (3 ())))"
      ]
     },
     "execution_count": 31,
     "metadata": {},
     "output_type": "execute_result"
    }
   ],
   "source": [
    "(fold-right list (list) (list 1 2 3))"
   ]
  },
  {
   "cell_type": "code",
   "execution_count": 32,
   "metadata": {},
   "outputs": [
    {
     "data": {
      "text/plain": [
       "(((() 1) 2) 3)"
      ]
     },
     "execution_count": 32,
     "metadata": {},
     "output_type": "execute_result"
    }
   ],
   "source": [
    "(fold-left list (list) (list 1 2 3))"
   ]
  },
  {
   "cell_type": "markdown",
   "metadata": {},
   "source": [
    "`op` should be **commutative** for `fold-left` and `fold-right`to produce the same values for any sequence.\n",
    "\n",
    "The two procedures differ only in the order in which they process the sequence elements. This means that if `op` is not commutative, different results will be produced.\n",
    "\n",
    "`*` is commutative, therefore `fold-left` and `fold-right` produce the same values:"
   ]
  },
  {
   "cell_type": "code",
   "execution_count": 11,
   "metadata": {},
   "outputs": [
    {
     "data": {
      "text/plain": [
       "6"
      ]
     },
     "execution_count": 11,
     "metadata": {},
     "output_type": "execute_result"
    }
   ],
   "source": [
    "(fold-right * 1 (list 1 2 3))"
   ]
  },
  {
   "cell_type": "code",
   "execution_count": 12,
   "metadata": {},
   "outputs": [
    {
     "data": {
      "text/plain": [
       "6"
      ]
     },
     "execution_count": 12,
     "metadata": {},
     "output_type": "execute_result"
    }
   ],
   "source": [
    "(fold-left * 1 (list 1 2 3))"
   ]
  },
  {
   "cell_type": "markdown",
   "metadata": {},
   "source": [
    "`/` is *not* commutative, therefore `fold-left` and `fold-right` prduce different values:"
   ]
  },
  {
   "cell_type": "code",
   "execution_count": 13,
   "metadata": {},
   "outputs": [
    {
     "data": {
      "text/plain": [
       "3/2"
      ]
     },
     "execution_count": 13,
     "metadata": {},
     "output_type": "execute_result"
    }
   ],
   "source": [
    "(fold-right / 1 (list 1 2 3))"
   ]
  },
  {
   "cell_type": "code",
   "execution_count": 14,
   "metadata": {},
   "outputs": [
    {
     "data": {
      "text/plain": [
       "1/6"
      ]
     },
     "execution_count": 14,
     "metadata": {},
     "output_type": "execute_result"
    }
   ],
   "source": [
    "(fold-left / 1 (list 1 2 3))"
   ]
  },
  {
   "cell_type": "markdown",
   "metadata": {},
   "source": [
    "## 2.39"
   ]
  },
  {
   "cell_type": "code",
   "execution_count": 9,
   "metadata": {},
   "outputs": [],
   "source": [
    "(define (reverse sequence)\n",
    "  (fold-right\n",
    "  (lambda (x y) (append y (list x))) (list) sequence))"
   ]
  },
  {
   "cell_type": "code",
   "execution_count": 40,
   "metadata": {},
   "outputs": [
    {
     "data": {
      "text/plain": [
       "(3 2 1)"
      ]
     },
     "execution_count": 40,
     "metadata": {},
     "output_type": "execute_result"
    }
   ],
   "source": [
    "(reverse (list 1 2 3))"
   ]
  },
  {
   "cell_type": "code",
   "execution_count": 69,
   "metadata": {},
   "outputs": [],
   "source": [
    "(define (reverse sequence)\n",
    "  (fold-left\n",
    "   (lambda (x y) (cons y x)) (list) sequence))"
   ]
  },
  {
   "cell_type": "code",
   "execution_count": 70,
   "metadata": {},
   "outputs": [
    {
     "data": {
      "text/plain": [
       "(3 2 1)"
      ]
     },
     "execution_count": 70,
     "metadata": {},
     "output_type": "execute_result"
    }
   ],
   "source": [
    "(reverse (list 1 2 3))"
   ]
  },
  {
   "cell_type": "markdown",
   "metadata": {},
   "source": [
    "## 2.40"
   ]
  },
  {
   "cell_type": "code",
   "execution_count": 4,
   "metadata": {},
   "outputs": [
    {
     "data": {
      "text/plain": [
       "((2 1) (3 1) (3 2) (4 1) (4 2) (4 3) (5 1) (5 2) (5 3) (5 4) (6 1) (6 2) (6 3) (6 4) (6 5))"
      ]
     },
     "execution_count": 4,
     "metadata": {},
     "output_type": "execute_result"
    }
   ],
   "source": [
    ";; calysto scheme missing filter function\n",
    "(define (filter predicate seq)\n",
    "  (accumulate (lambda (e rest)\n",
    "                (if (predicate e)\n",
    "                    (cons e rest)\n",
    "                    rest)) \n",
    "              ()\n",
    "              seq))\n",
    "\n",
    "(define (enumerate-interval low high)\n",
    "  (if (> low high)\n",
    "      ()\n",
    "      (cons low \n",
    "            (enumerate-interval\n",
    "             (+ low 1)\n",
    "             high))))\n",
    "\n",
    "(define (flatmap proc seq)\n",
    "  (accumulate append () (map proc seq)))\n",
    "\n",
    "(define (prime-sum? pair)\n",
    "  (prime? (+ (car pair) (cadr pair))))\n",
    "\n",
    "(define (make-pair-sum pair)\n",
    "  (list (car pair)\n",
    "        (cadr pair)\n",
    "        (+ (car pair) (cadr pair))))\n",
    "\n",
    "(define (unique-pairs n)\n",
    "  (flatmap\n",
    "   (lambda (i)\n",
    "     (map (lambda (j) (list i j))\n",
    "          (enumerate-interval 1 (- i 1))))\n",
    "   (enumerate-interval 1 n)))\n",
    "\n",
    "(unique-pairs 6)"
   ]
  },
  {
   "cell_type": "code",
   "execution_count": 41,
   "metadata": {},
   "outputs": [],
   "source": [
    "(define (prime-sum-pairs n)\n",
    "  (map make-pair-sum\n",
    "       (filter prime-sum? (unique-pairs n))))"
   ]
  },
  {
   "cell_type": "markdown",
   "metadata": {},
   "source": [
    "## 2.41"
   ]
  },
  {
   "cell_type": "code",
   "execution_count": 42,
   "metadata": {},
   "outputs": [
    {
     "data": {
      "text/plain": [
       "((3 2 1) (4 2 1) (4 3 1) (4 3 2) (5 2 1) (5 3 1) (5 3 2) (5 4 1) (5 4 2) (5 4 3) (6 2 1) (6 3 1) (6 3 2) (6 4 1) (6 4 2) (6 4 3) (6 5 1) (6 5 2) (6 5 3) (6 5 4))"
      ]
     },
     "execution_count": 42,
     "metadata": {},
     "output_type": "execute_result"
    }
   ],
   "source": [
    ";; produce ordered triples of distinct positive integers (i,j,k) up to n\n",
    "(define (ordered-triples n)\n",
    "  (flatmap (lambda (i)\n",
    "             (flatmap (lambda (j)\n",
    "                        (map (lambda (k) (list i j k))\n",
    "                             (enumerate-interval 1 (- j 1))))\n",
    "                      (enumerate-interval 1 (- i 1))))\n",
    "           (enumerate-interval 1 n)))\n",
    "\n",
    "(ordered-triples 6)"
   ]
  },
  {
   "cell_type": "code",
   "execution_count": 43,
   "metadata": {},
   "outputs": [
    {
     "data": {
      "text/plain": [
       "#t"
      ]
     },
     "execution_count": 43,
     "metadata": {},
     "output_type": "execute_result"
    }
   ],
   "source": [
    ";; true if sum of triple = s\n",
    "(define (triple-sum? triple s)\n",
    "  (= (accumulate + 0 triple) s))\n",
    "\n",
    "(triple-sum? (list 1 2 3) 6)"
   ]
  },
  {
   "cell_type": "code",
   "execution_count": 44,
   "metadata": {},
   "outputs": [
    {
     "data": {
      "text/plain": [
       "#f"
      ]
     },
     "execution_count": 44,
     "metadata": {},
     "output_type": "execute_result"
    }
   ],
   "source": [
    "(triple-sum? (list 1 2 3) 5)"
   ]
  },
  {
   "cell_type": "code",
   "execution_count": 45,
   "metadata": {},
   "outputs": [],
   "source": [
    "(define (ordered-triple-sum n s)\n",
    "  (filter (lambda (triple) (triple-sum? triple s)) (ordered-triples n)))"
   ]
  },
  {
   "cell_type": "code",
   "execution_count": 46,
   "metadata": {},
   "outputs": [
    {
     "data": {
      "text/plain": [
       "((5 3 2) (5 4 1))"
      ]
     },
     "execution_count": 46,
     "metadata": {},
     "output_type": "execute_result"
    }
   ],
   "source": [
    "(ordered-triple-sum 5 10)"
   ]
  },
  {
   "cell_type": "code",
   "execution_count": 47,
   "metadata": {},
   "outputs": [
    {
     "data": {
      "text/plain": [
       "()"
      ]
     },
     "execution_count": 47,
     "metadata": {},
     "output_type": "execute_result"
    }
   ],
   "source": [
    "(ordered-triple-sum 10 5)"
   ]
  },
  {
   "cell_type": "code",
   "execution_count": 51,
   "metadata": {},
   "outputs": [
    {
     "data": {
      "text/plain": [
       "((3 2 1))"
      ]
     },
     "execution_count": 51,
     "metadata": {},
     "output_type": "execute_result"
    }
   ],
   "source": [
    "(ordered-triple-sum 10 6)"
   ]
  },
  {
   "cell_type": "code",
   "execution_count": 52,
   "metadata": {},
   "outputs": [
    {
     "data": {
      "text/plain": [
       "((4 3 1) (5 2 1))"
      ]
     },
     "execution_count": 52,
     "metadata": {},
     "output_type": "execute_result"
    }
   ],
   "source": [
    "(ordered-triple-sum 20 8)"
   ]
  },
  {
   "cell_type": "markdown",
   "metadata": {},
   "source": [
    "## 2.42"
   ]
  },
  {
   "cell_type": "code",
   "execution_count": 4,
   "metadata": {},
   "outputs": [],
   "source": [
    "(define (make-position row col)\n",
    "  (cons row col))\n",
    "(define (position-row position)\n",
    "  (car position))\n",
    "(define (position-col position)\n",
    "  (cdr position))"
   ]
  },
  {
   "cell_type": "code",
   "execution_count": 5,
   "metadata": {},
   "outputs": [
    {
     "data": {
      "text/plain": [
       "(1 . 2)"
      ]
     },
     "execution_count": 5,
     "metadata": {},
     "output_type": "execute_result"
    }
   ],
   "source": [
    "(define p (make-position 1 2))\n",
    "p"
   ]
  },
  {
   "cell_type": "code",
   "execution_count": 6,
   "metadata": {},
   "outputs": [
    {
     "data": {
      "text/plain": [
       "1"
      ]
     },
     "execution_count": 6,
     "metadata": {},
     "output_type": "execute_result"
    }
   ],
   "source": [
    "(position-row p)"
   ]
  },
  {
   "cell_type": "code",
   "execution_count": 7,
   "metadata": {},
   "outputs": [
    {
     "data": {
      "text/plain": [
       "2"
      ]
     },
     "execution_count": 7,
     "metadata": {},
     "output_type": "execute_result"
    }
   ],
   "source": [
    "(position-col p)"
   ]
  },
  {
   "cell_type": "code",
   "execution_count": 8,
   "metadata": {},
   "outputs": [],
   "source": [
    "(define (adjoin-position row col positions)\n",
    "  (append positions (list (make-position row col))))\n",
    "\n",
    "(define empty-board (list))"
   ]
  },
  {
   "cell_type": "code",
   "execution_count": 9,
   "metadata": {},
   "outputs": [
    {
     "data": {
      "text/plain": [
       "((1 . 2))"
      ]
     },
     "execution_count": 9,
     "metadata": {},
     "output_type": "execute_result"
    }
   ],
   "source": [
    "(define board (adjoin-position 1 2 empty-board))\n",
    "board"
   ]
  },
  {
   "cell_type": "code",
   "execution_count": 10,
   "metadata": {},
   "outputs": [
    {
     "data": {
      "text/plain": [
       "((1 . 2) (3 . 4))"
      ]
     },
     "execution_count": 10,
     "metadata": {},
     "output_type": "execute_result"
    }
   ],
   "source": [
    "(adjoin-position 3 4 board)"
   ]
  },
  {
   "cell_type": "code",
   "execution_count": 11,
   "metadata": {},
   "outputs": [],
   "source": [
    ";; true if queens on same col, row or diagonal\n",
    "(define (checks? q1 q2)\n",
    "  (or (= (position-row q1) (position-row q2))\n",
    "      (= (position-col q1) (position-col q2))\n",
    "      (= (abs (- (position-row q1) (position-row q2)))\n",
    "         (abs (- (position-col q1) (position-col q2))))))"
   ]
  },
  {
   "cell_type": "code",
   "execution_count": 12,
   "metadata": {},
   "outputs": [
    {
     "data": {
      "text/plain": [
       "#t"
      ]
     },
     "execution_count": 12,
     "metadata": {},
     "output_type": "execute_result"
    }
   ],
   "source": [
    "(checks? (make-position 1 2) (make-position 1 3))"
   ]
  },
  {
   "cell_type": "code",
   "execution_count": 13,
   "metadata": {},
   "outputs": [
    {
     "data": {
      "text/plain": [
       "#t"
      ]
     },
     "execution_count": 13,
     "metadata": {},
     "output_type": "execute_result"
    }
   ],
   "source": [
    "(checks? (make-position 1 2) (make-position 3 2))"
   ]
  },
  {
   "cell_type": "code",
   "execution_count": 14,
   "metadata": {},
   "outputs": [
    {
     "data": {
      "text/plain": [
       "#t"
      ]
     },
     "execution_count": 14,
     "metadata": {},
     "output_type": "execute_result"
    }
   ],
   "source": [
    "(checks? (make-position 1 2) (make-position 5 6))"
   ]
  },
  {
   "cell_type": "code",
   "execution_count": 15,
   "metadata": {},
   "outputs": [
    {
     "data": {
      "text/plain": [
       "#f"
      ]
     },
     "execution_count": 15,
     "metadata": {},
     "output_type": "execute_result"
    }
   ],
   "source": [
    "(checks? (make-position 1 2) (make-position 6 3))"
   ]
  },
  {
   "cell_type": "code",
   "execution_count": 16,
   "metadata": {},
   "outputs": [],
   "source": [
    "(define (safe? k positions)\n",
    "  (let ((kth-q (list-ref positions (- k 1)))\n",
    "        (rest-q (filter (lambda (q)\n",
    "                          (not (= k (position-col q))))\n",
    "                        positions)))\n",
    "    (define (iter q positions)\n",
    "      (or (null? positions)\n",
    "          (and (not (checks? q (car positions)))\n",
    "               (iter q (cdr positions)))))\n",
    "  (iter kth-q rest-q)))"
   ]
  },
  {
   "cell_type": "code",
   "execution_count": 17,
   "metadata": {},
   "outputs": [
    {
     "data": {
      "text/plain": [
       "((1 . 1))"
      ]
     },
     "execution_count": 17,
     "metadata": {},
     "output_type": "execute_result"
    }
   ],
   "source": [
    "(define board (adjoin-position 1 1 empty-board))\n",
    "board"
   ]
  },
  {
   "cell_type": "code",
   "execution_count": 18,
   "metadata": {},
   "outputs": [
    {
     "data": {
      "text/plain": [
       "#t"
      ]
     },
     "execution_count": 18,
     "metadata": {},
     "output_type": "execute_result"
    }
   ],
   "source": [
    "(safe? 1 board)"
   ]
  },
  {
   "cell_type": "code",
   "execution_count": 34,
   "metadata": {},
   "outputs": [
    {
     "data": {
      "text/plain": [
       "#f"
      ]
     },
     "execution_count": 34,
     "metadata": {},
     "output_type": "execute_result"
    }
   ],
   "source": [
    "(safe? 1 (adjoin-position 1 2 board))"
   ]
  },
  {
   "cell_type": "code",
   "execution_count": 37,
   "metadata": {},
   "outputs": [
    {
     "data": {
      "text/plain": [
       "#t"
      ]
     },
     "execution_count": 37,
     "metadata": {},
     "output_type": "execute_result"
    }
   ],
   "source": [
    "(safe? 1 (adjoin-position 3 5 board))"
   ]
  },
  {
   "cell_type": "code",
   "execution_count": 38,
   "metadata": {},
   "outputs": [
    {
     "data": {
      "text/plain": [
       "#t"
      ]
     },
     "execution_count": 38,
     "metadata": {},
     "output_type": "execute_result"
    }
   ],
   "source": [
    "(safe? 1 (adjoin-position 2 7 (adjoin-position 3 5 board)))"
   ]
  },
  {
   "cell_type": "code",
   "execution_count": 19,
   "metadata": {},
   "outputs": [],
   "source": [
    "(define (queens board-size)\n",
    "   (define (queen-cols k) \n",
    "     (if (= k 0)\n",
    "         (list empty-board)\n",
    "         (filter\n",
    "          (lambda (positions) (safe? k positions))\n",
    "          (flatmap\n",
    "           (lambda (rest-of-queens)\n",
    "             (map (lambda (new-row)\n",
    "                    (adjoin-position new-row k rest-of-queens))\n",
    "                  (enumerate-interval 1 board-size)))\n",
    "           (queen-cols (- k 1))))))\n",
    "   (queen-cols board-size))"
   ]
  },
  {
   "cell_type": "code",
   "execution_count": 40,
   "metadata": {},
   "outputs": [
    {
     "data": {
      "text/plain": [
       "(((1 . 1)))"
      ]
     },
     "execution_count": 40,
     "metadata": {},
     "output_type": "execute_result"
    }
   ],
   "source": [
    "(queens 1)"
   ]
  },
  {
   "cell_type": "code",
   "execution_count": 41,
   "metadata": {},
   "outputs": [
    {
     "data": {
      "text/plain": [
       "()"
      ]
     },
     "execution_count": 41,
     "metadata": {},
     "output_type": "execute_result"
    }
   ],
   "source": [
    "(queens 2)"
   ]
  },
  {
   "cell_type": "code",
   "execution_count": 42,
   "metadata": {},
   "outputs": [
    {
     "data": {
      "text/plain": [
       "()"
      ]
     },
     "execution_count": 42,
     "metadata": {},
     "output_type": "execute_result"
    }
   ],
   "source": [
    "(queens 3)"
   ]
  },
  {
   "cell_type": "code",
   "execution_count": 43,
   "metadata": {},
   "outputs": [
    {
     "data": {
      "text/plain": [
       "(((2 . 1) (4 . 2) (1 . 3) (3 . 4)) ((3 . 1) (1 . 2) (4 . 3) (2 . 4)))"
      ]
     },
     "execution_count": 43,
     "metadata": {},
     "output_type": "execute_result"
    }
   ],
   "source": [
    "(queens 4)"
   ]
  },
  {
   "cell_type": "code",
   "execution_count": 44,
   "metadata": {},
   "outputs": [
    {
     "data": {
      "text/plain": [
       "(((1 . 1) (3 . 2) (5 . 3) (2 . 4) (4 . 5)) ((1 . 1) (4 . 2) (2 . 3) (5 . 4) (3 . 5)) ((2 . 1) (4 . 2) (1 . 3) (3 . 4) (5 . 5)) ((2 . 1) (5 . 2) (3 . 3) (1 . 4) (4 . 5)) ((3 . 1) (1 . 2) (4 . 3) (2 . 4) (5 . 5)) ((3 . 1) (5 . 2) (2 . 3) (4 . 4) (1 . 5)) ((4 . 1) (1 . 2) (3 . 3) (5 . 4) (2 . 5)) ((4 . 1) (2 . 2) (5 . 3) (3 . 4) (1 . 5)) ((5 . 1) (2 . 2) (4 . 3) (1 . 4) (3 . 5)) ((5 . 1) (3 . 2) (1 . 3) (4 . 4) (2 . 5)))"
      ]
     },
     "execution_count": 44,
     "metadata": {},
     "output_type": "execute_result"
    }
   ],
   "source": [
    "(queens 5)"
   ]
  },
  {
   "cell_type": "code",
   "execution_count": 45,
   "metadata": {},
   "outputs": [
    {
     "data": {
      "text/plain": [
       "(((2 . 1) (4 . 2) (6 . 3) (1 . 4) (3 . 5) (5 . 6)) ((3 . 1) (6 . 2) (2 . 3) (5 . 4) (1 . 5) (4 . 6)) ((4 . 1) (1 . 2) (5 . 3) (2 . 4) (6 . 5) (3 . 6)) ((5 . 1) (3 . 2) (1 . 3) (6 . 4) (4 . 5) (2 . 6)))"
      ]
     },
     "execution_count": 45,
     "metadata": {},
     "output_type": "execute_result"
    }
   ],
   "source": [
    "(queens 6)"
   ]
  },
  {
   "cell_type": "markdown",
   "metadata": {},
   "source": [
    "## 2.43\n",
    "Original `queens` `flatmap`section:\n",
    "```scheme\n",
    "(flatmap\n",
    " (lambda (rest-of-queens)\n",
    "   (map (lambda (new-row)\n",
    "          (adjoin-position new-row k rest-of-queens))\n",
    "        (enumerate-interval 1 board-size)))\n",
    " (queen-cols (- k 1)))\n",
    "```\n",
    "Louis `queens` `flatmap` section:\n",
    "```scheme\n",
    "(flatmap\n",
    " (lambda (new-row)\n",
    "   (map (lambda (rest-of-queens)\n",
    "          (adjoin-position \n",
    "           new-row k rest-of-queens))\n",
    "        (queen-cols (- k 1))))\n",
    " (enumerate-interval 1 board-size))\n",
    "```\n",
    "\n",
    "`queen-cols` is called once for each every each column on the board in the original implementation - it's result is used as the `seq` parameter to flatmap.\n",
    "- **Linear** recursive process\n",
    "\n",
    "In Louis' implementations, `queen-cols` is called within the `proc` lambda passed into the `flatmap`. The `flatmap` is called once for each row of the `k`th column of the board. This causes **all** the possible solutions for the first `k - 1` columns to be generated for **each row**.\n",
    "- **Tree** recursive process\n",
    "\n",
    "Louis implementation will take $T^{b}$ time to execute\n",
    "- $T$ = time to execute orginal implementation\n",
    "- $b$ = board size\n",
    "- Tree recursive processes grow exponentially\n"
   ]
  },
  {
   "cell_type": "markdown",
   "metadata": {},
   "source": [
    "## 2.44"
   ]
  },
  {
   "cell_type": "code",
   "execution_count": 5,
   "metadata": {},
   "outputs": [],
   "source": [
    "(define (up-split painter n)\n",
    "  (if (= n 0)\n",
    "      painter\n",
    "      (let ((smaller (up-split painter\n",
    "                                  (- n 1))))\n",
    "        (below painter\n",
    "               (beside smaller smaller)))))"
   ]
  },
  {
   "cell_type": "markdown",
   "metadata": {},
   "source": [
    "## 2.45"
   ]
  },
  {
   "cell_type": "code",
   "execution_count": 6,
   "metadata": {},
   "outputs": [],
   "source": [
    "(define (split direction1 direction2)\n",
    "  (lambda (painter n)\n",
    "    (if (= n 0)\n",
    "        painter\n",
    "        (let ((smaller ((split direction1 direction2)\n",
    "                        painter (- n 1))))\n",
    "          (direction1 painter\n",
    "                      (direction2 smaller smaller))))))"
   ]
  },
  {
   "cell_type": "markdown",
   "metadata": {},
   "source": [
    "## 2.46"
   ]
  },
  {
   "cell_type": "code",
   "execution_count": 7,
   "metadata": {},
   "outputs": [],
   "source": [
    "(define (make-vect x y)\n",
    "  (cons x y))\n",
    "\n",
    "(define (xcor-vect v)\n",
    "  (car v))\n",
    "\n",
    "(define (ycor-vect v)\n",
    "  (cdr v))\n",
    "\n",
    "(define (add-vect v1 v2)\n",
    "  (make-vect (+ (xcor-vect v1) (xcor-vect v2))\n",
    "             (+ (ycor-vect v1) (ycor-vect v2))))\n",
    "\n",
    "(define (sub-vect v1 v2)\n",
    "  (make-vect (- (xcor-vect v1) (xcor-vect v2))\n",
    "             (- (ycor-vect v1) (ycor-vect v2))))\n",
    "\n",
    "(define (scale-vect s v)\n",
    "  (make-vect (* s (xcor-vect v))\n",
    "             (* s (ycor-vect v))))"
   ]
  },
  {
   "cell_type": "code",
   "execution_count": 8,
   "metadata": {},
   "outputs": [
    {
     "data": {
      "text/plain": [
       "(1 . 2)"
      ]
     },
     "execution_count": 8,
     "metadata": {},
     "output_type": "execute_result"
    }
   ],
   "source": [
    "(define v1 (make-vect 1 2))\n",
    "v1"
   ]
  },
  {
   "cell_type": "code",
   "execution_count": 9,
   "metadata": {},
   "outputs": [
    {
     "data": {
      "text/plain": [
       "(5 . 6)"
      ]
     },
     "execution_count": 9,
     "metadata": {},
     "output_type": "execute_result"
    }
   ],
   "source": [
    "(define v2 (make-vect 5 6))\n",
    "v2"
   ]
  },
  {
   "cell_type": "code",
   "execution_count": 10,
   "metadata": {},
   "outputs": [
    {
     "data": {
      "text/plain": [
       "1"
      ]
     },
     "execution_count": 10,
     "metadata": {},
     "output_type": "execute_result"
    }
   ],
   "source": [
    "(xcor-vect v1)"
   ]
  },
  {
   "cell_type": "code",
   "execution_count": 11,
   "metadata": {},
   "outputs": [
    {
     "data": {
      "text/plain": [
       "2"
      ]
     },
     "execution_count": 11,
     "metadata": {},
     "output_type": "execute_result"
    }
   ],
   "source": [
    "(ycor-vect v1)"
   ]
  },
  {
   "cell_type": "code",
   "execution_count": 12,
   "metadata": {},
   "outputs": [
    {
     "data": {
      "text/plain": [
       "(6 . 8)"
      ]
     },
     "execution_count": 12,
     "metadata": {},
     "output_type": "execute_result"
    }
   ],
   "source": [
    "(add-vect v1 v2)"
   ]
  },
  {
   "cell_type": "code",
   "execution_count": 13,
   "metadata": {},
   "outputs": [
    {
     "data": {
      "text/plain": [
       "(-4 . -4)"
      ]
     },
     "execution_count": 13,
     "metadata": {},
     "output_type": "execute_result"
    }
   ],
   "source": [
    "(sub-vect v1 v2)"
   ]
  },
  {
   "cell_type": "code",
   "execution_count": 14,
   "metadata": {},
   "outputs": [
    {
     "data": {
      "text/plain": [
       "(10 . 20)"
      ]
     },
     "execution_count": 14,
     "metadata": {},
     "output_type": "execute_result"
    }
   ],
   "source": [
    "(scale-vect 10 v1)"
   ]
  },
  {
   "cell_type": "markdown",
   "metadata": {},
   "source": [
    "## 2.47"
   ]
  },
  {
   "cell_type": "code",
   "execution_count": 15,
   "metadata": {},
   "outputs": [],
   "source": [
    "(define (make-frame origin edge1 edge2)\n",
    "  (list origin edge1 edge2))\n",
    "\n",
    "(define (origin-frame frame)\n",
    "  (car frame))\n",
    "\n",
    "(define (edge1-frame frame)\n",
    "  (car (cdr frame)))\n",
    "\n",
    "(define (edge2-frame frame)\n",
    "  (cdr (cdr (cdr frame))))\n",
    "\n",
    "(define (make-frame origin edge1 edge2)\n",
    "  (cons origin (cons edge1 edge2)))\n",
    "\n",
    "(define (origin-frame frame)\n",
    "  (car frame))\n",
    "\n",
    "(define (frame-edges frame)\n",
    "  (cdr frame))\n",
    "\n",
    "(define (edge1-frame frame)\n",
    "  (car (frame-edges frame)))\n",
    "\n",
    "(define (edge2-frame frame)\n",
    "  (cdr (frame-edges frame)))"
   ]
  },
  {
   "cell_type": "markdown",
   "metadata": {},
   "source": [
    "## 2.48"
   ]
  },
  {
   "cell_type": "code",
   "execution_count": 20,
   "metadata": {},
   "outputs": [],
   "source": [
    "(define (make-segment v1 v2)\n",
    "  (cons v1 v2))\n",
    "\n",
    "(define (start-segment segment)\n",
    "  (car segment))\n",
    "\n",
    "(define (end-segment segment)\n",
    "  (cdr segment))"
   ]
  },
  {
   "cell_type": "code",
   "execution_count": 21,
   "metadata": {},
   "outputs": [
    {
     "data": {
      "text/plain": [
       "((1 . 2) 1 . 1)"
      ]
     },
     "execution_count": 21,
     "metadata": {},
     "output_type": "execute_result"
    }
   ],
   "source": [
    "(define start-vector (make-vect 1 2))\n",
    "(define end-vector (make-vect 1 1))\n",
    "(define s (make-segment start-vector end-vector))\n",
    "s"
   ]
  },
  {
   "cell_type": "code",
   "execution_count": 22,
   "metadata": {},
   "outputs": [
    {
     "data": {
      "text/plain": [
       "(1 . 2)"
      ]
     },
     "execution_count": 22,
     "metadata": {},
     "output_type": "execute_result"
    }
   ],
   "source": [
    "(start-segment s)"
   ]
  },
  {
   "cell_type": "code",
   "execution_count": 23,
   "metadata": {},
   "outputs": [
    {
     "data": {
      "text/plain": [
       "(1 . 1)"
      ]
     },
     "execution_count": 23,
     "metadata": {},
     "output_type": "execute_result"
    }
   ],
   "source": [
    "(end-segment s)"
   ]
  },
  {
   "cell_type": "markdown",
   "metadata": {},
   "source": [
    "## 2.49"
   ]
  },
  {
   "cell_type": "code",
   "execution_count": 31,
   "metadata": {},
   "outputs": [],
   "source": [
    "(define (frame-coord-map frame)\n",
    "  (lambda (v)\n",
    "    (add-vect\n",
    "     (origin-frame frame)\n",
    "     (add-vect \n",
    "      (scale-vect (xcor-vect v)\n",
    "                  (edge1-frame frame))\n",
    "      (scale-vect (ycor-vect v)\n",
    "                  (edge2-frame frame))))))\n",
    "\n",
    "(define (segments->painter segment-list)\n",
    "  (lambda (frame)\n",
    "    (for-each\n",
    "     (lambda (segment)\n",
    "       (draw-line\n",
    "        ((frame-coord-map frame)\n",
    "         (start-segment segment))\n",
    "        ((frame-coord-map frame)\n",
    "         (end-segment segment))))\n",
    "     segment-list)))\n",
    "\n",
    ";; would put all inside a `let` to avoid global defines, but calysto scheme\n",
    ";; will evaluate when cell is run and error due to operations in \n",
    ";; segments->painter not being implemented\n",
    "(define bottom-left (make-vect 0 0))\n",
    "(define bottom-right (make-vect 1 0))\n",
    "(define top-left (make-vect 0 1))\n",
    "(define top-right (make-vect 1 1))\n",
    "  \n",
    "(define frame-outline\n",
    "(segments->painter (list\n",
    "                    (make-segment bottom-left bottom-right)\n",
    "                    (make-segment bottom-right top-right)\n",
    "                    (make-segment top-right top-left)\n",
    "                    (make-segment top-left bottom-left))))\n",
    "  \n",
    "(define corners-x\n",
    "(segments->painter\n",
    " (list \n",
    "  (make-segment bottom-left top-right)\n",
    "  (make-segment bottom-right top-left))))\n",
    "\n",
    "(define diamond\n",
    "  (let ((left-mid (make-vect 0 0.5))\n",
    "        (bottom-mid (make-vect 0.5 0))\n",
    "        (right-mid (make-vect 1 0.5))\n",
    "        (top-mid (make-vect 0.5 1)))\n",
    "  (segments->painter (list\n",
    "                      (make-segment left-mid top-mid)\n",
    "                      (make-segment top-mid right-mid)\n",
    "                      (make-segment right-mid bottom-mid)\n",
    "                      (make-segment bottom-mid left-mid)))))"
   ]
  },
  {
   "cell_type": "markdown",
   "metadata": {},
   "source": [
    "`wave` painter would have 17 segments defining the straight edges shown in the image below. Not implemented as large amount of fiddly approximations to get the shape right.\n",
    "![](images/wave-painter.png)"
   ]
  },
  {
   "cell_type": "markdown",
   "metadata": {},
   "source": [
    "## 2.50"
   ]
  },
  {
   "cell_type": "code",
   "execution_count": 37,
   "metadata": {},
   "outputs": [],
   "source": [
    "(define (transform-painter \n",
    "         painter origin corner1 corner2)\n",
    "  (lambda (frame)\n",
    "    (let ((m (frame-coord-map frame)))\n",
    "      (let ((new-origin (m origin)))\n",
    "        (painter (make-frame new-origin\n",
    "                  (sub-vect (m corner1) \n",
    "                            new-origin)\n",
    "                  (sub-vect (m corner2)\n",
    "                            new-origin)))))))\n",
    "\n",
    "(define (rotate90 painter)\n",
    "  (transform-painter painter\n",
    "                     (make-vect 1.0 0.0)\n",
    "                     (make-vect 1.0 1.0)\n",
    "                     (make-vect 0.0 0.0)))\n",
    "\n",
    "(define (flip-horiz painter)\n",
    "  (transform-painter\n",
    "   painter\n",
    "   (make-vect 1 0)\n",
    "   (make-vect 0 0)\n",
    "   (make-vect 1 1)))\n",
    "\n",
    "(define (rotate180 painter)\n",
    "  (transform-painter\n",
    "   painter\n",
    "   (make-vect 1 1)\n",
    "   (make-vect 0 1)\n",
    "   (make-vect 1 0)))\n",
    "\n",
    "(define (rotate270 painter)\n",
    "  (transform-painter\n",
    "   painter\n",
    "   (make-vect 0 1)\n",
    "   (make-vect 0 0)\n",
    "   (make-vect 1 1)))"
   ]
  },
  {
   "cell_type": "markdown",
   "metadata": {},
   "source": [
    "## 2.51"
   ]
  },
  {
   "cell_type": "code",
   "execution_count": 42,
   "metadata": {},
   "outputs": [],
   "source": [
    "(define (beside painter1 painter2)\n",
    "  (let ((split-point (make-vect 0.5 0.0)))\n",
    "    (let ((paint-left  (transform-painter \n",
    "                        painter1\n",
    "                        (make-vect 0.0 0.0)\n",
    "                        split-point\n",
    "                        (make-vect 0.0 1.0)))\n",
    "          (paint-right (transform-painter\n",
    "                        painter2\n",
    "                        split-point\n",
    "                        (make-vect 1.0 0.0)\n",
    "                        (make-vect 0.5 1.0))))\n",
    "      (lambda (frame)\n",
    "        (paint-left frame)\n",
    "        (paint-right frame)))))\n",
    "\n",
    ";; `below` draws with painter1 in bottom of frame and painter2 in top\n",
    ";; method 1 - analagous to `beside`\n",
    "(define (below painter1 painter2)\n",
    "  (let ((split-point (make-vect 0 0.5)))\n",
    "    (let ((paint-bottom (transform-painter\n",
    "                         painter1\n",
    "                         (make-vect 0 0)\n",
    "                         (make-vect 1 0)\n",
    "                         split-point))\n",
    "          (paint-top (transform-painter\n",
    "                      painter2\n",
    "                      split-point\n",
    "                      (make-vect 1 0.5)\n",
    "                      (make-vect 0 1))))\n",
    "    (lambda (frame)\n",
    "      (paint-bottom frame)\n",
    "      (paint-top frame)))))\n",
    "\n",
    ";;method 2 - in terms of `beside` and rotation operations\n",
    ";; Get painters to draw on top of each other:\n",
    ";;  -> draw painters beside each other, then rotate frame 90 deg\n",
    ";; Re-orientate images in each section to be correct way up:\n",
    ";;  -> rotate each painter 270 deg\n",
    "(define (below painter1 painter2)\n",
    "  (rotate90 (beside (rotate270 painter1) (rotate270 painter2))))"
   ]
  },
  {
   "cell_type": "markdown",
   "metadata": {},
   "source": [
    "## 2.52\n",
    "N.B Haven't implemented question 1 due to not fully implementing `wave` in exercise 2.49. However, adding a smile would involce adding several new segments to the list passed into `segments->painter`\n",
    "- i.e. 3 small segments that join to form a crude square smile in the middle of the face:\n",
    "    ```\n",
    "    \\__/\n",
    "    ```"
   ]
  },
  {
   "cell_type": "code",
   "execution_count": 44,
   "metadata": {},
   "outputs": [],
   "source": [
    ";; use only one copy of up-split and right-split images instead of two\n",
    "(define (corner-split painter n)\n",
    "  (if (= n 0)\n",
    "      painter\n",
    "      (let ((up (up-split painter (- n 1)))\n",
    "            (right (right-split painter \n",
    "                                (- n 1)))\n",
    "              (corner (corner-split painter \n",
    "                                    (- n 1))))\n",
    "          (beside (below painter up)\n",
    "                  (below right \n",
    "                         corner)))))\n",
    "\n",
    "(define (square-of-four tl tr bl br)\n",
    "  (lambda (painter)\n",
    "    (let ((top (beside (tl painter) \n",
    "                       (tr painter)))\n",
    "          (bottom (beside (bl painter) \n",
    "                          (br painter))))\n",
    "      (below bottom top))))\n",
    "\n",
    ";; 'Mr Rogers' image would look outwards from each corner of the square\n",
    "(define (square-limit painter n)\n",
    "  (let ((combine4 \n",
    "         (square-of-four flip-vert \n",
    "                         rotate180\n",
    "                         identitiy \n",
    "                         flip-horiz)))\n",
    "    (combine4 (corner-split painter n))))"
   ]
  },
  {
   "cell_type": "markdown",
   "metadata": {},
   "source": [
    "## 2.53\n",
    "```scheme\n",
    "(a b c)\n",
    "((george))\n",
    "((y1 y2))\n",
    "(y1 y2)\n",
    "#f\n",
    "#f\n",
    "(red shoes blue socks)\n",
    "```"
   ]
  },
  {
   "cell_type": "code",
   "execution_count": 47,
   "metadata": {},
   "outputs": [
    {
     "data": {
      "text/plain": [
       "(a b c)"
      ]
     },
     "execution_count": 47,
     "metadata": {},
     "output_type": "execute_result"
    }
   ],
   "source": [
    "(list 'a 'b 'c)"
   ]
  },
  {
   "cell_type": "code",
   "execution_count": 48,
   "metadata": {},
   "outputs": [
    {
     "data": {
      "text/plain": [
       "((george))"
      ]
     },
     "execution_count": 48,
     "metadata": {},
     "output_type": "execute_result"
    }
   ],
   "source": [
    "(list (list 'george))"
   ]
  },
  {
   "cell_type": "code",
   "execution_count": 50,
   "metadata": {},
   "outputs": [
    {
     "data": {
      "text/plain": [
       "((y1 y2))"
      ]
     },
     "execution_count": 50,
     "metadata": {},
     "output_type": "execute_result"
    }
   ],
   "source": [
    "(cdr '((x1 x2) (y1 y2)))"
   ]
  },
  {
   "cell_type": "code",
   "execution_count": 51,
   "metadata": {},
   "outputs": [
    {
     "data": {
      "text/plain": [
       "(y1 y2)"
      ]
     },
     "execution_count": 51,
     "metadata": {},
     "output_type": "execute_result"
    }
   ],
   "source": [
    "(cadr '((x1 x2) (y1 y2)))"
   ]
  },
  {
   "cell_type": "code",
   "execution_count": 52,
   "metadata": {},
   "outputs": [
    {
     "data": {
      "text/plain": [
       "#f"
      ]
     },
     "execution_count": 52,
     "metadata": {},
     "output_type": "execute_result"
    }
   ],
   "source": [
    "(pair? (car '(a short list)))"
   ]
  },
  {
   "cell_type": "code",
   "execution_count": 53,
   "metadata": {},
   "outputs": [
    {
     "data": {
      "text/plain": [
       "#f"
      ]
     },
     "execution_count": 53,
     "metadata": {},
     "output_type": "execute_result"
    }
   ],
   "source": [
    "(memq 'red '((red shoes) (blue socks)))"
   ]
  },
  {
   "cell_type": "code",
   "execution_count": 54,
   "metadata": {},
   "outputs": [
    {
     "data": {
      "text/plain": [
       "(red shoes blue socks)"
      ]
     },
     "execution_count": 54,
     "metadata": {},
     "output_type": "execute_result"
    }
   ],
   "source": [
    "(memq 'red '(red shoes blue socks))"
   ]
  },
  {
   "cell_type": "markdown",
   "metadata": {},
   "source": [
    "## 2.54"
   ]
  },
  {
   "cell_type": "code",
   "execution_count": 67,
   "metadata": {},
   "outputs": [],
   "source": [
    "(define (equal? x y)\n",
    "  (cond ((and (null? x) (null? y)) #t)\n",
    "        ((or (null? x) (null? y)) #f) ;; null != any symbol other than null\n",
    "        ((and (pair? x) (pair? y)) ;; both lists\n",
    "         (and (equal? (car x) (car y)) ;; check lists equal\n",
    "              (equal? (cdr x) (cdr y))))\n",
    "        ((or (pair? x) (pair? y)) #f) ;; one list, one symbol\n",
    "        (else (eq? x y)))) ;; both symbols"
   ]
  },
  {
   "cell_type": "code",
   "execution_count": 68,
   "metadata": {},
   "outputs": [
    {
     "data": {
      "text/plain": [
       "#t"
      ]
     },
     "execution_count": 68,
     "metadata": {},
     "output_type": "execute_result"
    }
   ],
   "source": [
    "(equal? '() '())"
   ]
  },
  {
   "cell_type": "code",
   "execution_count": 69,
   "metadata": {},
   "outputs": [
    {
     "data": {
      "text/plain": [
       "#f"
      ]
     },
     "execution_count": 69,
     "metadata": {},
     "output_type": "execute_result"
    }
   ],
   "source": [
    "(equal? '() 'x)"
   ]
  },
  {
   "cell_type": "code",
   "execution_count": 70,
   "metadata": {},
   "outputs": [
    {
     "data": {
      "text/plain": [
       "#t"
      ]
     },
     "execution_count": 70,
     "metadata": {},
     "output_type": "execute_result"
    }
   ],
   "source": [
    "(equal? '(x y z) '(x y z))"
   ]
  },
  {
   "cell_type": "code",
   "execution_count": 71,
   "metadata": {},
   "outputs": [
    {
     "data": {
      "text/plain": [
       "#f"
      ]
     },
     "execution_count": 71,
     "metadata": {},
     "output_type": "execute_result"
    }
   ],
   "source": [
    "(equal? '(x y z) '(x y))"
   ]
  },
  {
   "cell_type": "code",
   "execution_count": 72,
   "metadata": {},
   "outputs": [
    {
     "data": {
      "text/plain": [
       "#f"
      ]
     },
     "execution_count": 72,
     "metadata": {},
     "output_type": "execute_result"
    }
   ],
   "source": [
    "(equal? '(x y z) 'x)"
   ]
  },
  {
   "cell_type": "code",
   "execution_count": 73,
   "metadata": {},
   "outputs": [
    {
     "data": {
      "text/plain": [
       "#t"
      ]
     },
     "execution_count": 73,
     "metadata": {},
     "output_type": "execute_result"
    }
   ],
   "source": [
    "(equal? 'x 'x)"
   ]
  },
  {
   "cell_type": "code",
   "execution_count": 74,
   "metadata": {},
   "outputs": [
    {
     "data": {
      "text/plain": [
       "#t"
      ]
     },
     "execution_count": 74,
     "metadata": {},
     "output_type": "execute_result"
    }
   ],
   "source": [
    "(equal? 1 1)"
   ]
  },
  {
   "cell_type": "markdown",
   "metadata": {},
   "source": [
    "## 2.55\n",
    "As `'` is shorthand for `quote` `''abracadabra` is equivalent to `(quote (quote abracadabra))`:"
   ]
  },
  {
   "cell_type": "code",
   "execution_count": 85,
   "metadata": {},
   "outputs": [
    {
     "data": {
      "text/plain": [
       "(quote (quote abracadabra))"
      ]
     },
     "execution_count": 85,
     "metadata": {},
     "output_type": "execute_result"
    }
   ],
   "source": [
    ";; note additional ' at start to show symbols\n",
    "'''abracadabra"
   ]
  },
  {
   "cell_type": "markdown",
   "metadata": {},
   "source": [
    "`(quote (quote abracadabra))` evaluates to a list of symbols `(quote abracadabra)`"
   ]
  },
  {
   "cell_type": "code",
   "execution_count": 86,
   "metadata": {},
   "outputs": [
    {
     "data": {
      "text/plain": [
       "(quote abracadabra)"
      ]
     },
     "execution_count": 86,
     "metadata": {},
     "output_type": "execute_result"
    }
   ],
   "source": [
    "(quote (quote abracadabra))"
   ]
  },
  {
   "cell_type": "markdown",
   "metadata": {},
   "source": [
    "`car` of the list returns `quote`"
   ]
  },
  {
   "cell_type": "code",
   "execution_count": 88,
   "metadata": {},
   "outputs": [
    {
     "data": {
      "text/plain": [
       "quote"
      ]
     },
     "execution_count": 88,
     "metadata": {},
     "output_type": "execute_result"
    }
   ],
   "source": [
    "(car (quote (quote abracadabra)))"
   ]
  },
  {
   "cell_type": "markdown",
   "metadata": {},
   "source": [
    "## Algebraic Expression Procedures for 2.56-2.58"
   ]
  },
  {
   "cell_type": "code",
   "execution_count": 133,
   "metadata": {},
   "outputs": [],
   "source": [
    "(define (deriv exp var)\n",
    "  (cond ((number? exp) 0)\n",
    "        ((variable? exp)\n",
    "         (if (same-variable? exp var) 1 0))\n",
    "        ((sum? exp)\n",
    "         (make-sum (deriv (addend exp) var)\n",
    "                   (deriv (augend exp) var)))\n",
    "        ((product? exp)\n",
    "         (make-sum\n",
    "          (make-product\n",
    "           (multiplier exp)\n",
    "           (deriv (multiplicand exp) var))\n",
    "          (make-product\n",
    "           (deriv (multiplier exp) var)\n",
    "           (multiplicand exp))))\n",
    "        (else (error \"unknown expression\n",
    "                     type: DERIV\" exp))))\n",
    "\n",
    "(define (variable? x) (symbol? x))\n",
    "\n",
    "(define (=number? exp num)\n",
    "  (and (number? exp) (= exp num)))\n",
    "(define (same-variable? v1 v2)\n",
    "  (and (variable? v1)\n",
    "       (variable? v2)\n",
    "       (eq? v1 v2)))\n",
    "\n",
    "(define (make-sum a1 a2)\n",
    "  (cond ((=number? a1 0) a2)\n",
    "        ((=number? a2 0) a1)\n",
    "        ((and (number? a1) (number? a2)) \n",
    "         (+ a1 a2))\n",
    "        (else (list '+ a1 a2))))\n",
    "\n",
    "(define (addend s) (cadr s))\n",
    "\n",
    "(define (augend s) (caddr s))\n",
    "\n",
    "(define (sum? x)\n",
    "  (and (pair? x) (eq? (car x) '+)))\n",
    "\n",
    "(define (make-product m1 m2)\n",
    "  (cond ((or (=number? m1 0) \n",
    "             (=number? m2 0)) \n",
    "         0)\n",
    "        ((=number? m1 1) m2)\n",
    "        ((=number? m2 1) m1)\n",
    "        ((and (number? m1) (number? m2)) \n",
    "         (* m1 m2))\n",
    "        (else (list '* m1 m2))))\n",
    "\n",
    "(define (multiplier p) (cadr p))\n",
    "\n",
    "(define (multiplicand p) (caddr p))\n",
    "\n",
    "(define (product? x)\n",
    "  (and (pair? x) (eq? (car x) '*)))"
   ]
  },
  {
   "cell_type": "markdown",
   "metadata": {},
   "source": [
    "### Demonstrate Procedures"
   ]
  },
  {
   "cell_type": "code",
   "execution_count": 109,
   "metadata": {},
   "outputs": [
    {
     "data": {
      "text/plain": [
       "#f"
      ]
     },
     "execution_count": 109,
     "metadata": {},
     "output_type": "execute_result"
    }
   ],
   "source": [
    "(variable? 1)"
   ]
  },
  {
   "cell_type": "code",
   "execution_count": 110,
   "metadata": {},
   "outputs": [
    {
     "data": {
      "text/plain": [
       "#t"
      ]
     },
     "execution_count": 110,
     "metadata": {},
     "output_type": "execute_result"
    }
   ],
   "source": [
    "(variable? 'x)"
   ]
  },
  {
   "cell_type": "code",
   "execution_count": 111,
   "metadata": {},
   "outputs": [
    {
     "data": {
      "text/plain": [
       "#f"
      ]
     },
     "execution_count": 111,
     "metadata": {},
     "output_type": "execute_result"
    }
   ],
   "source": [
    "(same-variable? 'x 'y)"
   ]
  },
  {
   "cell_type": "code",
   "execution_count": 112,
   "metadata": {},
   "outputs": [
    {
     "data": {
      "text/plain": [
       "#t"
      ]
     },
     "execution_count": 112,
     "metadata": {},
     "output_type": "execute_result"
    }
   ],
   "source": [
    "(same-variable? 'x 'x)"
   ]
  },
  {
   "cell_type": "code",
   "execution_count": 118,
   "metadata": {},
   "outputs": [
    {
     "data": {
      "text/plain": [
       "(+ x 2)"
      ]
     },
     "execution_count": 118,
     "metadata": {},
     "output_type": "execute_result"
    }
   ],
   "source": [
    "(define s (make-sum 'x 2))\n",
    "s"
   ]
  },
  {
   "cell_type": "code",
   "execution_count": 119,
   "metadata": {},
   "outputs": [
    {
     "data": {
      "text/plain": [
       "x"
      ]
     },
     "execution_count": 119,
     "metadata": {},
     "output_type": "execute_result"
    }
   ],
   "source": [
    "(addend s)"
   ]
  },
  {
   "cell_type": "code",
   "execution_count": 120,
   "metadata": {},
   "outputs": [
    {
     "data": {
      "text/plain": [
       "2"
      ]
     },
     "execution_count": 120,
     "metadata": {},
     "output_type": "execute_result"
    }
   ],
   "source": [
    "(augend s)"
   ]
  },
  {
   "cell_type": "code",
   "execution_count": 121,
   "metadata": {},
   "outputs": [
    {
     "data": {
      "text/plain": [
       "#t"
      ]
     },
     "execution_count": 121,
     "metadata": {},
     "output_type": "execute_result"
    }
   ],
   "source": [
    "(sum? s)"
   ]
  },
  {
   "cell_type": "code",
   "execution_count": 106,
   "metadata": {},
   "outputs": [
    {
     "data": {
      "text/plain": [
       "#f"
      ]
     },
     "execution_count": 106,
     "metadata": {},
     "output_type": "execute_result"
    }
   ],
   "source": [
    "(product? s)"
   ]
  },
  {
   "cell_type": "code",
   "execution_count": 129,
   "metadata": {},
   "outputs": [
    {
     "data": {
      "text/plain": [
       "3"
      ]
     },
     "execution_count": 129,
     "metadata": {},
     "output_type": "execute_result"
    }
   ],
   "source": [
    ";; simplify\n",
    "(make-sum 1 2)"
   ]
  },
  {
   "cell_type": "code",
   "execution_count": 122,
   "metadata": {},
   "outputs": [
    {
     "data": {
      "text/plain": [
       "(* x 2)"
      ]
     },
     "execution_count": 122,
     "metadata": {},
     "output_type": "execute_result"
    }
   ],
   "source": [
    "(define p (make-product 'x 2))\n",
    "p"
   ]
  },
  {
   "cell_type": "code",
   "execution_count": 123,
   "metadata": {},
   "outputs": [
    {
     "data": {
      "text/plain": [
       "x"
      ]
     },
     "execution_count": 123,
     "metadata": {},
     "output_type": "execute_result"
    }
   ],
   "source": [
    "(multiplier p)"
   ]
  },
  {
   "cell_type": "code",
   "execution_count": 124,
   "metadata": {},
   "outputs": [
    {
     "data": {
      "text/plain": [
       "2"
      ]
     },
     "execution_count": 124,
     "metadata": {},
     "output_type": "execute_result"
    }
   ],
   "source": [
    "(multiplicand p)"
   ]
  },
  {
   "cell_type": "code",
   "execution_count": 125,
   "metadata": {},
   "outputs": [
    {
     "data": {
      "text/plain": [
       "#t"
      ]
     },
     "execution_count": 125,
     "metadata": {},
     "output_type": "execute_result"
    }
   ],
   "source": [
    "(product? p)"
   ]
  },
  {
   "cell_type": "code",
   "execution_count": 126,
   "metadata": {},
   "outputs": [
    {
     "data": {
      "text/plain": [
       "#f"
      ]
     },
     "execution_count": 126,
     "metadata": {},
     "output_type": "execute_result"
    }
   ],
   "source": [
    "(sum? p)"
   ]
  },
  {
   "cell_type": "code",
   "execution_count": 128,
   "metadata": {},
   "outputs": [
    {
     "data": {
      "text/plain": [
       "2"
      ]
     },
     "execution_count": 128,
     "metadata": {},
     "output_type": "execute_result"
    }
   ],
   "source": [
    ";; simplify\n",
    "(make-product 1 2)"
   ]
  },
  {
   "cell_type": "code",
   "execution_count": 130,
   "metadata": {},
   "outputs": [
    {
     "data": {
      "text/plain": [
       "1"
      ]
     },
     "execution_count": 130,
     "metadata": {},
     "output_type": "execute_result"
    }
   ],
   "source": [
    "(deriv '(+ x 3) 'x)"
   ]
  },
  {
   "cell_type": "code",
   "execution_count": 132,
   "metadata": {},
   "outputs": [
    {
     "data": {
      "text/plain": [
       "y"
      ]
     },
     "execution_count": 132,
     "metadata": {},
     "output_type": "execute_result"
    }
   ],
   "source": [
    "(deriv '(* x y) 'x)"
   ]
  },
  {
   "cell_type": "code",
   "execution_count": 131,
   "metadata": {},
   "outputs": [
    {
     "data": {
      "text/plain": [
       "(+ (* x y) (* y (+ x 3)))"
      ]
     },
     "execution_count": 131,
     "metadata": {},
     "output_type": "execute_result"
    }
   ],
   "source": [
    "(deriv '(* (* x y) (+ x 3)) 'x)"
   ]
  },
  {
   "cell_type": "markdown",
   "metadata": {},
   "source": [
    "## 2.56"
   ]
  },
  {
   "cell_type": "code",
   "execution_count": 153,
   "metadata": {},
   "outputs": [],
   "source": [
    "(define (deriv exp var)\n",
    "  (cond ((number? exp) 0)\n",
    "        ((variable? exp)\n",
    "         (if (same-variable? exp var) 1 0))\n",
    "        ((sum? exp)\n",
    "         (make-sum (deriv (addend exp) var)\n",
    "                   (deriv (augend exp) var)))\n",
    "        ((product? exp)\n",
    "         (make-sum\n",
    "          (make-product\n",
    "           (multiplier exp)\n",
    "           (deriv (multiplicand exp) var))\n",
    "          (make-product\n",
    "           (deriv (multiplier exp) var)\n",
    "           (multiplicand exp))))\n",
    "        ((exponentiation? exp)\n",
    "         (make-product \n",
    "          (make-product (exponent exp)\n",
    "                        (make-exponentiation (base exp)\n",
    "                                             (- (exponent exp) 1)))\n",
    "          (deriv (base exp) var)))\n",
    "        (else (error \"unknown expression\n",
    "                     type: DERIV\" exp))))\n",
    "\n",
    "(define (exponentiation? x)\n",
    "  (and (pair? x) (eq? (car x) '**)))\n",
    "\n",
    "(define (make-exponentiation base exponent)\n",
    "  (cond ((=number? exponent 0) 1)\n",
    "        ((=number? exponent 1) base)\n",
    "        ((and (number? base) (number? exponent))\n",
    "         (expt base exponent))\n",
    "        (else (list '** base exponent))))\n",
    "\n",
    "(define (base e)\n",
    "  (cadr e))\n",
    "\n",
    "(define (exponent e)\n",
    "  (caddr e))"
   ]
  },
  {
   "cell_type": "markdown",
   "metadata": {},
   "source": [
    "### Test Exponentiation Procedures"
   ]
  },
  {
   "cell_type": "code",
   "execution_count": 155,
   "metadata": {},
   "outputs": [
    {
     "data": {
      "text/plain": [
       "(** x 2)"
      ]
     },
     "execution_count": 155,
     "metadata": {},
     "output_type": "execute_result"
    }
   ],
   "source": [
    "(define e (make-exponentiation 'x 2))\n",
    "e"
   ]
  },
  {
   "cell_type": "code",
   "execution_count": 156,
   "metadata": {},
   "outputs": [
    {
     "data": {
      "text/plain": [
       "x"
      ]
     },
     "execution_count": 156,
     "metadata": {},
     "output_type": "execute_result"
    }
   ],
   "source": [
    "(base e)"
   ]
  },
  {
   "cell_type": "code",
   "execution_count": 157,
   "metadata": {},
   "outputs": [
    {
     "data": {
      "text/plain": [
       "2"
      ]
     },
     "execution_count": 157,
     "metadata": {},
     "output_type": "execute_result"
    }
   ],
   "source": [
    "(exponent e)"
   ]
  },
  {
   "cell_type": "code",
   "execution_count": 158,
   "metadata": {},
   "outputs": [
    {
     "data": {
      "text/plain": [
       "#t"
      ]
     },
     "execution_count": 158,
     "metadata": {},
     "output_type": "execute_result"
    }
   ],
   "source": [
    "(exponentiation? e)"
   ]
  },
  {
   "cell_type": "code",
   "execution_count": 159,
   "metadata": {},
   "outputs": [
    {
     "data": {
      "text/plain": [
       "#f"
      ]
     },
     "execution_count": 159,
     "metadata": {},
     "output_type": "execute_result"
    }
   ],
   "source": [
    "(sum? e)"
   ]
  },
  {
   "cell_type": "code",
   "execution_count": 160,
   "metadata": {},
   "outputs": [
    {
     "data": {
      "text/plain": [
       "#f"
      ]
     },
     "execution_count": 160,
     "metadata": {},
     "output_type": "execute_result"
    }
   ],
   "source": [
    "(product? e)"
   ]
  },
  {
   "cell_type": "code",
   "execution_count": 164,
   "metadata": {},
   "outputs": [
    {
     "data": {
      "text/plain": [
       "16.0"
      ]
     },
     "execution_count": 164,
     "metadata": {},
     "output_type": "execute_result"
    }
   ],
   "source": [
    ";; simplifications\n",
    "(make-exponentiation 2 4)"
   ]
  },
  {
   "cell_type": "code",
   "execution_count": 165,
   "metadata": {},
   "outputs": [
    {
     "data": {
      "text/plain": [
       "x"
      ]
     },
     "execution_count": 165,
     "metadata": {},
     "output_type": "execute_result"
    }
   ],
   "source": [
    "(make-exponentiation 'x 1)"
   ]
  },
  {
   "cell_type": "code",
   "execution_count": 166,
   "metadata": {},
   "outputs": [
    {
     "data": {
      "text/plain": [
       "1"
      ]
     },
     "execution_count": 166,
     "metadata": {},
     "output_type": "execute_result"
    }
   ],
   "source": [
    "(make-exponentiation 'x 0)"
   ]
  },
  {
   "cell_type": "markdown",
   "metadata": {},
   "source": [
    "### Test `deriv` with new exponent rule"
   ]
  },
  {
   "cell_type": "code",
   "execution_count": 172,
   "metadata": {},
   "outputs": [
    {
     "data": {
      "text/plain": [
       "(* 2 x)"
      ]
     },
     "execution_count": 172,
     "metadata": {},
     "output_type": "execute_result"
    }
   ],
   "source": [
    ";; x^2\n",
    "(deriv '(** x 2) 'x)"
   ]
  },
  {
   "cell_type": "markdown",
   "metadata": {},
   "source": [
    "Example from introduction of section 2.3.2:\n",
    "\n",
    "\"if the arguments to the procedure are $ax^2+bx+c$ and $x$, the procedure should return $2ax+b$.\""
   ]
  },
  {
   "cell_type": "code",
   "execution_count": 173,
   "metadata": {},
   "outputs": [
    {
     "data": {
      "text/plain": [
       "(+ (* a (* 2 x)) b)"
      ]
     },
     "execution_count": 173,
     "metadata": {},
     "output_type": "execute_result"
    }
   ],
   "source": [
    "(deriv '(+ (+ (* a (** x 2)) (* b x)) c) 'x)"
   ]
  },
  {
   "cell_type": "markdown",
   "metadata": {},
   "source": [
    "## 2.57"
   ]
  },
  {
   "cell_type": "code",
   "execution_count": 191,
   "metadata": {},
   "outputs": [
    {
     "data": {
      "text/plain": [
       "(+ x 3 y)"
      ]
     },
     "execution_count": 191,
     "metadata": {},
     "output_type": "execute_result"
    }
   ],
   "source": [
    ";; change augend and multiplicand to return sum/product of \n",
    ";; all but first terms?\n",
    "(define (augend s) \n",
    "  (if (null? (cdddr s))\n",
    "      (caddr s)\n",
    "      (cons '+ (cddr s))))\n",
    "\n",
    "(define s '(+ x 3 y))\n",
    "s"
   ]
  },
  {
   "cell_type": "code",
   "execution_count": 192,
   "metadata": {},
   "outputs": [
    {
     "data": {
      "text/plain": [
       "x"
      ]
     },
     "execution_count": 192,
     "metadata": {},
     "output_type": "execute_result"
    }
   ],
   "source": [
    "(addend s)"
   ]
  },
  {
   "cell_type": "code",
   "execution_count": 193,
   "metadata": {},
   "outputs": [
    {
     "data": {
      "text/plain": [
       "(+ 3 y)"
      ]
     },
     "execution_count": 193,
     "metadata": {},
     "output_type": "execute_result"
    }
   ],
   "source": [
    "(augend s)"
   ]
  },
  {
   "cell_type": "code",
   "execution_count": 194,
   "metadata": {},
   "outputs": [
    {
     "data": {
      "text/plain": [
       "(* x 3 y)"
      ]
     },
     "execution_count": 194,
     "metadata": {},
     "output_type": "execute_result"
    }
   ],
   "source": [
    "(define (multiplicand p)\n",
    "  (if (null? (cdddr p))\n",
    "      (caddr p)\n",
    "      (cons '* (cddr p))))\n",
    "\n",
    "(define p '(* x 3 y))\n",
    "p"
   ]
  },
  {
   "cell_type": "code",
   "execution_count": 195,
   "metadata": {},
   "outputs": [
    {
     "data": {
      "text/plain": [
       "x"
      ]
     },
     "execution_count": 195,
     "metadata": {},
     "output_type": "execute_result"
    }
   ],
   "source": [
    "(multiplier p)"
   ]
  },
  {
   "cell_type": "code",
   "execution_count": 196,
   "metadata": {},
   "outputs": [
    {
     "data": {
      "text/plain": [
       "(* 3 y)"
      ]
     },
     "execution_count": 196,
     "metadata": {},
     "output_type": "execute_result"
    }
   ],
   "source": [
    "(multiplicand p)"
   ]
  },
  {
   "cell_type": "code",
   "execution_count": 197,
   "metadata": {},
   "outputs": [
    {
     "data": {
      "text/plain": [
       "(+ (* x y) (* y (+ x 3)))"
      ]
     },
     "execution_count": 197,
     "metadata": {},
     "output_type": "execute_result"
    }
   ],
   "source": [
    "(deriv '(* x y (+ x 3)) 'x)"
   ]
  },
  {
   "cell_type": "markdown",
   "metadata": {},
   "source": [
    "## 2.58\n",
    "\n",
    "### Infix `sum` representation"
   ]
  },
  {
   "cell_type": "code",
   "execution_count": 208,
   "metadata": {},
   "outputs": [],
   "source": [
    "(define (make-sum a1 a2)\n",
    "  (cond ((=number? a1 0) a2)\n",
    "        ((=number? a2 0) a1)\n",
    "        ((and (number? a1) (number? a2)) \n",
    "         (+ a1 a2))\n",
    "        (else (list a1 '+ a2))))\n",
    "\n",
    "(define (addend s) (car s))\n",
    "\n",
    "(define (augend s) (caddr s))\n",
    "\n",
    "(define (sum? x)\n",
    "  (and (pair? x) (eq? (cadr x) '+)))"
   ]
  },
  {
   "cell_type": "code",
   "execution_count": 210,
   "metadata": {},
   "outputs": [
    {
     "data": {
      "text/plain": [
       "(x + 4)"
      ]
     },
     "execution_count": 210,
     "metadata": {},
     "output_type": "execute_result"
    }
   ],
   "source": [
    "(define s (make-sum 'x 4))\n",
    "s"
   ]
  },
  {
   "cell_type": "code",
   "execution_count": 211,
   "metadata": {},
   "outputs": [
    {
     "data": {
      "text/plain": [
       "x"
      ]
     },
     "execution_count": 211,
     "metadata": {},
     "output_type": "execute_result"
    }
   ],
   "source": [
    "(addend s)"
   ]
  },
  {
   "cell_type": "code",
   "execution_count": 212,
   "metadata": {},
   "outputs": [
    {
     "data": {
      "text/plain": [
       "4"
      ]
     },
     "execution_count": 212,
     "metadata": {},
     "output_type": "execute_result"
    }
   ],
   "source": [
    "(augend s)"
   ]
  },
  {
   "cell_type": "code",
   "execution_count": 213,
   "metadata": {},
   "outputs": [
    {
     "data": {
      "text/plain": [
       "#t"
      ]
     },
     "execution_count": 213,
     "metadata": {},
     "output_type": "execute_result"
    }
   ],
   "source": [
    "(sum? s)"
   ]
  },
  {
   "cell_type": "markdown",
   "metadata": {},
   "source": [
    "### Infix `product` representation"
   ]
  },
  {
   "cell_type": "code",
   "execution_count": 214,
   "metadata": {},
   "outputs": [],
   "source": [
    "(define (make-product m1 m2)\n",
    "  (cond ((or (=number? m1 0)\n",
    "             (=number? m2 0))\n",
    "         0)\n",
    "        ((=number? m1 1) m2)\n",
    "        ((=number? m2 1) m1)\n",
    "        ((and (number? m1) (number? m2))\n",
    "         (* m1 m2))\n",
    "        (else (list m1 '* m2))))\n",
    "\n",
    "(define (multiplier p) (car p))\n",
    "\n",
    "(define (multiplicand p) (caddr p))\n",
    "\n",
    "(define (product? x)\n",
    "  (and (pair? x) (eq? (cadr x) '*)))"
   ]
  },
  {
   "cell_type": "code",
   "execution_count": 216,
   "metadata": {},
   "outputs": [
    {
     "data": {
      "text/plain": [
       "(x * 4)"
      ]
     },
     "execution_count": 216,
     "metadata": {},
     "output_type": "execute_result"
    }
   ],
   "source": [
    "(define p (make-product 'x 4))\n",
    "p"
   ]
  },
  {
   "cell_type": "code",
   "execution_count": 217,
   "metadata": {},
   "outputs": [
    {
     "data": {
      "text/plain": [
       "x"
      ]
     },
     "execution_count": 217,
     "metadata": {},
     "output_type": "execute_result"
    }
   ],
   "source": [
    "(multiplier p)"
   ]
  },
  {
   "cell_type": "code",
   "execution_count": 218,
   "metadata": {},
   "outputs": [
    {
     "data": {
      "text/plain": [
       "4"
      ]
     },
     "execution_count": 218,
     "metadata": {},
     "output_type": "execute_result"
    }
   ],
   "source": [
    "(multiplicand p)"
   ]
  },
  {
   "cell_type": "code",
   "execution_count": 219,
   "metadata": {},
   "outputs": [
    {
     "data": {
      "text/plain": [
       "#t"
      ]
     },
     "execution_count": 219,
     "metadata": {},
     "output_type": "execute_result"
    }
   ],
   "source": [
    "(product? p)"
   ]
  },
  {
   "cell_type": "markdown",
   "metadata": {},
   "source": [
    "### Test `deriv`\n",
    "Example from book $x+3(x+(y+2))$"
   ]
  },
  {
   "cell_type": "code",
   "execution_count": 222,
   "metadata": {},
   "outputs": [
    {
     "data": {
      "text/plain": [
       "4"
      ]
     },
     "execution_count": 222,
     "metadata": {},
     "output_type": "execute_result"
    }
   ],
   "source": [
    "(deriv '(x + (3 * (x + (y + 2)))) 'x)"
   ]
  },
  {
   "cell_type": "markdown",
   "metadata": {},
   "source": [
    "### Allowing for Standard Algebraic Notation\n",
    "Drop unnecessary parentheses and assume multiplication before addition: $x + 3(x+y+2)$\n",
    "- `(deriv (x + 3 * (x + y + 2)) x)`\n",
    "\n",
    "**N.B** This implementation has very little/no error handling and assumes well formed inputs.\n",
    "\n",
    "The 'type' of an expression is determined by the presence (in order of precedence) of a `+`, `*` or `**` operator anywhere in the expression:\n",
    "```scheme\n",
    "'(x + 3) -> sum\n",
    "'(x * 2) -> product\n",
    "'(x ** 2) -> exponent\n",
    "\n",
    "'(x * x + 2) -> sum\n",
    "'(x ** 2 + 2) -> sum\n",
    "'(x * x ** 2) -> product\n",
    "```\n",
    "\n",
    "`addend`, `multiplier` and `base` selectors should return the first part of the expression passed in up to (not including) the first appearance of `+`, `*` and `**` operators respectively:\n",
    "```scheme\n",
    "(addend `((x + 3) + 'y)) -> (x + 3)\n",
    "```\n",
    "\n",
    "`augend`, `multiplicand` and `exponent` selectors should return the remaining part of the expression passed in after (not including) the first appearance of the `+`, `*` and `**` operators resectively:\n",
    "```scheme\n",
    "(augend `('y + (x + 3))) -> (x + 3)\n",
    "```\n",
    "\n",
    "Selectors should unwrap single values so they aren't contained within a list:\n",
    "```scheme\n",
    "(addend `(x + 3)) -> x\n",
    "```"
   ]
  },
  {
   "cell_type": "code",
   "execution_count": 261,
   "metadata": {},
   "outputs": [],
   "source": [
    ";; returns first operation in expression\n",
    "(define (operation expr)\n",
    "  (cond ((memq '+ expr) '+)\n",
    "        ((memq '* expr) '*)\n",
    "        ((memq '** expr) '**)))\n",
    "\n",
    ";; returns section of x before first appearance of symbol\n",
    ";; will be wrapped in a list\n",
    "(define (prefix symbol x)\n",
    "  (if (or (null? x) (eq? symbol (car x)))\n",
    "      '() \n",
    "      (cons (car x) \n",
    "            (prefix symbol (cdr x)))))\n",
    "\n",
    "(define (addend s)\n",
    "  (let ((a (prefix '+ s)))\n",
    "    (if (= (length a) 1)\n",
    "        (car a)\n",
    "        a)))\n",
    "\n",
    "(define (augend s)\n",
    "  (let ((a (cdr (memq '+ s))))\n",
    "    (if (= (length a) 1)\n",
    "        (car a)\n",
    "        a)))\n",
    "\n",
    "(define (sum? x)\n",
    "  (eq? '+ (operation x)))\n",
    "\n",
    "(define (multiplier p)\n",
    "  (let ((m (prefix '* p)))\n",
    "    (if (= (length m) 1)\n",
    "        (car m)\n",
    "        m)))\n",
    "\n",
    "(define (multiplicand p)\n",
    "  (let ((m (cdr (memq '* p))))\n",
    "    (if (= (length m) 1)\n",
    "        (car m)\n",
    "        m)))\n",
    "\n",
    "(define (product? x)\n",
    "  (eq? '* (operation x)))\n",
    "\n",
    "\n",
    "(define (base e)\n",
    "  (let ((p (prefix '** e)))\n",
    "    (if (= (length p) 1)\n",
    "        (car p)\n",
    "        p)))\n",
    "\n",
    "(define (exponent e)\n",
    "(let ((p (cdr (memq '** e))))\n",
    "  (if (= (length p) 1)\n",
    "      (car p)\n",
    "      p)))\n",
    "\n",
    "(define (exponentiation? x)\n",
    "  (eq? '** (operation x)))"
   ]
  },
  {
   "cell_type": "code",
   "execution_count": 262,
   "metadata": {},
   "outputs": [
    {
     "data": {
      "text/plain": [
       "1"
      ]
     },
     "execution_count": 262,
     "metadata": {},
     "output_type": "execute_result"
    }
   ],
   "source": [
    "(deriv '(x + 3) 'x)"
   ]
  },
  {
   "cell_type": "code",
   "execution_count": 263,
   "metadata": {},
   "outputs": [
    {
     "data": {
      "text/plain": [
       "y"
      ]
     },
     "execution_count": 263,
     "metadata": {},
     "output_type": "execute_result"
    }
   ],
   "source": [
    "(deriv '(x * y) 'x)"
   ]
  },
  {
   "cell_type": "code",
   "execution_count": 264,
   "metadata": {},
   "outputs": [
    {
     "data": {
      "text/plain": [
       "((x * y) + (y * (x + 3)))"
      ]
     },
     "execution_count": 264,
     "metadata": {},
     "output_type": "execute_result"
    }
   ],
   "source": [
    "(deriv '(x * y * (x + 3)) 'x)"
   ]
  },
  {
   "cell_type": "code",
   "execution_count": 265,
   "metadata": {},
   "outputs": [
    {
     "data": {
      "text/plain": [
       "8"
      ]
     },
     "execution_count": 265,
     "metadata": {},
     "output_type": "execute_result"
    }
   ],
   "source": [
    "(deriv '(x * 3 + 5 * (x + y + 2)) 'x)"
   ]
  },
  {
   "cell_type": "markdown",
   "metadata": {},
   "source": [
    "## 2.59"
   ]
  },
  {
   "cell_type": "code",
   "execution_count": 270,
   "metadata": {},
   "outputs": [],
   "source": [
    "(define (element-of-set? x set)\n",
    "  (cond ((null? set) #f)\n",
    "        ((equal? x (car set)) #t)\n",
    "        (else (element-of-set? x (cdr set)))))\n",
    "\n",
    "(define (adjoin-set x set)\n",
    "  (if (element-of-set? x set)\n",
    "      set\n",
    "      (cons x set)))\n",
    "\n",
    "(define (intersection-set set1 set2)\n",
    "   (cond ((or (null? set1) (null? set2))\n",
    "          '())\n",
    "         ((element-of-set? (car set1) set2)\n",
    "          (cons (car set1)\n",
    "                (intersection-set (cdr set1)\n",
    "                                  set2)))\n",
    "         (else (intersection-set (cdr set1)\n",
    "                                 set2))))"
   ]
  },
  {
   "cell_type": "code",
   "execution_count": 271,
   "metadata": {},
   "outputs": [
    {
     "data": {
      "text/plain": [
       "#t"
      ]
     },
     "execution_count": 271,
     "metadata": {},
     "output_type": "execute_result"
    }
   ],
   "source": [
    "(element-of-set? 1 (list 1 2 3))"
   ]
  },
  {
   "cell_type": "code",
   "execution_count": 276,
   "metadata": {},
   "outputs": [
    {
     "data": {
      "text/plain": [
       "#f"
      ]
     },
     "execution_count": 276,
     "metadata": {},
     "output_type": "execute_result"
    }
   ],
   "source": [
    "(element-of-set? 4 (list 1 2 3))"
   ]
  },
  {
   "cell_type": "code",
   "execution_count": 274,
   "metadata": {},
   "outputs": [
    {
     "data": {
      "text/plain": [
       "(4 1 2 3)"
      ]
     },
     "execution_count": 274,
     "metadata": {},
     "output_type": "execute_result"
    }
   ],
   "source": [
    "(adjoin-set 4 (list 1 2 3))"
   ]
  },
  {
   "cell_type": "code",
   "execution_count": 275,
   "metadata": {},
   "outputs": [
    {
     "data": {
      "text/plain": [
       "(1 2 3)"
      ]
     },
     "execution_count": 275,
     "metadata": {},
     "output_type": "execute_result"
    }
   ],
   "source": [
    "(adjoin-set 1 (list 1 2 3))"
   ]
  },
  {
   "cell_type": "code",
   "execution_count": 277,
   "metadata": {},
   "outputs": [
    {
     "data": {
      "text/plain": [
       "(1 2 3)"
      ]
     },
     "execution_count": 277,
     "metadata": {},
     "output_type": "execute_result"
    }
   ],
   "source": [
    "(intersection-set (list 1 2 3) (list 1 2 3))"
   ]
  },
  {
   "cell_type": "code",
   "execution_count": 278,
   "metadata": {},
   "outputs": [
    {
     "data": {
      "text/plain": [
       "(1 2)"
      ]
     },
     "execution_count": 278,
     "metadata": {},
     "output_type": "execute_result"
    }
   ],
   "source": [
    "(intersection-set (list 1 2 3) (list 1 2))"
   ]
  },
  {
   "cell_type": "code",
   "execution_count": 280,
   "metadata": {},
   "outputs": [
    {
     "data": {
      "text/plain": [
       "()"
      ]
     },
     "execution_count": 280,
     "metadata": {},
     "output_type": "execute_result"
    }
   ],
   "source": [
    "(intersection-set (list 1 2 3) (list 4 5 6))"
   ]
  },
  {
   "cell_type": "code",
   "execution_count": 282,
   "metadata": {},
   "outputs": [],
   "source": [
    "(define (union-set set1 set2)\n",
    "  (cond ((null? set1) set2)\n",
    "        ((null? set2) set1)\n",
    "        ((element-of-set? (car set1) set2)\n",
    "         (union-set (cdr set1) set2))\n",
    "        (else (cons (car set1) \n",
    "                    (union-set (cdr set1) set2)))))"
   ]
  },
  {
   "cell_type": "code",
   "execution_count": 283,
   "metadata": {},
   "outputs": [
    {
     "data": {
      "text/plain": [
       "(1 2 3 4 5 6)"
      ]
     },
     "execution_count": 283,
     "metadata": {},
     "output_type": "execute_result"
    }
   ],
   "source": [
    "(union-set (list 1 2 3) (list 4 5 6))"
   ]
  },
  {
   "cell_type": "code",
   "execution_count": 284,
   "metadata": {},
   "outputs": [
    {
     "data": {
      "text/plain": [
       "(1 2 3)"
      ]
     },
     "execution_count": 284,
     "metadata": {},
     "output_type": "execute_result"
    }
   ],
   "source": [
    "(union-set (list 1 2 3) (list 1 2 3))"
   ]
  },
  {
   "cell_type": "code",
   "execution_count": 285,
   "metadata": {},
   "outputs": [
    {
     "data": {
      "text/plain": [
       "(1 2 3 4 5)"
      ]
     },
     "execution_count": 285,
     "metadata": {},
     "output_type": "execute_result"
    }
   ],
   "source": [
    "(union-set (list 1 2 3) (list 3 4 5))"
   ]
  },
  {
   "cell_type": "code",
   "execution_count": 286,
   "metadata": {},
   "outputs": [
    {
     "data": {
      "text/plain": [
       "(1 2 3)"
      ]
     },
     "execution_count": 286,
     "metadata": {},
     "output_type": "execute_result"
    }
   ],
   "source": [
    "(union-set (list 1 2 3) '())"
   ]
  },
  {
   "cell_type": "markdown",
   "metadata": {},
   "source": [
    "## 2.60\n",
    "`element-of-set?` requires no change"
   ]
  },
  {
   "cell_type": "code",
   "execution_count": null,
   "metadata": {},
   "outputs": [],
   "source": [
    "(define (adjoin-set x set)\n",
    "  (cons x set))\n",
    "\n",
    "(define (union-set set1 set2)\n",
    "  (append set1 set2))"
   ]
  },
  {
   "cell_type": "markdown",
   "metadata": {},
   "source": [
    "Question is ambiguous - stating that the representation should *allow* duplicates, not that is *must* maintain all duplicates. This means that `intersection-set` can remain unchanged depending on interpretation.\n",
    "\n",
    "The current implementation checks the elements of the first set to determine if they appear in the second set.\n",
    "- Duplicates will only appear in the result if the first set contains them\n",
    "\n",
    "This doesn't affect the properties of the `set` as the correct elements will still be present, however the *number of duplicates* isn't necessarily maintained:"
   ]
  },
  {
   "cell_type": "code",
   "execution_count": 288,
   "metadata": {},
   "outputs": [
    {
     "data": {
      "text/plain": [
       "(2 2 2)"
      ]
     },
     "execution_count": 288,
     "metadata": {},
     "output_type": "execute_result"
    }
   ],
   "source": [
    "(intersection-set (list 2 2 2) (list 2 3 4))"
   ]
  },
  {
   "cell_type": "code",
   "execution_count": 289,
   "metadata": {},
   "outputs": [
    {
     "data": {
      "text/plain": [
       "(2)"
      ]
     },
     "execution_count": 289,
     "metadata": {},
     "output_type": "execute_result"
    }
   ],
   "source": [
    "(intersection-set (list 2 3 4) (list 2 2 2))"
   ]
  },
  {
   "cell_type": "markdown",
   "metadata": {},
   "source": [
    "Since the resulting 'set' is equivalent, I'm leaving `intersection-set` unchanged.\n",
    "\n",
    "### Efficiency\n",
    "`element-of-set?` and `intersection-set` are unchanged -> performance unchanged.\n",
    "\n",
    "`adjoin-set` and `union-set` have improved as they no longer check for duplicate elements\n",
    "- `adjoin-set` = $O(1)$\n",
    "- `union-set` = $O(n)$\n",
    "\n",
    "Overall **memory usage** has increased, as the `list` representing the set will now contain duplicate elements and can grow to be much larger whilst representing the same set.\n",
    "\n",
    "If the application is not memory constrained and a large number of `adjoin-set` or `union-set` operations are being performed, this representation is preferable. \n",
    "\n",
    "If the application is memory constrained and a large number of `intersection-set` and `element-of-set?` are being performed then the original representation is preferable."
   ]
  },
  {
   "cell_type": "markdown",
   "metadata": {},
   "source": [
    "## 2.61\n",
    "Set representation using **ordered** lists."
   ]
  },
  {
   "cell_type": "code",
   "execution_count": 335,
   "metadata": {},
   "outputs": [],
   "source": [
    "(define (element-of-set? x set)\n",
    "  (cond ((null? set) #f)\n",
    "        ((= x (car set)) #t)\n",
    "        ((< x (car set)) #f)\n",
    "        (else (element-of-set? x (cdr set)))))\n",
    "\n",
    "(define (intersection-set set1 set2)\n",
    "  (if (or (null? set1) (null? set2))\n",
    "      '()\n",
    "      (let ((x1 (car set1)) (x2 (car set2)))\n",
    "        (cond ((= x1 x2)\n",
    "               (cons x1 (intersection-set \n",
    "                         (cdr set1)\n",
    "                         (cdr set2))))\n",
    "              ;; x2 is smallest element in set2 -> x1 not in set2\n",
    "              ;; -> x1 not in intersection\n",
    "              ((< x1 x2) (intersection-set \n",
    "                          (cdr set1) \n",
    "                          set2))\n",
    "              ;; x1 is smallest element in set1 -> x2 not in set1\n",
    "              ;; -> x2 not in intersection\n",
    "              ((< x2 x1) (intersection-set \n",
    "                          set1 \n",
    "                          (cdr set2)))))))"
   ]
  },
  {
   "cell_type": "code",
   "execution_count": 343,
   "metadata": {},
   "outputs": [],
   "source": [
    ";; need to insert x into correct position to maintain order\n",
    ";; if x is encountered in the set -> return the set unchanged\n",
    "(define (adjoin-set x set)\n",
    "   (cond ((null? set) (list x))\n",
    "         ((= x (car set)) set)\n",
    "         ((< x (car set)) (cons x set))\n",
    "         ((> x (car set)) (cons (car set)\n",
    "                                (adjoin-set x (cdr set))))))"
   ]
  },
  {
   "cell_type": "code",
   "execution_count": 344,
   "metadata": {},
   "outputs": [
    {
     "data": {
      "text/plain": [
       "(3)"
      ]
     },
     "execution_count": 344,
     "metadata": {},
     "output_type": "execute_result"
    }
   ],
   "source": [
    "(adjoin-set 1 '())"
   ]
  },
  {
   "cell_type": "code",
   "execution_count": 345,
   "metadata": {},
   "outputs": [
    {
     "data": {
      "text/plain": [
       "(1 2 3 4)"
      ]
     },
     "execution_count": 345,
     "metadata": {},
     "output_type": "execute_result"
    }
   ],
   "source": [
    "(adjoin-set 1 '(2 3 4))"
   ]
  },
  {
   "cell_type": "code",
   "execution_count": 347,
   "metadata": {},
   "outputs": [
    {
     "data": {
      "text/plain": [
       "(2 3 4 5)"
      ]
     },
     "execution_count": 347,
     "metadata": {},
     "output_type": "execute_result"
    }
   ],
   "source": [
    "(adjoin-set 5 '(2 3 4))"
   ]
  },
  {
   "cell_type": "code",
   "execution_count": 348,
   "metadata": {},
   "outputs": [
    {
     "data": {
      "text/plain": [
       "(2 3 4 5 6)"
      ]
     },
     "execution_count": 348,
     "metadata": {},
     "output_type": "execute_result"
    }
   ],
   "source": [
    "(adjoin-set 5 '(2 3 4 6))"
   ]
  },
  {
   "cell_type": "code",
   "execution_count": 349,
   "metadata": {},
   "outputs": [
    {
     "data": {
      "text/plain": [
       "(2 3 4)"
      ]
     },
     "execution_count": 349,
     "metadata": {},
     "output_type": "execute_result"
    }
   ],
   "source": [
    "(adjoin-set 2 '(2 3 4))"
   ]
  },
  {
   "cell_type": "markdown",
   "metadata": {},
   "source": [
    "## 2.62"
   ]
  },
  {
   "cell_type": "code",
   "execution_count": 356,
   "metadata": {},
   "outputs": [],
   "source": [
    ";; previous union-set for reference\n",
    "(define (union-set-unordered set1 set2)\n",
    "  (cond ((null? set1) set2)\n",
    "        ((null? set2) set1)\n",
    "        ((element-of-set? (car set1) set2)\n",
    "         (union-set (cdr set1) set2))\n",
    "        (else (cons (car set1) \n",
    "                    (union-set (cdr set1) set2)))))\n",
    "\n",
    ";; return list of elements in both sets, ordered, without dups\n",
    ";; both sets ordered -> join by comparing element-wise\n",
    ";; -> decide which to place in resulting set\n",
    ";; elements equal -> place either into set, call union-set with cdr of both\n",
    ";; set1 element < set2 element -> place set1 element into set,\n",
    ";; call union-set with cdr set1 and whole of set2\n",
    ";; else place set2 element into set, \n",
    ";; call union set with cdr set2 and whole set1\n",
    "(define (union-set set1 set2)\n",
    "  (cond ((null? set1) set2)\n",
    "        ((null? set2) set1)\n",
    "        (else\n",
    "         (let ((x1 (car set1)) (x2 (car set2)))\n",
    "           (cond ((= x1 x2)\n",
    "                  (cons x1 (union-set (cdr set1) (cdr set2))))\n",
    "                 ((< x1 x2)\n",
    "                  (cons x1 (union-set (cdr set1) set2)))\n",
    "                 (else (cons x2 (union-set set1 (cdr set2)))))))))"
   ]
  },
  {
   "cell_type": "code",
   "execution_count": 357,
   "metadata": {},
   "outputs": [
    {
     "data": {
      "text/plain": [
       "(1 2 3)"
      ]
     },
     "execution_count": 357,
     "metadata": {},
     "output_type": "execute_result"
    }
   ],
   "source": [
    "(union-set (list 1 2 3) (list 1 2 3))"
   ]
  },
  {
   "cell_type": "code",
   "execution_count": 358,
   "metadata": {},
   "outputs": [
    {
     "data": {
      "text/plain": [
       "(1 2 3 4 5 6)"
      ]
     },
     "execution_count": 358,
     "metadata": {},
     "output_type": "execute_result"
    }
   ],
   "source": [
    "(union-set (list 1 2 3) (list 4 5 6))"
   ]
  },
  {
   "cell_type": "code",
   "execution_count": 359,
   "metadata": {},
   "outputs": [
    {
     "data": {
      "text/plain": [
       "(1 2 3 4 5 6)"
      ]
     },
     "execution_count": 359,
     "metadata": {},
     "output_type": "execute_result"
    }
   ],
   "source": [
    "(union-set (list 4 5 6) (list 1 2 3))"
   ]
  },
  {
   "cell_type": "code",
   "execution_count": 360,
   "metadata": {},
   "outputs": [
    {
     "data": {
      "text/plain": [
       "(1 2 3)"
      ]
     },
     "execution_count": 360,
     "metadata": {},
     "output_type": "execute_result"
    }
   ],
   "source": [
    "(union-set (list 1 2 3) '())"
   ]
  },
  {
   "cell_type": "markdown",
   "metadata": {},
   "source": [
    "## Sets as Binary Trees"
   ]
  },
  {
   "cell_type": "code",
   "execution_count": 3,
   "metadata": {},
   "outputs": [],
   "source": [
    "(define (entry tree) (car tree))\n",
    "(define (left-branch tree) (cadr tree))\n",
    "(define (right-branch tree) (caddr tree))\n",
    "(define (make-tree entry left right)\n",
    "  (list entry left right))\n",
    "\n",
    "(define (element-of-set? x set)\n",
    "  (cond ((null? set) #f)\n",
    "        ((= x (entry set)) #t)\n",
    "        ((< x (entry set))\n",
    "         (element-of-set?\n",
    "          x\n",
    "          (left-branch set)))\n",
    "        ((> x (entry set))\n",
    "         (element-of-set?\n",
    "          x\n",
    "          (right-branch set)))))\n",
    "\n",
    "(define (adjoin-set x set)\n",
    "  (cond ((null? set) (make-tree x '() '()))\n",
    "        ((= x (entry set)) set)\n",
    "        ((< x (entry set))\n",
    "         (make-tree\n",
    "          (entry set)\n",
    "          (adjoin-set x (left-branch set))\n",
    "          (right-branch set)))\n",
    "        ((> x (entry set))\n",
    "         (make-tree\n",
    "          (entry set)\n",
    "          (left-branch set)\n",
    "          (adjoin-set x (right-branch set))))))"
   ]
  },
  {
   "cell_type": "code",
   "execution_count": 4,
   "metadata": {},
   "outputs": [
    {
     "data": {
      "text/plain": [
       "(7 () ())"
      ]
     },
     "execution_count": 4,
     "metadata": {},
     "output_type": "execute_result"
    }
   ],
   "source": [
    "(define t (make-tree 7 '() '()))\n",
    "t"
   ]
  },
  {
   "cell_type": "code",
   "execution_count": 363,
   "metadata": {},
   "outputs": [
    {
     "data": {
      "text/plain": [
       "7"
      ]
     },
     "execution_count": 363,
     "metadata": {},
     "output_type": "execute_result"
    }
   ],
   "source": [
    "(entry t)"
   ]
  },
  {
   "cell_type": "code",
   "execution_count": 364,
   "metadata": {},
   "outputs": [
    {
     "data": {
      "text/plain": [
       "()"
      ]
     },
     "execution_count": 364,
     "metadata": {},
     "output_type": "execute_result"
    }
   ],
   "source": [
    "(left-branch t)"
   ]
  },
  {
   "cell_type": "code",
   "execution_count": 365,
   "metadata": {},
   "outputs": [
    {
     "data": {
      "text/plain": [
       "()"
      ]
     },
     "execution_count": 365,
     "metadata": {},
     "output_type": "execute_result"
    }
   ],
   "source": [
    "(right-branch t)"
   ]
  },
  {
   "cell_type": "code",
   "execution_count": 366,
   "metadata": {},
   "outputs": [
    {
     "data": {
      "text/plain": [
       "#t"
      ]
     },
     "execution_count": 366,
     "metadata": {},
     "output_type": "execute_result"
    }
   ],
   "source": [
    "(element-of-set? 7 t)"
   ]
  },
  {
   "cell_type": "code",
   "execution_count": 373,
   "metadata": {},
   "outputs": [
    {
     "data": {
      "text/plain": [
       "(7 () (8 () ()))"
      ]
     },
     "execution_count": 373,
     "metadata": {},
     "output_type": "execute_result"
    }
   ],
   "source": [
    "(define t (adjoin-set 8 t))\n",
    "t"
   ]
  },
  {
   "cell_type": "code",
   "execution_count": 374,
   "metadata": {},
   "outputs": [
    {
     "data": {
      "text/plain": [
       "7"
      ]
     },
     "execution_count": 374,
     "metadata": {},
     "output_type": "execute_result"
    }
   ],
   "source": [
    "(entry t)"
   ]
  },
  {
   "cell_type": "code",
   "execution_count": 375,
   "metadata": {},
   "outputs": [
    {
     "data": {
      "text/plain": [
       "()"
      ]
     },
     "execution_count": 375,
     "metadata": {},
     "output_type": "execute_result"
    }
   ],
   "source": [
    "(left-branch t)"
   ]
  },
  {
   "cell_type": "code",
   "execution_count": 376,
   "metadata": {},
   "outputs": [
    {
     "data": {
      "text/plain": [
       "(8 () ())"
      ]
     },
     "execution_count": 376,
     "metadata": {},
     "output_type": "execute_result"
    }
   ],
   "source": [
    "(right-branch t)"
   ]
  },
  {
   "cell_type": "code",
   "execution_count": 377,
   "metadata": {},
   "outputs": [
    {
     "data": {
      "text/plain": [
       "#t"
      ]
     },
     "execution_count": 377,
     "metadata": {},
     "output_type": "execute_result"
    }
   ],
   "source": [
    "(element-of-set? 8 t)"
   ]
  },
  {
   "cell_type": "code",
   "execution_count": 378,
   "metadata": {},
   "outputs": [
    {
     "data": {
      "text/plain": [
       "(7 (5 () ()) (8 () ()))"
      ]
     },
     "execution_count": 378,
     "metadata": {},
     "output_type": "execute_result"
    }
   ],
   "source": [
    "(define t (adjoin-set 5 t))\n",
    "t"
   ]
  },
  {
   "cell_type": "code",
   "execution_count": 379,
   "metadata": {},
   "outputs": [
    {
     "data": {
      "text/plain": [
       "7"
      ]
     },
     "execution_count": 379,
     "metadata": {},
     "output_type": "execute_result"
    }
   ],
   "source": [
    "(entry t)"
   ]
  },
  {
   "cell_type": "code",
   "execution_count": 380,
   "metadata": {},
   "outputs": [
    {
     "data": {
      "text/plain": [
       "(5 () ())"
      ]
     },
     "execution_count": 380,
     "metadata": {},
     "output_type": "execute_result"
    }
   ],
   "source": [
    "(left-branch t)"
   ]
  },
  {
   "cell_type": "code",
   "execution_count": 381,
   "metadata": {},
   "outputs": [
    {
     "data": {
      "text/plain": [
       "(8 () ())"
      ]
     },
     "execution_count": 381,
     "metadata": {},
     "output_type": "execute_result"
    }
   ],
   "source": [
    "(right-branch t)"
   ]
  },
  {
   "cell_type": "markdown",
   "metadata": {},
   "source": [
    "## 2.63"
   ]
  },
  {
   "cell_type": "code",
   "execution_count": 5,
   "metadata": {},
   "outputs": [],
   "source": [
    "(define (tree->list-1 tree)\n",
    "  (if (null? tree)\n",
    "      '()\n",
    "      (append\n",
    "       (tree->list-1\n",
    "        (left-branch tree))\n",
    "       (cons (entry tree)\n",
    "             (tree->list-1\n",
    "              (right-branch tree))))))\n",
    "\n",
    "(define (tree->list-2 tree)\n",
    "  (define (copy-to-list tree result-list)\n",
    "    (if (null? tree)\n",
    "        result-list\n",
    "        (copy-to-list\n",
    "         (left-branch tree)\n",
    "         (cons (entry tree)\n",
    "               (copy-to-list\n",
    "                (right-branch tree)\n",
    "                result-list)))))\n",
    "  (copy-to-list tree '()))\n",
    "\n",
    ";; trees from fig 2.16\n",
    "(define t1 \n",
    "  (make-tree 7 \n",
    "             (make-tree 3 \n",
    "                        (make-tree 1 '() '()) \n",
    "                        (make-tree 5 '() '()))\n",
    "             (make-tree 9\n",
    "                        '()\n",
    "                        (make-tree 11 '() '()))))\n",
    "\n",
    "(define t2\n",
    "  (make-tree 3\n",
    "             (make-tree 1 '() '())\n",
    "             (make-tree 7\n",
    "                        (make-tree 5 '() '())\n",
    "                        (make-tree 9 \n",
    "                                   '()\n",
    "                                   (make-tree 11 \n",
    "                                              '() \n",
    "                                              '())))))\n",
    "\n",
    "(define t3\n",
    "  (make-tree 5\n",
    "             (make-tree 3\n",
    "                        (make-tree 1 '() '())\n",
    "                        '())\n",
    "             (make-tree 9\n",
    "                        (make-tree 7 '() '())\n",
    "                        (make-tree 11 '() '()))))"
   ]
  },
  {
   "cell_type": "markdown",
   "metadata": {},
   "source": [
    "`tree->list-1` and `tree->list-2` produce the same results for every tree - performing an **in order** traversal."
   ]
  },
  {
   "cell_type": "code",
   "execution_count": 390,
   "metadata": {},
   "outputs": [
    {
     "data": {
      "text/plain": [
       "(1 3 5 7 9 11)"
      ]
     },
     "execution_count": 390,
     "metadata": {},
     "output_type": "execute_result"
    }
   ],
   "source": [
    "(tree->list-1 t1)"
   ]
  },
  {
   "cell_type": "code",
   "execution_count": 391,
   "metadata": {},
   "outputs": [
    {
     "data": {
      "text/plain": [
       "(1 3 5 7 9 11)"
      ]
     },
     "execution_count": 391,
     "metadata": {},
     "output_type": "execute_result"
    }
   ],
   "source": [
    "(tree->list-2 t1)"
   ]
  },
  {
   "cell_type": "code",
   "execution_count": 392,
   "metadata": {},
   "outputs": [
    {
     "data": {
      "text/plain": [
       "(1 3 5 7 9 11)"
      ]
     },
     "execution_count": 392,
     "metadata": {},
     "output_type": "execute_result"
    }
   ],
   "source": [
    "(tree->list-1 t2)"
   ]
  },
  {
   "cell_type": "code",
   "execution_count": 393,
   "metadata": {},
   "outputs": [
    {
     "data": {
      "text/plain": [
       "(1 3 5 7 9 11)"
      ]
     },
     "execution_count": 393,
     "metadata": {},
     "output_type": "execute_result"
    }
   ],
   "source": [
    "(tree->list-2 t2)"
   ]
  },
  {
   "cell_type": "code",
   "execution_count": 394,
   "metadata": {},
   "outputs": [
    {
     "data": {
      "text/plain": [
       "(1 3 5 7 9 11)"
      ]
     },
     "execution_count": 394,
     "metadata": {},
     "output_type": "execute_result"
    }
   ],
   "source": [
    "(tree->list-1 t3)"
   ]
  },
  {
   "cell_type": "code",
   "execution_count": 395,
   "metadata": {},
   "outputs": [
    {
     "data": {
      "text/plain": [
       "(1 3 5 7 9 11)"
      ]
     },
     "execution_count": 395,
     "metadata": {},
     "output_type": "execute_result"
    }
   ],
   "source": [
    "(tree->list-2 t3)"
   ]
  },
  {
   "cell_type": "markdown",
   "metadata": {},
   "source": [
    "`tree->list-1` calls the `append` procedure in each recursive call. `append` has $O(n)$ order of growth where $n$ is the length of the **first list** passed in:\n",
    "```scheme\n",
    "(define (append list1 list2)\n",
    "  (if (null? list1)\n",
    "      list2\n",
    "      (cons (car list1) (append (cdr list1) list2))))\n",
    "```\n",
    "\n",
    "The first list passed to `append` in `tree->list-1` is the left branch of the tree. For a *balanced* tree, the left branch will contain half the nodes of the tree. The number of nodes in the left branch is **halved** in each recursive call to `tree->list-1` -> $O(logn)$ list size. This is done for each $n$ calls to `append` so `tree->list-1` has **$O(nlogn)$ order of growth for a balanced tree**.\n",
    "\n",
    "`tree->list-2` calls `cons` for each recursive call. `cons` is a **constant time** operation with $O(1)$ order of growth. Therefore, the order of growth for `tree->list-2` is directly proportional to the size of the tree - $O(n)$"
   ]
  },
  {
   "cell_type": "markdown",
   "metadata": {},
   "source": [
    "## 2.64"
   ]
  },
  {
   "cell_type": "code",
   "execution_count": 6,
   "metadata": {},
   "outputs": [],
   "source": [
    "(define (list->tree elements)\n",
    "  (car (partial-tree\n",
    "        elements (length elements))))\n",
    "\n",
    ";; construct balanced tree containing first `n` elements of `elts`\n",
    ";; returns pair of form (tree elts-not-in-tree)\n",
    "(define (partial-tree elts n)\n",
    "  (if (= n 0)\n",
    "      (cons '() elts)\n",
    "      (let ((left-size\n",
    "             (quotient (- n 1) 2)))\n",
    "        (let ((left-result\n",
    "               (partial-tree\n",
    "                elts left-size)))\n",
    "          (let ((left-tree\n",
    "                 (car left-result))\n",
    "                (non-left-elts\n",
    "                 (cdr left-result))\n",
    "                (right-size\n",
    "                 (- n (+ left-size 1))))\n",
    "            (let ((this-entry\n",
    "                   (car non-left-elts))\n",
    "                  (right-result\n",
    "                   (partial-tree\n",
    "                    (cdr non-left-elts)\n",
    "                    right-size)))\n",
    "              (let ((right-tree\n",
    "                    (car right-result))\n",
    "                    (remaining-elts\n",
    "                     (cdr right-result)))\n",
    "              (cons (make-tree this-entry\n",
    "                               left-tree\n",
    "                               right-tree)\n",
    "                    remaining-elts))))))))"
   ]
  },
  {
   "cell_type": "markdown",
   "metadata": {},
   "source": [
    "`partial-tree` recursively constructs left and right halves of the sub-trees within the final balanced tree. In each call, it 'splits' `elts` around the center element. Elements to the left of the center are passed to a recursive call to `partial-tree` to construct the left branch, elements to the right of the center are passed to a recursive call to `partial-tree` to construct the right branch and the center element becomes the root node of the tree. This continues until `elts` is empty (no elements remaining to be added) and the sub-trees are assembled into the full balanced tree.\n",
    "\n",
    "`list->tree` produces the following tree for the list `(1 3 5 7 9 11)`:\n",
    "```\n",
    "    5\n",
    "   / \\\n",
    "  /   \\\n",
    " 1     9\n",
    "  \\   / \\\n",
    "   3 7   11\n",
    "```"
   ]
  },
  {
   "cell_type": "code",
   "execution_count": 403,
   "metadata": {},
   "outputs": [
    {
     "data": {
      "text/plain": [
       "(5 (1 () (3 () ())) (9 (7 () ()) (11 () ())))"
      ]
     },
     "execution_count": 403,
     "metadata": {},
     "output_type": "execute_result"
    }
   ],
   "source": [
    "(list->tree (list 1 3 5 7 9 11))"
   ]
  },
  {
   "cell_type": "markdown",
   "metadata": {},
   "source": [
    "In total `list->tree` produces a single call to `partial-tree` for every element in the input list. The work performed in `partial-tree` is a `cons` operation which has $O(1)$ "
   ]
  },
  {
   "cell_type": "markdown",
   "metadata": {},
   "source": [
    "## 2.65"
   ]
  },
  {
   "cell_type": "code",
   "execution_count": 7,
   "metadata": {},
   "outputs": [],
   "source": [
    ";; union-set for ordered lists from 2.62\n",
    "(define (union-list list1 list2)\n",
    "  (cond ((null? list1) list2)\n",
    "        ((null? list2) list1)\n",
    "        (else\n",
    "         (let ((x1 (car list1)) (x2 (car list2)))\n",
    "           (cond ((= x1 x2)\n",
    "                  (cons x1 (union-set (cdr list1) (cdr list2))))\n",
    "                 ((< x1 x2)\n",
    "                  (cons x1 (union-set (cdr list1) list2)))\n",
    "                 (else (cons x2 (union-set list1 (cdr list2)))))))))\n",
    "\n",
    "(define (union-set tree1 tree2)\n",
    "  (list->tree (union-list (tree->list-2 tree1)\n",
    "                          (tree->list-2 tree 2))))\n",
    "\n",
    ";; intersection-set for ordered lists from 2.61\n",
    "(define (intersection-list list1 list2)\n",
    "  (if (or (null? list1) (null? list2))\n",
    "      '()\n",
    "      (let ((x1 (car list1)) (x2 (car list2)))\n",
    "        (cond ((= x1 x2)\n",
    "               (cons x1 (intersection-set \n",
    "                         (cdr list1)\n",
    "                         (cdr list2))))\n",
    "              ;; x2 is smallest element in list2 -> x1 not in list2\n",
    "              ;; -> x1 not in intersection\n",
    "              ((< x1 x2) (intersection-set \n",
    "                          (cdr list1) \n",
    "                          list2))\n",
    "              ;; x1 is smallest element in list1 -> x2 not in list1\n",
    "              ;; -> x2 not in intersection\n",
    "              ((< x2 x1) (intersection-set \n",
    "                          list1 \n",
    "                          (cdr list2)))))))\n",
    "\n",
    "(define (intersection-set tree1 tree2)\n",
    "  (list->tree (intersection-list (tree->list-2 tree1)\n",
    "                                 (tree->list-2 tree 2))))"
   ]
  },
  {
   "cell_type": "markdown",
   "metadata": {},
   "source": [
    "## 2.66\n",
    "\n",
    "Need constructors/selectors for records:\n",
    "- `make-record`\n",
    "- `record-key`\n",
    "- `record-data`\n",
    "\n",
    "Implement `lookup` based on `element-of-set?` implementation for binary tree set representation\n",
    "- Modify to return record if found instead of `#t`\n",
    "\n",
    "Build initial database as a list of records then convert to tree using `list->tree`"
   ]
  },
  {
   "cell_type": "code",
   "execution_count": 8,
   "metadata": {},
   "outputs": [],
   "source": [
    "(define (make-record key data)\n",
    "  (cons key data))\n",
    "\n",
    "(define (record-key record)\n",
    "  (car record))\n",
    "\n",
    "(define (record-data record)\n",
    "  (cdr record))"
   ]
  },
  {
   "cell_type": "code",
   "execution_count": 16,
   "metadata": {},
   "outputs": [
    {
     "data": {
      "text/plain": [
       "(1 . \"Important Information\")"
      ]
     },
     "execution_count": 16,
     "metadata": {},
     "output_type": "execute_result"
    }
   ],
   "source": [
    "(define r (make-record 1 \"Important Information\"))\n",
    "r"
   ]
  },
  {
   "cell_type": "code",
   "execution_count": 17,
   "metadata": {},
   "outputs": [
    {
     "data": {
      "text/plain": [
       "1"
      ]
     },
     "execution_count": 17,
     "metadata": {},
     "output_type": "execute_result"
    }
   ],
   "source": [
    "(record-key r)"
   ]
  },
  {
   "cell_type": "code",
   "execution_count": 18,
   "metadata": {},
   "outputs": [
    {
     "data": {
      "text/plain": [
       "\"Important Information\""
      ]
     },
     "execution_count": 18,
     "metadata": {},
     "output_type": "execute_result"
    }
   ],
   "source": [
    "(record-data r)"
   ]
  },
  {
   "cell_type": "code",
   "execution_count": 9,
   "metadata": {},
   "outputs": [],
   "source": [
    "(define (element-of-set? x set)\n",
    "  (cond ((null? set) #f)\n",
    "        ((= x (entry set)) #t)\n",
    "        ((< x (entry set))\n",
    "         (element-of-set?\n",
    "          x\n",
    "          (left-branch set)))\n",
    "        ((> x (entry set))\n",
    "         (element-of-set?\n",
    "          x\n",
    "          (right-branch set)))))\n",
    "\n",
    "(define (lookup given-key set-of-records)\n",
    "  (cond ((null? set-of-records) #f)\n",
    "        ((= given-key (record-key (car set-of-records))) (car set-of-records))\n",
    "        ((< given-key (record-key (car set-of-records)))\n",
    "         (lookup\n",
    "          given-key\n",
    "          (left-branch set-of-records)))\n",
    "        ((> given-key (record-key (car set-of-records)))\n",
    "         (lookup\n",
    "          given-key\n",
    "          (right-branch set-of-records)))))"
   ]
  },
  {
   "cell_type": "code",
   "execution_count": 43,
   "metadata": {},
   "outputs": [
    {
     "data": {
      "text/plain": [
       "((1 . \"data 1\") (2 . \"data 2\") (3 . \"data 3\") (10 . \"data 10\"))"
      ]
     },
     "execution_count": 43,
     "metadata": {},
     "output_type": "execute_result"
    }
   ],
   "source": [
    "(define database-list\n",
    "  (list\n",
    "   (make-record 1 \"data 1\")\n",
    "   (make-record 2 \"data 2\")\n",
    "   (make-record 3 \"data 3\")\n",
    "   (make-record 10 \"data 10\")))\n",
    "database-list"
   ]
  },
  {
   "cell_type": "code",
   "execution_count": 44,
   "metadata": {},
   "outputs": [
    {
     "data": {
      "text/plain": [
       "((2 . \"data 2\") ((1 . \"data 1\") () ()) ((3 . \"data 3\") () ((10 . \"data 10\") () ())))"
      ]
     },
     "execution_count": 44,
     "metadata": {},
     "output_type": "execute_result"
    }
   ],
   "source": [
    "(define database-tree (list->tree database-list))\n",
    "database-tree"
   ]
  },
  {
   "cell_type": "code",
   "execution_count": 45,
   "metadata": {},
   "outputs": [
    {
     "data": {
      "text/plain": [
       "(1 . \"data 1\")"
      ]
     },
     "execution_count": 45,
     "metadata": {},
     "output_type": "execute_result"
    }
   ],
   "source": [
    "(lookup 1 database-tree)"
   ]
  },
  {
   "cell_type": "code",
   "execution_count": 46,
   "metadata": {},
   "outputs": [
    {
     "data": {
      "text/plain": [
       "(10 . \"data 10\")"
      ]
     },
     "execution_count": 46,
     "metadata": {},
     "output_type": "execute_result"
    }
   ],
   "source": [
    "(lookup 10 database-tree)"
   ]
  },
  {
   "cell_type": "code",
   "execution_count": 47,
   "metadata": {},
   "outputs": [
    {
     "data": {
      "text/plain": [
       "#f"
      ]
     },
     "execution_count": 47,
     "metadata": {},
     "output_type": "execute_result"
    }
   ],
   "source": [
    "(lookup 100 database-tree)"
   ]
  },
  {
   "cell_type": "markdown",
   "metadata": {},
   "source": [
    "# Huffman Encoding\n",
    "**Leaves** of tree represented by a list of the *symbol* `leaf`, the symbol at the leaf and the *weight*.\n",
    "\n",
    "General tree represented as a list of a left branch, right branch, set of symbols and a weight\n",
    "- Set of symbols = list of symbols\n",
    "\n",
    "Make a tree by merging two nodes\n",
    "- Weight of tree = sum of node weights\n",
    "- Set of symbols = union of node symbols\n",
    "\n",
    "Decoding:\n",
    "- Input message as list of bits and tree\n",
    "- Move down tree according to value of next bit\n",
    "    - `0` = left branch\n",
    "    - `1` = right branch\n",
    "- When leaf node reached, return symbol at leaf as next symbol in the message\n",
    "    - `cons` with result of decoding rest of message"
   ]
  },
  {
   "cell_type": "code",
   "execution_count": 13,
   "metadata": {},
   "outputs": [],
   "source": [
    ";; append procedure from 2.18\n",
    "(define (append list1 list2)\n",
    "  (if (null? list1)\n",
    "      list2\n",
    "      (cons (car list1)\n",
    "            (append (cdr list1)\n",
    "                    list2))))\n",
    "\n",
    "(define (make-leaf symbol weight)\n",
    "  (list 'leaf symbol weight))\n",
    "\n",
    "(define (leaf? object)\n",
    "  (eq? (car object) 'leaf))\n",
    "\n",
    "(define (symbol-leaf x) (cadr x))\n",
    "\n",
    "(define (weight-leaf x) (caddr x))\n",
    "\n",
    "(define (make-code-tree left right)\n",
    "  (list left\n",
    "        right\n",
    "        (append (symbols left)\n",
    "                (symbols right))\n",
    "        (+ (weight left) (weight right))))\n",
    "\n",
    "(define (left-branch tree) (car tree))\n",
    "(define (right-branch tree) (cadr tree))\n",
    "\n",
    "(define (symbols tree)\n",
    "  (if (leaf? tree)\n",
    "      (list (symbol-leaf tree))\n",
    "      (caddr tree)))\n",
    "\n",
    "(define (weight tree)\n",
    "  (if (leaf? tree)\n",
    "      (weight-leaf tree)\n",
    "      (cadddr tree)))"
   ]
  },
  {
   "cell_type": "code",
   "execution_count": 16,
   "metadata": {},
   "outputs": [
    {
     "data": {
      "text/plain": [
       "(leaf x 10)"
      ]
     },
     "execution_count": 16,
     "metadata": {},
     "output_type": "execute_result"
    }
   ],
   "source": [
    "(define l (make-leaf 'x 10))\n",
    "l"
   ]
  },
  {
   "cell_type": "code",
   "execution_count": 17,
   "metadata": {},
   "outputs": [
    {
     "data": {
      "text/plain": [
       "#t"
      ]
     },
     "execution_count": 17,
     "metadata": {},
     "output_type": "execute_result"
    }
   ],
   "source": [
    "(leaf? l)"
   ]
  },
  {
   "cell_type": "code",
   "execution_count": 18,
   "metadata": {},
   "outputs": [
    {
     "data": {
      "text/plain": [
       "#f"
      ]
     },
     "execution_count": 18,
     "metadata": {},
     "output_type": "execute_result"
    }
   ],
   "source": [
    "(leaf? (list 'not-leaf 'x 10))"
   ]
  },
  {
   "cell_type": "code",
   "execution_count": 19,
   "metadata": {},
   "outputs": [
    {
     "data": {
      "text/plain": [
       "x"
      ]
     },
     "execution_count": 19,
     "metadata": {},
     "output_type": "execute_result"
    }
   ],
   "source": [
    "(symbol-leaf l)"
   ]
  },
  {
   "cell_type": "code",
   "execution_count": 20,
   "metadata": {},
   "outputs": [
    {
     "data": {
      "text/plain": [
       "10"
      ]
     },
     "execution_count": 20,
     "metadata": {},
     "output_type": "execute_result"
    }
   ],
   "source": [
    "(weight-leaf l)"
   ]
  },
  {
   "cell_type": "code",
   "execution_count": 24,
   "metadata": {},
   "outputs": [],
   "source": [
    "(define l-tree\n",
    "  (make-code-tree\n",
    "   l\n",
    "   (make-leaf 'y 5)))\n",
    "\n",
    "(define r-tree\n",
    "  (make-code-tree\n",
    "   (make-leaf 'a 1)\n",
    "   (make-leaf 'b 2)))\n",
    "\n",
    "(define t\n",
    "  (make-code-tree l-tree r-tree))"
   ]
  },
  {
   "cell_type": "code",
   "execution_count": 25,
   "metadata": {},
   "outputs": [
    {
     "data": {
      "text/plain": [
       "((leaf x 10) (leaf y 5) (x y) 15)"
      ]
     },
     "execution_count": 25,
     "metadata": {},
     "output_type": "execute_result"
    }
   ],
   "source": [
    "l-tree"
   ]
  },
  {
   "cell_type": "code",
   "execution_count": 28,
   "metadata": {},
   "outputs": [
    {
     "data": {
      "text/plain": [
       "(x y)"
      ]
     },
     "execution_count": 28,
     "metadata": {},
     "output_type": "execute_result"
    }
   ],
   "source": [
    "(symbols l-tree)"
   ]
  },
  {
   "cell_type": "code",
   "execution_count": 29,
   "metadata": {},
   "outputs": [
    {
     "data": {
      "text/plain": [
       "15"
      ]
     },
     "execution_count": 29,
     "metadata": {},
     "output_type": "execute_result"
    }
   ],
   "source": [
    "(weight l-tree)"
   ]
  },
  {
   "cell_type": "code",
   "execution_count": 30,
   "metadata": {},
   "outputs": [
    {
     "data": {
      "text/plain": [
       "(leaf x 10)"
      ]
     },
     "execution_count": 30,
     "metadata": {},
     "output_type": "execute_result"
    }
   ],
   "source": [
    "(left-branch l-tree)"
   ]
  },
  {
   "cell_type": "code",
   "execution_count": 31,
   "metadata": {},
   "outputs": [
    {
     "data": {
      "text/plain": [
       "(leaf y 5)"
      ]
     },
     "execution_count": 31,
     "metadata": {},
     "output_type": "execute_result"
    }
   ],
   "source": [
    "(right-branch l-tree)"
   ]
  },
  {
   "cell_type": "code",
   "execution_count": 32,
   "metadata": {},
   "outputs": [
    {
     "data": {
      "text/plain": [
       "((leaf a 1) (leaf b 2) (a b) 3)"
      ]
     },
     "execution_count": 32,
     "metadata": {},
     "output_type": "execute_result"
    }
   ],
   "source": [
    "r-tree"
   ]
  },
  {
   "cell_type": "code",
   "execution_count": 27,
   "metadata": {},
   "outputs": [
    {
     "data": {
      "text/plain": [
       "(((leaf x 10) (leaf y 5) (x y) 15) ((leaf a 1) (leaf b 2) (a b) 3) (x y a b) 18)"
      ]
     },
     "execution_count": 27,
     "metadata": {},
     "output_type": "execute_result"
    }
   ],
   "source": [
    "t"
   ]
  },
  {
   "cell_type": "code",
   "execution_count": 33,
   "metadata": {},
   "outputs": [
    {
     "data": {
      "text/plain": [
       "(x y a b)"
      ]
     },
     "execution_count": 33,
     "metadata": {},
     "output_type": "execute_result"
    }
   ],
   "source": [
    "(symbols t)"
   ]
  },
  {
   "cell_type": "code",
   "execution_count": 34,
   "metadata": {},
   "outputs": [
    {
     "data": {
      "text/plain": [
       "18"
      ]
     },
     "execution_count": 34,
     "metadata": {},
     "output_type": "execute_result"
    }
   ],
   "source": [
    "(weight t)"
   ]
  },
  {
   "cell_type": "code",
   "execution_count": 35,
   "metadata": {},
   "outputs": [
    {
     "data": {
      "text/plain": [
       "((leaf x 10) (leaf y 5) (x y) 15)"
      ]
     },
     "execution_count": 35,
     "metadata": {},
     "output_type": "execute_result"
    }
   ],
   "source": [
    "(left-branch t)"
   ]
  },
  {
   "cell_type": "code",
   "execution_count": 36,
   "metadata": {},
   "outputs": [
    {
     "data": {
      "text/plain": [
       "((leaf a 1) (leaf b 2) (a b) 3)"
      ]
     },
     "execution_count": 36,
     "metadata": {},
     "output_type": "execute_result"
    }
   ],
   "source": [
    "(right-branch t)"
   ]
  },
  {
   "cell_type": "code",
   "execution_count": 37,
   "metadata": {},
   "outputs": [],
   "source": [
    "(define (decode bits tree)\n",
    "  (define (decode-1 bits current-branch)\n",
    "    (if (null? bits)\n",
    "        '()\n",
    "        (let ((next-branch\n",
    "               (choose-branch\n",
    "                (car bits)\n",
    "                current-branch)))\n",
    "          (if (leaf? next-branch)\n",
    "              (cons\n",
    "               (symbol-leaf next-branch)\n",
    "               (decode-1 (cdr bits) tree))\n",
    "              (decode-1 (cdr bits)\n",
    "                        next-branch)))))\n",
    "  (decode-1 bits tree))\n",
    "\n",
    "(define (choose-branch bit branch)\n",
    "  (cond ((= bit 0) (left-branch branch))\n",
    "        ((= bit 1) (right-branch branch))\n",
    "        (else (error \"bad bit:\n",
    "                     CHOOSE-BRANCH\" bit))))"
   ]
  },
  {
   "cell_type": "code",
   "execution_count": 39,
   "metadata": {},
   "outputs": [],
   "source": [
    ";; add x to set, comparing items by weight\n",
    ";; assume x is never already in set\n",
    "(define (adjoin-set x set)\n",
    "  (cond ((null? set) (list x))\n",
    "        ((< (weight x) (weight (car set)))\n",
    "         (cons x set))\n",
    "        (else\n",
    "         (cons (car set)\n",
    "               (adjoin-set x (cdr set))))))\n",
    "\n",
    ";; take list of symbol-frequency pairs i.e ((A 4) (B 2) (C 1) (D 1))\n",
    ";; and constructs initial ordered set of leaves to be merged according \n",
    ";; to Huffman algo\n",
    "(define (make-leaf-set pairs)\n",
    "  (if (null? pairs)\n",
    "      '()\n",
    "      (let ((pair (car pairs)))\n",
    "        (adjoin-set\n",
    "         (make-leaf (car pair)\n",
    "                    (cadr pair))\n",
    "         (make-leaf-set (cdr pairs))))))"
   ]
  },
  {
   "cell_type": "markdown",
   "metadata": {},
   "source": [
    "## 2.67"
   ]
  },
  {
   "cell_type": "code",
   "execution_count": 56,
   "metadata": {},
   "outputs": [
    {
     "data": {
      "text/plain": [
       "(A D A B B C A)"
      ]
     },
     "execution_count": 56,
     "metadata": {},
     "output_type": "execute_result"
    }
   ],
   "source": [
    "(define sample-tree\n",
    "  (make-code-tree\n",
    "   (make-leaf 'A 4)\n",
    "   (make-code-tree\n",
    "    (make-leaf 'B 2)\n",
    "    (make-code-tree\n",
    "     (make-leaf 'D 1)\n",
    "     (make-leaf 'C 1)))))\n",
    "\n",
    "(define sample-message\n",
    "  '(0 1 1 0 0 1 0 1 0 1 1 1 0))\n",
    "\n",
    "(decode sample-message sample-tree)"
   ]
  },
  {
   "cell_type": "markdown",
   "metadata": {},
   "source": [
    "## 2.68\n",
    "`encode-symbol` - return list of bits encoding symbol according to tree\n",
    "- Traverse tree\n",
    "- If tree is leaf -> return empty list\n",
    "- If symbol in set of symbols of current left branch:\n",
    "    - Add 0 to result and recurse on left branch\n",
    "- If symbol in set of symbols of current right branch:\n",
    "   - Add 1 to result and recurse on right branch\n",
    "- Else signal error\n",
    "    - Symbol not in tree"
   ]
  },
  {
   "cell_type": "code",
   "execution_count": 79,
   "metadata": {},
   "outputs": [],
   "source": [
    ";; original element-of-set? from 2.59\n",
    "(define (element-of-set? x set)\n",
    "  (cond ((null? set) #f)\n",
    "        ((eq? x (car set)) #t)\n",
    "        (else (element-of-set? x (cdr set)))))\n",
    "\n",
    "(define (encode message tree)\n",
    "  (if (null? message)\n",
    "      '()\n",
    "      (append\n",
    "       (encode-symbol (car message)\n",
    "                      tree)\n",
    "       (encode (cdr message) tree))))\n",
    "\n",
    "(define (encode-symbol symbol tree)\n",
    "  (if (leaf? tree)\n",
    "      '()\n",
    "      (let ((l-branch (left-branch tree))\n",
    "            (r-branch (right-branch tree)))\n",
    "        (cond ((element-of-set? symbol (symbols l-branch))\n",
    "               (cons 0 (encode-symbol symbol l-branch)))\n",
    "              ((element-of-set? symbol (symbols r-branch))\n",
    "               (cons 1 (encode-symbol symbol r-branch)))\n",
    "              (else (error \"symbol not in tree:\n",
    "                           ENCODE-SYMBOL\" symbol))))))"
   ]
  },
  {
   "cell_type": "code",
   "execution_count": 80,
   "metadata": {},
   "outputs": [
    {
     "data": {
      "text/plain": [
       "(A D A B B C A)"
      ]
     },
     "execution_count": 80,
     "metadata": {},
     "output_type": "execute_result"
    }
   ],
   "source": [
    "(define decoded-message (decode sample-message sample-tree))\n",
    "decoded-message"
   ]
  },
  {
   "cell_type": "code",
   "execution_count": 81,
   "metadata": {},
   "outputs": [
    {
     "data": {
      "text/plain": [
       "(0 1 1 0 0 1 0 1 0 1 1 1 0)"
      ]
     },
     "execution_count": 81,
     "metadata": {},
     "output_type": "execute_result"
    }
   ],
   "source": [
    "(define result (encode decoded-message sample-tree))\n",
    "result"
   ]
  },
  {
   "cell_type": "code",
   "execution_count": 82,
   "metadata": {},
   "outputs": [
    {
     "data": {
      "text/plain": [
       "#t"
      ]
     },
     "execution_count": 82,
     "metadata": {},
     "output_type": "execute_result"
    }
   ],
   "source": [
    "(equal? result sample-message)"
   ]
  },
  {
   "cell_type": "markdown",
   "metadata": {},
   "source": [
    "## 2.69"
   ]
  },
  {
   "cell_type": "code",
   "execution_count": 84,
   "metadata": {},
   "outputs": [],
   "source": [
    "(define (generate-huffman-tree pairs)\n",
    "  (successive-merge\n",
    "   (make-leaf-set pairs)))"
   ]
  },
  {
   "cell_type": "code",
   "execution_count": 113,
   "metadata": {},
   "outputs": [
    {
     "data": {
      "text/plain": [
       "((leaf A 4) ((leaf B 2) ((leaf D 1) (leaf C 1) (D C) 2) (B D C) 4) (A B D C) 8)"
      ]
     },
     "execution_count": 113,
     "metadata": {},
     "output_type": "execute_result"
    }
   ],
   "source": [
    "(define (successive-merge set)\n",
    "  (cond ((null? set) '())\n",
    "        ((= (length set) 1) (car set))\n",
    "        (else (successive-merge \n",
    "               (adjoin-set \n",
    "                (make-code-tree (car set) (cadr set)) \n",
    "                (cddr set))))))\n",
    "\n",
    "(generate-huffman-tree '((A 4) (B 2) (C 1) (D 1)))"
   ]
  },
  {
   "cell_type": "markdown",
   "metadata": {},
   "source": [
    "## 2.70"
   ]
  },
  {
   "cell_type": "code",
   "execution_count": 115,
   "metadata": {},
   "outputs": [
    {
     "data": {
      "text/plain": [
       "((leaf NA 16) ((leaf YIP 9) (((leaf A 2) ((leaf WAH 1) (leaf BOOM 1) (WAH BOOM) 2) (A WAH BOOM) 4) ((leaf SHA 3) ((leaf JOB 2) (leaf GET 2) (JOB GET) 4) (SHA JOB GET) 7) (A WAH BOOM SHA JOB GET) 11) (YIP A WAH BOOM SHA JOB GET) 20) (NA YIP A WAH BOOM SHA JOB GET) 36)"
      ]
     },
     "execution_count": 115,
     "metadata": {},
     "output_type": "execute_result"
    }
   ],
   "source": [
    "(define pairs '((A 2) (NA 16) (BOOM 1) (SHA 3) (GET 2) (YIP 9) (JOB 2) (WAH 1)))\n",
    "(define tree (generate-huffman-tree pairs))\n",
    "tree"
   ]
  },
  {
   "cell_type": "code",
   "execution_count": 117,
   "metadata": {},
   "outputs": [
    {
     "data": {
      "text/plain": [
       "(1 1 1 1 1 1 1 0 0 1 1 1 1 0 1 1 1 0 0 0 0 0 0 0 0 0 1 1 1 1 1 1 1 0 0 1 1 1 1 0 1 1 1 0 0 0 0 0 0 0 0 0 1 1 0 1 0 1 0 1 0 1 0 1 0 1 0 1 0 1 0 1 0 1 0 1 1 1 0 1 1 0 1 1)"
      ]
     },
     "execution_count": 117,
     "metadata": {},
     "output_type": "execute_result"
    }
   ],
   "source": [
    "(define message '(GET A JOB SHA NA NA NA NA NA NA NA NA GET A JOB SHA NA\n",
    "                      NA NA NA NA NA NA NA WAH YIP YIP YIP YIP YIP YIP \n",
    "                      YIP YIP YIP SHA BOOM))\n",
    "\n",
    "(define encoded (encode message tree))\n",
    "encoded"
   ]
  },
  {
   "cell_type": "code",
   "execution_count": 118,
   "metadata": {},
   "outputs": [
    {
     "data": {
      "text/plain": [
       "84"
      ]
     },
     "execution_count": 118,
     "metadata": {},
     "output_type": "execute_result"
    }
   ],
   "source": [
    ";; bits required for encoding\n",
    "(length encoded)"
   ]
  },
  {
   "cell_type": "markdown",
   "metadata": {},
   "source": [
    "Encoding with fixed length requires $log_2(n)$ bits per token where $n$ is the number of symbols in the alphabet.\n",
    "\n",
    "8 symbols alphabet = $log_2(8)=3$ bits per token\n",
    "\n",
    "Message is 36 tokens -> bits required = $36*3=108$ "
   ]
  },
  {
   "cell_type": "markdown",
   "metadata": {},
   "source": [
    "## 2.71\n",
    "Alphabet of $n$ symbols, where relative frequencies are $1,2,4,...2^n-1$\n",
    "\n",
    "### $n=5$\n",
    "$\\{A,B,C,D,E\\}$\n",
    "\n",
    "Frequencies = $1,2,4,8,16$\n",
    "```\n",
    "                    {A,B,C,D,E} 31\n",
    "                        / \\\n",
    "            {A,B,C,D} 15  {E} 16\n",
    "                / \\\n",
    "        {A,B,C} 7  {D} 8\n",
    "          / \\\n",
    "    {A,B} 3  {C} 4\n",
    "     / \\\n",
    "{A} 1   {B} 2\n",
    "```\n",
    "### $n=10$\n",
    "$\\{A,B,C,D,E,F,G,H,I,J\\}$\n",
    "\n",
    "Frequencies = $1,2,4,8,16,32,64,128,256,512$\n",
    "```\n",
    "                                                                           {A,B,C,D,E,F,G,H,I,J} 1023\n",
    "                                                                                    / \\\n",
    "                                                             {A,B,C,D,E,F,G,H,I} 511  {J} 512\n",
    "                                                                     / \\\n",
    "                                                {A,B,C,D,E,F,G,H} 255   {I} 256\n",
    "                                                        / \\\n",
    "                                     {A,B,C,D,E,F,G} 127   {H} 128\n",
    "                                            / \\\n",
    "                            {A,B,C,D,E,F} 63   {G} 64\n",
    "                                 / \\\n",
    "                   {A,B,C,D,E} 31   {F} 32\n",
    "                       / \\\n",
    "           {A,B,C,D} 15   {E} 16\n",
    "               / \\\n",
    "      {A,B,C} 7   {D} 8\n",
    "         / \\\n",
    "  {A,B} 3   {C} 4\n",
    "   / \\\n",
    "{A} 1 {B} 2\n",
    "```\n",
    "\n",
    "For general alphabet of *n* symbols:\n",
    "\n",
    "Bits to encode a symbol = number of *edges traversed*\n",
    "\n",
    "Most frequent symbol requires $1$ bit\n",
    "- First leaf node\n",
    "\n",
    "Least frequency symbol requires $n-1$ bits\n",
    "- Deepest leaf node"
   ]
  }
 ],
 "metadata": {
  "kernelspec": {
   "display_name": "Calysto Scheme 3",
   "language": "scheme",
   "name": "calysto_scheme"
  },
  "language_info": {
   "codemirror_mode": {
    "name": "scheme"
   },
   "mimetype": "text/x-scheme",
   "name": "scheme",
   "pygments_lexer": "scheme"
  }
 },
 "nbformat": 4,
 "nbformat_minor": 2
}
