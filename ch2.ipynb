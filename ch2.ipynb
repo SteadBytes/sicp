{
 "cells": [
  {
   "cell_type": "markdown",
   "metadata": {},
   "source": [
    "# SICP Chapter 2"
   ]
  },
  {
   "cell_type": "code",
   "execution_count": 1,
   "metadata": {},
   "outputs": [],
   "source": [
    ";; from book -> not technically correct as will return negative\n",
    "(define (gcd a b)\n",
    "  (if (= b 0)\n",
    "      a\n",
    "      (gcd b (remainder a b))))\n",
    "\n",
    ";; construct rational number reduced to lowest terms\n",
    "(define (make-rat n d) \n",
    "  (let ((g (gcd n d)))\n",
    "    (cons (/ n g)\n",
    "          (/ d g))))\n",
    "\n",
    "(define (numer x) (car x))\n",
    "(define (denom x) (cdr x))\n",
    "\n",
    "(define (add-rat x y)\n",
    "  (make-rat (+ (* (numer x) (denom y))\n",
    "               (* (numer y) (denom x)))\n",
    "            (* (denom x) (denom y))))\n",
    "\n",
    "(define (sub-rat x y)\n",
    "  (make-rat (- (* (numer x) (denom y))\n",
    "               (* (numer y) (denom x)))\n",
    "            (* (denom x) (denom y))))\n",
    "\n",
    "(define (mul-rat x y)\n",
    "  (make-rat (* (numer x) (numer y))\n",
    "            (* (denom x) (denom y))))\n",
    "\n",
    "(define (div-rat x y)\n",
    "  (make-rat (* (numer x) (denom y))\n",
    "            (* (denom x) (numer y))))\n",
    "\n",
    "(define (equal-rat? x y)\n",
    "  (= (* (numer x) (denom y))\n",
    "     (* (numer y) (denom x))))\n",
    "\n",
    "(define (print-rat x)\n",
    "  (newline)\n",
    "  (display (numer x))\n",
    "  (display \"/\")\n",
    "  (display (denom x)))"
   ]
  },
  {
   "cell_type": "code",
   "execution_count": 2,
   "metadata": {},
   "outputs": [
    {
     "name": "stdout",
     "output_type": "stream",
     "text": [
      "\n",
      "1/2"
     ]
    }
   ],
   "source": [
    "(define half (make-rat 1 2))\n",
    "(print-rat half)"
   ]
  },
  {
   "cell_type": "code",
   "execution_count": 3,
   "metadata": {},
   "outputs": [
    {
     "name": "stdout",
     "output_type": "stream",
     "text": [
      "\n",
      "1/5"
     ]
    }
   ],
   "source": [
    "(define fifth (make-rat 1 5))\n",
    "(print-rat fifth)"
   ]
  },
  {
   "cell_type": "code",
   "execution_count": 4,
   "metadata": {},
   "outputs": [
    {
     "name": "stdout",
     "output_type": "stream",
     "text": [
      "\n",
      "1/3"
     ]
    }
   ],
   "source": [
    "(define third (make-rat 1 3))\n",
    "(print-rat third)"
   ]
  },
  {
   "cell_type": "code",
   "execution_count": 8,
   "metadata": {},
   "outputs": [
    {
     "name": "stdout",
     "output_type": "stream",
     "text": [
      "\n",
      "1/10"
     ]
    }
   ],
   "source": [
    "(print-rat (mul-rat half fifth))"
   ]
  },
  {
   "cell_type": "code",
   "execution_count": 9,
   "metadata": {},
   "outputs": [
    {
     "name": "stdout",
     "output_type": "stream",
     "text": [
      "\n",
      "7/10"
     ]
    }
   ],
   "source": [
    "(print-rat (add-rat half fifth))"
   ]
  },
  {
   "cell_type": "code",
   "execution_count": 10,
   "metadata": {},
   "outputs": [
    {
     "name": "stdout",
     "output_type": "stream",
     "text": [
      "\n",
      "1/1"
     ]
    }
   ],
   "source": [
    "(print-rat (add-rat half half))"
   ]
  },
  {
   "cell_type": "code",
   "execution_count": 11,
   "metadata": {},
   "outputs": [
    {
     "name": "stdout",
     "output_type": "stream",
     "text": [
      "\n",
      "2/3"
     ]
    }
   ],
   "source": [
    "(print-rat (add-rat third third))"
   ]
  },
  {
   "cell_type": "markdown",
   "metadata": {},
   "source": [
    "## 2.1"
   ]
  },
  {
   "cell_type": "code",
   "execution_count": 12,
   "metadata": {},
   "outputs": [],
   "source": [
    "(define (make-rat n d) \n",
    "  (let ((g (abs (gcd n d)))) ; abs to correct for negative return from gcd\n",
    "    (if (< d 0)\n",
    "        (cons (/ (* n -1) g) \n",
    "              (/ (* d -1) g))\n",
    "        (cons (/ n g) \n",
    "              (/ d g)))))\n",
    "    "
   ]
  },
  {
   "cell_type": "code",
   "execution_count": 13,
   "metadata": {},
   "outputs": [
    {
     "name": "stdout",
     "output_type": "stream",
     "text": [
      "\n",
      "1/2"
     ]
    }
   ],
   "source": [
    "(print-rat (make-rat 1 2))"
   ]
  },
  {
   "cell_type": "code",
   "execution_count": 14,
   "metadata": {},
   "outputs": [
    {
     "name": "stdout",
     "output_type": "stream",
     "text": [
      "\n",
      "-1/2"
     ]
    }
   ],
   "source": [
    "(print-rat (make-rat -1 2))"
   ]
  },
  {
   "cell_type": "code",
   "execution_count": 15,
   "metadata": {},
   "outputs": [
    {
     "name": "stdout",
     "output_type": "stream",
     "text": [
      "\n",
      "-1/2"
     ]
    }
   ],
   "source": [
    "(print-rat (make-rat 1 -2))"
   ]
  },
  {
   "cell_type": "markdown",
   "metadata": {},
   "source": [
    "## 2.2"
   ]
  },
  {
   "cell_type": "code",
   "execution_count": 37,
   "metadata": {},
   "outputs": [],
   "source": [
    "(define (make-point x y)\n",
    "  (cons x y))\n",
    "(define (x-point point)\n",
    "  (car point))\n",
    "(define (y-point point)\n",
    "  (cdr point))\n",
    "\n",
    "(define (make-segment start-point end-point)\n",
    "  (cons start-point end-point))\n",
    "(define (start-segment segment)\n",
    "  (car segment))\n",
    "(define (end-segment segment)\n",
    "  (cdr segment))\n",
    "\n",
    "(define (midpoint-segment segment)\n",
    "  (define (avg x y) (/ (+ x y) 2.0))\n",
    "  (let ((start (start-segment segment)) (end (end-segment segment)))\n",
    "    (make-point\n",
    "     (avg (x-point start) (x-point end))\n",
    "     (avg (y-point start) (y-point end)))))\n",
    "\n",
    "(define (print-point p)\n",
    "  (newline)\n",
    "  (display \"(\")\n",
    "  (display (x-point p))\n",
    "  (display \",\")\n",
    "  (display (y-point p))\n",
    "  (display \")\"))"
   ]
  },
  {
   "cell_type": "code",
   "execution_count": 38,
   "metadata": {},
   "outputs": [
    {
     "name": "stdout",
     "output_type": "stream",
     "text": [
      "\n",
      "(1,2)"
     ]
    }
   ],
   "source": [
    "(print-point (make-point 1 2))"
   ]
  },
  {
   "cell_type": "code",
   "execution_count": 39,
   "metadata": {},
   "outputs": [
    {
     "name": "stdout",
     "output_type": "stream",
     "text": [
      "\n",
      "(1.5,3.0)"
     ]
    }
   ],
   "source": [
    "(define start (make-point 1 2))\n",
    "(define end (make-point 2 4))\n",
    "\n",
    "(define seg (make-segment start end))\n",
    "(print-point (midpoint-segment seg))"
   ]
  },
  {
   "cell_type": "markdown",
   "metadata": {},
   "source": [
    "## 2.3"
   ]
  },
  {
   "cell_type": "code",
   "execution_count": 58,
   "metadata": {},
   "outputs": [],
   "source": [
    ";; opposite corners representation\n",
    "(define (make-rect bottom-left top-right)\n",
    "  (cons bottom-left top-right))\n",
    "(define (rect-width rect)\n",
    "  (abs (- (x-point (car rect)) (x-point (cdr rect)))))\n",
    "(define (rect-height rect)\n",
    "  (abs (- (y-point (car rect)) (y-point (cdr rect)))))\n",
    "\n",
    "(define (rect-perim rect)\n",
    "  (* 2 (+ (rect-width rect) (rect-height rect))))\n",
    "\n",
    "(define (rect-area rect)\n",
    "  (* (rect-width rect) (rect-height rect)))"
   ]
  },
  {
   "cell_type": "code",
   "execution_count": 59,
   "metadata": {},
   "outputs": [
    {
     "data": {
      "text/plain": [
       "2"
      ]
     },
     "execution_count": 59,
     "metadata": {},
     "output_type": "execute_result"
    }
   ],
   "source": [
    "(define rect (make-rect (make-point 1 2) (make-point 3 5)))\n",
    "\n",
    "(rect-width rect)"
   ]
  },
  {
   "cell_type": "code",
   "execution_count": 60,
   "metadata": {},
   "outputs": [
    {
     "data": {
      "text/plain": [
       "3"
      ]
     },
     "execution_count": 60,
     "metadata": {},
     "output_type": "execute_result"
    }
   ],
   "source": [
    "(rect-height rect)"
   ]
  },
  {
   "cell_type": "code",
   "execution_count": 61,
   "metadata": {},
   "outputs": [
    {
     "data": {
      "text/plain": [
       "10"
      ]
     },
     "execution_count": 61,
     "metadata": {},
     "output_type": "execute_result"
    }
   ],
   "source": [
    "(rect-perim rect)"
   ]
  },
  {
   "cell_type": "code",
   "execution_count": 62,
   "metadata": {},
   "outputs": [
    {
     "data": {
      "text/plain": [
       "6"
      ]
     },
     "execution_count": 62,
     "metadata": {},
     "output_type": "execute_result"
    }
   ],
   "source": [
    "(rect-area rect)"
   ]
  },
  {
   "cell_type": "code",
   "execution_count": 63,
   "metadata": {},
   "outputs": [],
   "source": [
    ";; bottom left corner + width/height representation\n",
    "(define (make-rect bottom-left width height)\n",
    "  (cons bottom-left (cons width height)))\n",
    "(define (rect-width rect)\n",
    "  (car (cdr rect)))\n",
    "(define (rect-height rect)\n",
    "  (cdr (cdr rect)))"
   ]
  },
  {
   "cell_type": "code",
   "execution_count": 64,
   "metadata": {},
   "outputs": [],
   "source": [
    "(define rect (make-rect (make-point 1 2) 2 3))"
   ]
  },
  {
   "cell_type": "code",
   "execution_count": 65,
   "metadata": {},
   "outputs": [
    {
     "data": {
      "text/plain": [
       "10"
      ]
     },
     "execution_count": 65,
     "metadata": {},
     "output_type": "execute_result"
    }
   ],
   "source": [
    "(rect-perim rect)"
   ]
  },
  {
   "cell_type": "code",
   "execution_count": 66,
   "metadata": {},
   "outputs": [
    {
     "data": {
      "text/plain": [
       "6"
      ]
     },
     "execution_count": 66,
     "metadata": {},
     "output_type": "execute_result"
    }
   ],
   "source": [
    "(rect-area rect)"
   ]
  }
 ],
 "metadata": {
  "kernelspec": {
   "display_name": "Calysto Scheme 3",
   "language": "scheme",
   "name": "calysto_scheme"
  },
  "language_info": {
   "codemirror_mode": {
    "name": "scheme"
   },
   "mimetype": "text/x-scheme",
   "name": "scheme",
   "pygments_lexer": "scheme"
  }
 },
 "nbformat": 4,
 "nbformat_minor": 2
}
