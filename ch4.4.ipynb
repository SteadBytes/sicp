{
 "cells": [
  {
   "cell_type": "markdown",
   "metadata": {},
   "source": [
    "# 4.4 Logic Programming\n",
    "\n",
    "## 4.55\n",
    "\n",
    "```scheme\n",
    ";; 1\n",
    "(supervisor ?x Bitdiddle Ben)\n",
    "\n",
    ";; 2\n",
    "(job ?x (accounting . ?type))\n",
    "\n",
    ";; 3\n",
    "(address ?x (Sumerville . ?y))\n",
    "```"
   ]
  },
  {
   "cell_type": "code",
   "execution_count": null,
   "metadata": {},
   "outputs": [],
   "source": []
  }
 ],
 "metadata": {
  "kernelspec": {
   "display_name": "Calysto Scheme 3",
   "language": "scheme",
   "name": "calysto_scheme"
  },
  "language_info": {
   "codemirror_mode": {
    "name": "scheme"
   },
   "mimetype": "text/x-scheme",
   "name": "scheme",
   "pygments_lexer": "scheme"
  }
 },
 "nbformat": 4,
 "nbformat_minor": 2
}
