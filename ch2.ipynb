{
 "cells": [
  {
   "cell_type": "markdown",
   "metadata": {},
   "source": [
    "# SICP Chapter 2"
   ]
  },
  {
   "cell_type": "code",
   "execution_count": 1,
   "metadata": {},
   "outputs": [],
   "source": [
    ";; from book -> not technically correct as will return negative\n",
    "(define (gcd a b)\n",
    "  (if (= b 0)\n",
    "      a\n",
    "      (gcd b (remainder a b))))\n",
    "\n",
    ";; construct rational number reduced to lowest terms\n",
    "(define (make-rat n d) \n",
    "  (let ((g (gcd n d)))\n",
    "    (cons (/ n g)\n",
    "          (/ d g))))\n",
    "\n",
    "(define (numer x) (car x))\n",
    "(define (denom x) (cdr x))\n",
    "\n",
    "(define (add-rat x y)\n",
    "  (make-rat (+ (* (numer x) (denom y))\n",
    "               (* (numer y) (denom x)))\n",
    "            (* (denom x) (denom y))))\n",
    "\n",
    "(define (sub-rat x y)\n",
    "  (make-rat (- (* (numer x) (denom y))\n",
    "               (* (numer y) (denom x)))\n",
    "            (* (denom x) (denom y))))\n",
    "\n",
    "(define (mul-rat x y)\n",
    "  (make-rat (* (numer x) (numer y))\n",
    "            (* (denom x) (denom y))))\n",
    "\n",
    "(define (div-rat x y)\n",
    "  (make-rat (* (numer x) (denom y))\n",
    "            (* (denom x) (numer y))))\n",
    "\n",
    "(define (equal-rat? x y)\n",
    "  (= (* (numer x) (denom y))\n",
    "     (* (numer y) (denom x))))\n",
    "\n",
    "(define (print-rat x)\n",
    "  (newline)\n",
    "  (display (numer x))\n",
    "  (display \"/\")\n",
    "  (display (denom x)))"
   ]
  },
  {
   "cell_type": "code",
   "execution_count": 2,
   "metadata": {},
   "outputs": [
    {
     "name": "stdout",
     "output_type": "stream",
     "text": [
      "\n",
      "1/2"
     ]
    }
   ],
   "source": [
    "(define half (make-rat 1 2))\n",
    "(print-rat half)"
   ]
  },
  {
   "cell_type": "code",
   "execution_count": 3,
   "metadata": {},
   "outputs": [
    {
     "name": "stdout",
     "output_type": "stream",
     "text": [
      "\n",
      "1/5"
     ]
    }
   ],
   "source": [
    "(define fifth (make-rat 1 5))\n",
    "(print-rat fifth)"
   ]
  },
  {
   "cell_type": "code",
   "execution_count": 4,
   "metadata": {},
   "outputs": [
    {
     "name": "stdout",
     "output_type": "stream",
     "text": [
      "\n",
      "1/3"
     ]
    }
   ],
   "source": [
    "(define third (make-rat 1 3))\n",
    "(print-rat third)"
   ]
  },
  {
   "cell_type": "code",
   "execution_count": 5,
   "metadata": {},
   "outputs": [
    {
     "name": "stdout",
     "output_type": "stream",
     "text": [
      "\n",
      "1/10"
     ]
    }
   ],
   "source": [
    "(print-rat (mul-rat half fifth))"
   ]
  },
  {
   "cell_type": "code",
   "execution_count": 6,
   "metadata": {},
   "outputs": [
    {
     "name": "stdout",
     "output_type": "stream",
     "text": [
      "\n",
      "7/10"
     ]
    }
   ],
   "source": [
    "(print-rat (add-rat half fifth))"
   ]
  },
  {
   "cell_type": "code",
   "execution_count": 7,
   "metadata": {},
   "outputs": [
    {
     "name": "stdout",
     "output_type": "stream",
     "text": [
      "\n",
      "1/1"
     ]
    }
   ],
   "source": [
    "(print-rat (add-rat half half))"
   ]
  },
  {
   "cell_type": "code",
   "execution_count": 8,
   "metadata": {},
   "outputs": [
    {
     "name": "stdout",
     "output_type": "stream",
     "text": [
      "\n",
      "2/3"
     ]
    }
   ],
   "source": [
    "(print-rat (add-rat third third))"
   ]
  },
  {
   "cell_type": "markdown",
   "metadata": {},
   "source": [
    "## 2.1"
   ]
  },
  {
   "cell_type": "code",
   "execution_count": 9,
   "metadata": {},
   "outputs": [],
   "source": [
    "(define (make-rat n d) \n",
    "  (let ((g (abs (gcd n d)))) ; abs to correct for negative return from gcd\n",
    "    (if (< d 0)\n",
    "        (cons (/ (* n -1) g) \n",
    "              (/ (* d -1) g))\n",
    "        (cons (/ n g) \n",
    "              (/ d g)))))\n",
    "    "
   ]
  },
  {
   "cell_type": "code",
   "execution_count": 10,
   "metadata": {},
   "outputs": [
    {
     "name": "stdout",
     "output_type": "stream",
     "text": [
      "\n",
      "1/2"
     ]
    }
   ],
   "source": [
    "(print-rat (make-rat 1 2))"
   ]
  },
  {
   "cell_type": "code",
   "execution_count": 11,
   "metadata": {},
   "outputs": [
    {
     "name": "stdout",
     "output_type": "stream",
     "text": [
      "\n",
      "-1/2"
     ]
    }
   ],
   "source": [
    "(print-rat (make-rat -1 2))"
   ]
  },
  {
   "cell_type": "code",
   "execution_count": 12,
   "metadata": {},
   "outputs": [
    {
     "name": "stdout",
     "output_type": "stream",
     "text": [
      "\n",
      "-1/2"
     ]
    }
   ],
   "source": [
    "(print-rat (make-rat 1 -2))"
   ]
  },
  {
   "cell_type": "markdown",
   "metadata": {},
   "source": [
    "## 2.2"
   ]
  },
  {
   "cell_type": "code",
   "execution_count": 13,
   "metadata": {},
   "outputs": [],
   "source": [
    "(define (make-point x y)\n",
    "  (cons x y))\n",
    "(define (x-point point)\n",
    "  (car point))\n",
    "(define (y-point point)\n",
    "  (cdr point))\n",
    "\n",
    "(define (make-segment start-point end-point)\n",
    "  (cons start-point end-point))\n",
    "(define (start-segment segment)\n",
    "  (car segment))\n",
    "(define (end-segment segment)\n",
    "  (cdr segment))\n",
    "\n",
    "(define (midpoint-segment segment)\n",
    "  (define (avg x y) (/ (+ x y) 2.0))\n",
    "  (let ((start (start-segment segment)) (end (end-segment segment)))\n",
    "    (make-point\n",
    "     (avg (x-point start) (x-point end))\n",
    "     (avg (y-point start) (y-point end)))))\n",
    "\n",
    "(define (print-point p)\n",
    "  (newline)\n",
    "  (display \"(\")\n",
    "  (display (x-point p))\n",
    "  (display \",\")\n",
    "  (display (y-point p))\n",
    "  (display \")\"))"
   ]
  },
  {
   "cell_type": "code",
   "execution_count": 14,
   "metadata": {},
   "outputs": [
    {
     "name": "stdout",
     "output_type": "stream",
     "text": [
      "\n",
      "(1,2)"
     ]
    }
   ],
   "source": [
    "(print-point (make-point 1 2))"
   ]
  },
  {
   "cell_type": "code",
   "execution_count": 15,
   "metadata": {},
   "outputs": [
    {
     "name": "stdout",
     "output_type": "stream",
     "text": [
      "\n",
      "(1.5,3.0)"
     ]
    }
   ],
   "source": [
    "(define start (make-point 1 2))\n",
    "(define end (make-point 2 4))\n",
    "\n",
    "(define seg (make-segment start end))\n",
    "(print-point (midpoint-segment seg))"
   ]
  },
  {
   "cell_type": "markdown",
   "metadata": {},
   "source": [
    "## 2.3"
   ]
  },
  {
   "cell_type": "code",
   "execution_count": 16,
   "metadata": {},
   "outputs": [],
   "source": [
    ";; opposite corners representation\n",
    "(define (make-rect bottom-left top-right)\n",
    "  (cons bottom-left top-right))\n",
    "(define (rect-width rect)\n",
    "  (abs (- (x-point (car rect)) (x-point (cdr rect)))))\n",
    "(define (rect-height rect)\n",
    "  (abs (- (y-point (car rect)) (y-point (cdr rect)))))\n",
    "\n",
    "(define (rect-perim rect)\n",
    "  (* 2 (+ (rect-width rect) (rect-height rect))))\n",
    "\n",
    "(define (rect-area rect)\n",
    "  (* (rect-width rect) (rect-height rect)))"
   ]
  },
  {
   "cell_type": "code",
   "execution_count": 17,
   "metadata": {},
   "outputs": [
    {
     "data": {
      "text/plain": [
       "2"
      ]
     },
     "execution_count": 17,
     "metadata": {},
     "output_type": "execute_result"
    }
   ],
   "source": [
    "(define rect (make-rect (make-point 1 2) (make-point 3 5)))\n",
    "\n",
    "(rect-width rect)"
   ]
  },
  {
   "cell_type": "code",
   "execution_count": 18,
   "metadata": {},
   "outputs": [
    {
     "data": {
      "text/plain": [
       "3"
      ]
     },
     "execution_count": 18,
     "metadata": {},
     "output_type": "execute_result"
    }
   ],
   "source": [
    "(rect-height rect)"
   ]
  },
  {
   "cell_type": "code",
   "execution_count": 19,
   "metadata": {},
   "outputs": [
    {
     "data": {
      "text/plain": [
       "10"
      ]
     },
     "execution_count": 19,
     "metadata": {},
     "output_type": "execute_result"
    }
   ],
   "source": [
    "(rect-perim rect)"
   ]
  },
  {
   "cell_type": "code",
   "execution_count": 20,
   "metadata": {},
   "outputs": [
    {
     "data": {
      "text/plain": [
       "6"
      ]
     },
     "execution_count": 20,
     "metadata": {},
     "output_type": "execute_result"
    }
   ],
   "source": [
    "(rect-area rect)"
   ]
  },
  {
   "cell_type": "code",
   "execution_count": 21,
   "metadata": {},
   "outputs": [],
   "source": [
    ";; bottom left corner + width/height representation\n",
    "(define (make-rect bottom-left width height)\n",
    "  (cons bottom-left (cons width height)))\n",
    "(define (rect-width rect)\n",
    "  (car (cdr rect)))\n",
    "(define (rect-height rect)\n",
    "  (cdr (cdr rect)))"
   ]
  },
  {
   "cell_type": "code",
   "execution_count": 22,
   "metadata": {},
   "outputs": [],
   "source": [
    "(define rect (make-rect (make-point 1 2) 2 3))"
   ]
  },
  {
   "cell_type": "code",
   "execution_count": 23,
   "metadata": {},
   "outputs": [
    {
     "data": {
      "text/plain": [
       "10"
      ]
     },
     "execution_count": 23,
     "metadata": {},
     "output_type": "execute_result"
    }
   ],
   "source": [
    "(rect-perim rect)"
   ]
  },
  {
   "cell_type": "code",
   "execution_count": 66,
   "metadata": {},
   "outputs": [
    {
     "data": {
      "text/plain": [
       "6"
      ]
     },
     "execution_count": 66,
     "metadata": {},
     "output_type": "execute_result"
    }
   ],
   "source": [
    "(rect-area rect)"
   ]
  },
  {
   "cell_type": "markdown",
   "metadata": {},
   "source": [
    "## 2.4"
   ]
  },
  {
   "cell_type": "code",
   "execution_count": 32,
   "metadata": {},
   "outputs": [],
   "source": [
    ";; returns function that takes 2 arguments and applies it to x y\n",
    "(define (cons x y)\n",
    "  (lambda (m) (m x y)))\n",
    "\n",
    ";; z takes a 2 argument function that is passed p q in order\n",
    ";; returning first arg p implements car function\n",
    "(define (car z)\n",
    "  (z (lambda (p q) p)))\n",
    "\n",
    ";; z takes a 2 argument function that is passed p q in order\n",
    ";; returning sencond arg q produces cdr\n",
    "(define (cdr z)\n",
    "  (z (lambda (p q) q)))"
   ]
  },
  {
   "cell_type": "code",
   "execution_count": 27,
   "metadata": {},
   "outputs": [
    {
     "data": {
      "text/plain": [
       "1"
      ]
     },
     "execution_count": 27,
     "metadata": {},
     "output_type": "execute_result"
    }
   ],
   "source": [
    "(car (cons 1 2))"
   ]
  },
  {
   "cell_type": "code",
   "execution_count": 33,
   "metadata": {},
   "outputs": [
    {
     "data": {
      "text/plain": [
       "2"
      ]
     },
     "execution_count": 33,
     "metadata": {},
     "output_type": "execute_result"
    }
   ],
   "source": [
    "(cdr (cons 1 2))"
   ]
  },
  {
   "cell_type": "markdown",
   "metadata": {},
   "source": [
    "Applicative-order evaluation to verify `(car (cons x y))` yields `x` for any objects `x` and `y`:\n",
    "```scheme\n",
    "(car (cons (x y)))\n",
    "(car (lambda (m) (m x y)))\n",
    "((lambda (m) (m x y)) (lambda (p q) p))\n",
    "((lambda (p q) p) x y)\n",
    "x\n",
    "```"
   ]
  },
  {
   "cell_type": "markdown",
   "metadata": {},
   "source": [
    "## 2.5"
   ]
  },
  {
   "cell_type": "markdown",
   "metadata": {},
   "source": [
    "Represent pair of nonnegative integers $a, b$ as the integer that is the product $2^a3^b$\n",
    "\n",
    "2 and 3 are prime -> $2^a3^b$ will give unique values for each all combinations of $a, b$ due to the [Fundamental Theorem of Arithmetic](http://mathworld.wolfram.com/FundamentalTheoremofArithmetic.html)\n",
    "\n",
    "$a$ can be calculated from the product by the number of times it is evenly divisible by 2.\n",
    "\n",
    "$b$ can be calculated from the product by the the number of times it is evenly divisible by 3.\n",
    "\n",
    "Example:\n",
    "\n",
    "$a=2\\ ,b=3$\n",
    "\n",
    "$2^a3^b=2^2\\cdot3^3=108$\n",
    "\n",
    "Calculating $a$:\n",
    "\n",
    "$\\frac{108}{2}=54$\n",
    "\n",
    "$\\frac{54}{2}=27$\n",
    "\n",
    "$\\frac{27}{2}=13.5$\n",
    "\n",
    "2 even divisions by 2:\n",
    "\n",
    "$a=2$\n",
    "\n",
    "Calculating $b$:\n",
    "\n",
    "$\\frac{108}{3}=36$\n",
    "\n",
    "$\\frac{36}{3}=12$\n",
    "\n",
    "$\\frac{12}{3}=4$\n",
    "\n",
    "$\\frac{4}{3} = 1.3333333$\n",
    "\n",
    "3 even divisions by 3:\n",
    "\n",
    "$b=3$\n",
    "\n",
    "\n"
   ]
  },
  {
   "cell_type": "code",
   "execution_count": 11,
   "metadata": {},
   "outputs": [],
   "source": [
    "(define (cons a b)\n",
    "  (* (expt 2 a)\n",
    "     (expt 3 b)))\n",
    "\n",
    "; number of times n is evenly divisible by d\n",
    "(define (num-div n d)\n",
    "  (define (iter x count)\n",
    "    (if (= 0 (remainder x d))\n",
    "        (iter (/ x d) (+ 1 count))\n",
    "        count))\n",
    "  (iter n 0))\n",
    "\n",
    "(define (car x)\n",
    "  (num-div x 2))\n",
    "\n",
    "(define (cdr x)\n",
    "  (num-div x 3))"
   ]
  },
  {
   "cell_type": "code",
   "execution_count": 12,
   "metadata": {},
   "outputs": [
    {
     "data": {
      "text/plain": [
       "2"
      ]
     },
     "execution_count": 12,
     "metadata": {},
     "output_type": "execute_result"
    }
   ],
   "source": [
    "(car (cons 2 3))"
   ]
  },
  {
   "cell_type": "code",
   "execution_count": 13,
   "metadata": {},
   "outputs": [
    {
     "data": {
      "text/plain": [
       "3"
      ]
     },
     "execution_count": 13,
     "metadata": {},
     "output_type": "execute_result"
    }
   ],
   "source": [
    "(cdr (cons 2 3))"
   ]
  },
  {
   "cell_type": "markdown",
   "metadata": {},
   "source": [
    "## 2.6"
   ]
  },
  {
   "cell_type": "code",
   "execution_count": 17,
   "metadata": {},
   "outputs": [],
   "source": [
    "(define zero (lambda (f) (lambda (x) x)))\n",
    "\n",
    "(define (add-1 n)\n",
    "  (lambda (f) (lambda (x) (f ((n f) x)))))"
   ]
  },
  {
   "cell_type": "markdown",
   "metadata": {},
   "source": [
    "Substitution to find definition of `one`:\n",
    "```scheme\n",
    "(add-1 zero)\n",
    "(lambda (f) (lambda (x) (f ((zero f) x))))\n",
    "(lambda (f) (lambda (x) (f ((lambda (x) x) x))))\n",
    "(lambda (f) (lambda (x) (f x)))\n",
    "```"
   ]
  },
  {
   "cell_type": "code",
   "execution_count": 19,
   "metadata": {},
   "outputs": [],
   "source": [
    ";; applies given procedure once\n",
    "(define one (lambda (f) (lambda (x) (f x))))"
   ]
  },
  {
   "cell_type": "markdown",
   "metadata": {},
   "source": [
    "Substitution to find definition of `two`:\n",
    "```scheme\n",
    "(add-1 one)\n",
    "(lambda (f) (lambda (x) (f ((one f) x))))\n",
    "(lambda (f) (lambda (x) (f ((lambda (x) (f x)) x))))\n",
    "(lambda (f) (lambda (x) (f (f x))))\n",
    "```"
   ]
  },
  {
   "cell_type": "code",
   "execution_count": 20,
   "metadata": {},
   "outputs": [],
   "source": [
    ";; applies given procedure twice\n",
    "(define two (lambda (f) (lambda (x) (f (f x)))))"
   ]
  },
  {
   "cell_type": "code",
   "execution_count": 24,
   "metadata": {},
   "outputs": [],
   "source": [
    ";; 'wrap' n in m function calls\n",
    "(define (church+ m n)\n",
    "  (lambda (f) (lambda (x) ((m f) ((n f) x)))))"
   ]
  },
  {
   "cell_type": "code",
   "execution_count": 38,
   "metadata": {},
   "outputs": [],
   "source": [
    ";; easy to see number of function applications with increment procedure\n",
    "(define (increment n)\n",
    "  (+ n 1))"
   ]
  },
  {
   "cell_type": "code",
   "execution_count": 39,
   "metadata": {},
   "outputs": [
    {
     "data": {
      "text/plain": [
       "0"
      ]
     },
     "execution_count": 39,
     "metadata": {},
     "output_type": "execute_result"
    }
   ],
   "source": [
    "((zero increment) 0)"
   ]
  },
  {
   "cell_type": "code",
   "execution_count": 40,
   "metadata": {},
   "outputs": [
    {
     "data": {
      "text/plain": [
       "1"
      ]
     },
     "execution_count": 40,
     "metadata": {},
     "output_type": "execute_result"
    }
   ],
   "source": [
    "((zero increment) 1)"
   ]
  },
  {
   "cell_type": "code",
   "execution_count": 41,
   "metadata": {},
   "outputs": [
    {
     "data": {
      "text/plain": [
       "2"
      ]
     },
     "execution_count": 41,
     "metadata": {},
     "output_type": "execute_result"
    }
   ],
   "source": [
    "((zero increment) 2)"
   ]
  },
  {
   "cell_type": "code",
   "execution_count": 42,
   "metadata": {},
   "outputs": [
    {
     "data": {
      "text/plain": [
       "1"
      ]
     },
     "execution_count": 42,
     "metadata": {},
     "output_type": "execute_result"
    }
   ],
   "source": [
    "((one increment) 0)"
   ]
  },
  {
   "cell_type": "code",
   "execution_count": 43,
   "metadata": {},
   "outputs": [
    {
     "data": {
      "text/plain": [
       "2"
      ]
     },
     "execution_count": 43,
     "metadata": {},
     "output_type": "execute_result"
    }
   ],
   "source": [
    "((one increment) 1)"
   ]
  },
  {
   "cell_type": "code",
   "execution_count": 44,
   "metadata": {},
   "outputs": [
    {
     "data": {
      "text/plain": [
       "3"
      ]
     },
     "execution_count": 44,
     "metadata": {},
     "output_type": "execute_result"
    }
   ],
   "source": [
    "((one increment) 2)"
   ]
  },
  {
   "cell_type": "code",
   "execution_count": 45,
   "metadata": {},
   "outputs": [
    {
     "data": {
      "text/plain": [
       "2"
      ]
     },
     "execution_count": 45,
     "metadata": {},
     "output_type": "execute_result"
    }
   ],
   "source": [
    "((two increment) 0)"
   ]
  },
  {
   "cell_type": "code",
   "execution_count": 46,
   "metadata": {},
   "outputs": [
    {
     "data": {
      "text/plain": [
       "3"
      ]
     },
     "execution_count": 46,
     "metadata": {},
     "output_type": "execute_result"
    }
   ],
   "source": [
    "((two increment) 1)"
   ]
  },
  {
   "cell_type": "code",
   "execution_count": 47,
   "metadata": {},
   "outputs": [
    {
     "data": {
      "text/plain": [
       "4"
      ]
     },
     "execution_count": 47,
     "metadata": {},
     "output_type": "execute_result"
    }
   ],
   "source": [
    "((two increment) 2)"
   ]
  },
  {
   "cell_type": "code",
   "execution_count": null,
   "metadata": {},
   "outputs": [],
   "source": [
    "(define three (church+ one two))\n",
    "\n",
    "((three increment) 0)"
   ]
  },
  {
   "cell_type": "markdown",
   "metadata": {},
   "source": [
    "## 2.7"
   ]
  },
  {
   "cell_type": "code",
   "execution_count": 1,
   "metadata": {},
   "outputs": [],
   "source": [
    ";; procedures given in question description\n",
    "(define (make-interval a b) (cons a b))\n",
    "\n",
    "(define (add-interval x y)\n",
    "  (make-interval (+ (lower-bound x)\n",
    "                    (lower-bound y))\n",
    "                 (+ (upper-bound x)\n",
    "                    (upper-bound y))))\n",
    "\n",
    ";; find minimum and maximum of products of the bounds\n",
    "(define (mul-interval x y)\n",
    "  (let ((p1 (* (lower-bound x)\n",
    "               (lower-bound y)))\n",
    "        (p2 (* (lower-bound x)\n",
    "               (upper-bound y)))\n",
    "        (p3 (* (upper-bound x)\n",
    "               (lower-bound y)))\n",
    "        (p4 (* (upper-bound x)\n",
    "               (upper-bound y))))\n",
    "    (make-interval (min p1 p2 p3 p4)\n",
    "                   (max p1 p2 p3 p4))))\n",
    "(define (div-interval x y)\n",
    "  (mul-interval x\n",
    "                (make-interval\n",
    "                 (/ 1.0 (upper-bound y))\n",
    "                 (/ 1.0 (lower-bound y)))))"
   ]
  },
  {
   "cell_type": "code",
   "execution_count": 2,
   "metadata": {},
   "outputs": [],
   "source": [
    "(define (lower-bound x) (min (car x) (cdr x)))\n",
    "(define (upper-bound x) (max (car x) (cdr x)))"
   ]
  },
  {
   "cell_type": "code",
   "execution_count": 3,
   "metadata": {},
   "outputs": [
    {
     "data": {
      "text/plain": [
       "10"
      ]
     },
     "execution_count": 3,
     "metadata": {},
     "output_type": "execute_result"
    }
   ],
   "source": [
    ";; test with a=lower, b=upper\n",
    "(define x (make-interval 10 20))\n",
    "\n",
    "(lower-bound x)"
   ]
  },
  {
   "cell_type": "code",
   "execution_count": 4,
   "metadata": {},
   "outputs": [
    {
     "data": {
      "text/plain": [
       "20"
      ]
     },
     "execution_count": 4,
     "metadata": {},
     "output_type": "execute_result"
    }
   ],
   "source": [
    "(upper-bound x)"
   ]
  },
  {
   "cell_type": "code",
   "execution_count": 5,
   "metadata": {},
   "outputs": [
    {
     "data": {
      "text/plain": [
       "10"
      ]
     },
     "execution_count": 5,
     "metadata": {},
     "output_type": "execute_result"
    }
   ],
   "source": [
    ";; test with a=upper, b=lower\n",
    "(define y (make-interval 20 10))\n",
    "\n",
    "(lower-bound y)"
   ]
  },
  {
   "cell_type": "code",
   "execution_count": 6,
   "metadata": {},
   "outputs": [
    {
     "data": {
      "text/plain": [
       "20"
      ]
     },
     "execution_count": 6,
     "metadata": {},
     "output_type": "execute_result"
    }
   ],
   "source": [
    "(upper-bound y)"
   ]
  },
  {
   "cell_type": "markdown",
   "metadata": {},
   "source": [
    "## 2.8\n",
    "Difference between intervals `x, y`:\n",
    "- Minimum = lower bound `x` subtract upper bound `y` \n",
    "- Maximum = upper bound `x` subtract lower bound `y`"
   ]
  },
  {
   "cell_type": "code",
   "execution_count": 7,
   "metadata": {},
   "outputs": [
    {
     "data": {
      "text/plain": [
       "(5 . 19)"
      ]
     },
     "execution_count": 7,
     "metadata": {},
     "output_type": "execute_result"
    }
   ],
   "source": [
    "(define (sub-interval x y)\n",
    "  (make-interval \n",
    "   (- (lower-bound x) (upper-bound y))\n",
    "   (- (upper-bound x) (lower-bound y))))\n",
    "\n",
    "(define x (make-interval 10 20))\n",
    "(define y (make-interval 1 5))\n",
    "(sub-interval x y)"
   ]
  },
  {
   "cell_type": "markdown",
   "metadata": {},
   "source": [
    "## 2.9\n",
    "\n",
    "`add-interval`:\n",
    "\n",
    "$[a,b]+[c,d]=[(a+c), (b+d)]$\n",
    "\n",
    "`width`:\n",
    "\n",
    "$width([a,b])=\\frac{b-a}{2}$\n",
    "\n",
    "`width` of `add-interval`:\n",
    "\n",
    "$width([a,b]+[c,d])=width([(a+c), (b+d)])$\n",
    "\n",
    "$=\\frac{(b+d)-(a+c)}{2}$\n",
    "\n",
    "sum of `width` of two intervals:\n",
    "\n",
    "$width([a,b]) + width([c,d])=\\frac{b-a}{2}+\\frac{d-c}{2}$\n",
    "\n",
    "$=\\frac{(b-a)+(d-c)}{2}$\n",
    "\n",
    "$=\\frac{(b+d)-(a+c)}{2}$\n",
    "\n",
    "`width` of `add-interval` is equal to the sum of `with` of the same two intervals. Therefore the width of the the sum of two intervals is a function only of the widthds of the intervals being added."
   ]
  },
  {
   "cell_type": "code",
   "execution_count": 8,
   "metadata": {},
   "outputs": [],
   "source": [
    "(define (width x)\n",
    "  (/ (- (upper-bound x) (lower-bound x)) 2))\n",
    "\n",
    "(define a (make-interval 10 20))\n",
    "(define b (make-interval 30 40))\n",
    "(define c (make-interval 1 3))"
   ]
  },
  {
   "cell_type": "code",
   "execution_count": 9,
   "metadata": {},
   "outputs": [
    {
     "data": {
      "text/plain": [
       "5"
      ]
     },
     "execution_count": 9,
     "metadata": {},
     "output_type": "execute_result"
    }
   ],
   "source": [
    "(width a)"
   ]
  },
  {
   "cell_type": "code",
   "execution_count": 10,
   "metadata": {},
   "outputs": [
    {
     "data": {
      "text/plain": [
       "5"
      ]
     },
     "execution_count": 10,
     "metadata": {},
     "output_type": "execute_result"
    }
   ],
   "source": [
    "(width b)"
   ]
  },
  {
   "cell_type": "code",
   "execution_count": 11,
   "metadata": {},
   "outputs": [
    {
     "data": {
      "text/plain": [
       "1"
      ]
     },
     "execution_count": 11,
     "metadata": {},
     "output_type": "execute_result"
    }
   ],
   "source": [
    "(width c)"
   ]
  },
  {
   "cell_type": "code",
   "execution_count": 12,
   "metadata": {},
   "outputs": [
    {
     "data": {
      "text/plain": [
       "10"
      ]
     },
     "execution_count": 12,
     "metadata": {},
     "output_type": "execute_result"
    }
   ],
   "source": [
    "(width (add-interval a b))"
   ]
  },
  {
   "cell_type": "markdown",
   "metadata": {},
   "source": [
    "Intervals `a` and `b` have the same width. Multiplying each of them by `c` gives produce intervals with different widths. Therefore the product of two intervals has a width that is not a function solely of the widths of said intervals."
   ]
  },
  {
   "cell_type": "code",
   "execution_count": 13,
   "metadata": {},
   "outputs": [
    {
     "data": {
      "text/plain": [
       "25"
      ]
     },
     "execution_count": 13,
     "metadata": {},
     "output_type": "execute_result"
    }
   ],
   "source": [
    "(width (mul-interval a c))"
   ]
  },
  {
   "cell_type": "code",
   "execution_count": 14,
   "metadata": {},
   "outputs": [
    {
     "data": {
      "text/plain": [
       "45"
      ]
     },
     "execution_count": 14,
     "metadata": {},
     "output_type": "execute_result"
    }
   ],
   "source": [
    "(width (mul-interval b c))"
   ]
  },
  {
   "cell_type": "markdown",
   "metadata": {},
   "source": [
    "## 2.10"
   ]
  },
  {
   "cell_type": "code",
   "execution_count": 15,
   "metadata": {},
   "outputs": [
    {
     "name": "stderr",
     "output_type": "stream",
     "text": [
      "\u001b[0;31m\n",
      "Traceback (most recent call last):\n",
      "  File \"In [15]\", line 14, col 1, in 'div-interval'\n",
      "  File \"In [15]\", line 8, col 7, in 'error'\n",
      "  File \"In [15]\", line 8, col 7\n",
      "RunTimeError: Error in 'div-interval': Cannot divide by interval with span 0\n",
      "\n",
      "\u001b[0m"
     ]
    }
   ],
   "source": [
    "(define (zero-span? x)\n",
    "  (and (<= (lower-bound x) 0)\n",
    "       (>= (upper-bound x) 0)))\n",
    "\n",
    ";; throws an error if divide by 0\n",
    "(define (div-interval x y)\n",
    "  (if (zero-span? y)\n",
    "      (error \"div-interval\" \"Cannot divide by interval with span 0\")\n",
    "      (mul-interval x\n",
    "                (make-interval\n",
    "                 (/ 1.0 (upper-bound y))\n",
    "                 (/ 1.0 (lower-bound y))))))\n",
    "\n",
    "(div-interval (make-interval 10 20) (make-interval -1 1))"
   ]
  },
  {
   "cell_type": "markdown",
   "metadata": {},
   "source": [
    "## 2.11\n",
    "`(mul-interval x y)` produces an interval where the lower bound is the minimum product of `x` and `y`'s bounds  and the upper bound is the maximum product of `x` and `y`'s bounds.\n",
    "\n",
    "Upper and lower bounds of an interval can be both positive, both negative or negative lower with positive upper i.e. `[+,+]`, `[-,-]` or `[-,+]`\n",
    "- Can't have positive lower and negative upper as the lower bound would be less than the upper bound\n",
    "\n",
    "For `mul-interval` this gives the combinations:\n",
    "```\n",
    "[+,+] * [+,+]\n",
    "[+,+] * [-,-]\n",
    "[+,+] * [-,+]\n",
    "\n",
    "[-,-] * [-,-]\n",
    "[-,-] * [+,+]\n",
    "[-,-] * [-,+]\n",
    "\n",
    "[-,+] * [-,+]\n",
    "[-,+] * [+,+]\n",
    "[-,+] * [-,-]\n",
    "```\n",
    "\n",
    "More than 2 multiplications are required for the case `[-,+] * [-,+]` as the product of the two negative lower bounds could be larger than that of the upper bounds.\n",
    "\n",
    "In all other cases only two multiplications are required as there is only one combination of products that can produce the correct result\n",
    "- e.g. `[+,+] * [+,+]` -> multiply two upper bounds and multiply two lower bounds."
   ]
  },
  {
   "cell_type": "code",
   "execution_count": 16,
   "metadata": {},
   "outputs": [],
   "source": [
    "(define (pos? x) (>= x 0))\n",
    "(define (neg? x ) (<= x 0))\n",
    "\n",
    "(define (mul-interval x y)\n",
    "  (let ((lx (lower-bound x))\n",
    "        (ux (upper-bound x))\n",
    "        (ly (lower-bound y))\n",
    "        (uy (upper-bound y)))\n",
    "    (cond ((and (pos? lx)\n",
    "                (pos? ux)\n",
    "                (pos? ly)\n",
    "                (pos? uy))\n",
    "           ;; [+, +] * [+, +]\n",
    "           (make-interval (* lx ly) (* ux uy)))\n",
    "          ((and (pos? lx)\n",
    "                (pos? ux)\n",
    "                (neg? ly)\n",
    "                (pos? uy))\n",
    "           ;; [+, +] * [-, +]\n",
    "           (make-interval (* ux lx) (* ux uy)))\n",
    "          ((and (pos? lx)\n",
    "                (pos? ux)\n",
    "                (neg? ly)\n",
    "                (neg? uy))\n",
    "           ;; [+, +] * [-, -]\n",
    "           (make-interval (* ux lx) (* lx uy)))\n",
    "          ((and (neg? lx)\n",
    "                (pos? ux)\n",
    "                (pos? ly)\n",
    "                (pos? uy))\n",
    "           ;; [-, +] * [+, +]\n",
    "           (make-interval (* lx uy) (* ux uy)))\n",
    "          ((and (neg? lx)\n",
    "                (pos? ux)\n",
    "                (neg? ly)\n",
    "                (pos? uy))\n",
    "           ;; [-, +] * [-, +]\n",
    "           (make-interval (min (* ux ly) (* lx uy))\n",
    "                          (max (* lx ly) (* ux uy))))\n",
    "          ((and (neg? lx)\n",
    "                (pos? ux)\n",
    "                (neg? ly)\n",
    "                (neg? uy))\n",
    "           ;; [-, +] * [-, -]\n",
    "           (make-interval (* ux ly) (* lx ly)))\n",
    "          ((and (neg? lx)\n",
    "                (neg? ux)\n",
    "                (pos? ly)\n",
    "                (pos? uy))\n",
    "           ;; [-, -] * [+, +]\n",
    "           (make-interval (* lx ux) (* ux ly)))\n",
    "          ((and (neg? lx)\n",
    "                (neg? ux)\n",
    "                (neg? ly)\n",
    "                (pos? uy))\n",
    "           ;; [-, -] * [-, +]\n",
    "           (make-interval (* lx ux) (* lx ly)))\n",
    "          ((and (neg? lx)\n",
    "                (neg? ux)\n",
    "                (neg? ly)\n",
    "                (neg? uy))\n",
    "           ;; [-, -] * [-, -]\n",
    "           (make-interval (* ux uy) (* lx ly))))))"
   ]
  },
  {
   "cell_type": "code",
   "execution_count": 17,
   "metadata": {},
   "outputs": [],
   "source": [
    "(define a (make-interval 1 2))\n",
    "(define b (make-interval -1 2))\n",
    "(define c (make-interval -1 -2))"
   ]
  },
  {
   "cell_type": "code",
   "execution_count": 18,
   "metadata": {},
   "outputs": [
    {
     "data": {
      "text/plain": [
       "(1 . 4)"
      ]
     },
     "execution_count": 18,
     "metadata": {},
     "output_type": "execute_result"
    }
   ],
   "source": [
    "(mul-interval a a)"
   ]
  },
  {
   "cell_type": "code",
   "execution_count": 19,
   "metadata": {},
   "outputs": [
    {
     "data": {
      "text/plain": [
       "(2 . 4)"
      ]
     },
     "execution_count": 19,
     "metadata": {},
     "output_type": "execute_result"
    }
   ],
   "source": [
    "(mul-interval a b)"
   ]
  },
  {
   "cell_type": "code",
   "execution_count": 20,
   "metadata": {},
   "outputs": [
    {
     "data": {
      "text/plain": [
       "(2 . -1)"
      ]
     },
     "execution_count": 20,
     "metadata": {},
     "output_type": "execute_result"
    }
   ],
   "source": [
    "(mul-interval a c)"
   ]
  },
  {
   "cell_type": "code",
   "execution_count": 21,
   "metadata": {},
   "outputs": [
    {
     "data": {
      "text/plain": [
       "(-2 . 4)"
      ]
     },
     "execution_count": 21,
     "metadata": {},
     "output_type": "execute_result"
    }
   ],
   "source": [
    "(mul-interval b a)"
   ]
  },
  {
   "cell_type": "code",
   "execution_count": 22,
   "metadata": {},
   "outputs": [
    {
     "data": {
      "text/plain": [
       "(-2 . 4)"
      ]
     },
     "execution_count": 22,
     "metadata": {},
     "output_type": "execute_result"
    }
   ],
   "source": [
    "(mul-interval b b)"
   ]
  },
  {
   "cell_type": "code",
   "execution_count": 23,
   "metadata": {},
   "outputs": [
    {
     "data": {
      "text/plain": [
       "(-4 . 2)"
      ]
     },
     "execution_count": 23,
     "metadata": {},
     "output_type": "execute_result"
    }
   ],
   "source": [
    "(mul-interval b c)"
   ]
  },
  {
   "cell_type": "code",
   "execution_count": 24,
   "metadata": {},
   "outputs": [
    {
     "data": {
      "text/plain": [
       "(2 . -1)"
      ]
     },
     "execution_count": 24,
     "metadata": {},
     "output_type": "execute_result"
    }
   ],
   "source": [
    "(mul-interval c a)"
   ]
  },
  {
   "cell_type": "code",
   "execution_count": 25,
   "metadata": {},
   "outputs": [
    {
     "data": {
      "text/plain": [
       "(2 . 2)"
      ]
     },
     "execution_count": 25,
     "metadata": {},
     "output_type": "execute_result"
    }
   ],
   "source": [
    "(mul-interval c b)"
   ]
  },
  {
   "cell_type": "code",
   "execution_count": 65,
   "metadata": {},
   "outputs": [
    {
     "data": {
      "text/plain": [
       "(1 . 4)"
      ]
     },
     "execution_count": 65,
     "metadata": {},
     "output_type": "execute_result"
    }
   ],
   "source": [
    "(mul-interval c c)"
   ]
  },
  {
   "cell_type": "markdown",
   "metadata": {},
   "source": [
    "## 2.12"
   ]
  },
  {
   "cell_type": "code",
   "execution_count": 27,
   "metadata": {},
   "outputs": [],
   "source": [
    ";; definitions given in question\n",
    "(define (make-center-width c w)\n",
    "  (make-interval (- c w) (+ c w)))\n",
    "\n",
    "(define (center i)\n",
    "  (/ (+ (lower-bound i)\n",
    "        (upper-bound i))\n",
    "     2))\n",
    "\n",
    "(define (width i)\n",
    "  (/ (- (upper-bound i)\n",
    "        (lower-bound i))\n",
    "     2))"
   ]
  },
  {
   "cell_type": "code",
   "execution_count": 62,
   "metadata": {},
   "outputs": [],
   "source": [
    ";; using make-interval directly\n",
    "(define (make-center-percent c tolerance)\n",
    "  (let ((unc (* (/ c 100) tolerance)))\n",
    "    (make-interval (- c unc) (+ c unc))))\n",
    "\n",
    ";; using provided make-center-width\n",
    "(define (make-center-percent c tolerance)\n",
    "  (make-center-width c (* (/ c 100) tolerance)))\n",
    "\n",
    "(define (percent i)\n",
    "  (* (/ (width i) (center i)) 100.0))"
   ]
  },
  {
   "cell_type": "code",
   "execution_count": 63,
   "metadata": {},
   "outputs": [
    {
     "data": {
      "text/plain": [
       "(15/2 . 25/2)"
      ]
     },
     "execution_count": 63,
     "metadata": {},
     "output_type": "execute_result"
    }
   ],
   "source": [
    "(define i (make-center-percent 10 25))\n",
    "i"
   ]
  },
  {
   "cell_type": "code",
   "execution_count": 64,
   "metadata": {},
   "outputs": [
    {
     "data": {
      "text/plain": [
       "10"
      ]
     },
     "execution_count": 64,
     "metadata": {},
     "output_type": "execute_result"
    }
   ],
   "source": [
    "(center i)"
   ]
  },
  {
   "cell_type": "code",
   "execution_count": 65,
   "metadata": {},
   "outputs": [
    {
     "data": {
      "text/plain": [
       "25.0"
      ]
     },
     "execution_count": 65,
     "metadata": {},
     "output_type": "execute_result"
    }
   ],
   "source": [
    "(percent i)"
   ]
  },
  {
   "cell_type": "markdown",
   "metadata": {},
   "source": [
    "## 2.13\n",
    "\n",
    "Interval multiplication:\n",
    "\n",
    "$[a,b]\\cdot[c,d] = [\\min(ac,ad,bc,bd), \\max(ac,ad,bc,bd)]$\n",
    "\n",
    "Assuming all values are positive:\n",
    "\n",
    "$[a,b]\\cdot[c,d] = [ac, bd]$\n",
    "\n",
    "Interval represented by its center $c_i$ and tolerance percentage $p_i$ :\n",
    "\n",
    "$i = [c_i-\\frac{c_i\\cdot p_i}{100},c_i+\\frac{c_i\\cdot p_i}{100}]$\n",
    "\n",
    "$= [c_i\\frac{1-p_i}{100},c_i\\frac{1+p_i}{100}]$\n",
    "\n",
    "Multiplying two intervals $i,j$:\n",
    "\n",
    "$ij=[c_i\\frac{1-p_i}{100},c_i\\frac{1+p_i}{100}]\\cdot[c_j\\frac{1-p_j}{100},c_j\\frac{1+p_j}{100}]$\n",
    "\n",
    "$=[c_i\\frac{1-p_i}{100}\\cdot c_j\\frac{1-p_j}{100}, c_i\\frac{1+p_i}{100}\\cdot c_j\\frac{1+p_j}{100}]$\n",
    "\n",
    "$=[c_ic_j(1-\\frac{p_i+p_j}{100}+\\frac{p_ip_j}{10000}), c_ic_j(1+\\frac{p_i+p_j}{100}+\\frac{p_ip_j}{10000})]$\n",
    "\n",
    "Percentage tolerances are small ->$\\frac{p_ip_j}{10000}$ terms will be small -> approximate as:\n",
    "\n",
    "$ij=[c_ic_j(1-\\frac{p_i+p_j}{100}), c_ic_j(1+\\frac{p_i+p_j}{100})]$\n",
    "\n",
    "Percentage tolerance of the product = $p_i+p_j$\n",
    "- **sum of the tolerances of the two intervals**"
   ]
  },
  {
   "cell_type": "code",
   "execution_count": 67,
   "metadata": {},
   "outputs": [
    {
     "data": {
      "text/plain": [
       "2.9994001199760048"
      ]
     },
     "execution_count": 67,
     "metadata": {},
     "output_type": "execute_result"
    }
   ],
   "source": [
    ";; test with small tolerances\n",
    "(define i (make-center-percent 100 2))\n",
    "(define j (make-center-percent 80 1))\n",
    "\n",
    "(define ij (mul-interval i j))\n",
    ";; approximately 2+1=3\n",
    "(percent ij)"
   ]
  },
  {
   "cell_type": "markdown",
   "metadata": {},
   "source": [
    "## 2.14"
   ]
  },
  {
   "cell_type": "code",
   "execution_count": 68,
   "metadata": {},
   "outputs": [],
   "source": [
    ";; procedures from question\n",
    "(define (par1 r1 r2)\n",
    "  (div-interval\n",
    "   (mul-interval r1 r2)\n",
    "   (add-interval r1 r2)))\n",
    "\n",
    "(define (par2 r1 r2)\n",
    "  (let ((one (make-interval 1 1)))\n",
    "    (div-interval\n",
    "     one\n",
    "     (add-interval \n",
    "      (div-interval one r1)\n",
    "      (div-interval one r2)))))"
   ]
  },
  {
   "cell_type": "code",
   "execution_count": 85,
   "metadata": {},
   "outputs": [
    {
     "data": {
      "text/plain": [
       "(61.928338762214985 . 71.71331058020478)"
      ]
     },
     "execution_count": 85,
     "metadata": {},
     "output_type": "execute_result"
    }
   ],
   "source": [
    ";; demonstrate different results between par1 and par2\n",
    "(define A (make-center-percent 100 3))\n",
    "(define B (make-center-percent 200 2))\n",
    "\n",
    "(par1 A B)"
   ]
  },
  {
   "cell_type": "code",
   "execution_count": 86,
   "metadata": {},
   "outputs": [
    {
     "data": {
      "text/plain": [
       "(64.88737201365187 . 68.44299674267101)"
      ]
     },
     "execution_count": 86,
     "metadata": {},
     "output_type": "execute_result"
    }
   ],
   "source": [
    "(par2 A B)"
   ]
  },
  {
   "cell_type": "code",
   "execution_count": 87,
   "metadata": {},
   "outputs": [
    {
     "data": {
      "text/plain": [
       "1.0018016214593133"
      ]
     },
     "execution_count": 87,
     "metadata": {},
     "output_type": "execute_result"
    }
   ],
   "source": [
    ";; investigate behaviour with arithmetic expressions\n",
    "(define A/A (div-interval A A))\n",
    "(define A/B (div-interval A B))\n",
    "\n",
    "(center A/A)"
   ]
  },
  {
   "cell_type": "code",
   "execution_count": 88,
   "metadata": {},
   "outputs": [
    {
     "data": {
      "text/plain": [
       "5.994604855629938"
      ]
     },
     "execution_count": 88,
     "metadata": {},
     "output_type": "execute_result"
    }
   ],
   "source": [
    "(percent A/A)"
   ]
  },
  {
   "cell_type": "code",
   "execution_count": 89,
   "metadata": {},
   "outputs": [
    {
     "data": {
      "text/plain": [
       "0.500500200080032"
      ]
     },
     "execution_count": 89,
     "metadata": {},
     "output_type": "execute_result"
    }
   ],
   "source": [
    "(center A/B)"
   ]
  },
  {
   "cell_type": "code",
   "execution_count": 90,
   "metadata": {},
   "outputs": [
    {
     "data": {
      "text/plain": [
       "4.997001798920647"
      ]
     },
     "execution_count": 90,
     "metadata": {},
     "output_type": "execute_result"
    }
   ],
   "source": [
    "(percent A/B)"
   ]
  },
  {
   "cell_type": "markdown",
   "metadata": {},
   "source": [
    "The expected center of dividing an interval by itself is 1, however in the investigation above, `(center A/A)` returns `1.0018016214593133` - an approximation to 1."
   ]
  },
  {
   "cell_type": "markdown",
   "metadata": {},
   "source": [
    "## 2.15\n",
    "The question states that `par1` and `par2` use two different but algebraically equivalent formulae:\n",
    "- `par1` uses the formula $\\frac{R_1R_2}{R_1+R_2}$\n",
    "- `par2` uses the formula $\\frac{1}{\\frac{1}{R_1}+\\frac{1}{R_2}}$\n",
    "\n",
    "Proof of algrebraic equivalence:\n",
    "\n",
    "Multiply by $\\frac{R_1}{R_1}$ and $\\frac{R_2}{R_2}$. These are both equivalent to 1 and so the formula is still valid:\n",
    "\n",
    "$\\frac{1}{\\frac{1}{R_1}+\\frac{1}{R_2}}=\\frac{R_1}{R_1}\\frac{R_2}{R_2}\\frac{R_1R_2}{R_1+R_2}$\n",
    "\n",
    "$=\\frac{R_1R_2}{R_1R_2(\\frac{1}{R_1}+\\frac{1}{R_2})}$\n",
    "\n",
    "$=\\frac{R_1R_2}{\\frac{R_1R_2}{R_1}+\\frac{R_1R_2}{R_2}}$\n",
    "\n",
    "$=\\frac{R_1R_2}{R_1+R_2}$\n",
    "\n",
    "The transformation assumes that $\\frac{R_1}{R_1}$ and $\\frac{R_2}{R_2}$ equal 1. However it was shown in question 2.14 that dividing an interval by itself will produce a result with a center that is an **approximation** to 1 - introducing the descrepancy between `par1` and `par2`. Therefore, tighter error bounds will be achieved by avoiding repetition of variables that represent uncertain numbers - **Eva Lu Ator is correct**."
   ]
  },
  {
   "cell_type": "markdown",
   "metadata": {},
   "source": [
    "## 2.17"
   ]
  },
  {
   "cell_type": "code",
   "execution_count": 1,
   "metadata": {},
   "outputs": [],
   "source": [
    "(define (last-pair l)\n",
    "  (if (null? (cdr l))\n",
    "      l\n",
    "      (last-pair (cdr l))))"
   ]
  },
  {
   "cell_type": "code",
   "execution_count": 2,
   "metadata": {},
   "outputs": [
    {
     "data": {
      "text/plain": [
       "(34)"
      ]
     },
     "execution_count": 2,
     "metadata": {},
     "output_type": "execute_result"
    }
   ],
   "source": [
    "(last-pair (list 23 72 149 34))"
   ]
  },
  {
   "cell_type": "markdown",
   "metadata": {},
   "source": [
    "## 2.18"
   ]
  },
  {
   "cell_type": "code",
   "execution_count": 79,
   "metadata": {},
   "outputs": [
    {
     "data": {
      "text/plain": [
       "(25 16 9 4 1)"
      ]
     },
     "execution_count": 79,
     "metadata": {},
     "output_type": "execute_result"
    }
   ],
   "source": [
    ";; given in question\n",
    "(define (append list1 list2)\n",
    "  (if (null? list1)\n",
    "      list2\n",
    "      (cons (car list1)\n",
    "            (append (cdr list1)\n",
    "                    list2))))\n",
    "\n",
    ";; reverse by appending car of a list to the reverse of cdr of the list\n",
    "(define (reverse l)\n",
    "  (if (null? l)\n",
    "      l\n",
    "      (append (reverse (cdr l)) (list (car l)))))\n",
    "\n",
    "(reverse (list 1 4 9 16 25))"
   ]
  },
  {
   "cell_type": "markdown",
   "metadata": {},
   "source": [
    "## 2.19"
   ]
  },
  {
   "cell_type": "code",
   "execution_count": 3,
   "metadata": {},
   "outputs": [],
   "source": [
    ";; given in question\n",
    "(define us-coins \n",
    "  (list 50 25 10 5 1))\n",
    "\n",
    "(define (cc amount coin-values)\n",
    "  (cond ((= amount 0)\n",
    "         1)\n",
    "        ((or (< amount 0)\n",
    "             (no-more? coin-values))\n",
    "         0)\n",
    "        (else\n",
    "         (+ (cc\n",
    "             amount\n",
    "             (except-first-denomination\n",
    "              coin-values))\n",
    "            (cc\n",
    "             (- amount\n",
    "                (first-denomination\n",
    "                 coin-values))\n",
    "             coin-values)))))\n",
    "\n",
    "(define (first-denomination coin-values)\n",
    "  (car coin-values))\n",
    "\n",
    "(define (except-first-denomination coin-values)\n",
    "  (cdr coin-values))\n",
    "\n",
    "(define (no-more? coin-values)\n",
    "  (null? coin-values))"
   ]
  },
  {
   "cell_type": "code",
   "execution_count": 27,
   "metadata": {},
   "outputs": [
    {
     "data": {
      "text/plain": [
       "292"
      ]
     },
     "execution_count": 27,
     "metadata": {},
     "output_type": "execute_result"
    }
   ],
   "source": [
    "(cc 100 us-coins)"
   ]
  },
  {
   "cell_type": "markdown",
   "metadata": {},
   "source": [
    "##### The order of the list `coin-values` will **not effect** the answer produced by `cc`\n",
    "- Each sub-list of `coin-values` is evaluated recursively after subtracting the value of the first coin from the amount\n",
    "- All possible combinations are computed regardless of the order of `coin-values`"
   ]
  },
  {
   "cell_type": "code",
   "execution_count": 4,
   "metadata": {},
   "outputs": [
    {
     "data": {
      "text/plain": [
       "292"
      ]
     },
     "execution_count": 4,
     "metadata": {},
     "output_type": "execute_result"
    }
   ],
   "source": [
    "(cc 100 (reverse us-coins))"
   ]
  },
  {
   "cell_type": "code",
   "execution_count": 6,
   "metadata": {},
   "outputs": [
    {
     "data": {
      "text/plain": [
       "292"
      ]
     },
     "execution_count": 6,
     "metadata": {},
     "output_type": "execute_result"
    }
   ],
   "source": [
    "(define us-coins-shuffled (list 25 5 50 1 10))\n",
    "(cc 100 us-coins-shuffled)"
   ]
  },
  {
   "cell_type": "markdown",
   "metadata": {},
   "source": [
    "## 2.20"
   ]
  },
  {
   "cell_type": "code",
   "execution_count": 21,
   "metadata": {},
   "outputs": [],
   "source": [
    ";; check parity of first element x\n",
    ";; filter list using function that determines if input is that parity\n",
    "(define (same-parity x . y)\n",
    "  (define (iter z filter)\n",
    "    (cond ((null? z) z)\n",
    "          ((filter (car z))\n",
    "            ;; parity matches append first item, check next\n",
    "           (cons (car z) (iter (cdr z) filter)))\n",
    "          ;; parity mismatch, check next\n",
    "          (else (iter (cdr z) filter))))\n",
    "  (iter (cons x y) (if (even? x) even? odd?)))"
   ]
  },
  {
   "cell_type": "code",
   "execution_count": 22,
   "metadata": {},
   "outputs": [
    {
     "data": {
      "text/plain": [
       "(1 3 5 7)"
      ]
     },
     "execution_count": 22,
     "metadata": {},
     "output_type": "execute_result"
    }
   ],
   "source": [
    "(same-parity 1 2 3 4 5 6 7)"
   ]
  },
  {
   "cell_type": "code",
   "execution_count": 23,
   "metadata": {},
   "outputs": [
    {
     "data": {
      "text/plain": [
       "(2 4 6)"
      ]
     },
     "execution_count": 23,
     "metadata": {},
     "output_type": "execute_result"
    }
   ],
   "source": [
    "(same-parity 2 3 4 5 6 7)"
   ]
  },
  {
   "cell_type": "markdown",
   "metadata": {},
   "source": [
    "## 2.21"
   ]
  },
  {
   "cell_type": "code",
   "execution_count": 22,
   "metadata": {},
   "outputs": [
    {
     "data": {
      "text/plain": [
       "(1 4 9 16)"
      ]
     },
     "execution_count": 22,
     "metadata": {},
     "output_type": "execute_result"
    }
   ],
   "source": [
    "(define (map proc items)\n",
    "  (if (null? items)\n",
    "      items\n",
    "      (cons (proc (car items))\n",
    "            (map proc (cdr items)))))\n",
    "\n",
    "(define (square-list items)\n",
    "  (if (null? items)\n",
    "      items\n",
    "      (cons (* (car items) (car items)) \n",
    "            (square-list (cdr items)))))\n",
    "\n",
    "(square-list (list 1 2 3 4))"
   ]
  },
  {
   "cell_type": "code",
   "execution_count": 23,
   "metadata": {},
   "outputs": [],
   "source": [
    "(define (square-list items)\n",
    "  (map (lambda (x) (* x x)) items))"
   ]
  },
  {
   "cell_type": "code",
   "execution_count": 24,
   "metadata": {},
   "outputs": [
    {
     "data": {
      "text/plain": [
       "(1 4 9 16)"
      ]
     },
     "execution_count": 24,
     "metadata": {},
     "output_type": "execute_result"
    }
   ],
   "source": [
    "(square-list (list 1 2 3 4))"
   ]
  },
  {
   "cell_type": "markdown",
   "metadata": {},
   "source": [
    "## 2.22"
   ]
  },
  {
   "cell_type": "code",
   "execution_count": 38,
   "metadata": {},
   "outputs": [
    {
     "data": {
      "text/plain": [
       "(16 9 4 1)"
      ]
     },
     "execution_count": 38,
     "metadata": {},
     "output_type": "execute_result"
    }
   ],
   "source": [
    "(define (square x) (* x x))\n",
    "\n",
    ";; Result list is reversed\n",
    "(define (square-list items)\n",
    "  (define (iter things answer)\n",
    "    (if (null? things)\n",
    "        answer\n",
    "        (iter (cdr things)\n",
    "              ;; square item from front of input list and append to \n",
    "              ;; front of answer list\n",
    "              (cons (square (car things))\n",
    "                    answer))))\n",
    "  ;; start with empty list due to implementation details of nil value\n",
    "  (iter items (list)))\n",
    "\n",
    "(square-list (list 1 2 3 4))"
   ]
  },
  {
   "cell_type": "markdown",
   "metadata": {},
   "source": [
    "On each iteration, an item is taken from the front of the original list, is squared and then appends the result to the *front* of the answer list. The last item to be squared from the original list will therfore end up as the first item in the answer list "
   ]
  },
  {
   "cell_type": "code",
   "execution_count": 39,
   "metadata": {},
   "outputs": [
    {
     "data": {
      "text/plain": [
       "((((() . 1) . 4) . 9) . 16)"
      ]
     },
     "execution_count": 39,
     "metadata": {},
     "output_type": "execute_result"
    }
   ],
   "source": [
    "(define (square-list items)\n",
    "  (define (iter things answer)\n",
    "    (if (null? things)\n",
    "        answer\n",
    "        (iter (cdr things)\n",
    "              ;; pass list as first arg to cons\n",
    "              (cons answer \n",
    "                    (square\n",
    "                     (car things))))))\n",
    "  (iter items (list)))\n",
    "\n",
    "(square-list (list 1 2 3 4))"
   ]
  },
  {
   "cell_type": "markdown",
   "metadata": {},
   "source": [
    "Flipping the order of arguments to `cons` creates a pair containing the answer list and the next squared integer. It does *not* append the integer onto the list. Each iteration combines the list from the previous step with the next integer result and wraps it in a new list."
   ]
  },
  {
   "cell_type": "markdown",
   "metadata": {},
   "source": [
    "## 2.23"
   ]
  },
  {
   "cell_type": "code",
   "execution_count": 44,
   "metadata": {},
   "outputs": [
    {
     "name": "stdout",
     "output_type": "stream",
     "text": [
      "\n",
      "1\n",
      "2\n",
      "3\n",
      "4"
     ]
    },
    {
     "data": {
      "text/plain": [
       "#t"
      ]
     },
     "execution_count": 44,
     "metadata": {},
     "output_type": "execute_result"
    }
   ],
   "source": [
    "(define (for-each proc items)\n",
    "  (cond ((null? items)\n",
    "         #t)\n",
    "        (else (proc (car items))\n",
    "              (for-each proc (cdr items)))))\n",
    "\n",
    "(for-each \n",
    " (lambda (x) (newline) (display x))\n",
    " (list 1 2 3 4))"
   ]
  },
  {
   "cell_type": "markdown",
   "metadata": {},
   "source": [
    "## 2.24 TODO - ADD DIAGRAMS"
   ]
  },
  {
   "cell_type": "code",
   "execution_count": 45,
   "metadata": {},
   "outputs": [
    {
     "data": {
      "text/plain": [
       "(1 (2 (3 4)))"
      ]
     },
     "execution_count": 45,
     "metadata": {},
     "output_type": "execute_result"
    }
   ],
   "source": [
    "(list 1 (list 2 (list 3 4)))"
   ]
  },
  {
   "cell_type": "markdown",
   "metadata": {},
   "source": [
    "## 2.25"
   ]
  },
  {
   "cell_type": "code",
   "execution_count": 47,
   "metadata": {},
   "outputs": [
    {
     "data": {
      "text/plain": [
       "(1 3 (5 7) 9)"
      ]
     },
     "execution_count": 47,
     "metadata": {},
     "output_type": "execute_result"
    }
   ],
   "source": [
    "(define a (list 1 3 (list 5 7) 9))\n",
    "a"
   ]
  },
  {
   "cell_type": "code",
   "execution_count": 57,
   "metadata": {},
   "outputs": [
    {
     "data": {
      "text/plain": [
       "7"
      ]
     },
     "execution_count": 57,
     "metadata": {},
     "output_type": "execute_result"
    }
   ],
   "source": [
    "(car (cdr (car (cdr (cdr a)))))"
   ]
  },
  {
   "cell_type": "code",
   "execution_count": 48,
   "metadata": {},
   "outputs": [
    {
     "data": {
      "text/plain": [
       "((7))"
      ]
     },
     "execution_count": 48,
     "metadata": {},
     "output_type": "execute_result"
    }
   ],
   "source": [
    "(define b (list (list 7)))\n",
    "b"
   ]
  },
  {
   "cell_type": "code",
   "execution_count": 56,
   "metadata": {},
   "outputs": [
    {
     "data": {
      "text/plain": [
       "7"
      ]
     },
     "execution_count": 56,
     "metadata": {},
     "output_type": "execute_result"
    }
   ],
   "source": [
    "(car (car b))"
   ]
  },
  {
   "cell_type": "code",
   "execution_count": 49,
   "metadata": {},
   "outputs": [
    {
     "data": {
      "text/plain": [
       "(1 (2 (3 (4 (5 (6 7))))))"
      ]
     },
     "execution_count": 49,
     "metadata": {},
     "output_type": "execute_result"
    }
   ],
   "source": [
    "(define c (list 1 (list 2 (list 3 (list 4 (list 5 (list 6 7)))))))\n",
    "c"
   ]
  },
  {
   "cell_type": "code",
   "execution_count": 72,
   "metadata": {},
   "outputs": [
    {
     "data": {
      "text/plain": [
       "(7)"
      ]
     },
     "execution_count": 72,
     "metadata": {},
     "output_type": "execute_result"
    }
   ],
   "source": [
    "(cdr (car (cdr (car (cdr (car (cdr (car (cdr (car (cdr c)))))))))))"
   ]
  },
  {
   "cell_type": "markdown",
   "metadata": {},
   "source": [
    "## 2.26"
   ]
  },
  {
   "cell_type": "code",
   "execution_count": 73,
   "metadata": {},
   "outputs": [],
   "source": [
    "(define x (list 1 2 3))\n",
    "(define y (list 4 5 6))"
   ]
  },
  {
   "cell_type": "code",
   "execution_count": 76,
   "metadata": {},
   "outputs": [
    {
     "data": {
      "text/plain": [
       "(1 2 3 4 5 6)"
      ]
     },
     "execution_count": 76,
     "metadata": {},
     "output_type": "execute_result"
    }
   ],
   "source": [
    "(append x y)"
   ]
  },
  {
   "cell_type": "code",
   "execution_count": 77,
   "metadata": {},
   "outputs": [
    {
     "data": {
      "text/plain": [
       "((1 2 3) 4 5 6)"
      ]
     },
     "execution_count": 77,
     "metadata": {},
     "output_type": "execute_result"
    }
   ],
   "source": [
    "(cons x y)"
   ]
  },
  {
   "cell_type": "code",
   "execution_count": 78,
   "metadata": {},
   "outputs": [
    {
     "data": {
      "text/plain": [
       "((1 2 3) (4 5 6))"
      ]
     },
     "execution_count": 78,
     "metadata": {},
     "output_type": "execute_result"
    }
   ],
   "source": [
    "(list x y)"
   ]
  },
  {
   "cell_type": "markdown",
   "metadata": {},
   "source": [
    "## 2.27"
   ]
  },
  {
   "cell_type": "code",
   "execution_count": 83,
   "metadata": {},
   "outputs": [],
   "source": [
    ";; from 2.18\n",
    "(define (reverse l)\n",
    "  (if (null? l)\n",
    "      l\n",
    "      (append (reverse (cdr l)) (list (car l)))))\n",
    "\n",
    "(define (deep-reverse l)\n",
    "  (cond ((null? l) (list))\n",
    "        ((pair? (car l))\n",
    "         (append (deep-reverse (cdr l))\n",
    "                 (list (deep-reverse (car l)))))\n",
    "        (else (append (deep-reverse (cdr l))\n",
    "                      (list (car l))))))"
   ]
  },
  {
   "cell_type": "code",
   "execution_count": 84,
   "metadata": {},
   "outputs": [
    {
     "data": {
      "text/plain": [
       "((1 2) (3 4))"
      ]
     },
     "execution_count": 84,
     "metadata": {},
     "output_type": "execute_result"
    }
   ],
   "source": [
    "(define x (list (list 1 2) (list 3 4)))\n",
    "x"
   ]
  },
  {
   "cell_type": "code",
   "execution_count": 85,
   "metadata": {},
   "outputs": [
    {
     "data": {
      "text/plain": [
       "((3 4) (1 2))"
      ]
     },
     "execution_count": 85,
     "metadata": {},
     "output_type": "execute_result"
    }
   ],
   "source": [
    "(reverse x)"
   ]
  },
  {
   "cell_type": "code",
   "execution_count": 88,
   "metadata": {},
   "outputs": [
    {
     "data": {
      "text/plain": [
       "((4 3) (2 1))"
      ]
     },
     "execution_count": 88,
     "metadata": {},
     "output_type": "execute_result"
    }
   ],
   "source": [
    "(deep-reverse x)"
   ]
  },
  {
   "cell_type": "markdown",
   "metadata": {},
   "source": [
    "## 2.28"
   ]
  },
  {
   "cell_type": "code",
   "execution_count": 103,
   "metadata": {},
   "outputs": [],
   "source": [
    ";; traverse tree->append each node to list result,\n",
    "(define (fringe t)\n",
    "  (cond ((null? t) (list))\n",
    "        ((not (pair? t)) (list t))\n",
    "        (else (append (fringe (car t))\n",
    "                      (fringe (cdr t))))))"
   ]
  },
  {
   "cell_type": "code",
   "execution_count": 104,
   "metadata": {},
   "outputs": [
    {
     "data": {
      "text/plain": [
       "((1 2) (3 4))"
      ]
     },
     "execution_count": 104,
     "metadata": {},
     "output_type": "execute_result"
    }
   ],
   "source": [
    "(define x (list (list 1 2) (list 3 4)))\n",
    "x"
   ]
  },
  {
   "cell_type": "code",
   "execution_count": 105,
   "metadata": {},
   "outputs": [
    {
     "data": {
      "text/plain": [
       "(1 2 3 4)"
      ]
     },
     "execution_count": 105,
     "metadata": {},
     "output_type": "execute_result"
    }
   ],
   "source": [
    "(fringe x)"
   ]
  },
  {
   "cell_type": "markdown",
   "metadata": {},
   "source": [
    "## 2.29"
   ]
  },
  {
   "cell_type": "code",
   "execution_count": 111,
   "metadata": {},
   "outputs": [],
   "source": [
    "(define (make-mobile left right)\n",
    "  (list left right))\n",
    "\n",
    "(define (make-branch len structure)\n",
    "  (list len structure))\n",
    "\n",
    "(define (left-branch mobile)\n",
    "  (car mobile))\n",
    "\n",
    "(define (right-branch mobile)\n",
    "  (car (cdr mobile)))\n",
    "\n",
    "(define (branch-length branch)\n",
    "  (car branch))\n",
    "\n",
    "(define (branch-structure branch)\n",
    "  (car (cdr branch)))\n",
    "\n",
    ";; mobile total weight = sum of left + right branch weight\n",
    ";; branch weight = value of weight if not a mobile, or recursive if branch\n",
    ";; holds a mobile\n",
    "(define (branch-weight branch)\n",
    "  (if (pair? (branch-structure branch))\n",
    "      (total-weight (branch-structure branch))\n",
    "      (branch-structure branch)))\n",
    "\n",
    "(define (total-weight mobile)\n",
    "  (+ (branch-weight (left-branch mobile))\n",
    "     (branch-weight (right-branch mobile))))\n",
    "\n",
    "(define (branch-torque branch)\n",
    "  (* (branch-length branch)\n",
    "     (branch-weight branch)))\n",
    "\n",
    "(define (branch-balanced? branch)\n",
    "  (if (pair? (branch-structure branch))\n",
    "      (mobile-balanced? (branch-structure branch))\n",
    "      #t))\n",
    "(define (mobile-balanced?)\n",
    "  (and (= (branch-torque (left-branch mobile))\n",
    "          (branch-torque (right-branch mobile)))\n",
    "       (branch-balanced? (left-branch mobile))\n",
    "       (branch-balanced? (right-branch mobile))))"
   ]
  },
  {
   "cell_type": "markdown",
   "metadata": {},
   "source": [
    "Changing the representation to:\n",
    "```scheme\n",
    "(define (make-mobile left right)\n",
    "  (cons left right))\n",
    "\n",
    "(define (make-branch length structure)\n",
    "  (cons length structure))\n",
    "```\n",
    "\n",
    "Would only affect the `right-branch` and `branch-structure` accessors:\n",
    "```scheme\n",
    "(define (right-branch mobile)\n",
    "  (cdr mobile))\n",
    "\n",
    "(define (branch-structure branch)\n",
    "  (cdr branch))\n",
    "```"
   ]
  },
  {
   "cell_type": "markdown",
   "metadata": {},
   "source": [
    "## 2.30"
   ]
  },
  {
   "cell_type": "code",
   "execution_count": 5,
   "metadata": {},
   "outputs": [
    {
     "data": {
      "text/plain": [
       "(1 (2 (3 4) 5) (6 7))"
      ]
     },
     "execution_count": 5,
     "metadata": {},
     "output_type": "execute_result"
    }
   ],
   "source": [
    "(define t (list 1\n",
    "                (list 2 (list 3 4) 5)\n",
    "                (list 6 7)))\n",
    "t"
   ]
  },
  {
   "cell_type": "code",
   "execution_count": 6,
   "metadata": {},
   "outputs": [],
   "source": [
    "(define (square-tree tree)\n",
    "  (cond ((null? tree) (list))\n",
    "        ((not (pair? tree))\n",
    "         (* tree tree))\n",
    "        (else\n",
    "         (cons (square-tree (car tree))\n",
    "               (square-tree (cdr tree))))))"
   ]
  },
  {
   "cell_type": "code",
   "execution_count": 7,
   "metadata": {},
   "outputs": [
    {
     "data": {
      "text/plain": [
       "(1 (4 (9 16) 25) (36 49))"
      ]
     },
     "execution_count": 7,
     "metadata": {},
     "output_type": "execute_result"
    }
   ],
   "source": [
    "(square-tree t)"
   ]
  },
  {
   "cell_type": "code",
   "execution_count": 8,
   "metadata": {},
   "outputs": [],
   "source": [
    "(define (square-tree tree)\n",
    "  (map (lambda (sub-tree)\n",
    "         (if (pair? sub-tree)\n",
    "             (square-tree sub-tree)\n",
    "             (* sub-tree sub-tree)))\n",
    "       tree))"
   ]
  },
  {
   "cell_type": "code",
   "execution_count": 9,
   "metadata": {},
   "outputs": [
    {
     "data": {
      "text/plain": [
       "(1 (4 (9 16) 25) (36 49))"
      ]
     },
     "execution_count": 9,
     "metadata": {},
     "output_type": "execute_result"
    }
   ],
   "source": [
    "(square-tree t)"
   ]
  },
  {
   "cell_type": "markdown",
   "metadata": {},
   "source": [
    "## 2.31"
   ]
  },
  {
   "cell_type": "code",
   "execution_count": 12,
   "metadata": {},
   "outputs": [
    {
     "data": {
      "text/plain": [
       "(1 (4 (9 16) 25) (36 49))"
      ]
     },
     "execution_count": 12,
     "metadata": {},
     "output_type": "execute_result"
    }
   ],
   "source": [
    "(define (tree-map proc tree)\n",
    "  (map (lambda (sub-tree)\n",
    "         (if (pair? sub-tree)\n",
    "             (tree-map proc sub-tree)\n",
    "             (proc sub-tree)))\n",
    "       tree))\n",
    "\n",
    "(define (square x) (* x x))\n",
    "\n",
    "(define (square-tree tree)\n",
    "  (tree-map square tree))\n",
    "\n",
    "(square-tree t)"
   ]
  },
  {
   "cell_type": "markdown",
   "metadata": {},
   "source": [
    "## 2.32\n",
    "Set of subsets of a set = **powerset**\n",
    "\n",
    "Algorithm from [Wikipedia](https://en.wikipedia.org/wiki/Power_set#Algorithms):\n",
    "- Powerset of empty set = the set containing the empty set\n",
    "- Powerset of any other set is all the subsets of the set containing a specific element and all the subsets of the set not containing that element\n",
    "\n",
    "\n",
    "$S=\\{1, 2, 3\\}$\n",
    "\n",
    "$P(S)=\\{\\{\\}\\{3\\}\\{2\\}\\{2,3\\}\\{1\\}\\{1,3\\}\\{1,2\\}\\{1,2,3\\}\\}$"
   ]
  },
  {
   "cell_type": "code",
   "execution_count": 36,
   "metadata": {},
   "outputs": [],
   "source": [
    "(define (subsets s)\n",
    "  (if (null? s)\n",
    "      (list ())\n",
    "      (let ((rest (subsets (cdr s))))\n",
    "        (append rest (map (lambda (x) (cons (car s) x)) rest)))))"
   ]
  },
  {
   "cell_type": "code",
   "execution_count": 37,
   "metadata": {},
   "outputs": [
    {
     "data": {
      "text/plain": [
       "(() (3) (2) (2 3) (1) (1 3) (1 2) (1 2 3))"
      ]
     },
     "execution_count": 37,
     "metadata": {},
     "output_type": "execute_result"
    }
   ],
   "source": [
    "(subsets (list 1 2 3))"
   ]
  },
  {
   "cell_type": "markdown",
   "metadata": {},
   "source": [
    "Line `3` of `subsets` represents the base case:\n",
    "- $P(\\{\\})=\\{\\{\\}\\}$\n",
    "`subsets` is then called recursively with `(cdr s)`- is all but the first element of the set. The first element of the set - `(car s)` - is then appended to each subset of `(cdr s)`. The recursion stops when `(cdr s)` on line `4` of `subsets` has no elements and the base case is reached."
   ]
  },
  {
   "cell_type": "markdown",
   "metadata": {},
   "source": [
    "## 2.33"
   ]
  },
  {
   "cell_type": "code",
   "execution_count": 2,
   "metadata": {},
   "outputs": [],
   "source": [
    ";; accumulate definition from book\n",
    "(define (accumulate op initial sequence)\n",
    "  (if (null? sequence)\n",
    "      initial\n",
    "      (op (car sequence)\n",
    "          (accumulate op\n",
    "                      initial\n",
    "                      (cdr sequence)))))"
   ]
  },
  {
   "cell_type": "code",
   "execution_count": 3,
   "metadata": {},
   "outputs": [
    {
     "data": {
      "text/plain": [
       "6"
      ]
     },
     "execution_count": 3,
     "metadata": {},
     "output_type": "execute_result"
    }
   ],
   "source": [
    "(accumulate + 0 (list 1 2 3))"
   ]
  },
  {
   "cell_type": "code",
   "execution_count": 6,
   "metadata": {},
   "outputs": [
    {
     "data": {
      "text/plain": [
       "120"
      ]
     },
     "execution_count": 6,
     "metadata": {},
     "output_type": "execute_result"
    }
   ],
   "source": [
    "(accumulate * 1 (list 4 5 6))"
   ]
  },
  {
   "cell_type": "code",
   "execution_count": 10,
   "metadata": {},
   "outputs": [
    {
     "data": {
      "text/plain": [
       "(1 4 9)"
      ]
     },
     "execution_count": 10,
     "metadata": {},
     "output_type": "execute_result"
    }
   ],
   "source": [
    "(define (map p sequence)\n",
    "  (accumulate (lambda (x y) (cons (p x) y))\n",
    "              (list) sequence))\n",
    "\n",
    "(define (square x) (* x x))\n",
    "(map square (list 1 2 3))"
   ]
  },
  {
   "cell_type": "code",
   "execution_count": 12,
   "metadata": {},
   "outputs": [
    {
     "data": {
      "text/plain": [
       "(1 2 3 4 5 6)"
      ]
     },
     "execution_count": 12,
     "metadata": {},
     "output_type": "execute_result"
    }
   ],
   "source": [
    "(define (append seq1 seq2)\n",
    "  (accumulate cons seq2 seq1))\n",
    "\n",
    "(append (list 1 2 3) (list 4 5 6))"
   ]
  },
  {
   "cell_type": "code",
   "execution_count": 15,
   "metadata": {},
   "outputs": [
    {
     "data": {
      "text/plain": [
       "3"
      ]
     },
     "execution_count": 15,
     "metadata": {},
     "output_type": "execute_result"
    }
   ],
   "source": [
    "(define (length sequence)\n",
    "  (accumulate (lambda (x y) (+ y 1)) 0 sequence))\n",
    "\n",
    "(length (list 1 2 3))"
   ]
  },
  {
   "cell_type": "markdown",
   "metadata": {},
   "source": [
    "## 2.34\n",
    "\n",
    "### Horner's rule\n",
    "Evaluation of the polynomial:\n",
    "\n",
    "$a_nx^n+a_{n-1}x^{n-1}+...+a_1x+a_0$\n",
    "\n",
    "At a given value of $x$ can be computed as:\n",
    "\n",
    "$(...(a_nx+a_{n-1})x+...+a_1)x+a_0$"
   ]
  },
  {
   "cell_type": "code",
   "execution_count": 18,
   "metadata": {},
   "outputs": [],
   "source": [
    "(define\n",
    "  (horner-eval x coefficient-sequence)\n",
    "  (accumulate\n",
    "   (lambda (this-coeff higher-terms)\n",
    "     (+ (* x higher-terms) this-coeff))\n",
    "   0\n",
    "  coefficient-sequence))"
   ]
  },
  {
   "cell_type": "code",
   "execution_count": 19,
   "metadata": {},
   "outputs": [
    {
     "data": {
      "text/plain": [
       "79"
      ]
     },
     "execution_count": 19,
     "metadata": {},
     "output_type": "execute_result"
    }
   ],
   "source": [
    "(horner-eval 2 (list 1 3 0 5 0 1))"
   ]
  },
  {
   "cell_type": "markdown",
   "metadata": {},
   "source": [
    "## 2.35"
   ]
  },
  {
   "cell_type": "code",
   "execution_count": 4,
   "metadata": {},
   "outputs": [],
   "source": [
    ";; from book\n",
    "(define (enumerate-tree tree)\n",
    "  (cond ((null? tree) (list))\n",
    "         ((not (pair? tree)) (list tree))\n",
    "         (else (append\n",
    "                (enumerate-tree (car tree))\n",
    "                (enumerate-tree (cdr tree))))))\n",
    "\n",
    "(define (count-leaves t)\n",
    "  (accumulate + 0 (map (lambda (x) 1)\n",
    "                       (enumerate-tree t))))"
   ]
  },
  {
   "cell_type": "code",
   "execution_count": 5,
   "metadata": {},
   "outputs": [
    {
     "data": {
      "text/plain": [
       "4"
      ]
     },
     "execution_count": 5,
     "metadata": {},
     "output_type": "execute_result"
    }
   ],
   "source": [
    "(count-leaves (cons (list 1 2) (list 3 4)))"
   ]
  },
  {
   "cell_type": "markdown",
   "metadata": {},
   "source": [
    "## 2.36"
   ]
  },
  {
   "cell_type": "code",
   "execution_count": 6,
   "metadata": {},
   "outputs": [],
   "source": [
    "(define (accumulate-n op init seqs)\n",
    "  (if (null? (car seqs))\n",
    "      (list)\n",
    "      (cons (accumulate op init (map car seqs))\n",
    "            (accumulate-n op init (map cdr seqs)))))"
   ]
  },
  {
   "cell_type": "code",
   "execution_count": 7,
   "metadata": {},
   "outputs": [
    {
     "data": {
      "text/plain": [
       "((1 2 3) (4 5 6) (7 8 9) (10 11 12))"
      ]
     },
     "execution_count": 7,
     "metadata": {},
     "output_type": "execute_result"
    }
   ],
   "source": [
    "(define s (list (list 1 2 3)\n",
    "                (list 4 5 6) \n",
    "                (list 7 8 9) \n",
    "                (list 10 11 12)))\n",
    "s"
   ]
  },
  {
   "cell_type": "code",
   "execution_count": 51,
   "metadata": {},
   "outputs": [
    {
     "data": {
      "text/plain": [
       "(22 26 30)"
      ]
     },
     "execution_count": 51,
     "metadata": {},
     "output_type": "execute_result"
    }
   ],
   "source": [
    "(accumulate-n + 0 s)"
   ]
  },
  {
   "cell_type": "markdown",
   "metadata": {},
   "source": [
    "## 2.37"
   ]
  },
  {
   "cell_type": "code",
   "execution_count": 1,
   "metadata": {},
   "outputs": [
    {
     "data": {
      "text/plain": [
       "(1 2 3 4)"
      ]
     },
     "execution_count": 1,
     "metadata": {},
     "output_type": "execute_result"
    }
   ],
   "source": [
    ";; representation of a vector\n",
    "(list 1 2 3 4)"
   ]
  },
  {
   "cell_type": "code",
   "execution_count": 4,
   "metadata": {},
   "outputs": [
    {
     "data": {
      "text/plain": [
       "((1 2 3 4) (4 5 6 6) (6 7 8 9))"
      ]
     },
     "execution_count": 4,
     "metadata": {},
     "output_type": "execute_result"
    }
   ],
   "source": [
    ";; representation of a matrix\n",
    "(define m (list (list 1 2 3 4)\n",
    "                (list 4 5 6 6)\n",
    "                (list 6 7 8 9)))\n",
    "m"
   ]
  },
  {
   "cell_type": "code",
   "execution_count": 15,
   "metadata": {},
   "outputs": [
    {
     "name": "stdout",
     "output_type": "stream",
     "text": [
      "(1 2 3 4)\n",
      "(4 5 6 6)\n",
      "(6 7 8 9)\n"
     ]
    },
    {
     "data": {
      "text/plain": [
       "(<void> <void> <void>)"
      ]
     },
     "execution_count": 15,
     "metadata": {},
     "output_type": "execute_result"
    }
   ],
   "source": [
    ";; helper function to print a matrix\n",
    "(define (print-matrix m)\n",
    "  (map (lambda (row) (display row)(newline)) m))\n",
    "\n",
    "(print-matrix m)"
   ]
  },
  {
   "cell_type": "code",
   "execution_count": 9,
   "metadata": {},
   "outputs": [
    {
     "data": {
      "text/plain": [
       "60"
      ]
     },
     "execution_count": 9,
     "metadata": {},
     "output_type": "execute_result"
    }
   ],
   "source": [
    ";; given in book\n",
    "(define (dot-product v w)\n",
    "  (accumulate + 0 (map * v w)))\n",
    "\n",
    "(dot-product (list 1 2 3 4) (list 4 5 6 7))"
   ]
  },
  {
   "cell_type": "code",
   "execution_count": 10,
   "metadata": {},
   "outputs": [
    {
     "data": {
      "text/plain": [
       "(30 56 80)"
      ]
     },
     "execution_count": 10,
     "metadata": {},
     "output_type": "execute_result"
    }
   ],
   "source": [
    "(define (matrix-*-vector m v)\n",
    "  (map (lambda (row) (dot-product row v)) m))\n",
    "\n",
    "(matrix-*-vector m (list 1 2 3 4))"
   ]
  },
  {
   "cell_type": "code",
   "execution_count": 13,
   "metadata": {},
   "outputs": [
    {
     "name": "stdout",
     "output_type": "stream",
     "text": [
      "(1 4 6)\n",
      "(2 5 7)\n",
      "(3 6 8)\n",
      "(4 6 9)\n"
     ]
    },
    {
     "data": {
      "text/plain": [
       "(<void> <void> <void> <void>)"
      ]
     },
     "execution_count": 13,
     "metadata": {},
     "output_type": "execute_result"
    }
   ],
   "source": [
    ";; make columns of input matrix rows of output matrix\n",
    "(define (transpose mat)\n",
    "  (accumulate-n cons (list) mat))\n",
    "\n",
    "(print-matrix (transpose m))"
   ]
  },
  {
   "cell_type": "code",
   "execution_count": 20,
   "metadata": {},
   "outputs": [
    {
     "name": "stdout",
     "output_type": "stream",
     "text": [
      "m:\n",
      "(1 2 3 4)\n",
      "(4 5 6 6)\n",
      "(6 7 8 9)\n",
      "n:\n",
      "(1 2 5 8)\n",
      "(9 5 2 1)\n",
      "(8 7 3 4)\n",
      "m*n:\n",
      "(43 33 18 22)\n",
      "(97 75 48 61)\n",
      "(133 103 68 87)\n"
     ]
    },
    {
     "data": {
      "text/plain": [
       "(<void> <void> <void>)"
      ]
     },
     "execution_count": 20,
     "metadata": {},
     "output_type": "execute_result"
    }
   ],
   "source": [
    "(define (matrix-*-matrix m n)\n",
    "  (let ((cols (transpose n)))\n",
    "    (map (lambda (row) (matrix-*-vector cols row)) m)))\n",
    "\n",
    "(define n (list (list 1 2 5 8)\n",
    "                (list 9 5 2 1)\n",
    "                (list 8 7 3 4)))\n",
    "\n",
    "(display \"m:\")(newline)\n",
    "(print-matrix m)\n",
    "(display \"n:\")(newline)\n",
    "(print-matrix n)\n",
    "(display \"m*n:\")(newline)\n",
    "(print-matrix (matrix-*-matrix m n))"
   ]
  },
  {
   "cell_type": "markdown",
   "metadata": {},
   "source": [
    "## 2.38\n",
    "```\n",
    "3/2\n",
    "1/6\n",
    "(1 (2 (3 ())))\n",
    "(((() 1) 2) 3)\n",
    "```"
   ]
  },
  {
   "cell_type": "code",
   "execution_count": 8,
   "metadata": {},
   "outputs": [],
   "source": [
    ";; same as accumulate\n",
    "(define (fold-right op initial sequence)\n",
    "   (if (null? sequence)\n",
    "       initial\n",
    "       (op (car sequence)\n",
    "           (fold-right op initial (cdr sequence)))))\n",
    "\n",
    "(define (fold-left op initial sequence)\n",
    "  (define (iter result rest)\n",
    "    (if (null? rest)\n",
    "        result\n",
    "        (iter (op result (car rest))\n",
    "              (cdr rest))))\n",
    "  (iter initial sequence))"
   ]
  },
  {
   "cell_type": "code",
   "execution_count": 29,
   "metadata": {},
   "outputs": [
    {
     "data": {
      "text/plain": [
       "3/2"
      ]
     },
     "execution_count": 29,
     "metadata": {},
     "output_type": "execute_result"
    }
   ],
   "source": [
    "(fold-right / 1 (list 1 2 3))"
   ]
  },
  {
   "cell_type": "code",
   "execution_count": 30,
   "metadata": {},
   "outputs": [
    {
     "data": {
      "text/plain": [
       "1/6"
      ]
     },
     "execution_count": 30,
     "metadata": {},
     "output_type": "execute_result"
    }
   ],
   "source": [
    "(fold-left / 1 (list 1 2 3))"
   ]
  },
  {
   "cell_type": "code",
   "execution_count": 31,
   "metadata": {},
   "outputs": [
    {
     "data": {
      "text/plain": [
       "(1 (2 (3 ())))"
      ]
     },
     "execution_count": 31,
     "metadata": {},
     "output_type": "execute_result"
    }
   ],
   "source": [
    "(fold-right list (list) (list 1 2 3))"
   ]
  },
  {
   "cell_type": "code",
   "execution_count": 32,
   "metadata": {},
   "outputs": [
    {
     "data": {
      "text/plain": [
       "(((() 1) 2) 3)"
      ]
     },
     "execution_count": 32,
     "metadata": {},
     "output_type": "execute_result"
    }
   ],
   "source": [
    "(fold-left list (list) (list 1 2 3))"
   ]
  },
  {
   "cell_type": "markdown",
   "metadata": {},
   "source": [
    "`op` should be **commutative** for `fold-left` and `fold-right`to produce the same values for any sequence.\n",
    "\n",
    "The two procedures differ only in the order in which they process the sequence elements. This means that if `op` is not commutative, different results will be produced.\n",
    "\n",
    "`*` is commutative, therefore `fold-left` and `fold-right` produce the same values:"
   ]
  },
  {
   "cell_type": "code",
   "execution_count": 11,
   "metadata": {},
   "outputs": [
    {
     "data": {
      "text/plain": [
       "6"
      ]
     },
     "execution_count": 11,
     "metadata": {},
     "output_type": "execute_result"
    }
   ],
   "source": [
    "(fold-right * 1 (list 1 2 3))"
   ]
  },
  {
   "cell_type": "code",
   "execution_count": 12,
   "metadata": {},
   "outputs": [
    {
     "data": {
      "text/plain": [
       "6"
      ]
     },
     "execution_count": 12,
     "metadata": {},
     "output_type": "execute_result"
    }
   ],
   "source": [
    "(fold-left * 1 (list 1 2 3))"
   ]
  },
  {
   "cell_type": "markdown",
   "metadata": {},
   "source": [
    "`/` is *not* commutative, therefore `fold-left` and `fold-right` prduce different values:"
   ]
  },
  {
   "cell_type": "code",
   "execution_count": 13,
   "metadata": {},
   "outputs": [
    {
     "data": {
      "text/plain": [
       "3/2"
      ]
     },
     "execution_count": 13,
     "metadata": {},
     "output_type": "execute_result"
    }
   ],
   "source": [
    "(fold-right / 1 (list 1 2 3))"
   ]
  },
  {
   "cell_type": "code",
   "execution_count": 14,
   "metadata": {},
   "outputs": [
    {
     "data": {
      "text/plain": [
       "1/6"
      ]
     },
     "execution_count": 14,
     "metadata": {},
     "output_type": "execute_result"
    }
   ],
   "source": [
    "(fold-left / 1 (list 1 2 3))"
   ]
  },
  {
   "cell_type": "markdown",
   "metadata": {},
   "source": [
    "## 2.39"
   ]
  },
  {
   "cell_type": "code",
   "execution_count": 9,
   "metadata": {},
   "outputs": [],
   "source": [
    "(define (reverse sequence)\n",
    "  (fold-right\n",
    "  (lambda (x y) (append y (list x))) (list) sequence))"
   ]
  },
  {
   "cell_type": "code",
   "execution_count": 40,
   "metadata": {},
   "outputs": [
    {
     "data": {
      "text/plain": [
       "(3 2 1)"
      ]
     },
     "execution_count": 40,
     "metadata": {},
     "output_type": "execute_result"
    }
   ],
   "source": [
    "(reverse (list 1 2 3))"
   ]
  },
  {
   "cell_type": "code",
   "execution_count": 69,
   "metadata": {},
   "outputs": [],
   "source": [
    "(define (reverse sequence)\n",
    "  (fold-left\n",
    "   (lambda (x y) (cons y x)) (list) sequence))"
   ]
  },
  {
   "cell_type": "code",
   "execution_count": 70,
   "metadata": {},
   "outputs": [
    {
     "data": {
      "text/plain": [
       "(3 2 1)"
      ]
     },
     "execution_count": 70,
     "metadata": {},
     "output_type": "execute_result"
    }
   ],
   "source": [
    "(reverse (list 1 2 3))"
   ]
  },
  {
   "cell_type": "markdown",
   "metadata": {},
   "source": [
    "## 2.40"
   ]
  },
  {
   "cell_type": "code",
   "execution_count": 40,
   "metadata": {},
   "outputs": [
    {
     "data": {
      "text/plain": [
       "((2 1) (3 1) (3 2) (4 1) (4 2) (4 3) (5 1) (5 2) (5 3) (5 4) (6 1) (6 2) (6 3) (6 4) (6 5))"
      ]
     },
     "execution_count": 40,
     "metadata": {},
     "output_type": "execute_result"
    }
   ],
   "source": [
    ";; calysto scheme missing filter function\n",
    "(define (filter predicate seq)\n",
    "  (accumulate (lambda (e rest)\n",
    "                (if (predicate e)\n",
    "                    (cons e rest)\n",
    "                    rest)) \n",
    "              ()\n",
    "              seq))\n",
    "\n",
    "(define (enumerate-interval low high)\n",
    "  (if (> low high)\n",
    "      ()\n",
    "      (cons low \n",
    "            (enumerate-interval\n",
    "             (+ low 1)\n",
    "             high))))\n",
    "\n",
    "(define (flatmap proc seq)\n",
    "  (accumulate append () (map proc seq)))\n",
    "\n",
    "(define (prime-sum? pair)\n",
    "  (prime? (+ (car pair) (cadr pair))))\n",
    "\n",
    "(define (make-pair-sum pair)\n",
    "  (list (car pair)\n",
    "        (cadr pair)\n",
    "        (+ (car pair) (cadr pair))))\n",
    "\n",
    "(define (unique-pairs n)\n",
    "  (flatmap\n",
    "   (lambda (i)\n",
    "     (map (lambda (j) (list i j))\n",
    "          (enumerate-interval 1 (- i 1))))\n",
    "   (enumerate-interval 1 n)))\n",
    "\n",
    "(unique-pairs 6)"
   ]
  },
  {
   "cell_type": "code",
   "execution_count": 41,
   "metadata": {},
   "outputs": [],
   "source": [
    "(define (prime-sum-pairs n)\n",
    "  (map make-pair-sum\n",
    "       (filter prime-sum? (unique-pairs n))))"
   ]
  },
  {
   "cell_type": "markdown",
   "metadata": {},
   "source": [
    "## 2.41"
   ]
  },
  {
   "cell_type": "code",
   "execution_count": 42,
   "metadata": {},
   "outputs": [
    {
     "data": {
      "text/plain": [
       "((3 2 1) (4 2 1) (4 3 1) (4 3 2) (5 2 1) (5 3 1) (5 3 2) (5 4 1) (5 4 2) (5 4 3) (6 2 1) (6 3 1) (6 3 2) (6 4 1) (6 4 2) (6 4 3) (6 5 1) (6 5 2) (6 5 3) (6 5 4))"
      ]
     },
     "execution_count": 42,
     "metadata": {},
     "output_type": "execute_result"
    }
   ],
   "source": [
    ";; produce ordered triples of distinct positive integers (i,j,k) up to n\n",
    "(define (ordered-triples n)\n",
    "  (flatmap (lambda (i)\n",
    "             (flatmap (lambda (j)\n",
    "                        (map (lambda (k) (list i j k))\n",
    "                             (enumerate-interval 1 (- j 1))))\n",
    "                      (enumerate-interval 1 (- i 1))))\n",
    "           (enumerate-interval 1 n)))\n",
    "\n",
    "(ordered-triples 6)"
   ]
  },
  {
   "cell_type": "code",
   "execution_count": 43,
   "metadata": {},
   "outputs": [
    {
     "data": {
      "text/plain": [
       "#t"
      ]
     },
     "execution_count": 43,
     "metadata": {},
     "output_type": "execute_result"
    }
   ],
   "source": [
    ";; true if sum of triple = s\n",
    "(define (triple-sum? triple s)\n",
    "  (= (accumulate + 0 triple) s))\n",
    "\n",
    "(triple-sum? (list 1 2 3) 6)"
   ]
  },
  {
   "cell_type": "code",
   "execution_count": 44,
   "metadata": {},
   "outputs": [
    {
     "data": {
      "text/plain": [
       "#f"
      ]
     },
     "execution_count": 44,
     "metadata": {},
     "output_type": "execute_result"
    }
   ],
   "source": [
    "(triple-sum? (list 1 2 3) 5)"
   ]
  },
  {
   "cell_type": "code",
   "execution_count": 45,
   "metadata": {},
   "outputs": [],
   "source": [
    "(define (ordered-triple-sum n s)\n",
    "  (filter (lambda (triple) (triple-sum? triple s)) (ordered-triples n)))"
   ]
  },
  {
   "cell_type": "code",
   "execution_count": 46,
   "metadata": {},
   "outputs": [
    {
     "data": {
      "text/plain": [
       "((5 3 2) (5 4 1))"
      ]
     },
     "execution_count": 46,
     "metadata": {},
     "output_type": "execute_result"
    }
   ],
   "source": [
    "(ordered-triple-sum 5 10)"
   ]
  },
  {
   "cell_type": "code",
   "execution_count": 47,
   "metadata": {},
   "outputs": [
    {
     "data": {
      "text/plain": [
       "()"
      ]
     },
     "execution_count": 47,
     "metadata": {},
     "output_type": "execute_result"
    }
   ],
   "source": [
    "(ordered-triple-sum 10 5)"
   ]
  },
  {
   "cell_type": "code",
   "execution_count": 51,
   "metadata": {},
   "outputs": [
    {
     "data": {
      "text/plain": [
       "((3 2 1))"
      ]
     },
     "execution_count": 51,
     "metadata": {},
     "output_type": "execute_result"
    }
   ],
   "source": [
    "(ordered-triple-sum 10 6)"
   ]
  },
  {
   "cell_type": "code",
   "execution_count": 52,
   "metadata": {},
   "outputs": [
    {
     "data": {
      "text/plain": [
       "((4 3 1) (5 2 1))"
      ]
     },
     "execution_count": 52,
     "metadata": {},
     "output_type": "execute_result"
    }
   ],
   "source": [
    "(ordered-triple-sum 20 8)"
   ]
  }
 ],
 "metadata": {
  "kernelspec": {
   "display_name": "Calysto Scheme 3",
   "language": "scheme",
   "name": "calysto_scheme"
  },
  "language_info": {
   "codemirror_mode": {
    "name": "scheme"
   },
   "mimetype": "text/x-scheme",
   "name": "scheme",
   "pygments_lexer": "scheme"
  }
 },
 "nbformat": 4,
 "nbformat_minor": 2
}
