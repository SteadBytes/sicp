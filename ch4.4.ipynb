{
 "cells": [
  {
   "cell_type": "markdown",
   "metadata": {},
   "source": [
    "# 4.4 Logic Programming\n",
    "\n",
    "## 4.55\n",
    "\n",
    "```scheme\n",
    ";; 1\n",
    "(supervisor ?x (Bitdiddle Ben))\n",
    "\n",
    ";; 2\n",
    "(job ?x (accounting . ?type))\n",
    "\n",
    ";; 3\n",
    "(address ?x (Sumerville . ?y))\n",
    "```\n",
    "\n",
    "## 4.56\n",
    "\n",
    "```scheme\n",
    ";; 1\n",
    "(and (supervisor ?person (Bitdiddle Ben))\n",
    "     (address ?person . ?street))\n",
    ";; 2\n",
    "(and (salary (Bitdiddle Ben) ?x)\n",
    "     (salary ?person ?amount)\n",
    "     (lisp-value < ?amount ?x))\n",
    "\n",
    ";; 3\n",
    "(and (supervisor ?person ?supervisor)\n",
    "     (job ?supervisor ?job)\n",
    "     (not (job ?supervisor (computer . ?type))))\n",
    "```\n",
    "\n",
    "## 4.57\n",
    "\n",
    "```scheme\n",
    "(rule (can-replace ?person1 ?person2)\n",
    "      (and\n",
    "       (or\n",
    "        ;; person1 does same job as person2\n",
    "        (and (job ?person1 ?job) \n",
    "             (job ?person2 ?job))\n",
    "        ;; OR someone who does person1's job can also do person2's job\n",
    "        (and (job ?person1 ?job1)\n",
    "             (job ?person2 ?job2)\n",
    "             (can-do-job ?j1 ?j2)))\n",
    "       ;; person1 and person2 are not the same person\n",
    "       (not (same ?person1 ?person2))))\n",
    "\n",
    ";; 1\n",
    "(can-replace ?person (Fect Cy D))\n",
    "\n",
    ";; 2 \n",
    "\n",
    "(and (can-replace ?person1 ?person2)\n",
    "     (salary ?person1 ?salary1)\n",
    "     (salary? ?person2 ?salary2)\n",
    "     (lisp-value > salary2 salary1))\n",
    "```\n",
    "\n",
    "## 4.58\n",
    "\n",
    "```scheme\n",
    "(rule (big-shot ?person ?division)\n",
    "      (and \n",
    "       ;; person works in given division\n",
    "       (job ?person (?division . ?type))\n",
    "       (supervisor ?person ?supervisor)\n",
    "       (job ?supervisor (?sup-division . ?sup-type))\n",
    "       ;; persons superervisor does not work in given divistion\n",
    "       (not (same ?division ?sup-division))))\n",
    "```\n",
    "\n",
    "## 4.59\n",
    "\n",
    "```scheme\n",
    ";; 1\n",
    "(meeting ?division (Friday ?time))\n",
    "\n",
    ";; 2\n",
    "(rule (meeting-time ?person ?day-and-time)\n",
    "      (or (meeting whole-company ?day-and-time)\n",
    "          (and\n",
    "           (job ?person (?division . ?type))\n",
    "           (meeting ?division ?day-and-time))))\n",
    "\n",
    ";; 3\n",
    "(meeting-time (Hacker Alyssa P) (Wednesday ?time))\n",
    "```\n",
    "\n",
    "## 4.60\n",
    "\n",
    "The `lives-near` rule is commutative, so the following two queries will both return the same *values* but in the opposite order:\n",
    "\n",
    "```scheme\n",
    "(lives-near ?person-1 ?person-2)\n",
    "(lives-near ?person-2 ?person-1)\n",
    "```\n",
    "\n",
    "This is because `lives-near` is implemented using an `and` expression, which is in itself commutative:\n",
    "\n",
    "```scheme\n",
    "(rule (lives-near ?person-1 ?person-2)\n",
    "      ;; arguments to and could be in any order\n",
    "      (and (address ?person-1 \n",
    "                    (?town . ?rest-1))\n",
    "           (address ?person-2 \n",
    "                    (?town . ?rest-2))\n",
    "           (not (same ?person-1 ?person-2))))\n",
    "```\n",
    "\n",
    "This poses no restrictions on the values that `?person-1` and `?person-2` can take, so every *combination* that the query succeeds for is returned.\n",
    "\n",
    "To produce a list of *unique pairs* of people who live near each other, a futher restriction can be added to the `lives-near` rule that enforces an **ordering** of the pairs. For example, enforcing alphabetical ordering of `person-1` and `person-2` in the pair will mean only one combination of the two people is returned. For example, `(Hacker Alyssa P) (Fect Cy D))` is alphabetically *less* than `((Fect Cy D) (Hacker Alyssa P))`."
   ]
  },
  {
   "cell_type": "code",
   "execution_count": 21,
   "metadata": {},
   "outputs": [
    {
     "data": {
      "text/plain": [
       "#f"
      ]
     },
     "execution_count": 21,
     "metadata": {},
     "output_type": "execute_result"
    }
   ],
   "source": [
    ";; from previous chapter\n",
    "(define (accumulate op initial sequence)\n",
    "  (if (null? sequence)\n",
    "      initial\n",
    "      (op (car sequence)\n",
    "          (accumulate op\n",
    "                      initial\n",
    "                      (cdr sequence)))))\n",
    "\n",
    ";; convert a list of symbols into a single string\n",
    "(define (symbol-list->string lst)\n",
    "  (accumulate string-append \"\" (map symbol->string lst)))\n",
    "\n",
    ";; compare two lists of symbols to determine if\n",
    ";; lst1 is alphabetically less than lst2\n",
    "(define (symbol-list<? lst1 lst2)\n",
    "  (string<? (symbol-list->string lst1)\n",
    "            (symbol-list->string lst2)))\n",
    "\n",
    "(symbol-list<? '(Hacker Alyssa P) '(Fect Cy D))"
   ]
  },
  {
   "cell_type": "code",
   "execution_count": 22,
   "metadata": {},
   "outputs": [
    {
     "data": {
      "text/plain": [
       "#t"
      ]
     },
     "execution_count": 22,
     "metadata": {},
     "output_type": "execute_result"
    }
   ],
   "source": [
    "(symbol-list<?  '(Fect Cy D) '(Hacker Alyssa P))"
   ]
  },
  {
   "cell_type": "markdown",
   "metadata": {},
   "source": [
    "```scheme\n",
    "(rule (lives-near ?person-1 ?person-2)\n",
    "      (and (address ?person-1 \n",
    "                    (?town . ?rest-1))\n",
    "           (address ?person-2 \n",
    "                    (?town . ?rest-2))\n",
    "           (not (same ?person-1 ?person-2))\n",
    "           (lisp-value symbol-list>? ?person-1 ?person-1)))\n",
    "```"
   ]
  },
  {
   "cell_type": "code",
   "execution_count": null,
   "metadata": {},
   "outputs": [],
   "source": []
  }
 ],
 "metadata": {
  "kernelspec": {
   "display_name": "Calysto Scheme 3",
   "language": "scheme",
   "name": "calysto_scheme"
  },
  "language_info": {
   "codemirror_mode": {
    "name": "scheme"
   },
   "mimetype": "text/x-scheme",
   "name": "scheme",
   "pygments_lexer": "scheme"
  }
 },
 "nbformat": 4,
 "nbformat_minor": 2
}
