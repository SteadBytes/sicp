{
 "cells": [
  {
   "cell_type": "markdown",
   "metadata": {},
   "source": [
    "# 2.4\n",
    "Separate notebook as `ch2.ipynb` got large and unwieldly/slow."
   ]
  },
  {
   "cell_type": "markdown",
   "metadata": {},
   "source": [
    "## Complex-Number System\n",
    "\n",
    "The complex number $z=x+iy$ (where $i^2=-1$) can be thought of as the point in the plane whose *real* coordinate is $x$ and whose *imaginary* coordinate is $y$.\n",
    "\n",
    "Can have 2 representations:\n",
    "- Reactangular form\n",
    "    - Real part and imaginary part\n",
    "- Polar form\n",
    "    - Magnitude and angle\n",
    "    \n",
    "![](images/complex-numbers.png)\n",
    "\n",
    "#### Addition \n",
    "Of two complex numbers $z_1,z_2$ reduces to addition of coordinates - using rectangular form:\n",
    "\n",
    "$RealPart(z_1+z_2)=RealPart(z_1)+RealPart(z_2)$\n",
    "\n",
    "$ImaginaryPart(z_1+z_2)=ImaginaryPart(z_1)+ImaginaryPart(z_2)$\n",
    "\n",
    "#### Product \n",
    "Of two complex numbers $z_1,z_2$ is the vector obtained by stretching one complex number by the length of the other and then rotating it throught the angle of the other - using polar form:\n",
    "\n",
    "$Magnitude(z_1\\cdot z_2) = Magnitude(z_1)\\cdot Magnitude(z_2)$\n",
    "\n",
    "$Angle(z_1\\cdot z_2) = Angle(z_1)+Magnitude(z_2)$"
   ]
  },
  {
   "cell_type": "code",
   "execution_count": 1,
   "metadata": {},
   "outputs": [],
   "source": [
    ";; asumming that put and get procedures are implemented in the language\n",
    "(define (install-rectangular-package)  \n",
    "  ;; internal procedures\n",
    "  (define (real-part z) (car z))\n",
    "  (define (imag-part z) (cdr z))\n",
    "  (define (make-from-real-imag x y)\n",
    "    (cons x y))\n",
    "  (define (magnitude z)\n",
    "    (sqrt (+ (square (real-part z))\n",
    "             (square (imag-part z)))))\n",
    "  (define (angle z)\n",
    "    (atan (imag-part z) (real-part z)))\n",
    "  (define (make-from-mag-ang r a)\n",
    "    (cons (* r (cos a)) (* r (sin a))))\n",
    "  ;; interface to the rest of the system\n",
    "  (define (tag x)\n",
    "    (attach-tag 'rectangular x))\n",
    "  (put 'real-part '(rectangular) real-part)\n",
    "  (put 'imag-part '(rectangular) imag-part)\n",
    "  (put 'magnitude '(rectangular) magnitude)\n",
    "  (put 'angle '(rectangular) angle)\n",
    "  (put 'make-from-real-imag 'rectangular\n",
    "       (lambda (x y)\n",
    "         (tag (make-from-real-imag x y))))\n",
    "  (put 'make-from-mag-ang 'rectangular\n",
    "       (lambda (r a)\n",
    "         (tag (make-from-mag-ang r a))))\n",
    "  'done)\n",
    "\n",
    "(define (install-polar-package)\n",
    "  ;; internal procedures\n",
    "  (define (magnitude z) (car z))\n",
    "  (define (angle z) (cdr z))\n",
    "  (define (make-from-mag-ang r a) (cons r a))\n",
    "  (define (real-part z)\n",
    "    (* (magnitude z) (cos (angle z))))\n",
    "  (define (imag-part z)\n",
    "    (* (magnitude z) (sin (angle z))))\n",
    "  (define (make-from-real-imag x y)\n",
    "    (cons (sqrt (+ (square x) (square y)))\n",
    "          (atan y x)))\n",
    "  ;; interface to the rest of the system\n",
    "  (define (tag x) (attach-tag 'polar x))\n",
    "  (put 'real-part '(polar) real-part)\n",
    "  (put 'imag-part '(polar) imag-part)\n",
    "  (put 'magnitude '(polar) magnitude)\n",
    "  (put 'angle '(polar) angle)\n",
    "  (put 'make-from-real-imag 'polar\n",
    "       (lambda (x y)\n",
    "         (tag (make-from-real-imag x y))))\n",
    "  (put 'make-from-mag-ang 'polar\n",
    "       (lambda (r a)\n",
    "         (tag (make-from-mag-ang r a))))\n",
    "  'done)"
   ]
  }
 ],
 "metadata": {
  "kernelspec": {
   "display_name": "Calysto Scheme 3",
   "language": "scheme",
   "name": "calysto_scheme"
  },
  "language_info": {
   "codemirror_mode": {
    "name": "scheme"
   },
   "mimetype": "text/x-scheme",
   "name": "scheme",
   "pygments_lexer": "scheme"
  }
 },
 "nbformat": 4,
 "nbformat_minor": 2
}
