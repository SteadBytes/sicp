{
 "cells": [
  {
   "cell_type": "markdown",
   "metadata": {},
   "source": [
    "# 4.3 Variations on a Scheme - Nondeterministic Computing\n",
    "\n",
    "# 4.3.1 Amb and Search\n",
    "\n",
    "Introduce a new `amb` special form that allows nondeterministic computing by returning the value of *one* of a set of choices\n",
    "- Short for 'ambiguous'\n",
    "\n",
    "```scheme\n",
    "(amb <e1> <e2> ... <en>)\n",
    "```\n",
    "\n",
    "Returns the value of *one* of the *n* expressions 'ambiguously'. For example, the following `list` expression can have *6* possible values:\n",
    "\n",
    "```scheme\n",
    "(list (amb 1 2 3) (amb 'a 'b))\n",
    ";; (1 a) (1 b) (2 a) (2 b) (3 a) (3 b)\n",
    "```\n",
    "\n",
    "`amb` with a single choice -> ordinary value\n",
    "\n",
    "`amb` with no no choices will \"fail\" the computation - abort and produce no value.\n",
    "\n",
    "When a computation fails, the evaluator performs **depth-first search backtracking** - falling back to the most recent *choice* and attempting the next alternative."
   ]
  },
  {
   "cell_type": "markdown",
   "metadata": {},
   "source": [
    "## 4.35"
   ]
  },
  {
   "cell_type": "code",
   "execution_count": null,
   "metadata": {},
   "outputs": [],
   "source": [
    "(define (an-integer-between low high)\n",
    "  (require <= low high)\n",
    "  (amb low (an-integer-between (+ low 1) high)))\n",
    "\n",
    "(define (a-pythagorean-triple-between low high)\n",
    "  (let ((i (an-integer-between low high)))\n",
    "    (let ((j (an-integer-between i high)))\n",
    "      (let ((k (an-integer-between j high)))\n",
    "        (require (= (+ (* i i) (* j j)) \n",
    "                    (* k k)))\n",
    "        (list i j k)))))"
   ]
  },
  {
   "cell_type": "markdown",
   "metadata": {},
   "source": [
    "## 4.36\n",
    "\n",
    "Redefining `a-pythagorean-triple-between` to use `an-integer-starting-from`:\n",
    "```scheme\n",
    "(define (a-pythagorean-triple-between low high)\n",
    "  (let ((i (an-integer-starting-from low)))\n",
    "    (let ((j (an-integer-starting-from i)))\n",
    "      (let ((k (an-integer-starting-from j)))\n",
    "        (require (= (+ (* i i) (* j j)) \n",
    "                    (* k k)))\n",
    "        (list i j k)))))\n",
    "```\n",
    "\n",
    "`an-integer-starting-from` will *infinitely* generate integers greater than or equal to it's initial argument:\n",
    "\n",
    "```scheme\n",
    "(define (an-integer-starting-from n)\n",
    "  (amb n (an-integer-starting-from (+ n 1))))\n",
    "```\n",
    "\n",
    "The `require` represents the constraint:\n",
    "\n",
    "$i^2+j^2=k^2$\n",
    "\n",
    "In `a-pythagorean-triple-between`, the initial values of `i`, `j` and `k`  are all equal to `low`. The `require` will therefore fail. The evaluator will then backtrack to attempt the next value of `k` which will again fail. As there is *no limit* on the value of `k` due to `an-integer-starting-from` infinitely producing values, the procedure will never terminate.\n",
    "\n",
    "In order to generate all Pythagorean triples, the value of `k` must be bounded. Since `k` represents the length of the *hypotenuse*, we can bound `k` in relation to `i` and `j`:\n",
    "\n",
    "$k > i, k > j$\n",
    "\n",
    "Using the the [triangle inequality](https://en.wikipedia.org/wiki/Triangle_inequality), `k` can be further bounded:\n",
    "\n",
    "$k <= i+j$\n",
    "\n",
    "Combining these, `i` and `k` can be bounded using `an-integer-between` and `j` can use `an-integer-starting-from` with an initial value of `1`:"
   ]
  },
  {
   "cell_type": "code",
   "execution_count": 2,
   "metadata": {},
   "outputs": [],
   "source": [
    ";; extracted out for clarity\n",
    "(define (is-pythagorean-triple i j k)\n",
    "  (= (+ (* i i) (* j j))\n",
    "     (* k k)))\n",
    "\n",
    "(define (a-pythagorean-triple)\n",
    "  (let ((j (an-integer-starting-from 1)))\n",
    "    (let ((i (an-integer-between 1 j))) ;; k > i AND k > j\n",
    "      (let ((k (an-integer-between j (+ i j)))) ;; k <= i + j AND k > j\n",
    "        (require (is-pythagorean-triple i j k))\n",
    "        (list i j k)))))"
   ]
  },
  {
   "cell_type": "code",
   "execution_count": null,
   "metadata": {},
   "outputs": [],
   "source": []
  }
 ],
 "metadata": {
  "kernelspec": {
   "display_name": "Calysto Scheme 3",
   "language": "scheme",
   "name": "calysto_scheme"
  },
  "language_info": {
   "codemirror_mode": {
    "name": "scheme"
   },
   "mimetype": "text/x-scheme",
   "name": "scheme",
   "pygments_lexer": "scheme"
  }
 },
 "nbformat": 4,
 "nbformat_minor": 2
}
