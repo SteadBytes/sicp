{
 "cells": [
  {
   "cell_type": "markdown",
   "metadata": {},
   "source": [
    "# Chapter 3"
   ]
  },
  {
   "cell_type": "markdown",
   "metadata": {},
   "source": [
    "## 3.1"
   ]
  },
  {
   "cell_type": "code",
   "execution_count": 6,
   "metadata": {},
   "outputs": [],
   "source": [
    "(define (make-accumulator acc)\n",
    "  (lambda (x) (set! acc (+ acc x)) acc))"
   ]
  },
  {
   "cell_type": "code",
   "execution_count": 7,
   "metadata": {},
   "outputs": [],
   "source": [
    "(define A (make-accumulator 5))"
   ]
  },
  {
   "cell_type": "code",
   "execution_count": 8,
   "metadata": {},
   "outputs": [
    {
     "data": {
      "text/plain": [
       "15"
      ]
     },
     "execution_count": 8,
     "metadata": {},
     "output_type": "execute_result"
    }
   ],
   "source": [
    "(A 10)"
   ]
  },
  {
   "cell_type": "code",
   "execution_count": 10,
   "metadata": {},
   "outputs": [
    {
     "data": {
      "text/plain": [
       "25"
      ]
     },
     "execution_count": 10,
     "metadata": {},
     "output_type": "execute_result"
    }
   ],
   "source": [
    "(A 10)"
   ]
  },
  {
   "cell_type": "markdown",
   "metadata": {},
   "source": [
    "## 3.2"
   ]
  },
  {
   "cell_type": "code",
   "execution_count": 15,
   "metadata": {},
   "outputs": [],
   "source": [
    "(define (make-monitored f)\n",
    "  (define count 0)\n",
    "  (define (mf m)\n",
    "    (cond ((eq? m 'how-many-calls?) count)\n",
    "          ((eq? m 'reset-count) (set! count 0))\n",
    "          (else \n",
    "           (set! count (+ count 1))\n",
    "           (f m))))\n",
    "  mf)"
   ]
  },
  {
   "cell_type": "code",
   "execution_count": 30,
   "metadata": {},
   "outputs": [],
   "source": [
    "(define s (make-monitored sqrt))"
   ]
  },
  {
   "cell_type": "code",
   "execution_count": 31,
   "metadata": {},
   "outputs": [
    {
     "data": {
      "text/plain": [
       "10.0"
      ]
     },
     "execution_count": 31,
     "metadata": {},
     "output_type": "execute_result"
    }
   ],
   "source": [
    "(s 100)"
   ]
  },
  {
   "cell_type": "code",
   "execution_count": 32,
   "metadata": {},
   "outputs": [
    {
     "data": {
      "text/plain": [
       "1"
      ]
     },
     "execution_count": 32,
     "metadata": {},
     "output_type": "execute_result"
    }
   ],
   "source": [
    "(s 'how-many-calls?)"
   ]
  },
  {
   "cell_type": "code",
   "execution_count": 33,
   "metadata": {},
   "outputs": [
    {
     "data": {
      "text/plain": [
       "5.0"
      ]
     },
     "execution_count": 33,
     "metadata": {},
     "output_type": "execute_result"
    }
   ],
   "source": [
    "(s 25)"
   ]
  },
  {
   "cell_type": "code",
   "execution_count": 34,
   "metadata": {},
   "outputs": [
    {
     "data": {
      "text/plain": [
       "2"
      ]
     },
     "execution_count": 34,
     "metadata": {},
     "output_type": "execute_result"
    }
   ],
   "source": [
    "(s 'how-many-calls?)"
   ]
  },
  {
   "cell_type": "code",
   "execution_count": 35,
   "metadata": {},
   "outputs": [
    {
     "data": {
      "text/plain": [
       "0"
      ]
     },
     "execution_count": 35,
     "metadata": {},
     "output_type": "execute_result"
    }
   ],
   "source": [
    "(s 'reset-count)\n",
    "(s 'how-many-calls?)"
   ]
  },
  {
   "cell_type": "markdown",
   "metadata": {},
   "source": [
    "## 3.3"
   ]
  },
  {
   "cell_type": "code",
   "execution_count": 40,
   "metadata": {},
   "outputs": [],
   "source": [
    "(define (make-account balance password)\n",
    "  (define (withdraw amount)\n",
    "    (if (>= balance amount)\n",
    "        (begin (set! balance\n",
    "                     (- balance amount))\n",
    "               balance)\n",
    "        \"Insufficient funds\"))\n",
    "  (define (deposit amount)\n",
    "    (set! balance (+ balance amount))\n",
    "    balance)\n",
    "  \n",
    "  (define (dispatch m)\n",
    "    (cond ((eq? m 'withdraw) withdraw)\n",
    "          ((eq? m 'deposit deposit))\n",
    "          (else (error \"Unkown request:\n",
    "                       MAKE-ACCOUNT\" m))))\n",
    "  \n",
    "  (define (authorise pass m)\n",
    "    (if (eq? pass password)\n",
    "        (dispatch m)\n",
    "        (lambda (amount) \"Incorrect password\")))\n",
    "    \n",
    "  authorise)"
   ]
  },
  {
   "cell_type": "code",
   "execution_count": 41,
   "metadata": {},
   "outputs": [
    {
     "data": {
      "text/plain": [
       "50"
      ]
     },
     "execution_count": 41,
     "metadata": {},
     "output_type": "execute_result"
    }
   ],
   "source": [
    "(define acc\n",
    "  (make-account 150 '1234safepassword))\n",
    "\n",
    "((acc '1234safepassword 'withdraw) 100)"
   ]
  },
  {
   "cell_type": "code",
   "execution_count": 42,
   "metadata": {},
   "outputs": [
    {
     "data": {
      "text/plain": [
       "\"Incorrect password\""
      ]
     },
     "execution_count": 42,
     "metadata": {},
     "output_type": "execute_result"
    }
   ],
   "source": [
    "((acc 'wrongpassword 'deposit) 100)"
   ]
  },
  {
   "cell_type": "markdown",
   "metadata": {},
   "source": [
    "## 3.4"
   ]
  },
  {
   "cell_type": "code",
   "execution_count": 71,
   "metadata": {},
   "outputs": [],
   "source": [
    "(define (make-account balance password)\n",
    "  (define failed-attempts 0)\n",
    "  (define (call-the-police) \"Too many failed attempts, police on the way.\")\n",
    "  (define (withdraw amount)\n",
    "    (if (>= balance amount)\n",
    "        (begin (set! balance\n",
    "                     (- balance amount))\n",
    "               balance)\n",
    "        \"Insufficient funds\"))\n",
    "  (define (deposit amount)\n",
    "    (set! balance (+ balance amount))\n",
    "    balance)\n",
    "  \n",
    "  (define (dispatch m)\n",
    "    (cond ((eq? m 'withdraw) withdraw)\n",
    "          ((eq? m 'deposit deposit))\n",
    "          (else (error \"Unkown request:\n",
    "                       MAKE-ACCOUNT\" m))))\n",
    "  \n",
    "  (define (authorise pass m)\n",
    "    (if (eq? pass password)\n",
    "        (begin (set! failed-attempts 0)\n",
    "               (dispatch m))\n",
    "        (begin (set! failed-attempts (+ 1 failed-attempts))\n",
    "               (lambda (amount) \"Incorrect password\"))))\n",
    "  \n",
    "  (define (limit-attempts pass m)\n",
    "    (if (>= failed-attempts 7)\n",
    "         (lambda (x) (call-the-police))\n",
    "        (authorise pass m)))\n",
    "    \n",
    "  limit-attempts)"
   ]
  },
  {
   "cell_type": "code",
   "execution_count": 72,
   "metadata": {},
   "outputs": [],
   "source": [
    "(define acc\n",
    "  (make-account 150 '1234safepassword))"
   ]
  },
  {
   "cell_type": "code",
   "execution_count": 73,
   "metadata": {},
   "outputs": [
    {
     "data": {
      "text/plain": [
       "50"
      ]
     },
     "execution_count": 73,
     "metadata": {},
     "output_type": "execute_result"
    }
   ],
   "source": [
    "((acc '1234safepassword 'withdraw) 100)"
   ]
  },
  {
   "cell_type": "code",
   "execution_count": 74,
   "metadata": {},
   "outputs": [
    {
     "data": {
      "text/plain": [
       "\"Too many failed attempts, police on the way.\""
      ]
     },
     "execution_count": 74,
     "metadata": {},
     "output_type": "execute_result"
    }
   ],
   "source": [
    "((acc 'wrongpassword 'withdraw) 100)\n",
    "((acc 'wrongpassword 'withdraw) 100)\n",
    "((acc 'wrongpassword 'withdraw) 100)\n",
    "((acc 'wrongpassword 'withdraw) 100)\n",
    "((acc 'wrongpassword 'withdraw) 100)\n",
    "((acc 'wrongpassword 'withdraw) 100)\n",
    "((acc 'wrongpassword 'withdraw) 100)\n",
    "\n",
    "((acc '1234safepassword 'withdraw) 100)"
   ]
  },
  {
   "cell_type": "markdown",
   "metadata": {},
   "source": [
    "## 3.5"
   ]
  },
  {
   "cell_type": "code",
   "execution_count": 15,
   "metadata": {},
   "outputs": [],
   "source": [
    "(define (square x)\n",
    "  (* x x))\n",
    "\n",
    "(define (monte-carlo trials experiment)\n",
    "  (define (iter trials-remaining trials-passed)\n",
    "    (cond ((= trials-remaining 0)\n",
    "           ( / trials-passed trials))\n",
    "          ((experiment)\n",
    "           (iter (- trials-remaining 1)\n",
    "                 (+ trials-passed 1)))\n",
    "          (else\n",
    "           (iter (- trials-remaining 1)\n",
    "                 trials-passed))))\n",
    "  (iter trials 0))\n",
    "\n",
    "(define (random-in-range low high)\n",
    "  (let ((range (- high low)))\n",
    "    (+ low (random range))))\n",
    "\n",
    "(define (make-point x y) (cons x y))\n",
    "(define (get-x point) (car point))\n",
    "(define (get-y point) (cdr point))\n",
    "\n",
    "(define (make-circle center-point radius)\n",
    "   (list center-point radius))\n",
    "(define (get-center circle) (car circle))\n",
    "(define (get-radius circle) (cadr circle))\n",
    "\n",
    "(define (make-rect p1 p2) (list p1 p2))\n",
    "(define (width-rect rect)\n",
    "  (abs (- (get-x (car rect))\n",
    "          (get-x (cadr rect)))))\n",
    "(define (height-rect rect)\n",
    "  (abs (- (get-y (car rect))\n",
    "          (get-y (cadr rect)))))\n",
    "(define (area-rect rect)\n",
    "  (* (width-rect rect) (height-rect rect)))\n",
    "\n",
    "(define (rand-point-in-rect rect)\n",
    "  (make-point (random-in-range (get-x (car rect)) \n",
    "                               (get-x (cadr rect)))\n",
    "              (random-in-range (get-y (car rect))\n",
    "                               (get-y (cadr rect)))))\n",
    "\n",
    "(define (point-in-circle? point circle)\n",
    "  (let ((circle-center-x (get-x (get-center circle)))\n",
    "        (circle-center-y (get-y (get-center circle))))\n",
    "    (<= (+ (square (- (get-x point) circle-center-x))\n",
    "           (square (- (get-y point) circle-center-y)))\n",
    "        (square (get-radius circle)))))\n",
    "\n",
    ";; P should take a rectangle as input and test whether a random\n",
    ";; point within that rectangle is within a desired circle\n",
    ";; the circle is internal to P\n",
    "(define (estimate-integral P bounds-rect trials)\n",
    "  (monte-carlo trials (P bounds-rect)))\n",
    "\n",
    "(define unit-rect (make-rect (make-point -1.0 -1.0)\n",
    "                             (make-point 1.0 1.0)))\n",
    "(define unit-circle (make-circle (make-point 0 0) 1.0))\n",
    "\n",
    "\n",
    "(define (estimate-pi-integral trials)\n",
    "  (define (rand-point-in-unit-circle bounds-rect) \n",
    "    (lambda ()\n",
    "      (point-in-circle? (rand-point-in-rect bounds-rect)\n",
    "                        unit-circle)))\n",
    "  (* (area-rect unit-rect) \n",
    "     (estimate-integral rand-point-in-unit-circle unit-rect trials))) \n"
   ]
  },
  {
   "cell_type": "markdown",
   "metadata": {},
   "source": [
    "This takes a long time to run -> markdown cell to prevent accidentally running again.\n",
    "```scheme\n",
    ";;(estimate-pi-integral 100000)\n",
    ";; 3.144\n",
    "```"
   ]
  },
  {
   "cell_type": "code",
   "execution_count": null,
   "metadata": {},
   "outputs": [],
   "source": []
  }
 ],
 "metadata": {
  "kernelspec": {
   "display_name": "Calysto Scheme 3",
   "language": "scheme",
   "name": "calysto_scheme"
  },
  "language_info": {
   "codemirror_mode": {
    "name": "scheme"
   },
   "mimetype": "text/x-scheme",
   "name": "scheme",
   "pygments_lexer": "scheme"
  }
 },
 "nbformat": 4,
 "nbformat_minor": 2
}
