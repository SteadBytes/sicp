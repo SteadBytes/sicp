{
 "cells": [
  {
   "cell_type": "markdown",
   "metadata": {},
   "source": [
    "# 3.5 Streams"
   ]
  },
  {
   "cell_type": "code",
   "execution_count": 1,
   "metadata": {},
   "outputs": [],
   "source": [
    "; define as macros to override Schemes eager evalutation\n",
    "(define-syntax delay\n",
    "               [(delay ?exp) (memo-proc (lambda() ?exp))])\n",
    "(define-syntax cons-stream\n",
    "               [(cons-stream ?a ?b) (cons ?a (delay ?b))])\n",
    "\n",
    "(define the-empty-stream '())\n",
    "\n",
    "(define (stream-null? s)\n",
    "  (eq? s the-empty-stream))\n",
    "(define (stream-car stream)\n",
    "  (car stream))\n",
    "(define (stream-cdr stream)\n",
    "  (force (cdr stream)))\n",
    "\n",
    "(define (stream-ref s n)\n",
    "  (if (= n 0)\n",
    "      (stream-car s)\n",
    "      (stream-ref (stream-cdr s) (- n 1))))\n",
    "\n",
    "(define (stream-map proc s)\n",
    "  (if (stream-null? s)\n",
    "      the-empty-stream\n",
    "      (cons-stram\n",
    "       (proc (stream-car s))\n",
    "       (stream-map proc (stream-cdr s)))))\n",
    "\n",
    "(define (stream-for-each proc s)\n",
    "  (if (stream-null? s)\n",
    "      'done\n",
    "      (begin\n",
    "       (proc (stream-car s))\n",
    "       (stream-for-each proc\n",
    "                        (stream-cdr s)))))\n",
    "\n",
    "(define (stream-filter pred stream)\n",
    "  (cond ((stream-null? stream)\n",
    "         the-empty-stream)\n",
    "        ((pred (stream-car stream))\n",
    "         (cons-stream\n",
    "          (stream-car stream)\n",
    "          (stream-filter\n",
    "           pred\n",
    "           (stream-cdr stream))))\n",
    "        (else (stream-filter\n",
    "               pred\n",
    "               (stream-cdr stream)))))\n",
    "\n",
    "(define (stream-enumerate-interval low high)\n",
    "  (if (> low high)\n",
    "      the-empty-stream\n",
    "      (cons-stream\n",
    "       low\n",
    "       (stream-enumerate-interval (+ low 1)\n",
    "                                  high))))\n",
    "\n",
    "(define (force delayed-object)\n",
    "  (delayed-object))\n",
    "\n",
    "(define (memo-proc proc)\n",
    "  (let ((already-run? #f)\n",
    "        (result #f))\n",
    "    (lambda ()\n",
    "      (if (not already-run?)\n",
    "          (begin (set! result (proc))\n",
    "                 (set! already-run? #t)\n",
    "                 result)\n",
    "          result))))\n",
    "\n",
    "(define (display-stream s)\n",
    "  (stream-for-each display-line s))\n",
    "\n",
    "(define (display-line x)\n",
    "  (newline)\n",
    "  (display x))"
   ]
  },
  {
   "cell_type": "markdown",
   "metadata": {},
   "source": [
    "## 3.50"
   ]
  },
  {
   "cell_type": "code",
   "execution_count": 58,
   "metadata": {},
   "outputs": [],
   "source": [
    "; take proc of n args along with n streams\n",
    "; apply proc to to all elements of each stream\n",
    "(define (stream-map proc . argstreams)\n",
    "  (if (stream-null? (car argstreams))\n",
    "      the-empty-stream\n",
    "      (cons-stream\n",
    "       (apply proc (map stream-car argstreams))\n",
    "       (apply stream-map\n",
    "              (cons proc\n",
    "                    (map stream-cdr\n",
    "                         argstreams))))))"
   ]
  },
  {
   "cell_type": "markdown",
   "metadata": {},
   "source": [
    "## 3.51"
   ]
  },
  {
   "cell_type": "code",
   "execution_count": 3,
   "metadata": {},
   "outputs": [
    {
     "name": "stdout",
     "output_type": "stream",
     "text": [
      "\n",
      "0"
     ]
    }
   ],
   "source": [
    "; prints and returns argument\n",
    "(define (show x)\n",
    "  (display-line x)\n",
    "  x)\n",
    "\n",
    "(define x\n",
    "  (stream-map\n",
    "   show\n",
    "   (stream-enumerate-interval 0 10)))"
   ]
  },
  {
   "cell_type": "code",
   "execution_count": 4,
   "metadata": {},
   "outputs": [
    {
     "name": "stdout",
     "output_type": "stream",
     "text": [
      "\n",
      "1\n",
      "2\n",
      "3\n",
      "4\n",
      "5"
     ]
    },
    {
     "data": {
      "text/plain": [
       "5"
      ]
     },
     "execution_count": 4,
     "metadata": {},
     "output_type": "execute_result"
    }
   ],
   "source": [
    "(stream-ref x 5)"
   ]
  },
  {
   "cell_type": "code",
   "execution_count": 5,
   "metadata": {},
   "outputs": [
    {
     "name": "stdout",
     "output_type": "stream",
     "text": [
      "\n",
      "6\n",
      "7"
     ]
    },
    {
     "data": {
      "text/plain": [
       "7"
      ]
     },
     "execution_count": 5,
     "metadata": {},
     "output_type": "execute_result"
    }
   ],
   "source": [
    "(stream-ref x 7)"
   ]
  },
  {
   "cell_type": "markdown",
   "metadata": {},
   "source": [
    "## 3.52"
   ]
  },
  {
   "cell_type": "code",
   "execution_count": 6,
   "metadata": {},
   "outputs": [
    {
     "data": {
      "text/plain": [
       "0"
      ]
     },
     "execution_count": 6,
     "metadata": {},
     "output_type": "execute_result"
    }
   ],
   "source": [
    "(define sum 0)\n",
    "\n",
    "sum"
   ]
  },
  {
   "cell_type": "code",
   "execution_count": 7,
   "metadata": {},
   "outputs": [
    {
     "data": {
      "text/plain": [
       "0"
      ]
     },
     "execution_count": 7,
     "metadata": {},
     "output_type": "execute_result"
    }
   ],
   "source": [
    "(define (accum x)\n",
    "  (set! sum (+ x sum))\n",
    "  sum)\n",
    "\n",
    "sum"
   ]
  },
  {
   "cell_type": "code",
   "execution_count": 8,
   "metadata": {},
   "outputs": [
    {
     "data": {
      "text/plain": [
       "1"
      ]
     },
     "execution_count": 8,
     "metadata": {},
     "output_type": "execute_result"
    }
   ],
   "source": [
    "(define seq\n",
    "  (stream-map\n",
    "   accum\n",
    "   (stream-enumerate-interval 1 20)))\n",
    "\n",
    "sum"
   ]
  },
  {
   "cell_type": "code",
   "execution_count": 9,
   "metadata": {},
   "outputs": [
    {
     "data": {
      "text/plain": [
       "6"
      ]
     },
     "execution_count": 9,
     "metadata": {},
     "output_type": "execute_result"
    }
   ],
   "source": [
    "(define y (stream-filter even? seq))\n",
    "\n",
    "sum"
   ]
  },
  {
   "cell_type": "code",
   "execution_count": 10,
   "metadata": {},
   "outputs": [
    {
     "data": {
      "text/plain": [
       "10"
      ]
     },
     "execution_count": 10,
     "metadata": {},
     "output_type": "execute_result"
    }
   ],
   "source": [
    "(define z\n",
    "  (stream-filter\n",
    "   (lambda (x)\n",
    "     (= (remainder x 5) 0)) seq))\n",
    "\n",
    "sum"
   ]
  },
  {
   "cell_type": "code",
   "execution_count": 11,
   "metadata": {},
   "outputs": [
    {
     "data": {
      "text/plain": [
       "136"
      ]
     },
     "execution_count": 11,
     "metadata": {},
     "output_type": "execute_result"
    }
   ],
   "source": [
    "(stream-ref y 7)"
   ]
  },
  {
   "cell_type": "code",
   "execution_count": 12,
   "metadata": {},
   "outputs": [
    {
     "data": {
      "text/plain": [
       "136"
      ]
     },
     "execution_count": 12,
     "metadata": {},
     "output_type": "execute_result"
    }
   ],
   "source": [
    "sum"
   ]
  },
  {
   "cell_type": "code",
   "execution_count": 13,
   "metadata": {},
   "outputs": [
    {
     "name": "stdout",
     "output_type": "stream",
     "text": [
      "\n",
      "10\n",
      "15\n",
      "45\n",
      "55\n",
      "105\n",
      "120\n",
      "190\n",
      "210"
     ]
    },
    {
     "data": {
      "text/plain": [
       "done"
      ]
     },
     "execution_count": 13,
     "metadata": {},
     "output_type": "execute_result"
    }
   ],
   "source": [
    "(display-stream z)"
   ]
  },
  {
   "cell_type": "code",
   "execution_count": 14,
   "metadata": {},
   "outputs": [
    {
     "data": {
      "text/plain": [
       "210"
      ]
     },
     "execution_count": 14,
     "metadata": {},
     "output_type": "execute_result"
    }
   ],
   "source": [
    "sum"
   ]
  },
  {
   "cell_type": "markdown",
   "metadata": {},
   "source": [
    "The results above would be different if `delay` did not use memoization through `memo-proc`. This is because `sum` is mutated each time `seq` is evaluated.`"
   ]
  },
  {
   "cell_type": "markdown",
   "metadata": {},
   "source": [
    "# 3.5.2 Infinite Streams"
   ]
  },
  {
   "cell_type": "code",
   "execution_count": 15,
   "metadata": {},
   "outputs": [],
   "source": [
    "(define ones (cons-stream 1 ones))\n",
    "\n",
    "(define (add-streams s1 s2)\n",
    "  (stream-map + s1 s2))\n",
    "\n",
    "(define integers\n",
    "  (cons-stream 1 (add-streams ones integers)))\n",
    "\n",
    "(define fibs\n",
    "  (cons-stream\n",
    "   0 (cons-stream\n",
    "      1 (add-streams\n",
    "         (stream-cdr fibs) fibs))))\n",
    "\n",
    "(define (scale-stream stream factor)\n",
    "  (stream-map\n",
    "   (lambda (x) (* x factor))\n",
    "   stream))\n",
    "\n",
    "(define primes\n",
    "  (cons-stream\n",
    "   2 (stream-filter\n",
    "      prime? (integers-starting-from 3))))\n",
    "\n",
    "; check whether n is divisible by a prime less than or equal to sqrt(n)\n",
    "(define (prime? n)\n",
    "  (define (iter ps)\n",
    "    (cond ((> (square (stream-car ps)) n) #t)\n",
    "          ((divisible? n (stream-car ps)) #f)\n",
    "          (else (iter (stream-cdr ps)))))\n",
    "  (iter primes))"
   ]
  },
  {
   "cell_type": "markdown",
   "metadata": {},
   "source": [
    "## 3.53"
   ]
  },
  {
   "cell_type": "markdown",
   "metadata": {},
   "source": [
    "```scheme\n",
    "(define s (cons-stream 1 (add-streams s s)))\n",
    "```\n",
    "`s` is an infinite stream of powers of 2: `1, 2, 4, 8, 16, 32 ...`\n",
    "\n",
    "It is equivalent to the `double` stream defined earlier in the chapter:\n",
    "```scheme\n",
    "(define double\n",
    "  (cons-stream 1 (scale-stream double 2)))\n",
    "```"
   ]
  },
  {
   "cell_type": "markdown",
   "metadata": {},
   "source": [
    "## 3.54"
   ]
  },
  {
   "cell_type": "code",
   "execution_count": 16,
   "metadata": {},
   "outputs": [],
   "source": [
    "(define (mul-streams s1 s2)\n",
    "  (stream-map * s1 s2))\n",
    "\n",
    "(define factorials\n",
    "  (cons-stream 1 (mul-streams factorials integers)))"
   ]
  },
  {
   "cell_type": "markdown",
   "metadata": {},
   "source": [
    "## 3.55"
   ]
  },
  {
   "cell_type": "code",
   "execution_count": 17,
   "metadata": {},
   "outputs": [],
   "source": [
    "(define (partial-sums stream)\n",
    "   (cons-stream (stream-car stream)\n",
    "                (add-streams (stream-cdr stream)\n",
    "                             (partial-sums stream))))"
   ]
  },
  {
   "cell_type": "markdown",
   "metadata": {},
   "source": [
    "## 3.56"
   ]
  },
  {
   "cell_type": "code",
   "execution_count": 18,
   "metadata": {},
   "outputs": [],
   "source": [
    "(define (merge s1 s2)\n",
    "  (cond ((stream-null? s1) s2)\n",
    "        ((stream-null? s2) s1)\n",
    "        (else\n",
    "         (let ((s1car (stream-car s1))\n",
    "               (s2car (stream-car s2)))\n",
    "           (cond ((< s1car s2car)\n",
    "                  (cons-stream\n",
    "                   s1car\n",
    "                   (merge (stream-cdr s1)\n",
    "                          s2)))\n",
    "                 ((> s1car s2car)\n",
    "                  (cons-stream\n",
    "                   s2car\n",
    "                   (merge s1\n",
    "                          (stream-cdr s2))))\n",
    "                 (else\n",
    "                  (cons-stream\n",
    "                   s1car\n",
    "                   (merge\n",
    "                    (stream-cdr s1)\n",
    "                    (stream-cdr s2)))))))))\n",
    "\n",
    "(define S (cons-stream\n",
    "           1\n",
    "           (merge (scale-stream S 2) (merge (scale-stream S 3)\n",
    "                                            (scale-stream S 5)))))"
   ]
  },
  {
   "cell_type": "markdown",
   "metadata": {},
   "source": [
    "## 3.57\n",
    "```scheme\n",
    "(define fibs\n",
    "  (cons-stream\n",
    "   0 (cons-stream\n",
    "      1 (add-streams\n",
    "         (stream-cdr fibs) fibs))))\n",
    "```\n",
    "The streams definition of `fibs` will perform $n-1$ additions when computing the $n^{th}$ Fibonacci number.\n",
    "\n",
    "Each term $Fib _n$ is computed by $sum(Fib _{n-1}, Fib_{n-2})$. Due to memoization in `delay`, recalling the previous terms $Fib _{n-1}, Fib_{n-2}$ requires no additions. Therefore, each term *after the first* requires **one addition** (the first term is given in the definition of `fibs`).\n",
    "\n",
    "Without memoization `delay`, computing $Fib _n$ will require re-calculating $Fib _{n-1}$ and $Fib_{n-2}$ instead of recalling the memoized values:\n",
    "\n",
    "$Fib _1 = 1$\n",
    "\n",
    "$T(Fib _{n-1}) = O(2^{n-1})$\n",
    "\n",
    "$T(Fib _n) = T(Fib _n-1) + T(Fib _n-2) = O(2^{n-1}) + O(2^{n-2}) = O(2^n)$\n"
   ]
  },
  {
   "cell_type": "markdown",
   "metadata": {},
   "source": [
    "## 3.58"
   ]
  },
  {
   "cell_type": "code",
   "execution_count": 19,
   "metadata": {},
   "outputs": [],
   "source": [
    "(define (expand num den radix)\n",
    "  (cons-stream\n",
    "   (quotient (* num radix) den)\n",
    "   (expand (remainder (* num radix) den)\n",
    "           den\n",
    "           radix)))\n",
    "\n",
    "; print first n values of stream \n",
    "(define (display-stream-n s n)\n",
    "  (if (= n 0)\n",
    "      (newline)\n",
    "      (begin\n",
    "       (newline)\n",
    "       (display (stream-car s))\n",
    "       (display-stream-n\n",
    "        (stream-cdr s) (- n 1)))))\n"
   ]
  },
  {
   "cell_type": "markdown",
   "metadata": {},
   "source": [
    "`expand` produces the digits of $\\frac{num}{den}$ in base `radix`:"
   ]
  },
  {
   "cell_type": "code",
   "execution_count": 67,
   "metadata": {},
   "outputs": [
    {
     "name": "stdout",
     "output_type": "stream",
     "text": [
      "\n",
      "1\n",
      "4\n",
      "2\n",
      "8\n",
      "5\n"
     ]
    }
   ],
   "source": [
    "(display-stream-n (expand 1 7 10) 5)"
   ]
  },
  {
   "cell_type": "code",
   "execution_count": 21,
   "metadata": {},
   "outputs": [
    {
     "data": {
      "text/plain": [
       "0.14285714285714285"
      ]
     },
     "execution_count": 21,
     "metadata": {},
     "output_type": "execute_result"
    }
   ],
   "source": [
    "(float (/ 1 7))"
   ]
  },
  {
   "cell_type": "code",
   "execution_count": 22,
   "metadata": {},
   "outputs": [
    {
     "name": "stdout",
     "output_type": "stream",
     "text": [
      "3\n",
      "7\n",
      "5\n",
      "0\n",
      "0\n"
     ]
    },
    {
     "data": {
      "text/plain": [
       "#f"
      ]
     },
     "execution_count": 22,
     "metadata": {},
     "output_type": "execute_result"
    }
   ],
   "source": [
    "(display-stream-n (expand 3 8 10) 5)"
   ]
  },
  {
   "cell_type": "code",
   "execution_count": 23,
   "metadata": {},
   "outputs": [
    {
     "data": {
      "text/plain": [
       "0.375"
      ]
     },
     "execution_count": 23,
     "metadata": {},
     "output_type": "execute_result"
    }
   ],
   "source": [
    "(float (/ 3 8))"
   ]
  },
  {
   "cell_type": "markdown",
   "metadata": {},
   "source": [
    "## 3.59"
   ]
  },
  {
   "cell_type": "code",
   "execution_count": 20,
   "metadata": {},
   "outputs": [],
   "source": [
    "(define (integrate-series s)\n",
    "  (stream-map / s integers))\n",
    "\n",
    "(define exp-series\n",
    "  (cons-stream\n",
    "   1 (integrate-series exp-series)))\n",
    "\n",
    "(define cosine-series\n",
    "  (cons-stream 1 (integrate-series sine-series)))\n",
    "\n",
    "(define sine-series\n",
    "  (cons-stream\n",
    "   0 (scale-stream (integrate-series cosine-series) -1)))"
   ]
  },
  {
   "cell_type": "markdown",
   "metadata": {},
   "source": [
    "## 3.60"
   ]
  },
  {
   "cell_type": "code",
   "execution_count": 21,
   "metadata": {},
   "outputs": [
    {
     "name": "stdout",
     "output_type": "stream",
     "text": [
      "\n",
      "1\n",
      "0\n",
      "0\n"
     ]
    }
   ],
   "source": [
    "(define (mul-series s1 s2)\n",
    "  (cons-stream\n",
    "   ; multiply first coeffs to create next element of series\n",
    "   (* (stream-car s1) (stream-car s2))\n",
    "   ; multiply remaining coeffs in s1 by first coeff in s2\n",
    "   (add-streams (scale-stream (stream-cdr s1)\n",
    "                              (stream-car s2))\n",
    "                (mul-series s1 (stream-cdr s2)))))\n",
    "\n",
    "(define cos^2+sin^2\n",
    "  (add-streams (mul-series cosine-series cosine-series)\n",
    "               (mul-series sine-series sine-series)))\n",
    "\n",
    "(display-stream-n cos^2+sin^2 3)"
   ]
  },
  {
   "cell_type": "markdown",
   "metadata": {},
   "source": [
    "## 3.61\n",
    "\n",
    "$S$ = power series whose constant term is $1$.\n",
    "\n",
    "The power series $\\frac{1}{S}$ is the series $X$ such that $SX=1$.\n",
    "\n",
    "$S=1+S_R$ where $S_R$ is the part of $S$ *after* the constant term.\n",
    "\n",
    "$SX=1$\n",
    "\n",
    "$(1+S_R)X=1$\n",
    "\n",
    "$X+S_RX=1$\n",
    "\n",
    "$X=1-S_RX$\n"
   ]
  },
  {
   "cell_type": "code",
   "execution_count": 23,
   "metadata": {},
   "outputs": [],
   "source": [
    "; computes 1/S for power series S w/constant term 1\n",
    "(define (invert-unit-series s)\n",
    "  (cons-stream 1 (scale-stream\n",
    "                  (mul-series (stream-cdr s)\n",
    "                              (invert-unit-series s))\n",
    "                  -1)))"
   ]
  },
  {
   "cell_type": "markdown",
   "metadata": {},
   "source": [
    "## 3.62"
   ]
  },
  {
   "cell_type": "code",
   "execution_count": 24,
   "metadata": {},
   "outputs": [
    {
     "name": "stdout",
     "output_type": "stream",
     "text": [
      "\n",
      "0\n",
      "-1\n",
      "0\n",
      "-1/3\n",
      "0\n"
     ]
    }
   ],
   "source": [
    "(define (div-series num-s denom-s)\n",
    "  (let ((denom-constant (stream-car denom-s)))\n",
    "    (if (zero? denom-constant)\n",
    "        (error \"div-series\" \"Denominator must have non-zero constant term\")\n",
    "        (mul-series\n",
    "         num-s\n",
    "         (scale-stream (invert-unit-series\n",
    "                        (scale-stream denom-s (/ 1 denom-constant)))\n",
    "                       denom-constant)))))\n",
    "\n",
    "(define tan-series\n",
    "  (div-series sine-series cosine-series))\n",
    "\n",
    "(display-stream-n tan-series 5)"
   ]
  },
  {
   "cell_type": "markdown",
   "metadata": {},
   "source": [
    "## 3.63\n",
    "```scheme\n",
    "; with local `guesses` variable\n",
    "(define (sqrt-stream x)\n",
    "  (define guesses\n",
    "    (cons-stream\n",
    "     1.0 (stream-map\n",
    "          (lambda (guess)\n",
    "            (sqrt-improve guess x))\n",
    "          guesses)))\n",
    "  guesses)\n",
    "\n",
    "; without local `guesses` variable\n",
    "(define (sqrt-stream x)\n",
    "  (cons-stream\n",
    "   1.0\n",
    "   (stream-map (lambda (guess)\n",
    "                 (sqrt-improve guess x))\n",
    "               (sqrt-stream x))))\n",
    "```\n",
    "\n",
    "Defining `guesses` means that the same stream is reused when generating further values. Due to the memoization in `delay`, previously computed values of the stream are not re-computed. Without `guesses` a new, yet to be memoized, stream is created each time another value of the stream is generated.\n",
    "\n",
    "If `delay` didn't implement memoization, there would be no difference in efficiency between the two procedures as the `stream-map` call will force the evaluation of the `guesses` stream."
   ]
  },
  {
   "cell_type": "markdown",
   "metadata": {},
   "source": [
    "## 3.64"
   ]
  },
  {
   "cell_type": "code",
   "execution_count": 25,
   "metadata": {},
   "outputs": [],
   "source": [
    "(define (sqrt-improve guess x)\n",
    "  (define (average x y) (/ (+ x y) 2))\n",
    "  (average guess (/ x guess)))\n",
    "\n",
    "(define (sqrt-stream x)\n",
    "  (define guesses\n",
    "    (cons-stream\n",
    "     1.0 (stream-map\n",
    "          (lambda (guess)\n",
    "            (sqrt-improve guess x))\n",
    "          guesses)))\n",
    "  guesses)\n",
    "\n",
    "(define (stream-limit s tolerance)\n",
    "  (cond ((stream-null? s) '())\n",
    "        ((stream-null? (stream-cdr s)) (stream-car s))\n",
    "        (else (let ((v1 (stream-ref s 0))\n",
    "                    (v2 (stream-ref s 1)))\n",
    "                (if (> tolerance (abs (- v1 v2)))\n",
    "                    v2\n",
    "                    (stream-limit (stream-cdr s) tolerance))))))\n",
    "\n",
    "(define (sqrt-approx x tolerance)\n",
    "  (stream-limit (sqrt-stream x) tolerance))"
   ]
  },
  {
   "cell_type": "code",
   "execution_count": 29,
   "metadata": {},
   "outputs": [
    {
     "data": {
      "text/plain": [
       "1.4166666666666665"
      ]
     },
     "execution_count": 29,
     "metadata": {},
     "output_type": "execute_result"
    }
   ],
   "source": [
    "(sqrt-approx 2 0.1)"
   ]
  },
  {
   "cell_type": "code",
   "execution_count": 30,
   "metadata": {},
   "outputs": [
    {
     "data": {
      "text/plain": [
       "1.4142156862745097"
      ]
     },
     "execution_count": 30,
     "metadata": {},
     "output_type": "execute_result"
    }
   ],
   "source": [
    "(sqrt-approx 2 0.01)"
   ]
  },
  {
   "cell_type": "code",
   "execution_count": 31,
   "metadata": {},
   "outputs": [
    {
     "data": {
      "text/plain": [
       "1.4142135623746899"
      ]
     },
     "execution_count": 31,
     "metadata": {},
     "output_type": "execute_result"
    }
   ],
   "source": [
    "(sqrt-approx 2 0.001)"
   ]
  },
  {
   "cell_type": "markdown",
   "metadata": {},
   "source": [
    "## 3.65\n",
    "$ln2 = 1 - \\frac{1}{2}+\\frac{1}{3}-\\frac{1}{4}...$"
   ]
  },
  {
   "cell_type": "code",
   "execution_count": 32,
   "metadata": {},
   "outputs": [
    {
     "name": "stdout",
     "output_type": "stream",
     "text": [
      "1.0\n",
      "0.5\n",
      "0.8333333333333333\n"
     ]
    },
    {
     "data": {
      "text/plain": [
       "#f"
      ]
     },
     "execution_count": 32,
     "metadata": {},
     "output_type": "execute_result"
    }
   ],
   "source": [
    "(define (ln-summands n)\n",
    "  (cons-stream\n",
    "   (/ 1.0 n)\n",
    "   (stream-map - (ln-summands (+ n 1)))))\n",
    "\n",
    "(define ln2-stream\n",
    "  (partial-sums (ln-summands 1)))\n",
    "\n",
    "(display-stream-n ln2-stream 3)"
   ]
  },
  {
   "cell_type": "markdown",
   "metadata": {},
   "source": [
    "## 3.66"
   ]
  },
  {
   "cell_type": "code",
   "execution_count": 26,
   "metadata": {},
   "outputs": [
    {
     "name": "stdout",
     "output_type": "stream",
     "text": [
      "\n",
      "(1 1)\n",
      "(1 2)\n",
      "(2 2)\n",
      "(1 3)\n",
      "(2 3)\n",
      "(1 4)\n",
      "(3 3)\n",
      "(1 5)\n",
      "(2 4)\n",
      "(1 6)\n",
      "(3 4)\n",
      "(1 7)\n",
      "(2 5)\n",
      "(1 8)\n",
      "(4 4)\n",
      "(1 9)\n",
      "(2 6)\n",
      "(1 10)\n",
      "(3 5)\n",
      "(1 11)\n"
     ]
    }
   ],
   "source": [
    "; stream of element pairs between s and t\n",
    "; (s0,t0) (s0,t1) (s0, t2) ...\n",
    ";         (s1, t1) (s1, t2) ...\n",
    ";                  (s2, t2) ...\n",
    ";                           ...\n",
    "(define (pairs s t)\n",
    "  (cons-stream\n",
    "   (list (stream-car s) (stream-car t))\n",
    "   (interleave\n",
    "    (stream-map (lambda (x)\n",
    "                  (list (stream-car s) x))\n",
    "                (stream-cdr t))\n",
    "    (pairs (stream-cdr s) (stream-cdr t)))))\n",
    "\n",
    "; combines two streams by taking elements alternately from each\n",
    "(define (interleave s1 s2)\n",
    "  (if (stream-null? s1)\n",
    "      s2\n",
    "      (cons-stream\n",
    "       (stream-car s1)\n",
    "       (interleave s2 (stream-cdr s1)))))\n",
    "\n",
    "(define int-pairs (pairs integers integers))\n",
    "(display-stream-n int-pairs 20)"
   ]
  },
  {
   "cell_type": "markdown",
   "metadata": {},
   "source": [
    "After the first pair `(1, 1)` a pair `(1, n)` occurs every **second** element. Therefore `(1, 100)` will have **197** preceding pairs.\n",
    "\n",
    "In other words, `(1, 100)` occurs at index 197:"
   ]
  },
  {
   "cell_type": "code",
   "execution_count": 29,
   "metadata": {},
   "outputs": [
    {
     "data": {
      "text/plain": [
       "(1 100)"
      ]
     },
     "execution_count": 29,
     "metadata": {},
     "output_type": "execute_result"
    }
   ],
   "source": [
    "(stream-ref int-pairs 197)"
   ]
  },
  {
   "cell_type": "markdown",
   "metadata": {},
   "source": [
    "`(2, 2)` pairs `(2, n)` appear every **4** elements -> $2^2$\n",
    "\n",
    "`(3, 3)` pairs `(3, n)` appear every **8** elements -> $2^3$ \n",
    "\n",
    "Let $Z(m, n)$ be the index of pair $(m, n)$:\n",
    "\n",
    "$Z(m, n)=2^m - 2$ for $m = n$ \n",
    "\n",
    "$Z(m, n)=2^m(n-m)+2^{(m-1)}-2$ for $m < n$ "
   ]
  },
  {
   "cell_type": "markdown",
   "metadata": {},
   "source": [
    "## 3.67"
   ]
  },
  {
   "cell_type": "code",
   "execution_count": null,
   "metadata": {},
   "outputs": [],
   "source": [
    "(define (pairs s t)\n",
    "  (cons-stream\n",
    "   (list (stream-car s) (stream-car t))\n",
    "   (interleave\n",
    "    (stream-map\n",
    "     (lambda (x)\n",
    "       (list (stream-car s) x))\n",
    "     (stream-cdr t))\n",
    "    (interleave\n",
    "     (stream-map\n",
    "      (lambda (x)\n",
    "        (list (stream-car t) x))\n",
    "      (stream-cdr s))\n",
    "     (pairs (stream-cdr s) (stream-cdr t))))))"
   ]
  },
  {
   "cell_type": "markdown",
   "metadata": {},
   "source": [
    "## 3.68\n",
    "\n",
    "Louis proposal will not work as the procedure will never terminate. The second argument to `interleave` is a recursive call to `pairs` - leading to infinite recursion as`interleave` requires the first value of both streams to be evaluated. "
   ]
  },
  {
   "cell_type": "markdown",
   "metadata": {},
   "source": [
    "# 3.69"
   ]
  },
  {
   "cell_type": "code",
   "execution_count": null,
   "metadata": {},
   "outputs": [
    {
     "name": "stdout",
     "output_type": "stream",
     "text": [
      "(3 4 5)\n",
      "(6 8 10)\n"
     ]
    }
   ],
   "source": [
    "(define (square x) (* x x))\n",
    "\n",
    "(define (triples s t u)\n",
    "  (cons-stream\n",
    "   (list (stream-car s) (stream-car t) (stream-car u))\n",
    "   (interleave\n",
    "    (stream-map (lambda (x)\n",
    "                  (append (list (stream-car s)) x))\n",
    "                (stream-cdr (pairs t u)))\n",
    "    (triples (stream-cdr s)\n",
    "             (stream-cdr t)\n",
    "             (stream-cdr u)))))\n",
    "\n",
    "(define (is-pythag-triple triple)\n",
    "  (= (+ (square (car triple))\n",
    "        (square (cadr triple)))\n",
    "     (square (caddr triple))))\n",
    "\n",
    "(define pythagorean-triples\n",
    "  (stream-filter is-pythag-triple\n",
    "                 (triples integers integers integers)))\n",
    "\n",
    "(display-stream-n pythagorean-triples 4)"
   ]
  },
  {
   "cell_type": "markdown",
   "metadata": {},
   "source": [
    "## 3.70"
   ]
  },
  {
   "cell_type": "code",
   "execution_count": 27,
   "metadata": {},
   "outputs": [],
   "source": [
    "(define (merge-weighted s1 s2 weight)\n",
    "  (cond ((stream-null? s1) s2)\n",
    "        ((stream-null? s2) s1)\n",
    "        (else\n",
    "         (let ((s1car (stream-car s1))\n",
    "               (s2car (stream-car s2)))\n",
    "           (if (<= (weight s1car) (weight s2car))\n",
    "               (cons-stream\n",
    "                s1car\n",
    "                (merge-weighted (stream-cdr s1) s2 weight))\n",
    "               (cons-stream\n",
    "                s2car\n",
    "                (merge-weighted s1 (stream-cdr s2) weight)))))))\n",
    "\n",
    "(define (weighted-pairs s t weight)\n",
    "  (cons-stream\n",
    "   (list (stream-car s) (stream-car t))\n",
    "   (merge-weighted\n",
    "    (stream-map (lambda (x)\n",
    "                  (list (stream-car s) x))\n",
    "                (stream-cdr t))\n",
    "    (pairs (stream-cdr s) (stream-cdr t))\n",
    "    weight)))"
   ]
  },
  {
   "cell_type": "code",
   "execution_count": 30,
   "metadata": {},
   "outputs": [
    {
     "name": "stdout",
     "output_type": "stream",
     "text": [
      "(1 1)\n",
      "(1 2)\n",
      "(1 3)\n",
      "(2 2)\n",
      "(1 4)\n"
     ]
    },
    {
     "data": {
      "text/plain": [
       "#f"
      ]
     },
     "execution_count": 30,
     "metadata": {},
     "output_type": "execute_result"
    }
   ],
   "source": [
    "; 1\n",
    "(define ordered-sum-pairs\n",
    "  (weighted-pairs integers integers (lambda (p) (apply + p))))\n",
    "(display-stream-n ordered-sum-pairs 5)"
   ]
  },
  {
   "cell_type": "code",
   "execution_count": 31,
   "metadata": {},
   "outputs": [
    {
     "name": "stdout",
     "output_type": "stream",
     "text": [
      "(1 1)\n",
      "(1 7)\n",
      "(1 11)\n",
      "(1 13)\n",
      "(1 17)\n"
     ]
    },
    {
     "data": {
      "text/plain": [
       "#f"
      ]
     },
     "execution_count": 31,
     "metadata": {},
     "output_type": "execute_result"
    }
   ],
   "source": [
    ";2\n",
    "(define (not-div-2-3-5? x)\n",
    "  (not (or (even? x)\n",
    "           (zero? (remainder x 3))\n",
    "           (zero? (remainder x 5)))))\n",
    "\n",
    "(define not-div-2-3-5-stream\n",
    "  (stream-filter not-div-2-3-5? integers))\n",
    "\n",
    "(display-stream-n\n",
    " (weighted-pairs\n",
    "  not-div-2-3-5-stream\n",
    "  not-div-2-3-5-stream\n",
    "  (lambda (p)\n",
    "    (let ((i (car p))\n",
    "          (j (cadr p)))\n",
    "      (+ (* 2 i)\n",
    "         (* 3 j)\n",
    "         (* 5 i j)))))\n",
    " 5)"
   ]
  },
  {
   "cell_type": "markdown",
   "metadata": {},
   "source": [
    "## 3.71"
   ]
  },
  {
   "cell_type": "code",
   "execution_count": null,
   "metadata": {},
   "outputs": [],
   "source": [
    "; generate stream of integers weighted by i^3 + j^3\n",
    "; stream-filter current pair weight == next pair weight\n",
    "\n",
    "(define (pair-sum-cubed p)\n",
    "  (+ (expt (car p) 3)\n",
    "     (expt (cadr p) 3)))\n",
    "\n",
    "(define (ramanujan-numbers)\n",
    "  (define (ramanujan s)\n",
    "    (define (stream-cadr s) (stream-car (stream-cdr s)))\n",
    "    (define (stream-cddr s) (stream-cdr (stream-cdr s)))\n",
    "    (let ((current (stream-car s))\n",
    "          (next (stream-cadr s)))\n",
    "      (if (= (pair-sum-cubed current) (pair-sum-cubed next))\n",
    "          (cons-stream (list (pair-sum-cubed current) current next)\n",
    "                       (ramanujan (stream-cddr s)))\n",
    "          (ramanujan (stream-cdr s)))))\n",
    "  (ramanujan (weighted-pairs integers integers pair-sum-cubed)))\n",
    "\n",
    "\n",
    "(display-stream-n (ramanujan-numbers) 5)"
   ]
  },
  {
   "cell_type": "markdown",
   "metadata": {},
   "source": [
    "## 3.72"
   ]
  },
  {
   "cell_type": "code",
   "execution_count": null,
   "metadata": {},
   "outputs": [],
   "source": [
    "; retrieve list of next n items in a stream\n",
    "(define (stream-next-n s n)\n",
    "  (if (zero? n)\n",
    "      '()\n",
    "      (cons (stream-car s)\n",
    "            (stream-next-n (stream-cdr s) (- n 1)))))\n",
    "\n",
    "(define (pair-sum-squared p)\n",
    "  (+ (expt (car p) 2)\n",
    "     (expt (cadr p) 3)))\n",
    "\n",
    "(define squared-weighted-pairs\n",
    "  (weighted-pairs integers integers pair-sum-squared))\n",
    "\n",
    "(define (triple-sum-squares)\n",
    "  (define (filter s)\n",
    "    (let* ((test-values (stream-next-n s 3))\n",
    "           (sum-squares (map pair-sum-squared test-values)))\n",
    "      (if (and (= (car sum-squares) (cadr sum-squares))\n",
    "               (= (cadr sum-squares) (caddr sum-squares)))\n",
    "          (cons-stream (cons (car sum-squares) test-values)\n",
    "                       (filter (stream-cdr s)))\n",
    "          (filter (stream-cdr s)))))\n",
    "  (filter squared-weighted-pairs))\n",
    "\n",
    "(display-stream-n (triple-sum-squares) 5)"
   ]
  },
  {
   "cell_type": "markdown",
   "metadata": {},
   "source": [
    "## 3.73"
   ]
  },
  {
   "cell_type": "code",
   "execution_count": 26,
   "metadata": {},
   "outputs": [
    {
     "name": "stdout",
     "output_type": "stream",
     "text": [
      "5.5\n",
      "11.0\n",
      "17.0\n",
      "23.5\n",
      "30.5\n"
     ]
    },
    {
     "data": {
      "text/plain": [
       "#f"
      ]
     },
     "execution_count": 26,
     "metadata": {},
     "output_type": "execute_result"
    }
   ],
   "source": [
    "(define (integral integrand initial-value dt)\n",
    "  (define int\n",
    "    (cons-stream\n",
    "     initial-value\n",
    "     (add-streams (scale-stream integrand dt)\n",
    "                  int)))\n",
    "  int)\n",
    "\n",
    "(define (RC R C dt)\n",
    "  (define (rc i-stream v0)\n",
    "    (add-streams\n",
    "     (scale-stream i-stream R)\n",
    "     (integral (scale-stream i-stream (/ 1 C)) v0 dt)))\n",
    "  rc)\n",
    "\n",
    "(define RC1 (RC 5 1 0.5))\n",
    "(display-stream-n (RC1 integers 0.5) 5)"
   ]
  },
  {
   "cell_type": "markdown",
   "metadata": {},
   "source": [
    "## 3.74"
   ]
  },
  {
   "cell_type": "code",
   "execution_count": null,
   "metadata": {},
   "outputs": [],
   "source": [
    "; not given in book but defined here for completeness\n",
    "(define (sign-change-detector curr prev)\n",
    "  (cond ((and (>= curr 0)\n",
    "              (< prev 0)) 1)\n",
    "        ((= prev 0) -1)\n",
    "        (else 0)))\n",
    "\n",
    "(define zero-crossings\n",
    "  (stream-map sign-change-detector\n",
    "              sense-data\n",
    "              (cons-stream 0 sense-data)))"
   ]
  },
  {
   "cell_type": "markdown",
   "metadata": {},
   "source": [
    "## 3.75"
   ]
  },
  {
   "cell_type": "code",
   "execution_count": null,
   "metadata": {},
   "outputs": [],
   "source": [
    "(define (make-zero-crossings input-stream last-value last-avg)\n",
    "  (let ((avpt\n",
    "         (/ (+ (stream-car input-stream)\n",
    "               last-value)\n",
    "            2)))\n",
    "    (cons-stream\n",
    "     (sign-change-detector avpt last-avg)\n",
    "     (make-zero-crossings\n",
    "      (stream-cdr input-stream)\n",
    "      (stream-car input-stream)\n",
    "      avpt))))"
   ]
  },
  {
   "cell_type": "markdown",
   "metadata": {},
   "source": [
    "## 3.76"
   ]
  },
  {
   "cell_type": "code",
   "execution_count": null,
   "metadata": {},
   "outputs": [],
   "source": [
    "(define (avg x y)\n",
    "  (/ (+ x y) 2))\n",
    "\n",
    "(define (smooth s)\n",
    "  (stream-map avg s (cons-stream 0 s)))\n",
    "\n",
    "(define (make-zero-crossings input-stream)\n",
    "  (let ((smoothed (smooth input-stream)))\n",
    "    (stream-map sign-change-detector\n",
    "                smoothed\n",
    "                (cons-stream 0 smoothed))))"
   ]
  },
  {
   "cell_type": "markdown",
   "metadata": {},
   "source": [
    "## 3.77"
   ]
  },
  {
   "cell_type": "code",
   "execution_count": 81,
   "metadata": {},
   "outputs": [],
   "source": [
    "(define (integral\n",
    "         delayed-integrand initial-value dt)\n",
    "  (cons-stream\n",
    "   initial-value\n",
    "   (if (stream-null? delayed-integrand)\n",
    "       the-empty-stream\n",
    "       (let ((integrand\n",
    "              (force delayed-integrand)))\n",
    "         (integral\n",
    "          ( delay (stream-cdr integrand))\n",
    "        (+ (* dt (stream-car integrand))\n",
    "           initial-value)\n",
    "          dt)))))"
   ]
  },
  {
   "cell_type": "code",
   "execution_count": 82,
   "metadata": {},
   "outputs": [
    {
     "data": {
      "text/plain": [
       "2.716923932235896"
      ]
     },
     "execution_count": 82,
     "metadata": {},
     "output_type": "execute_result"
    }
   ],
   "source": [
    "(define (solve f y0 dt)\n",
    "  (define y (integral (delay dy) y0 dt))\n",
    "  (define dy (stream-map f y))\n",
    "  y)\n",
    "\n",
    "(stream-ref\n",
    " (solve (lambda (y) y) 1 0.001) 1000)"
   ]
  },
  {
   "cell_type": "markdown",
   "metadata": {},
   "source": [
    "## 3.78\n",
    "\n",
    "$$\\frac{d^2y}{dt^2}-a\\frac{dy}{dt}-by=0$$"
   ]
  },
  {
   "cell_type": "code",
   "execution_count": 83,
   "metadata": {},
   "outputs": [],
   "source": [
    "(define (solve-2nd a b dt y0 dy0)\n",
    "  (define y (integral (delay dy) y0 dt))\n",
    "  (define dy (integral (delay ddy) dy0 dt))\n",
    "  (define ddy (add-streams\n",
    "               (scale-stream (dy a))\n",
    "               (scale-stream (y b))))\n",
    "  y)"
   ]
  },
  {
   "cell_type": "markdown",
   "metadata": {},
   "source": [
    "## 3.79\n",
    "\n",
    "$$\\frac{d^2y}{dt^2}=f(\\frac{dy}{dt},y)$$"
   ]
  },
  {
   "cell_type": "code",
   "execution_count": 84,
   "metadata": {},
   "outputs": [],
   "source": [
    "(define (solve-2nd f y0 dy0 dt)\n",
    "  (define y (integral (delay dy) y0 dt))\n",
    "  (define dy (integral (delay ddy) dy0 dt))\n",
    "  (define ddy (stream-map f dy y))\n",
    "  y)"
   ]
  },
  {
   "cell_type": "markdown",
   "metadata": {},
   "source": [
    "## 3.80"
   ]
  },
  {
   "cell_type": "code",
   "execution_count": 86,
   "metadata": {},
   "outputs": [
    {
     "name": "stdout",
     "output_type": "stream",
     "text": [
      "\n",
      "10\n",
      "10.0\n",
      "9.5\n",
      "8.55\n",
      "7.220000000000001\n",
      "5.5955\n",
      "3.77245\n",
      "1.8519299999999999\n",
      "-0.0651605000000004\n",
      "-1.8831384500000004\n",
      "\n",
      "0\n",
      "1.0\n",
      "1.9\n",
      "2.66\n",
      "3.249\n",
      "3.6461\n",
      "3.84104\n",
      "3.834181\n",
      "3.6359559\n",
      "3.2658442599999997\n"
     ]
    }
   ],
   "source": [
    "(define (RLC R L C dt)\n",
    "  (define (rlc vC0 iL0)\n",
    "    (define vC (integral (delay dvC) vC0 dt))\n",
    "    (define iL (integral (delay diL) iL0 dt))\n",
    "    (define dvC (scale-stream iL (* -1 (/ 1 C))))\n",
    "    (define diL\n",
    "      (add-streams\n",
    "       (scale-stream vC (/ 1 L))\n",
    "       (scale-stream iL (* -1 (/ R L)))))\n",
    "    (cons vC iL))\n",
    "  rlc)\n",
    "\n",
    "(define RLC1 ((RLC 1 1 0.2 0.1) 10 0))\n",
    "(define vC (car RLC1))\n",
    "(define iL (cdr RLC1))\n",
    "\n",
    "(display-stream-n vC 10)\n",
    "(display-stream-n iL 10)"
   ]
  },
  {
   "cell_type": "markdown",
   "metadata": {},
   "source": [
    "## 3.81"
   ]
  },
  {
   "cell_type": "code",
   "execution_count": 107,
   "metadata": {},
   "outputs": [],
   "source": [
    "(define (random-update x)\n",
    "  (+ 1 (random x))) \n",
    "\n",
    "(define random-init (+ 1 (random 1000))) \n",
    "\n",
    "; requests is a stream of either 'generate or ('reset . x)\n",
    "(define (random-numbers requests)\n",
    "  (define (request x req)\n",
    "    (cond ((eq? req 'generate) (random-update x))\n",
    "          ((and (pair? req)\n",
    "                (eq? (car req) 'reset)\n",
    "                (number? (cdr req)))\n",
    "           (cdr req))\n",
    "          (else (error \"Unkown request:\n",
    "                       REQUEST\" req))))\n",
    "  (define random-stream\n",
    "    (cons-stream\n",
    "     random-init\n",
    "     (stream-map request random-stream requests)))\n",
    "  random-stream)"
   ]
  },
  {
   "cell_type": "code",
   "execution_count": 109,
   "metadata": {},
   "outputs": [
    {
     "name": "stdout",
     "output_type": "stream",
     "text": [
      "\n",
      "649\n",
      "544\n",
      "106\n",
      "85\n",
      "4\n",
      "3\n",
      "60\n",
      "60\n",
      "51\n",
      "32\n",
      "6\n",
      "5\n",
      "120\n",
      "87\n",
      "20\n",
      "12\n",
      "10\n",
      "5\n",
      "180\n",
      "137\n",
      "135\n",
      "43\n",
      "6\n",
      "4\n",
      "240\n",
      "10\n",
      "5\n",
      "3\n",
      "1\n",
      "1\n"
     ]
    }
   ],
   "source": [
    "; generate a stream of requests\n",
    "; reset values are multiplied by 10 to give greater range of random numbers\n",
    "; for demonstration purpose\n",
    "(define request-stream\n",
    "  (stream-map\n",
    "   (lambda (x) (if (= (remainder x 6) 0) (cons 'reset (* x 10)) 'generate))\n",
    "   integers))\n",
    "\n",
    "(display-stream-n (random-numbers request-stream) 30)"
   ]
  },
  {
   "cell_type": "code",
   "execution_count": null,
   "metadata": {},
   "outputs": [],
   "source": []
  }
 ],
 "metadata": {
  "kernelspec": {
   "display_name": "Calysto Scheme 3",
   "language": "scheme",
   "name": "calysto_scheme"
  },
  "language_info": {
   "codemirror_mode": {
    "name": "scheme"
   },
   "mimetype": "text/x-scheme",
   "name": "scheme",
   "pygments_lexer": "scheme"
  }
 },
 "nbformat": 4,
 "nbformat_minor": 2
}
