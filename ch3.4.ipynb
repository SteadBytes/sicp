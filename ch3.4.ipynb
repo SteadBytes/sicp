{
 "cells": [
  {
   "cell_type": "markdown",
   "metadata": {},
   "source": [
    "# Chapter 3.4 Onwards"
   ]
  },
  {
   "cell_type": "markdown",
   "metadata": {},
   "source": [
    "## 3.38\n",
    "1.\n",
    "\n",
    "$(peter,paul,mary)=\\frac{100+10-20}{2}=45$\n",
    "\n",
    "$(peter,mary,paul)=\\frac{100+10}{2}-20=35$\n",
    "\n",
    "$(paul,peter,mary)=\\frac{100-20+10}{2}=45$\n",
    "\n",
    "$(paul,mary,peter)=\\frac{100-20}{2}+10=50$\n",
    "\n",
    "$(mary,peter,paul)=\\frac{100}{2}+10-20=40$\n",
    "\n",
    "$(mary,paul,peter)=\\frac{100}{2}-20+10=40$\n",
    "\n",
    "2.\n",
    "\n",
    "```\n",
    "|    Peter    |     Paul    | Bank |    Mary    |\n",
    "|:-----------:|:-----------:|:----:|:----------:|\n",
    "|             |             |  100 |            |\n",
    "| Access: 100 | Access: 100 |      | Access:100 |\n",
    "|   New: 100  |   New: 80   |      |   New: 50  |\n",
    "|   Set: 110  |             |      |            |\n",
    "|             |             | 110  |            |\n",
    "|             |             |      | Set: 50    |\n",
    "|             |             | 50   |            |\n",
    "|             | Set: 80     |      |            |\n",
    "|             |             | 80   |            |\n",
    "\n",
    "\n",
    "|    Peter    |     Paul    | Bank |    Mary    |\n",
    "|:-----------:|:-----------:|:----:|:----------:|\n",
    "|             |             |  100 |            |\n",
    "| Access: 100 | Access: 100 |      | Access:100 |\n",
    "|   New: 110  |   New: 80   |      |   New: 50  |\n",
    "|             |             |      |   Set: 50  |\n",
    "|             |             | 50   |            |\n",
    "|             |   Set: 80   |      |            |\n",
    "|             |             | 80   |            |\n",
    "|  Set: 110   |             |      |            |\n",
    "|             |             | 110  |            |\n",
    "```"
   ]
  },
  {
   "cell_type": "markdown",
   "metadata": {},
   "source": [
    "## 3.39"
   ]
  },
  {
   "cell_type": "code",
   "execution_count": null,
   "metadata": {},
   "outputs": [],
   "source": [
    "; n.b make-serializer not implemented yet\n",
    "(define x 10)\n",
    "(define s (make-serializer))\n",
    "(parallel-execute\n",
    " (lambda ()\n",
    "   (set! x ((s (lambda () (* x x))))))\n",
    " (s (lambda () (set! x (+ x 1)))))"
   ]
  },
  {
   "cell_type": "markdown",
   "metadata": {},
   "source": [
    "Possible values:\n",
    "* `101`: $P_1$ sets `x` to `100` and then $P_2$ increments `x` to `101`\n",
    "* `121`: $P_2$ increments `x` to `11` and then $P_1$ sets `x` to `x` times `x`\n",
    "* `100`: $P_1$ accesses `x` (twice), then $P_2$ sets `x` to `11`, then $P_1$ sets `x`\n",
    "\n",
    "$P_2$ can interleave between the *computation* and *assignment* in $P_1$."
   ]
  },
  {
   "cell_type": "code",
   "execution_count": null,
   "metadata": {},
   "outputs": [],
   "source": []
  }
 ],
 "metadata": {
  "kernelspec": {
   "display_name": "Calysto Scheme 3",
   "language": "scheme",
   "name": "calysto_scheme"
  },
  "language_info": {
   "codemirror_mode": {
    "name": "scheme"
   },
   "mimetype": "text/x-scheme",
   "name": "scheme",
   "pygments_lexer": "scheme"
  }
 },
 "nbformat": 4,
 "nbformat_minor": 2
}
